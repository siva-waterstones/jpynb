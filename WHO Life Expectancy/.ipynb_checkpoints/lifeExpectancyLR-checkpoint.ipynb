{
 "cells": [
  {
   "cell_type": "code",
   "execution_count": 246,
   "id": "f77045f5-3b0c-4cdc-a288-cbe27fbd4d47",
   "metadata": {
    "tags": []
   },
   "outputs": [
    {
     "data": {
      "text/html": [
       "        <script type=\"text/javascript\">\n",
       "        window.PlotlyConfig = {MathJaxConfig: 'local'};\n",
       "        if (window.MathJax && window.MathJax.Hub && window.MathJax.Hub.Config) {window.MathJax.Hub.Config({SVG: {font: \"STIX-Web\"}});}\n",
       "        if (typeof require !== 'undefined') {\n",
       "        require.undef(\"plotly\");\n",
       "        requirejs.config({\n",
       "            paths: {\n",
       "                'plotly': ['https://cdn.plot.ly/plotly-2.18.2.min']\n",
       "            }\n",
       "        });\n",
       "        require(['plotly'], function(Plotly) {\n",
       "            window._Plotly = Plotly;\n",
       "        });\n",
       "        }\n",
       "        </script>\n",
       "        "
      ]
     },
     "metadata": {},
     "output_type": "display_data"
    }
   ],
   "source": [
    "import pandas as pd\n",
    "import numpy as np\n",
    "import matplotlib.pyplot as plt\n",
    "import plotly.express as px\n",
    "import seaborn as sns\n",
    "import datetime as dt\n",
    "import warnings\n",
    "plt.style.use('dark_background')\n",
    "from plotly.offline import init_notebook_mode\n",
    "init_notebook_mode(connected=True)\n",
    "warnings.filterwarnings('ignore')\n",
    "pd.set_option('display.max_columns',None)\n",
    "import os\n",
    "for dirname, _, filenames in os.walk('data/WHO Life Expectancy'):\n",
    "    for filename in filenames:\n",
    "        print(os.path.join(dirname, filename))"
   ]
  },
  {
   "cell_type": "code",
   "execution_count": 247,
   "id": "05c0d5a6-8537-48dc-b989-946c8592666d",
   "metadata": {
    "tags": []
   },
   "outputs": [
    {
     "data": {
      "text/html": [
       "<div>\n",
       "<style scoped>\n",
       "    .dataframe tbody tr th:only-of-type {\n",
       "        vertical-align: middle;\n",
       "    }\n",
       "\n",
       "    .dataframe tbody tr th {\n",
       "        vertical-align: top;\n",
       "    }\n",
       "\n",
       "    .dataframe thead th {\n",
       "        text-align: right;\n",
       "    }\n",
       "</style>\n",
       "<table border=\"1\" class=\"dataframe\">\n",
       "  <thead>\n",
       "    <tr style=\"text-align: right;\">\n",
       "      <th></th>\n",
       "      <th>Country</th>\n",
       "      <th>Year</th>\n",
       "      <th>Status</th>\n",
       "      <th>Life expectancy</th>\n",
       "      <th>Adult Mortality</th>\n",
       "      <th>infant deaths</th>\n",
       "      <th>Alcohol</th>\n",
       "      <th>percentage expenditure</th>\n",
       "      <th>Hepatitis B</th>\n",
       "      <th>Measles</th>\n",
       "      <th>BMI</th>\n",
       "      <th>under-five deaths</th>\n",
       "      <th>Polio</th>\n",
       "      <th>Total expenditure</th>\n",
       "      <th>Diphtheria</th>\n",
       "      <th>HIV/AIDS</th>\n",
       "      <th>GDP</th>\n",
       "      <th>Population</th>\n",
       "      <th>thinness  1-19 years</th>\n",
       "      <th>thinness 5-9 years</th>\n",
       "      <th>Income composition of resources</th>\n",
       "      <th>Schooling</th>\n",
       "    </tr>\n",
       "  </thead>\n",
       "  <tbody>\n",
       "    <tr>\n",
       "      <th>0</th>\n",
       "      <td>Afghanistan</td>\n",
       "      <td>2015</td>\n",
       "      <td>Developing</td>\n",
       "      <td>65.0</td>\n",
       "      <td>263.0</td>\n",
       "      <td>62</td>\n",
       "      <td>0.01</td>\n",
       "      <td>71.279624</td>\n",
       "      <td>65.0</td>\n",
       "      <td>1154</td>\n",
       "      <td>19.1</td>\n",
       "      <td>83</td>\n",
       "      <td>6.0</td>\n",
       "      <td>8.16</td>\n",
       "      <td>65.0</td>\n",
       "      <td>0.1</td>\n",
       "      <td>584.259210</td>\n",
       "      <td>33736494.0</td>\n",
       "      <td>17.2</td>\n",
       "      <td>17.3</td>\n",
       "      <td>0.479</td>\n",
       "      <td>10.1</td>\n",
       "    </tr>\n",
       "    <tr>\n",
       "      <th>1</th>\n",
       "      <td>Afghanistan</td>\n",
       "      <td>2014</td>\n",
       "      <td>Developing</td>\n",
       "      <td>59.9</td>\n",
       "      <td>271.0</td>\n",
       "      <td>64</td>\n",
       "      <td>0.01</td>\n",
       "      <td>73.523582</td>\n",
       "      <td>62.0</td>\n",
       "      <td>492</td>\n",
       "      <td>18.6</td>\n",
       "      <td>86</td>\n",
       "      <td>58.0</td>\n",
       "      <td>8.18</td>\n",
       "      <td>62.0</td>\n",
       "      <td>0.1</td>\n",
       "      <td>612.696514</td>\n",
       "      <td>327582.0</td>\n",
       "      <td>17.5</td>\n",
       "      <td>17.5</td>\n",
       "      <td>0.476</td>\n",
       "      <td>10.0</td>\n",
       "    </tr>\n",
       "    <tr>\n",
       "      <th>2</th>\n",
       "      <td>Afghanistan</td>\n",
       "      <td>2013</td>\n",
       "      <td>Developing</td>\n",
       "      <td>59.9</td>\n",
       "      <td>268.0</td>\n",
       "      <td>66</td>\n",
       "      <td>0.01</td>\n",
       "      <td>73.219243</td>\n",
       "      <td>64.0</td>\n",
       "      <td>430</td>\n",
       "      <td>18.1</td>\n",
       "      <td>89</td>\n",
       "      <td>62.0</td>\n",
       "      <td>8.13</td>\n",
       "      <td>64.0</td>\n",
       "      <td>0.1</td>\n",
       "      <td>631.744976</td>\n",
       "      <td>31731688.0</td>\n",
       "      <td>17.7</td>\n",
       "      <td>17.7</td>\n",
       "      <td>0.470</td>\n",
       "      <td>9.9</td>\n",
       "    </tr>\n",
       "    <tr>\n",
       "      <th>3</th>\n",
       "      <td>Afghanistan</td>\n",
       "      <td>2012</td>\n",
       "      <td>Developing</td>\n",
       "      <td>59.5</td>\n",
       "      <td>272.0</td>\n",
       "      <td>69</td>\n",
       "      <td>0.01</td>\n",
       "      <td>78.184215</td>\n",
       "      <td>67.0</td>\n",
       "      <td>2787</td>\n",
       "      <td>17.6</td>\n",
       "      <td>93</td>\n",
       "      <td>67.0</td>\n",
       "      <td>8.52</td>\n",
       "      <td>67.0</td>\n",
       "      <td>0.1</td>\n",
       "      <td>669.959000</td>\n",
       "      <td>3696958.0</td>\n",
       "      <td>17.9</td>\n",
       "      <td>18.0</td>\n",
       "      <td>0.463</td>\n",
       "      <td>9.8</td>\n",
       "    </tr>\n",
       "    <tr>\n",
       "      <th>4</th>\n",
       "      <td>Afghanistan</td>\n",
       "      <td>2011</td>\n",
       "      <td>Developing</td>\n",
       "      <td>59.2</td>\n",
       "      <td>275.0</td>\n",
       "      <td>71</td>\n",
       "      <td>0.01</td>\n",
       "      <td>7.097109</td>\n",
       "      <td>68.0</td>\n",
       "      <td>3013</td>\n",
       "      <td>17.2</td>\n",
       "      <td>97</td>\n",
       "      <td>68.0</td>\n",
       "      <td>7.87</td>\n",
       "      <td>68.0</td>\n",
       "      <td>0.1</td>\n",
       "      <td>63.537231</td>\n",
       "      <td>2978599.0</td>\n",
       "      <td>18.2</td>\n",
       "      <td>18.2</td>\n",
       "      <td>0.454</td>\n",
       "      <td>9.5</td>\n",
       "    </tr>\n",
       "    <tr>\n",
       "      <th>...</th>\n",
       "      <td>...</td>\n",
       "      <td>...</td>\n",
       "      <td>...</td>\n",
       "      <td>...</td>\n",
       "      <td>...</td>\n",
       "      <td>...</td>\n",
       "      <td>...</td>\n",
       "      <td>...</td>\n",
       "      <td>...</td>\n",
       "      <td>...</td>\n",
       "      <td>...</td>\n",
       "      <td>...</td>\n",
       "      <td>...</td>\n",
       "      <td>...</td>\n",
       "      <td>...</td>\n",
       "      <td>...</td>\n",
       "      <td>...</td>\n",
       "      <td>...</td>\n",
       "      <td>...</td>\n",
       "      <td>...</td>\n",
       "      <td>...</td>\n",
       "      <td>...</td>\n",
       "    </tr>\n",
       "    <tr>\n",
       "      <th>2933</th>\n",
       "      <td>Zimbabwe</td>\n",
       "      <td>2004</td>\n",
       "      <td>Developing</td>\n",
       "      <td>44.3</td>\n",
       "      <td>723.0</td>\n",
       "      <td>27</td>\n",
       "      <td>4.36</td>\n",
       "      <td>0.000000</td>\n",
       "      <td>68.0</td>\n",
       "      <td>31</td>\n",
       "      <td>27.1</td>\n",
       "      <td>42</td>\n",
       "      <td>67.0</td>\n",
       "      <td>7.13</td>\n",
       "      <td>65.0</td>\n",
       "      <td>33.6</td>\n",
       "      <td>454.366654</td>\n",
       "      <td>12777511.0</td>\n",
       "      <td>9.4</td>\n",
       "      <td>9.4</td>\n",
       "      <td>0.407</td>\n",
       "      <td>9.2</td>\n",
       "    </tr>\n",
       "    <tr>\n",
       "      <th>2934</th>\n",
       "      <td>Zimbabwe</td>\n",
       "      <td>2003</td>\n",
       "      <td>Developing</td>\n",
       "      <td>44.5</td>\n",
       "      <td>715.0</td>\n",
       "      <td>26</td>\n",
       "      <td>4.06</td>\n",
       "      <td>0.000000</td>\n",
       "      <td>7.0</td>\n",
       "      <td>998</td>\n",
       "      <td>26.7</td>\n",
       "      <td>41</td>\n",
       "      <td>7.0</td>\n",
       "      <td>6.52</td>\n",
       "      <td>68.0</td>\n",
       "      <td>36.7</td>\n",
       "      <td>453.351155</td>\n",
       "      <td>12633897.0</td>\n",
       "      <td>9.8</td>\n",
       "      <td>9.9</td>\n",
       "      <td>0.418</td>\n",
       "      <td>9.5</td>\n",
       "    </tr>\n",
       "    <tr>\n",
       "      <th>2935</th>\n",
       "      <td>Zimbabwe</td>\n",
       "      <td>2002</td>\n",
       "      <td>Developing</td>\n",
       "      <td>44.8</td>\n",
       "      <td>73.0</td>\n",
       "      <td>25</td>\n",
       "      <td>4.43</td>\n",
       "      <td>0.000000</td>\n",
       "      <td>73.0</td>\n",
       "      <td>304</td>\n",
       "      <td>26.3</td>\n",
       "      <td>40</td>\n",
       "      <td>73.0</td>\n",
       "      <td>6.53</td>\n",
       "      <td>71.0</td>\n",
       "      <td>39.8</td>\n",
       "      <td>57.348340</td>\n",
       "      <td>125525.0</td>\n",
       "      <td>1.2</td>\n",
       "      <td>1.3</td>\n",
       "      <td>0.427</td>\n",
       "      <td>10.0</td>\n",
       "    </tr>\n",
       "    <tr>\n",
       "      <th>2936</th>\n",
       "      <td>Zimbabwe</td>\n",
       "      <td>2001</td>\n",
       "      <td>Developing</td>\n",
       "      <td>45.3</td>\n",
       "      <td>686.0</td>\n",
       "      <td>25</td>\n",
       "      <td>1.72</td>\n",
       "      <td>0.000000</td>\n",
       "      <td>76.0</td>\n",
       "      <td>529</td>\n",
       "      <td>25.9</td>\n",
       "      <td>39</td>\n",
       "      <td>76.0</td>\n",
       "      <td>6.16</td>\n",
       "      <td>75.0</td>\n",
       "      <td>42.1</td>\n",
       "      <td>548.587312</td>\n",
       "      <td>12366165.0</td>\n",
       "      <td>1.6</td>\n",
       "      <td>1.7</td>\n",
       "      <td>0.427</td>\n",
       "      <td>9.8</td>\n",
       "    </tr>\n",
       "    <tr>\n",
       "      <th>2937</th>\n",
       "      <td>Zimbabwe</td>\n",
       "      <td>2000</td>\n",
       "      <td>Developing</td>\n",
       "      <td>46.0</td>\n",
       "      <td>665.0</td>\n",
       "      <td>24</td>\n",
       "      <td>1.68</td>\n",
       "      <td>0.000000</td>\n",
       "      <td>79.0</td>\n",
       "      <td>1483</td>\n",
       "      <td>25.5</td>\n",
       "      <td>39</td>\n",
       "      <td>78.0</td>\n",
       "      <td>7.10</td>\n",
       "      <td>78.0</td>\n",
       "      <td>43.5</td>\n",
       "      <td>547.358878</td>\n",
       "      <td>12222251.0</td>\n",
       "      <td>11.0</td>\n",
       "      <td>11.2</td>\n",
       "      <td>0.434</td>\n",
       "      <td>9.8</td>\n",
       "    </tr>\n",
       "  </tbody>\n",
       "</table>\n",
       "<p>2938 rows × 22 columns</p>\n",
       "</div>"
      ],
      "text/plain": [
       "          Country  Year      Status  Life expectancy   Adult Mortality  \\\n",
       "0     Afghanistan  2015  Developing              65.0            263.0   \n",
       "1     Afghanistan  2014  Developing              59.9            271.0   \n",
       "2     Afghanistan  2013  Developing              59.9            268.0   \n",
       "3     Afghanistan  2012  Developing              59.5            272.0   \n",
       "4     Afghanistan  2011  Developing              59.2            275.0   \n",
       "...           ...   ...         ...               ...              ...   \n",
       "2933     Zimbabwe  2004  Developing              44.3            723.0   \n",
       "2934     Zimbabwe  2003  Developing              44.5            715.0   \n",
       "2935     Zimbabwe  2002  Developing              44.8             73.0   \n",
       "2936     Zimbabwe  2001  Developing              45.3            686.0   \n",
       "2937     Zimbabwe  2000  Developing              46.0            665.0   \n",
       "\n",
       "      infant deaths  Alcohol  percentage expenditure  Hepatitis B  Measles   \\\n",
       "0                62     0.01               71.279624         65.0      1154   \n",
       "1                64     0.01               73.523582         62.0       492   \n",
       "2                66     0.01               73.219243         64.0       430   \n",
       "3                69     0.01               78.184215         67.0      2787   \n",
       "4                71     0.01                7.097109         68.0      3013   \n",
       "...             ...      ...                     ...          ...       ...   \n",
       "2933             27     4.36                0.000000         68.0        31   \n",
       "2934             26     4.06                0.000000          7.0       998   \n",
       "2935             25     4.43                0.000000         73.0       304   \n",
       "2936             25     1.72                0.000000         76.0       529   \n",
       "2937             24     1.68                0.000000         79.0      1483   \n",
       "\n",
       "       BMI   under-five deaths   Polio  Total expenditure  Diphtheria   \\\n",
       "0      19.1                  83    6.0               8.16         65.0   \n",
       "1      18.6                  86   58.0               8.18         62.0   \n",
       "2      18.1                  89   62.0               8.13         64.0   \n",
       "3      17.6                  93   67.0               8.52         67.0   \n",
       "4      17.2                  97   68.0               7.87         68.0   \n",
       "...     ...                 ...    ...                ...          ...   \n",
       "2933   27.1                  42   67.0               7.13         65.0   \n",
       "2934   26.7                  41    7.0               6.52         68.0   \n",
       "2935   26.3                  40   73.0               6.53         71.0   \n",
       "2936   25.9                  39   76.0               6.16         75.0   \n",
       "2937   25.5                  39   78.0               7.10         78.0   \n",
       "\n",
       "       HIV/AIDS         GDP  Population   thinness  1-19 years  \\\n",
       "0           0.1  584.259210  33736494.0                   17.2   \n",
       "1           0.1  612.696514    327582.0                   17.5   \n",
       "2           0.1  631.744976  31731688.0                   17.7   \n",
       "3           0.1  669.959000   3696958.0                   17.9   \n",
       "4           0.1   63.537231   2978599.0                   18.2   \n",
       "...         ...         ...         ...                    ...   \n",
       "2933       33.6  454.366654  12777511.0                    9.4   \n",
       "2934       36.7  453.351155  12633897.0                    9.8   \n",
       "2935       39.8   57.348340    125525.0                    1.2   \n",
       "2936       42.1  548.587312  12366165.0                    1.6   \n",
       "2937       43.5  547.358878  12222251.0                   11.0   \n",
       "\n",
       "       thinness 5-9 years  Income composition of resources  Schooling  \n",
       "0                    17.3                            0.479       10.1  \n",
       "1                    17.5                            0.476       10.0  \n",
       "2                    17.7                            0.470        9.9  \n",
       "3                    18.0                            0.463        9.8  \n",
       "4                    18.2                            0.454        9.5  \n",
       "...                   ...                              ...        ...  \n",
       "2933                  9.4                            0.407        9.2  \n",
       "2934                  9.9                            0.418        9.5  \n",
       "2935                  1.3                            0.427       10.0  \n",
       "2936                  1.7                            0.427        9.8  \n",
       "2937                 11.2                            0.434        9.8  \n",
       "\n",
       "[2938 rows x 22 columns]"
      ]
     },
     "execution_count": 247,
     "metadata": {},
     "output_type": "execute_result"
    }
   ],
   "source": [
    "df=pd.read_csv('Life Expectancy Data.csv')\n",
    "df"
   ]
  },
  {
   "cell_type": "code",
   "execution_count": 248,
   "id": "bb21e415-af6d-4ee4-8457-b1df53f74809",
   "metadata": {
    "tags": []
   },
   "outputs": [
    {
     "data": {
      "text/plain": [
       "(2938, 22)"
      ]
     },
     "execution_count": 248,
     "metadata": {},
     "output_type": "execute_result"
    }
   ],
   "source": [
    "df.shape"
   ]
  },
  {
   "cell_type": "code",
   "execution_count": 249,
   "id": "0d448778-a739-4bc6-9997-76a1b6aad97f",
   "metadata": {
    "tags": []
   },
   "outputs": [
    {
     "name": "stdout",
     "output_type": "stream",
     "text": [
      "<class 'pandas.core.frame.DataFrame'>\n",
      "RangeIndex: 2938 entries, 0 to 2937\n",
      "Data columns (total 22 columns):\n",
      " #   Column                           Non-Null Count  Dtype  \n",
      "---  ------                           --------------  -----  \n",
      " 0   Country                          2938 non-null   object \n",
      " 1   Year                             2938 non-null   int64  \n",
      " 2   Status                           2938 non-null   object \n",
      " 3   Life expectancy                  2928 non-null   float64\n",
      " 4   Adult Mortality                  2928 non-null   float64\n",
      " 5   infant deaths                    2938 non-null   int64  \n",
      " 6   Alcohol                          2744 non-null   float64\n",
      " 7   percentage expenditure           2938 non-null   float64\n",
      " 8   Hepatitis B                      2385 non-null   float64\n",
      " 9   Measles                          2938 non-null   int64  \n",
      " 10   BMI                             2904 non-null   float64\n",
      " 11  under-five deaths                2938 non-null   int64  \n",
      " 12  Polio                            2919 non-null   float64\n",
      " 13  Total expenditure                2712 non-null   float64\n",
      " 14  Diphtheria                       2919 non-null   float64\n",
      " 15   HIV/AIDS                        2938 non-null   float64\n",
      " 16  GDP                              2490 non-null   float64\n",
      " 17  Population                       2286 non-null   float64\n",
      " 18   thinness  1-19 years            2904 non-null   float64\n",
      " 19   thinness 5-9 years              2904 non-null   float64\n",
      " 20  Income composition of resources  2771 non-null   float64\n",
      " 21  Schooling                        2775 non-null   float64\n",
      "dtypes: float64(16), int64(4), object(2)\n",
      "memory usage: 505.1+ KB\n"
     ]
    }
   ],
   "source": [
    "df.info()"
   ]
  },
  {
   "cell_type": "code",
   "execution_count": 250,
   "id": "680dbfc9-96fd-44c7-83a0-1a7e0d7c8d3e",
   "metadata": {
    "tags": []
   },
   "outputs": [
    {
     "data": {
      "text/plain": [
       "Country                              0\n",
       "Year                                 0\n",
       "Status                               0\n",
       "Life expectancy                     10\n",
       "Adult Mortality                     10\n",
       "infant deaths                        0\n",
       "Alcohol                            194\n",
       "percentage expenditure               0\n",
       "Hepatitis B                        553\n",
       "Measles                              0\n",
       " BMI                                34\n",
       "under-five deaths                    0\n",
       "Polio                               19\n",
       "Total expenditure                  226\n",
       "Diphtheria                          19\n",
       " HIV/AIDS                            0\n",
       "GDP                                448\n",
       "Population                         652\n",
       " thinness  1-19 years               34\n",
       " thinness 5-9 years                 34\n",
       "Income composition of resources    167\n",
       "Schooling                          163\n",
       "dtype: int64"
      ]
     },
     "execution_count": 250,
     "metadata": {},
     "output_type": "execute_result"
    }
   ],
   "source": [
    "df.isnull().sum()"
   ]
  },
  {
   "cell_type": "code",
   "execution_count": 251,
   "id": "6fc42090-0995-468a-aa82-70224418f9e5",
   "metadata": {
    "tags": []
   },
   "outputs": [],
   "source": [
    "from sklearn.impute import SimpleImputer\n",
    "imputer=SimpleImputer(missing_values=np.nan,strategy='mean',fill_value=None)\n",
    "df['Life expectancy ']=imputer.fit_transform(df[['Life expectancy ']])\n",
    "df['Adult Mortality']=imputer.fit_transform(df[['Adult Mortality']])\n",
    "df['Alcohol']=imputer.fit_transform(df[['Alcohol']])\n",
    "df['Hepatitis B']=imputer.fit_transform(df[['Hepatitis B']])\n",
    "df[' BMI ']=imputer.fit_transform(df[[' BMI ']])\n",
    "df['Polio']=imputer.fit_transform(df[['Polio']])\n",
    "df['Total expenditure']=imputer.fit_transform(df[['Total expenditure']])\n",
    "df['Diphtheria ']=imputer.fit_transform(df[['Diphtheria ']])\n",
    "df['GDP']=imputer.fit_transform(df[['GDP']])\n",
    "df['Population']=imputer.fit_transform(df[['Population']])\n",
    "df[' thinness  1-19 years']=imputer.fit_transform(df[[' thinness  1-19 years']])\n",
    "df[' thinness 5-9 years']=imputer.fit_transform(df[[' thinness 5-9 years']])\n",
    "df['Income composition of resources']=imputer.fit_transform(df[['Income composition of resources']])\n",
    "df['Schooling']=imputer.fit_transform(df[['Schooling']]) "
   ]
  },
  {
   "cell_type": "code",
   "execution_count": 252,
   "id": "a3776131-4816-425f-9dc9-2460b1376074",
   "metadata": {
    "tags": []
   },
   "outputs": [
    {
     "data": {
      "text/plain": [
       "Country                            0\n",
       "Year                               0\n",
       "Status                             0\n",
       "Life expectancy                    0\n",
       "Adult Mortality                    0\n",
       "infant deaths                      0\n",
       "Alcohol                            0\n",
       "percentage expenditure             0\n",
       "Hepatitis B                        0\n",
       "Measles                            0\n",
       " BMI                               0\n",
       "under-five deaths                  0\n",
       "Polio                              0\n",
       "Total expenditure                  0\n",
       "Diphtheria                         0\n",
       " HIV/AIDS                          0\n",
       "GDP                                0\n",
       "Population                         0\n",
       " thinness  1-19 years              0\n",
       " thinness 5-9 years                0\n",
       "Income composition of resources    0\n",
       "Schooling                          0\n",
       "dtype: int64"
      ]
     },
     "execution_count": 252,
     "metadata": {},
     "output_type": "execute_result"
    }
   ],
   "source": [
    "df.isnull().sum()"
   ]
  },
  {
   "cell_type": "code",
   "execution_count": 253,
   "id": "9177c9cf-9069-478b-9a29-26b61a926e02",
   "metadata": {
    "tags": []
   },
   "outputs": [
    {
     "data": {
      "text/html": [
       "<div>\n",
       "<style scoped>\n",
       "    .dataframe tbody tr th:only-of-type {\n",
       "        vertical-align: middle;\n",
       "    }\n",
       "\n",
       "    .dataframe tbody tr th {\n",
       "        vertical-align: top;\n",
       "    }\n",
       "\n",
       "    .dataframe thead th {\n",
       "        text-align: right;\n",
       "    }\n",
       "</style>\n",
       "<table border=\"1\" class=\"dataframe\">\n",
       "  <thead>\n",
       "    <tr style=\"text-align: right;\">\n",
       "      <th></th>\n",
       "      <th>Year</th>\n",
       "      <th>Life expectancy</th>\n",
       "      <th>Adult Mortality</th>\n",
       "      <th>infant deaths</th>\n",
       "      <th>Alcohol</th>\n",
       "      <th>percentage expenditure</th>\n",
       "      <th>Hepatitis B</th>\n",
       "      <th>Measles</th>\n",
       "      <th>BMI</th>\n",
       "      <th>under-five deaths</th>\n",
       "      <th>Polio</th>\n",
       "      <th>Total expenditure</th>\n",
       "      <th>Diphtheria</th>\n",
       "      <th>HIV/AIDS</th>\n",
       "      <th>GDP</th>\n",
       "      <th>Population</th>\n",
       "      <th>thinness  1-19 years</th>\n",
       "      <th>thinness 5-9 years</th>\n",
       "      <th>Income composition of resources</th>\n",
       "      <th>Schooling</th>\n",
       "    </tr>\n",
       "  </thead>\n",
       "  <tbody>\n",
       "    <tr>\n",
       "      <th>count</th>\n",
       "      <td>2938.000000</td>\n",
       "      <td>2938.000000</td>\n",
       "      <td>2938.000000</td>\n",
       "      <td>2938.000000</td>\n",
       "      <td>2938.000000</td>\n",
       "      <td>2938.000000</td>\n",
       "      <td>2938.000000</td>\n",
       "      <td>2938.000000</td>\n",
       "      <td>2938.000000</td>\n",
       "      <td>2938.000000</td>\n",
       "      <td>2938.000000</td>\n",
       "      <td>2938.000000</td>\n",
       "      <td>2938.000000</td>\n",
       "      <td>2938.000000</td>\n",
       "      <td>2938.000000</td>\n",
       "      <td>2.938000e+03</td>\n",
       "      <td>2938.000000</td>\n",
       "      <td>2938.000000</td>\n",
       "      <td>2938.000000</td>\n",
       "      <td>2938.000000</td>\n",
       "    </tr>\n",
       "    <tr>\n",
       "      <th>mean</th>\n",
       "      <td>2007.518720</td>\n",
       "      <td>69.224932</td>\n",
       "      <td>164.796448</td>\n",
       "      <td>30.303948</td>\n",
       "      <td>4.602861</td>\n",
       "      <td>738.251295</td>\n",
       "      <td>80.940461</td>\n",
       "      <td>2419.592240</td>\n",
       "      <td>38.321247</td>\n",
       "      <td>42.035739</td>\n",
       "      <td>82.550188</td>\n",
       "      <td>5.938190</td>\n",
       "      <td>82.324084</td>\n",
       "      <td>1.742103</td>\n",
       "      <td>7483.158469</td>\n",
       "      <td>1.275338e+07</td>\n",
       "      <td>4.839704</td>\n",
       "      <td>4.870317</td>\n",
       "      <td>0.627551</td>\n",
       "      <td>11.992793</td>\n",
       "    </tr>\n",
       "    <tr>\n",
       "      <th>std</th>\n",
       "      <td>4.613841</td>\n",
       "      <td>9.507640</td>\n",
       "      <td>124.080302</td>\n",
       "      <td>117.926501</td>\n",
       "      <td>3.916288</td>\n",
       "      <td>1987.914858</td>\n",
       "      <td>22.586855</td>\n",
       "      <td>11467.272489</td>\n",
       "      <td>19.927677</td>\n",
       "      <td>160.445548</td>\n",
       "      <td>23.352143</td>\n",
       "      <td>2.400274</td>\n",
       "      <td>23.640073</td>\n",
       "      <td>5.077785</td>\n",
       "      <td>13136.800417</td>\n",
       "      <td>5.381546e+07</td>\n",
       "      <td>4.394535</td>\n",
       "      <td>4.482708</td>\n",
       "      <td>0.204820</td>\n",
       "      <td>3.264381</td>\n",
       "    </tr>\n",
       "    <tr>\n",
       "      <th>min</th>\n",
       "      <td>2000.000000</td>\n",
       "      <td>36.300000</td>\n",
       "      <td>1.000000</td>\n",
       "      <td>0.000000</td>\n",
       "      <td>0.010000</td>\n",
       "      <td>0.000000</td>\n",
       "      <td>1.000000</td>\n",
       "      <td>0.000000</td>\n",
       "      <td>1.000000</td>\n",
       "      <td>0.000000</td>\n",
       "      <td>3.000000</td>\n",
       "      <td>0.370000</td>\n",
       "      <td>2.000000</td>\n",
       "      <td>0.100000</td>\n",
       "      <td>1.681350</td>\n",
       "      <td>3.400000e+01</td>\n",
       "      <td>0.100000</td>\n",
       "      <td>0.100000</td>\n",
       "      <td>0.000000</td>\n",
       "      <td>0.000000</td>\n",
       "    </tr>\n",
       "    <tr>\n",
       "      <th>25%</th>\n",
       "      <td>2004.000000</td>\n",
       "      <td>63.200000</td>\n",
       "      <td>74.000000</td>\n",
       "      <td>0.000000</td>\n",
       "      <td>1.092500</td>\n",
       "      <td>4.685343</td>\n",
       "      <td>80.940461</td>\n",
       "      <td>0.000000</td>\n",
       "      <td>19.400000</td>\n",
       "      <td>0.000000</td>\n",
       "      <td>78.000000</td>\n",
       "      <td>4.370000</td>\n",
       "      <td>78.000000</td>\n",
       "      <td>0.100000</td>\n",
       "      <td>580.486996</td>\n",
       "      <td>4.189172e+05</td>\n",
       "      <td>1.600000</td>\n",
       "      <td>1.600000</td>\n",
       "      <td>0.504250</td>\n",
       "      <td>10.300000</td>\n",
       "    </tr>\n",
       "    <tr>\n",
       "      <th>50%</th>\n",
       "      <td>2008.000000</td>\n",
       "      <td>72.000000</td>\n",
       "      <td>144.000000</td>\n",
       "      <td>3.000000</td>\n",
       "      <td>4.160000</td>\n",
       "      <td>64.912906</td>\n",
       "      <td>87.000000</td>\n",
       "      <td>17.000000</td>\n",
       "      <td>43.000000</td>\n",
       "      <td>4.000000</td>\n",
       "      <td>93.000000</td>\n",
       "      <td>5.938190</td>\n",
       "      <td>93.000000</td>\n",
       "      <td>0.100000</td>\n",
       "      <td>3116.561755</td>\n",
       "      <td>3.675929e+06</td>\n",
       "      <td>3.400000</td>\n",
       "      <td>3.400000</td>\n",
       "      <td>0.662000</td>\n",
       "      <td>12.100000</td>\n",
       "    </tr>\n",
       "    <tr>\n",
       "      <th>75%</th>\n",
       "      <td>2012.000000</td>\n",
       "      <td>75.600000</td>\n",
       "      <td>227.000000</td>\n",
       "      <td>22.000000</td>\n",
       "      <td>7.390000</td>\n",
       "      <td>441.534144</td>\n",
       "      <td>96.000000</td>\n",
       "      <td>360.250000</td>\n",
       "      <td>56.100000</td>\n",
       "      <td>28.000000</td>\n",
       "      <td>97.000000</td>\n",
       "      <td>7.330000</td>\n",
       "      <td>97.000000</td>\n",
       "      <td>0.800000</td>\n",
       "      <td>7483.158469</td>\n",
       "      <td>1.275338e+07</td>\n",
       "      <td>7.100000</td>\n",
       "      <td>7.200000</td>\n",
       "      <td>0.772000</td>\n",
       "      <td>14.100000</td>\n",
       "    </tr>\n",
       "    <tr>\n",
       "      <th>max</th>\n",
       "      <td>2015.000000</td>\n",
       "      <td>89.000000</td>\n",
       "      <td>723.000000</td>\n",
       "      <td>1800.000000</td>\n",
       "      <td>17.870000</td>\n",
       "      <td>19479.911610</td>\n",
       "      <td>99.000000</td>\n",
       "      <td>212183.000000</td>\n",
       "      <td>87.300000</td>\n",
       "      <td>2500.000000</td>\n",
       "      <td>99.000000</td>\n",
       "      <td>17.600000</td>\n",
       "      <td>99.000000</td>\n",
       "      <td>50.600000</td>\n",
       "      <td>119172.741800</td>\n",
       "      <td>1.293859e+09</td>\n",
       "      <td>27.700000</td>\n",
       "      <td>28.600000</td>\n",
       "      <td>0.948000</td>\n",
       "      <td>20.700000</td>\n",
       "    </tr>\n",
       "  </tbody>\n",
       "</table>\n",
       "</div>"
      ],
      "text/plain": [
       "              Year  Life expectancy   Adult Mortality  infant deaths  \\\n",
       "count  2938.000000       2938.000000      2938.000000    2938.000000   \n",
       "mean   2007.518720         69.224932       164.796448      30.303948   \n",
       "std       4.613841          9.507640       124.080302     117.926501   \n",
       "min    2000.000000         36.300000         1.000000       0.000000   \n",
       "25%    2004.000000         63.200000        74.000000       0.000000   \n",
       "50%    2008.000000         72.000000       144.000000       3.000000   \n",
       "75%    2012.000000         75.600000       227.000000      22.000000   \n",
       "max    2015.000000         89.000000       723.000000    1800.000000   \n",
       "\n",
       "           Alcohol  percentage expenditure  Hepatitis B       Measles   \\\n",
       "count  2938.000000             2938.000000  2938.000000    2938.000000   \n",
       "mean      4.602861              738.251295    80.940461    2419.592240   \n",
       "std       3.916288             1987.914858    22.586855   11467.272489   \n",
       "min       0.010000                0.000000     1.000000       0.000000   \n",
       "25%       1.092500                4.685343    80.940461       0.000000   \n",
       "50%       4.160000               64.912906    87.000000      17.000000   \n",
       "75%       7.390000              441.534144    96.000000     360.250000   \n",
       "max      17.870000            19479.911610    99.000000  212183.000000   \n",
       "\n",
       "              BMI   under-five deaths         Polio  Total expenditure  \\\n",
       "count  2938.000000         2938.000000  2938.000000        2938.000000   \n",
       "mean     38.321247           42.035739    82.550188           5.938190   \n",
       "std      19.927677          160.445548    23.352143           2.400274   \n",
       "min       1.000000            0.000000     3.000000           0.370000   \n",
       "25%      19.400000            0.000000    78.000000           4.370000   \n",
       "50%      43.000000            4.000000    93.000000           5.938190   \n",
       "75%      56.100000           28.000000    97.000000           7.330000   \n",
       "max      87.300000         2500.000000    99.000000          17.600000   \n",
       "\n",
       "       Diphtheria      HIV/AIDS            GDP    Population  \\\n",
       "count  2938.000000  2938.000000    2938.000000  2.938000e+03   \n",
       "mean     82.324084     1.742103    7483.158469  1.275338e+07   \n",
       "std      23.640073     5.077785   13136.800417  5.381546e+07   \n",
       "min       2.000000     0.100000       1.681350  3.400000e+01   \n",
       "25%      78.000000     0.100000     580.486996  4.189172e+05   \n",
       "50%      93.000000     0.100000    3116.561755  3.675929e+06   \n",
       "75%      97.000000     0.800000    7483.158469  1.275338e+07   \n",
       "max      99.000000    50.600000  119172.741800  1.293859e+09   \n",
       "\n",
       "        thinness  1-19 years   thinness 5-9 years  \\\n",
       "count            2938.000000          2938.000000   \n",
       "mean                4.839704             4.870317   \n",
       "std                 4.394535             4.482708   \n",
       "min                 0.100000             0.100000   \n",
       "25%                 1.600000             1.600000   \n",
       "50%                 3.400000             3.400000   \n",
       "75%                 7.100000             7.200000   \n",
       "max                27.700000            28.600000   \n",
       "\n",
       "       Income composition of resources    Schooling  \n",
       "count                      2938.000000  2938.000000  \n",
       "mean                          0.627551    11.992793  \n",
       "std                           0.204820     3.264381  \n",
       "min                           0.000000     0.000000  \n",
       "25%                           0.504250    10.300000  \n",
       "50%                           0.662000    12.100000  \n",
       "75%                           0.772000    14.100000  \n",
       "max                           0.948000    20.700000  "
      ]
     },
     "execution_count": 253,
     "metadata": {},
     "output_type": "execute_result"
    }
   ],
   "source": [
    "df.describe()"
   ]
  },
  {
   "cell_type": "code",
   "execution_count": 254,
   "id": "bcf9ff66-2923-4792-8264-c2c9bfdcd86a",
   "metadata": {
    "tags": []
   },
   "outputs": [
    {
     "data": {
      "text/plain": [
       "Index(['Country', 'Year', 'Status', 'Life expectancy ', 'Adult Mortality',\n",
       "       'infant deaths', 'Alcohol', 'percentage expenditure', 'Hepatitis B',\n",
       "       'Measles ', ' BMI ', 'under-five deaths ', 'Polio', 'Total expenditure',\n",
       "       'Diphtheria ', ' HIV/AIDS', 'GDP', 'Population',\n",
       "       ' thinness  1-19 years', ' thinness 5-9 years',\n",
       "       'Income composition of resources', 'Schooling'],\n",
       "      dtype='object')"
      ]
     },
     "execution_count": 254,
     "metadata": {},
     "output_type": "execute_result"
    }
   ],
   "source": [
    "df.columns"
   ]
  },
  {
   "cell_type": "code",
   "execution_count": 255,
   "id": "d5566c68-8241-4183-ade1-4e3b107114a5",
   "metadata": {
    "tags": []
   },
   "outputs": [
    {
     "data": {
      "application/vnd.plotly.v1+json": {
       "config": {
        "plotlyServerURL": "https://plot.ly"
       },
       "data": [
        {
         "hovertemplate": "Country=Zimbabwe<br>Year=%{x}<br>Life expectancy =%{y}<extra></extra>",
         "ids": [
          2000,
          2001,
          2002,
          2003,
          2004,
          2005,
          2006,
          2007,
          2008,
          2009,
          2010,
          2011,
          2012,
          2013,
          2014,
          2015
         ],
         "legendgroup": "Zimbabwe",
         "line": {
          "color": "#636efa",
          "dash": "solid"
         },
         "marker": {
          "symbol": "circle"
         },
         "mode": "lines+markers",
         "name": "Zimbabwe",
         "orientation": "v",
         "showlegend": true,
         "type": "scatter",
         "x": [
          2000,
          2001,
          2002,
          2003,
          2004,
          2005,
          2006,
          2007,
          2008,
          2009,
          2010,
          2011,
          2012,
          2013,
          2014,
          2015
         ],
         "xaxis": "x",
         "y": [
          46,
          45.3,
          44.8,
          44.5,
          44.3,
          44.6,
          45.4,
          46.6,
          48.2,
          50,
          52.4,
          54.9,
          56.6,
          58,
          59.2,
          67
         ],
         "yaxis": "y"
        }
       ],
       "frames": [
        {
         "data": [
          {
           "hovertemplate": "Country=Zimbabwe<br>Year=%{x}<br>Life expectancy =%{y}<extra></extra>",
           "ids": [
            2000,
            2001,
            2002,
            2003,
            2004,
            2005,
            2006,
            2007,
            2008,
            2009,
            2010,
            2011,
            2012,
            2013,
            2014,
            2015
           ],
           "legendgroup": "Zimbabwe",
           "line": {
            "color": "#636efa",
            "dash": "solid"
           },
           "marker": {
            "symbol": "circle"
           },
           "mode": "lines+markers",
           "name": "Zimbabwe",
           "orientation": "v",
           "showlegend": true,
           "type": "scatter",
           "x": [
            2000,
            2001,
            2002,
            2003,
            2004,
            2005,
            2006,
            2007,
            2008,
            2009,
            2010,
            2011,
            2012,
            2013,
            2014,
            2015
           ],
           "xaxis": "x",
           "y": [
            46,
            45.3,
            44.8,
            44.5,
            44.3,
            44.6,
            45.4,
            46.6,
            48.2,
            50,
            52.4,
            54.9,
            56.6,
            58,
            59.2,
            67
           ],
           "yaxis": "y"
          }
         ],
         "name": "Zimbabwe"
        },
        {
         "data": [
          {
           "hovertemplate": "Country=Belize<br>Year=%{x}<br>Life expectancy =%{y}<extra></extra>",
           "ids": [
            2000,
            2001,
            2002,
            2003,
            2004,
            2005,
            2006,
            2007,
            2008,
            2009,
            2010,
            2011,
            2012,
            2013,
            2014,
            2015
           ],
           "legendgroup": "Belize",
           "line": {
            "color": "#EF553B",
            "dash": "solid"
           },
           "marker": {
            "symbol": "circle"
           },
           "mode": "lines+markers",
           "name": "Belize",
           "orientation": "v",
           "showlegend": true,
           "type": "scatter",
           "x": [
            2000,
            2001,
            2002,
            2003,
            2004,
            2005,
            2006,
            2007,
            2008,
            2009,
            2010,
            2011,
            2012,
            2013,
            2014,
            2015
           ],
           "xaxis": "x",
           "y": [
            68.3,
            68.2,
            68.5,
            68.4,
            68.7,
            69,
            69.4,
            69.6,
            69.6,
            69.5,
            69.5,
            69.4,
            69.4,
            69.8,
            70,
            71
           ],
           "yaxis": "y"
          }
         ],
         "name": "Belize"
        },
        {
         "data": [
          {
           "hovertemplate": "Country=Kazakhstan<br>Year=%{x}<br>Life expectancy =%{y}<extra></extra>",
           "ids": [
            2000,
            2001,
            2002,
            2003,
            2004,
            2005,
            2006,
            2007,
            2008,
            2009,
            2010,
            2011,
            2012,
            2013,
            2014,
            2015
           ],
           "legendgroup": "Kazakhstan",
           "line": {
            "color": "#00cc96",
            "dash": "solid"
           },
           "marker": {
            "symbol": "circle"
           },
           "mode": "lines+markers",
           "name": "Kazakhstan",
           "orientation": "v",
           "showlegend": true,
           "type": "scatter",
           "x": [
            2000,
            2001,
            2002,
            2003,
            2004,
            2005,
            2006,
            2007,
            2008,
            2009,
            2010,
            2011,
            2012,
            2013,
            2014,
            2015
           ],
           "xaxis": "x",
           "y": [
            63.9,
            64.4,
            64.7,
            64.4,
            64.7,
            64.6,
            65,
            65.3,
            66.6,
            67.8,
            67.8,
            68.5,
            69.1,
            69.5,
            69.9,
            72
           ],
           "yaxis": "y"
          }
         ],
         "name": "Kazakhstan"
        },
        {
         "data": [
          {
           "hovertemplate": "Country=Equatorial Guinea<br>Year=%{x}<br>Life expectancy =%{y}<extra></extra>",
           "ids": [
            2000,
            2001,
            2002,
            2003,
            2004,
            2005,
            2006,
            2007,
            2008,
            2009,
            2010,
            2011,
            2012,
            2013,
            2014,
            2015
           ],
           "legendgroup": "Equatorial Guinea",
           "line": {
            "color": "#ab63fa",
            "dash": "solid"
           },
           "marker": {
            "symbol": "circle"
           },
           "mode": "lines+markers",
           "name": "Equatorial Guinea",
           "orientation": "v",
           "showlegend": true,
           "type": "scatter",
           "x": [
            2000,
            2001,
            2002,
            2003,
            2004,
            2005,
            2006,
            2007,
            2008,
            2009,
            2010,
            2011,
            2012,
            2013,
            2014,
            2015
           ],
           "xaxis": "x",
           "y": [
            52.7,
            53.1,
            53.5,
            53.8,
            54.1,
            54.4,
            54.8,
            55,
            55.4,
            55.7,
            56.1,
            56.2,
            56.7,
            57.4,
            57.9,
            58.2
           ],
           "yaxis": "y"
          }
         ],
         "name": "Equatorial Guinea"
        },
        {
         "data": [
          {
           "hovertemplate": "Country=South Sudan<br>Year=%{x}<br>Life expectancy =%{y}<extra></extra>",
           "ids": [
            2000,
            2001,
            2002,
            2003,
            2004,
            2005,
            2006,
            2007,
            2008,
            2009,
            2010,
            2011,
            2012,
            2013,
            2014,
            2015
           ],
           "legendgroup": "South Sudan",
           "line": {
            "color": "#FFA15A",
            "dash": "solid"
           },
           "marker": {
            "symbol": "circle"
           },
           "mode": "lines+markers",
           "name": "South Sudan",
           "orientation": "v",
           "showlegend": true,
           "type": "scatter",
           "x": [
            2000,
            2001,
            2002,
            2003,
            2004,
            2005,
            2006,
            2007,
            2008,
            2009,
            2010,
            2011,
            2012,
            2013,
            2014,
            2015
           ],
           "xaxis": "x",
           "y": [
            48.9,
            49.6,
            52,
            58,
            51.4,
            51.9,
            52.5,
            53.1,
            53.6,
            54.3,
            55,
            55.4,
            56,
            56.4,
            56.6,
            57.3
           ],
           "yaxis": "y"
          }
         ],
         "name": "South Sudan"
        },
        {
         "data": [
          {
           "hovertemplate": "Country=South Africa<br>Year=%{x}<br>Life expectancy =%{y}<extra></extra>",
           "ids": [
            2000,
            2001,
            2002,
            2003,
            2004,
            2005,
            2006,
            2007,
            2008,
            2009,
            2010,
            2011,
            2012,
            2013,
            2014,
            2015
           ],
           "legendgroup": "South Africa",
           "line": {
            "color": "#19d3f3",
            "dash": "solid"
           },
           "marker": {
            "symbol": "circle"
           },
           "mode": "lines+markers",
           "name": "South Africa",
           "orientation": "v",
           "showlegend": true,
           "type": "scatter",
           "x": [
            2000,
            2001,
            2002,
            2003,
            2004,
            2005,
            2006,
            2007,
            2008,
            2009,
            2010,
            2011,
            2012,
            2013,
            2014,
            2015
           ],
           "xaxis": "x",
           "y": [
            57.3,
            56,
            54.9,
            54,
            53.7,
            53.8,
            54,
            54.5,
            55.3,
            56.5,
            58,
            58.9,
            59.2,
            69,
            62,
            62.9
           ],
           "yaxis": "y"
          }
         ],
         "name": "South Africa"
        },
        {
         "data": [
          {
           "hovertemplate": "Country=Benin<br>Year=%{x}<br>Life expectancy =%{y}<extra></extra>",
           "ids": [
            2000,
            2001,
            2002,
            2003,
            2004,
            2005,
            2006,
            2007,
            2008,
            2009,
            2010,
            2011,
            2012,
            2013,
            2014,
            2015
           ],
           "legendgroup": "Benin",
           "line": {
            "color": "#FF6692",
            "dash": "solid"
           },
           "marker": {
            "symbol": "circle"
           },
           "mode": "lines+markers",
           "name": "Benin",
           "orientation": "v",
           "showlegend": true,
           "type": "scatter",
           "x": [
            2000,
            2001,
            2002,
            2003,
            2004,
            2005,
            2006,
            2007,
            2008,
            2009,
            2010,
            2011,
            2012,
            2013,
            2014,
            2015
           ],
           "xaxis": "x",
           "y": [
            55.4,
            55.5,
            55.6,
            55.8,
            56.1,
            56.5,
            56.8,
            57.1,
            57.6,
            58.4,
            58.7,
            59.1,
            59.3,
            59.5,
            59.7,
            60
           ],
           "yaxis": "y"
          }
         ],
         "name": "Benin"
        },
        {
         "data": [
          {
           "hovertemplate": "Country=Kenya<br>Year=%{x}<br>Life expectancy =%{y}<extra></extra>",
           "ids": [
            2000,
            2001,
            2002,
            2003,
            2004,
            2005,
            2006,
            2007,
            2008,
            2009,
            2010,
            2011,
            2012,
            2013,
            2014,
            2015
           ],
           "legendgroup": "Kenya",
           "line": {
            "color": "#B6E880",
            "dash": "solid"
           },
           "marker": {
            "symbol": "circle"
           },
           "mode": "lines+markers",
           "name": "Kenya",
           "orientation": "v",
           "showlegend": true,
           "type": "scatter",
           "x": [
            2000,
            2001,
            2002,
            2003,
            2004,
            2005,
            2006,
            2007,
            2008,
            2009,
            2010,
            2011,
            2012,
            2013,
            2014,
            2015
           ],
           "xaxis": "x",
           "y": [
            51.9,
            51.9,
            52.1,
            52.4,
            53,
            54.1,
            55.3,
            56.8,
            57.9,
            59.1,
            63,
            61.2,
            62.1,
            62.6,
            62.9,
            63.4
           ],
           "yaxis": "y"
          }
         ],
         "name": "Kenya"
        },
        {
         "data": [
          {
           "hovertemplate": "Country=Somalia<br>Year=%{x}<br>Life expectancy =%{y}<extra></extra>",
           "ids": [
            2000,
            2001,
            2002,
            2003,
            2004,
            2005,
            2006,
            2007,
            2008,
            2009,
            2010,
            2011,
            2012,
            2013,
            2014,
            2015
           ],
           "legendgroup": "Somalia",
           "line": {
            "color": "#FF97FF",
            "dash": "solid"
           },
           "marker": {
            "symbol": "circle"
           },
           "mode": "lines+markers",
           "name": "Somalia",
           "orientation": "v",
           "showlegend": true,
           "type": "scatter",
           "x": [
            2000,
            2001,
            2002,
            2003,
            2004,
            2005,
            2006,
            2007,
            2008,
            2009,
            2010,
            2011,
            2012,
            2013,
            2014,
            2015
           ],
           "xaxis": "x",
           "y": [
            55,
            57,
            58,
            51.1,
            51.2,
            51.6,
            51.5,
            51.5,
            51.9,
            52.2,
            52.4,
            53.1,
            53.1,
            54.2,
            54.3,
            55
           ],
           "yaxis": "y"
          }
         ],
         "name": "Somalia"
        },
        {
         "data": [
          {
           "hovertemplate": "Country=Kiribati<br>Year=%{x}<br>Life expectancy =%{y}<extra></extra>",
           "ids": [
            2000,
            2001,
            2002,
            2003,
            2004,
            2005,
            2006,
            2007,
            2008,
            2009,
            2010,
            2011,
            2012,
            2013,
            2014,
            2015
           ],
           "legendgroup": "Kiribati",
           "line": {
            "color": "#FECB52",
            "dash": "solid"
           },
           "marker": {
            "symbol": "circle"
           },
           "mode": "lines+markers",
           "name": "Kiribati",
           "orientation": "v",
           "showlegend": true,
           "type": "scatter",
           "x": [
            2000,
            2001,
            2002,
            2003,
            2004,
            2005,
            2006,
            2007,
            2008,
            2009,
            2010,
            2011,
            2012,
            2013,
            2014,
            2015
           ],
           "xaxis": "x",
           "y": [
            64.1,
            64.3,
            64.6,
            64.7,
            64.8,
            64.9,
            65,
            65,
            65.1,
            65.2,
            65.3,
            65.5,
            65.7,
            65.8,
            66.1,
            66.3
           ],
           "yaxis": "y"
          }
         ],
         "name": "Kiribati"
        },
        {
         "data": [
          {
           "hovertemplate": "Country=El Salvador<br>Year=%{x}<br>Life expectancy =%{y}<extra></extra>",
           "ids": [
            2000,
            2001,
            2002,
            2003,
            2004,
            2005,
            2006,
            2007,
            2008,
            2009,
            2010,
            2011,
            2012,
            2013,
            2014,
            2015
           ],
           "legendgroup": "El Salvador",
           "line": {
            "color": "#636efa",
            "dash": "solid"
           },
           "marker": {
            "symbol": "circle"
           },
           "mode": "lines+markers",
           "name": "El Salvador",
           "orientation": "v",
           "showlegend": true,
           "type": "scatter",
           "x": [
            2000,
            2001,
            2002,
            2003,
            2004,
            2005,
            2006,
            2007,
            2008,
            2009,
            2010,
            2011,
            2012,
            2013,
            2014,
            2015
           ],
           "xaxis": "x",
           "y": [
            69,
            68.9,
            73,
            69.9,
            70,
            71,
            75,
            71.2,
            71.7,
            71.4,
            72,
            72,
            73,
            73,
            73.3,
            73.5
           ],
           "yaxis": "y"
          }
         ],
         "name": "El Salvador"
        },
        {
         "data": [
          {
           "hovertemplate": "Country=Bhutan<br>Year=%{x}<br>Life expectancy =%{y}<extra></extra>",
           "ids": [
            2000,
            2001,
            2002,
            2003,
            2004,
            2005,
            2006,
            2007,
            2008,
            2009,
            2010,
            2011,
            2012,
            2013,
            2014,
            2015
           ],
           "legendgroup": "Bhutan",
           "line": {
            "color": "#EF553B",
            "dash": "solid"
           },
           "marker": {
            "symbol": "circle"
           },
           "mode": "lines+markers",
           "name": "Bhutan",
           "orientation": "v",
           "showlegend": true,
           "type": "scatter",
           "x": [
            2000,
            2001,
            2002,
            2003,
            2004,
            2005,
            2006,
            2007,
            2008,
            2009,
            2010,
            2011,
            2012,
            2013,
            2014,
            2015
           ],
           "xaxis": "x",
           "y": [
            62,
            61.7,
            62.5,
            63.3,
            64.2,
            65,
            65.8,
            66.5,
            67,
            67.4,
            67.9,
            68.3,
            68.7,
            69.1,
            69.4,
            69.8
           ],
           "yaxis": "y"
          }
         ],
         "name": "Bhutan"
        },
        {
         "data": [
          {
           "hovertemplate": "Country=Solomon Islands<br>Year=%{x}<br>Life expectancy =%{y}<extra></extra>",
           "ids": [
            2000,
            2001,
            2002,
            2003,
            2004,
            2005,
            2006,
            2007,
            2008,
            2009,
            2010,
            2011,
            2012,
            2013,
            2014,
            2015
           ],
           "legendgroup": "Solomon Islands",
           "line": {
            "color": "#00cc96",
            "dash": "solid"
           },
           "marker": {
            "symbol": "circle"
           },
           "mode": "lines+markers",
           "name": "Solomon Islands",
           "orientation": "v",
           "showlegend": true,
           "type": "scatter",
           "x": [
            2000,
            2001,
            2002,
            2003,
            2004,
            2005,
            2006,
            2007,
            2008,
            2009,
            2010,
            2011,
            2012,
            2013,
            2014,
            2015
           ],
           "xaxis": "x",
           "y": [
            65.8,
            66.2,
            66.5,
            66.8,
            67.1,
            67.4,
            67.6,
            67.6,
            68,
            68.1,
            68.3,
            68.5,
            68.7,
            68.8,
            68.8,
            69.2
           ],
           "yaxis": "y"
          }
         ],
         "name": "Solomon Islands"
        },
        {
         "data": [
          {
           "hovertemplate": "Country=Kuwait<br>Year=%{x}<br>Life expectancy =%{y}<extra></extra>",
           "ids": [
            2000,
            2001,
            2002,
            2003,
            2004,
            2005,
            2006,
            2007,
            2008,
            2009,
            2010,
            2011,
            2012,
            2013,
            2014,
            2015
           ],
           "legendgroup": "Kuwait",
           "line": {
            "color": "#ab63fa",
            "dash": "solid"
           },
           "marker": {
            "symbol": "circle"
           },
           "mode": "lines+markers",
           "name": "Kuwait",
           "orientation": "v",
           "showlegend": true,
           "type": "scatter",
           "x": [
            2000,
            2001,
            2002,
            2003,
            2004,
            2005,
            2006,
            2007,
            2008,
            2009,
            2010,
            2011,
            2012,
            2013,
            2014,
            2015
           ],
           "xaxis": "x",
           "y": [
            73.2,
            73.2,
            73.3,
            73.4,
            73.5,
            73.6,
            73.6,
            73.7,
            73.8,
            73.9,
            74,
            74.2,
            74.3,
            74.5,
            74.6,
            74.7
           ],
           "yaxis": "y"
          }
         ],
         "name": "Kuwait"
        },
        {
         "data": [
          {
           "hovertemplate": "Country=Bolivia (Plurinational State of)<br>Year=%{x}<br>Life expectancy =%{y}<extra></extra>",
           "ids": [
            2000,
            2001,
            2002,
            2003,
            2004,
            2005,
            2006,
            2007,
            2008,
            2009,
            2010,
            2011,
            2012,
            2013,
            2014,
            2015
           ],
           "legendgroup": "Bolivia (Plurinational State of)",
           "line": {
            "color": "#FFA15A",
            "dash": "solid"
           },
           "marker": {
            "symbol": "circle"
           },
           "mode": "lines+markers",
           "name": "Bolivia (Plurinational State of)",
           "orientation": "v",
           "showlegend": true,
           "type": "scatter",
           "x": [
            2000,
            2001,
            2002,
            2003,
            2004,
            2005,
            2006,
            2007,
            2008,
            2009,
            2010,
            2011,
            2012,
            2013,
            2014,
            2015
           ],
           "xaxis": "x",
           "y": [
            62.6,
            63.3,
            63.9,
            64.5,
            65.1,
            65.7,
            66.2,
            66.8,
            67.4,
            68,
            68.7,
            69.3,
            69.8,
            71,
            74,
            77
           ],
           "yaxis": "y"
          }
         ],
         "name": "Bolivia (Plurinational State of)"
        },
        {
         "data": [
          {
           "hovertemplate": "Country=Slovakia<br>Year=%{x}<br>Life expectancy =%{y}<extra></extra>",
           "ids": [
            2000,
            2001,
            2002,
            2003,
            2004,
            2005,
            2006,
            2007,
            2008,
            2009,
            2010,
            2011,
            2012,
            2013,
            2014,
            2015
           ],
           "legendgroup": "Slovakia",
           "line": {
            "color": "#19d3f3",
            "dash": "solid"
           },
           "marker": {
            "symbol": "circle"
           },
           "mode": "lines+markers",
           "name": "Slovakia",
           "orientation": "v",
           "showlegend": true,
           "type": "scatter",
           "x": [
            2000,
            2001,
            2002,
            2003,
            2004,
            2005,
            2006,
            2007,
            2008,
            2009,
            2010,
            2011,
            2012,
            2013,
            2014,
            2015
           ],
           "xaxis": "x",
           "y": [
            73,
            73.3,
            73.7,
            73.8,
            74.1,
            74,
            74.3,
            74.4,
            74.7,
            75,
            75.1,
            75.6,
            75.8,
            76.1,
            76.4,
            76.7
           ],
           "yaxis": "y"
          }
         ],
         "name": "Slovakia"
        },
        {
         "data": [
          {
           "hovertemplate": "Country=Kyrgyzstan<br>Year=%{x}<br>Life expectancy =%{y}<extra></extra>",
           "ids": [
            2000,
            2001,
            2002,
            2003,
            2004,
            2005,
            2006,
            2007,
            2008,
            2009,
            2010,
            2011,
            2012,
            2013,
            2014,
            2015
           ],
           "legendgroup": "Kyrgyzstan",
           "line": {
            "color": "#FF6692",
            "dash": "solid"
           },
           "marker": {
            "symbol": "circle"
           },
           "mode": "lines+markers",
           "name": "Kyrgyzstan",
           "orientation": "v",
           "showlegend": true,
           "type": "scatter",
           "x": [
            2000,
            2001,
            2002,
            2003,
            2004,
            2005,
            2006,
            2007,
            2008,
            2009,
            2010,
            2011,
            2012,
            2013,
            2014,
            2015
           ],
           "xaxis": "x",
           "y": [
            66.6,
            67.2,
            66.7,
            66.6,
            67.1,
            66.9,
            66.7,
            67.2,
            67.6,
            68.5,
            68.8,
            69.4,
            69.9,
            77,
            78,
            71.1
           ],
           "yaxis": "y"
          }
         ],
         "name": "Kyrgyzstan"
        },
        {
         "data": [
          {
           "hovertemplate": "Country=Egypt<br>Year=%{x}<br>Life expectancy =%{y}<extra></extra>",
           "ids": [
            2000,
            2001,
            2002,
            2003,
            2004,
            2005,
            2006,
            2007,
            2008,
            2009,
            2010,
            2011,
            2012,
            2013,
            2014,
            2015
           ],
           "legendgroup": "Egypt",
           "line": {
            "color": "#B6E880",
            "dash": "solid"
           },
           "marker": {
            "symbol": "circle"
           },
           "mode": "lines+markers",
           "name": "Egypt",
           "orientation": "v",
           "showlegend": true,
           "type": "scatter",
           "x": [
            2000,
            2001,
            2002,
            2003,
            2004,
            2005,
            2006,
            2007,
            2008,
            2009,
            2010,
            2011,
            2012,
            2013,
            2014,
            2015
           ],
           "xaxis": "x",
           "y": [
            68.8,
            68.6,
            68.7,
            68.6,
            69,
            69.4,
            69.5,
            69.7,
            69.8,
            69.9,
            70,
            74,
            72,
            79,
            78,
            79
           ],
           "yaxis": "y"
          }
         ],
         "name": "Egypt"
        },
        {
         "data": [
          {
           "hovertemplate": "Country=Dominican Republic<br>Year=%{x}<br>Life expectancy =%{y}<extra></extra>",
           "ids": [
            2000,
            2001,
            2002,
            2003,
            2004,
            2005,
            2006,
            2007,
            2008,
            2009,
            2010,
            2011,
            2012,
            2013,
            2014,
            2015
           ],
           "legendgroup": "Dominican Republic",
           "line": {
            "color": "#FF97FF",
            "dash": "solid"
           },
           "marker": {
            "symbol": "circle"
           },
           "mode": "lines+markers",
           "name": "Dominican Republic",
           "orientation": "v",
           "showlegend": true,
           "type": "scatter",
           "x": [
            2000,
            2001,
            2002,
            2003,
            2004,
            2005,
            2006,
            2007,
            2008,
            2009,
            2010,
            2011,
            2012,
            2013,
            2014,
            2015
           ],
           "xaxis": "x",
           "y": [
            72,
            71.2,
            71.4,
            73,
            69.3,
            69.7,
            72.3,
            72.9,
            73.3,
            73.6,
            72.7,
            73.1,
            72.1,
            73.4,
            73.6,
            73.9
           ],
           "yaxis": "y"
          }
         ],
         "name": "Dominican Republic"
        },
        {
         "data": [
          {
           "hovertemplate": "Country=Saudi Arabia<br>Year=%{x}<br>Life expectancy =%{y}<extra></extra>",
           "ids": [
            2000,
            2001,
            2002,
            2003,
            2004,
            2005,
            2006,
            2007,
            2008,
            2009,
            2010,
            2011,
            2012,
            2013,
            2014,
            2015
           ],
           "legendgroup": "Saudi Arabia",
           "line": {
            "color": "#FECB52",
            "dash": "solid"
           },
           "marker": {
            "symbol": "circle"
           },
           "mode": "lines+markers",
           "name": "Saudi Arabia",
           "orientation": "v",
           "showlegend": true,
           "type": "scatter",
           "x": [
            2000,
            2001,
            2002,
            2003,
            2004,
            2005,
            2006,
            2007,
            2008,
            2009,
            2010,
            2011,
            2012,
            2013,
            2014,
            2015
           ],
           "xaxis": "x",
           "y": [
            72.6,
            72.8,
            72.9,
            73,
            73.1,
            73.1,
            73.2,
            73.2,
            73.3,
            73.4,
            73.7,
            73.9,
            74.1,
            74.3,
            74.4,
            74.5
           ],
           "yaxis": "y"
          }
         ],
         "name": "Saudi Arabia"
        },
        {
         "data": [
          {
           "hovertemplate": "Country=Lebanon<br>Year=%{x}<br>Life expectancy =%{y}<extra></extra>",
           "ids": [
            2000,
            2001,
            2002,
            2003,
            2004,
            2005,
            2006,
            2007,
            2008,
            2009,
            2010,
            2011,
            2012,
            2013,
            2014,
            2015
           ],
           "legendgroup": "Lebanon",
           "line": {
            "color": "#636efa",
            "dash": "solid"
           },
           "marker": {
            "symbol": "circle"
           },
           "mode": "lines+markers",
           "name": "Lebanon",
           "orientation": "v",
           "showlegend": true,
           "type": "scatter",
           "x": [
            2000,
            2001,
            2002,
            2003,
            2004,
            2005,
            2006,
            2007,
            2008,
            2009,
            2010,
            2011,
            2012,
            2013,
            2014,
            2015
           ],
           "xaxis": "x",
           "y": [
            72.7,
            73,
            73.2,
            73.5,
            73.7,
            73.9,
            74.1,
            74.4,
            74.5,
            74.7,
            74.9,
            75,
            75,
            74.9,
            74.8,
            74.9
           ],
           "yaxis": "y"
          }
         ],
         "name": "Lebanon"
        },
        {
         "data": [
          {
           "hovertemplate": "Country=Brazil<br>Year=%{x}<br>Life expectancy =%{y}<extra></extra>",
           "ids": [
            2000,
            2001,
            2002,
            2003,
            2004,
            2005,
            2006,
            2007,
            2008,
            2009,
            2010,
            2011,
            2012,
            2013,
            2014,
            2015
           ],
           "legendgroup": "Brazil",
           "line": {
            "color": "#EF553B",
            "dash": "solid"
           },
           "marker": {
            "symbol": "circle"
           },
           "mode": "lines+markers",
           "name": "Brazil",
           "orientation": "v",
           "showlegend": true,
           "type": "scatter",
           "x": [
            2000,
            2001,
            2002,
            2003,
            2004,
            2005,
            2006,
            2007,
            2008,
            2009,
            2010,
            2011,
            2012,
            2013,
            2014,
            2015
           ],
           "xaxis": "x",
           "y": [
            75,
            71,
            71.4,
            71.8,
            72,
            72.7,
            73,
            73.3,
            73.4,
            73.6,
            73.8,
            74.1,
            74.5,
            74.7,
            74.8,
            75
           ],
           "yaxis": "y"
          }
         ],
         "name": "Brazil"
        },
        {
         "data": [
          {
           "hovertemplate": "Country=Senegal<br>Year=%{x}<br>Life expectancy =%{y}<extra></extra>",
           "ids": [
            2000,
            2001,
            2002,
            2003,
            2004,
            2005,
            2006,
            2007,
            2008,
            2009,
            2010,
            2011,
            2012,
            2013,
            2014,
            2015
           ],
           "legendgroup": "Senegal",
           "line": {
            "color": "#00cc96",
            "dash": "solid"
           },
           "marker": {
            "symbol": "circle"
           },
           "mode": "lines+markers",
           "name": "Senegal",
           "orientation": "v",
           "showlegend": true,
           "type": "scatter",
           "x": [
            2000,
            2001,
            2002,
            2003,
            2004,
            2005,
            2006,
            2007,
            2008,
            2009,
            2010,
            2011,
            2012,
            2013,
            2014,
            2015
           ],
           "xaxis": "x",
           "y": [
            57.5,
            57.9,
            58.4,
            59,
            59.7,
            65,
            61.3,
            62.1,
            62.8,
            63.5,
            64.3,
            64.9,
            65.6,
            66,
            66.4,
            66.7
           ],
           "yaxis": "y"
          }
         ],
         "name": "Senegal"
        },
        {
         "data": [
          {
           "hovertemplate": "Country=Latvia<br>Year=%{x}<br>Life expectancy =%{y}<extra></extra>",
           "ids": [
            2000,
            2001,
            2002,
            2003,
            2004,
            2005,
            2006,
            2007,
            2008,
            2009,
            2010,
            2011,
            2012,
            2013,
            2014,
            2015
           ],
           "legendgroup": "Latvia",
           "line": {
            "color": "#ab63fa",
            "dash": "solid"
           },
           "marker": {
            "symbol": "circle"
           },
           "mode": "lines+markers",
           "name": "Latvia",
           "orientation": "v",
           "showlegend": true,
           "type": "scatter",
           "x": [
            2000,
            2001,
            2002,
            2003,
            2004,
            2005,
            2006,
            2007,
            2008,
            2009,
            2010,
            2011,
            2012,
            2013,
            2014,
            2015
           ],
           "xaxis": "x",
           "y": [
            71,
            69.9,
            73,
            78,
            71,
            76,
            75,
            78,
            71.9,
            72.6,
            72.8,
            73.6,
            73.8,
            74.1,
            74.4,
            74.6
           ],
           "yaxis": "y"
          }
         ],
         "name": "Latvia"
        },
        {
         "data": [
          {
           "hovertemplate": "Country=Spain<br>Year=%{x}<br>Life expectancy =%{y}<extra></extra>",
           "ids": [
            2000,
            2001,
            2002,
            2003,
            2004,
            2005,
            2006,
            2007,
            2008,
            2009,
            2010,
            2011,
            2012,
            2013,
            2014,
            2015
           ],
           "legendgroup": "Spain",
           "line": {
            "color": "#FFA15A",
            "dash": "solid"
           },
           "marker": {
            "symbol": "circle"
           },
           "mode": "lines+markers",
           "name": "Spain",
           "orientation": "v",
           "showlegend": true,
           "type": "scatter",
           "x": [
            2000,
            2001,
            2002,
            2003,
            2004,
            2005,
            2006,
            2007,
            2008,
            2009,
            2010,
            2011,
            2012,
            2013,
            2014,
            2015
           ],
           "xaxis": "x",
           "y": [
            79.1,
            79.4,
            79.5,
            79.4,
            81,
            81,
            88,
            89,
            81.3,
            81.6,
            81.9,
            82.1,
            82,
            82.4,
            82.6,
            82.8
           ],
           "yaxis": "y"
          }
         ],
         "name": "Spain"
        },
        {
         "data": [
          {
           "hovertemplate": "Country=Serbia<br>Year=%{x}<br>Life expectancy =%{y}<extra></extra>",
           "ids": [
            2000,
            2001,
            2002,
            2003,
            2004,
            2005,
            2006,
            2007,
            2008,
            2009,
            2010,
            2011,
            2012,
            2013,
            2014,
            2015
           ],
           "legendgroup": "Serbia",
           "line": {
            "color": "#19d3f3",
            "dash": "solid"
           },
           "marker": {
            "symbol": "circle"
           },
           "mode": "lines+markers",
           "name": "Serbia",
           "orientation": "v",
           "showlegend": true,
           "type": "scatter",
           "x": [
            2000,
            2001,
            2002,
            2003,
            2004,
            2005,
            2006,
            2007,
            2008,
            2009,
            2010,
            2011,
            2012,
            2013,
            2014,
            2015
           ],
           "xaxis": "x",
           "y": [
            72.6,
            73.1,
            72.9,
            73,
            73,
            73,
            73.6,
            73.8,
            74,
            74.1,
            74.4,
            74.6,
            74.9,
            75.3,
            75.4,
            75.6
           ],
           "yaxis": "y"
          }
         ],
         "name": "Serbia"
        },
        {
         "data": [
          {
           "hovertemplate": "Country=Ecuador<br>Year=%{x}<br>Life expectancy =%{y}<extra></extra>",
           "ids": [
            2000,
            2001,
            2002,
            2003,
            2004,
            2005,
            2006,
            2007,
            2008,
            2009,
            2010,
            2011,
            2012,
            2013,
            2014,
            2015
           ],
           "legendgroup": "Ecuador",
           "line": {
            "color": "#FF6692",
            "dash": "solid"
           },
           "marker": {
            "symbol": "circle"
           },
           "mode": "lines+markers",
           "name": "Ecuador",
           "orientation": "v",
           "showlegend": true,
           "type": "scatter",
           "x": [
            2000,
            2001,
            2002,
            2003,
            2004,
            2005,
            2006,
            2007,
            2008,
            2009,
            2010,
            2011,
            2012,
            2013,
            2014,
            2015
           ],
           "xaxis": "x",
           "y": [
            72.8,
            73.4,
            73.6,
            74.4,
            74.4,
            74.2,
            74.4,
            74.7,
            74.6,
            75.1,
            75,
            75.3,
            75.5,
            76,
            76,
            76.2
           ],
           "yaxis": "y"
          }
         ],
         "name": "Ecuador"
        },
        {
         "data": [
          {
           "hovertemplate": "Country=Seychelles<br>Year=%{x}<br>Life expectancy =%{y}<extra></extra>",
           "ids": [
            2000,
            2001,
            2002,
            2003,
            2004,
            2005,
            2006,
            2007,
            2008,
            2009,
            2010,
            2011,
            2012,
            2013,
            2014,
            2015
           ],
           "legendgroup": "Seychelles",
           "line": {
            "color": "#B6E880",
            "dash": "solid"
           },
           "marker": {
            "symbol": "circle"
           },
           "mode": "lines+markers",
           "name": "Seychelles",
           "orientation": "v",
           "showlegend": true,
           "type": "scatter",
           "x": [
            2000,
            2001,
            2002,
            2003,
            2004,
            2005,
            2006,
            2007,
            2008,
            2009,
            2010,
            2011,
            2012,
            2013,
            2014,
            2015
           ],
           "xaxis": "x",
           "y": [
            71.8,
            72,
            72.1,
            72.1,
            72.1,
            72.2,
            72.2,
            72.2,
            72.2,
            72.3,
            72.4,
            72.6,
            72.7,
            72.9,
            73,
            73.2
           ],
           "yaxis": "y"
          }
         ],
         "name": "Seychelles"
        },
        {
         "data": [
          {
           "hovertemplate": "Country=Lao People's Democratic Republic<br>Year=%{x}<br>Life expectancy =%{y}<extra></extra>",
           "ids": [
            2000,
            2001,
            2002,
            2003,
            2004,
            2005,
            2006,
            2007,
            2008,
            2009,
            2010,
            2011,
            2012,
            2013,
            2014,
            2015
           ],
           "legendgroup": "Lao People's Democratic Republic",
           "line": {
            "color": "#FF97FF",
            "dash": "solid"
           },
           "marker": {
            "symbol": "circle"
           },
           "mode": "lines+markers",
           "name": "Lao People's Democratic Republic",
           "orientation": "v",
           "showlegend": true,
           "type": "scatter",
           "x": [
            2000,
            2001,
            2002,
            2003,
            2004,
            2005,
            2006,
            2007,
            2008,
            2009,
            2010,
            2011,
            2012,
            2013,
            2014,
            2015
           ],
           "xaxis": "x",
           "y": [
            58.1,
            58.7,
            59.3,
            59.8,
            64,
            61,
            61.5,
            62.1,
            62.6,
            63.1,
            63.6,
            64,
            64.4,
            64.9,
            65.3,
            65.7
           ],
           "yaxis": "y"
          }
         ],
         "name": "Lao People's Democratic Republic"
        },
        {
         "data": [
          {
           "hovertemplate": "Country=Sierra Leone<br>Year=%{x}<br>Life expectancy =%{y}<extra></extra>",
           "ids": [
            2000,
            2001,
            2002,
            2003,
            2004,
            2005,
            2006,
            2007,
            2008,
            2009,
            2010,
            2011,
            2012,
            2013,
            2014,
            2015
           ],
           "legendgroup": "Sierra Leone",
           "line": {
            "color": "#FECB52",
            "dash": "solid"
           },
           "marker": {
            "symbol": "circle"
           },
           "mode": "lines+markers",
           "name": "Sierra Leone",
           "orientation": "v",
           "showlegend": true,
           "type": "scatter",
           "x": [
            2000,
            2001,
            2002,
            2003,
            2004,
            2005,
            2006,
            2007,
            2008,
            2009,
            2010,
            2011,
            2012,
            2013,
            2014,
            2015
           ],
           "xaxis": "x",
           "y": [
            39,
            41,
            48,
            41.5,
            42.3,
            43.3,
            44.3,
            45.3,
            46.2,
            47.1,
            48.1,
            48.9,
            49.7,
            54,
            48.1,
            51
           ],
           "yaxis": "y"
          }
         ],
         "name": "Sierra Leone"
        },
        {
         "data": [
          {
           "hovertemplate": "Country=Bosnia and Herzegovina<br>Year=%{x}<br>Life expectancy =%{y}<extra></extra>",
           "ids": [
            2000,
            2001,
            2002,
            2003,
            2004,
            2005,
            2006,
            2007,
            2008,
            2009,
            2010,
            2011,
            2012,
            2013,
            2014,
            2015
           ],
           "legendgroup": "Bosnia and Herzegovina",
           "line": {
            "color": "#636efa",
            "dash": "solid"
           },
           "marker": {
            "symbol": "circle"
           },
           "mode": "lines+markers",
           "name": "Bosnia and Herzegovina",
           "orientation": "v",
           "showlegend": true,
           "type": "scatter",
           "x": [
            2000,
            2001,
            2002,
            2003,
            2004,
            2005,
            2006,
            2007,
            2008,
            2009,
            2010,
            2011,
            2012,
            2013,
            2014,
            2015
           ],
           "xaxis": "x",
           "y": [
            74.6,
            74.9,
            75.4,
            75.2,
            75.5,
            75,
            75.7,
            75.4,
            76,
            76.1,
            76.4,
            76.9,
            76.8,
            77,
            77.2,
            77.4
           ],
           "yaxis": "y"
          }
         ],
         "name": "Bosnia and Herzegovina"
        },
        {
         "data": [
          {
           "hovertemplate": "Country=Singapore<br>Year=%{x}<br>Life expectancy =%{y}<extra></extra>",
           "ids": [
            2000,
            2001,
            2002,
            2003,
            2004,
            2005,
            2006,
            2007,
            2008,
            2009,
            2010,
            2011,
            2012,
            2013,
            2014,
            2015
           ],
           "legendgroup": "Singapore",
           "line": {
            "color": "#EF553B",
            "dash": "solid"
           },
           "marker": {
            "symbol": "circle"
           },
           "mode": "lines+markers",
           "name": "Singapore",
           "orientation": "v",
           "showlegend": true,
           "type": "scatter",
           "x": [
            2000,
            2001,
            2002,
            2003,
            2004,
            2005,
            2006,
            2007,
            2008,
            2009,
            2010,
            2011,
            2012,
            2013,
            2014,
            2015
           ],
           "xaxis": "x",
           "y": [
            78.3,
            78.7,
            79,
            79.3,
            79.7,
            82,
            87,
            81.1,
            81.4,
            81.7,
            82,
            82.2,
            82.5,
            82.7,
            82.9,
            83.1
           ],
           "yaxis": "y"
          }
         ],
         "name": "Singapore"
        },
        {
         "data": [
          {
           "hovertemplate": "Country=Botswana<br>Year=%{x}<br>Life expectancy =%{y}<extra></extra>",
           "ids": [
            2000,
            2001,
            2002,
            2003,
            2004,
            2005,
            2006,
            2007,
            2008,
            2009,
            2010,
            2011,
            2012,
            2013,
            2014,
            2015
           ],
           "legendgroup": "Botswana",
           "line": {
            "color": "#00cc96",
            "dash": "solid"
           },
           "marker": {
            "symbol": "circle"
           },
           "mode": "lines+markers",
           "name": "Botswana",
           "orientation": "v",
           "showlegend": true,
           "type": "scatter",
           "x": [
            2000,
            2001,
            2002,
            2003,
            2004,
            2005,
            2006,
            2007,
            2008,
            2009,
            2010,
            2011,
            2012,
            2013,
            2014,
            2015
           ],
           "xaxis": "x",
           "y": [
            47.8,
            46.7,
            46,
            46.4,
            48.1,
            51.7,
            54.8,
            56.9,
            57.5,
            59.2,
            61.1,
            62.2,
            63.4,
            64.2,
            65.1,
            65.7
           ],
           "yaxis": "y"
          }
         ],
         "name": "Botswana"
        },
        {
         "data": [
          {
           "hovertemplate": "Country=Jordan<br>Year=%{x}<br>Life expectancy =%{y}<extra></extra>",
           "ids": [
            2000,
            2001,
            2002,
            2003,
            2004,
            2005,
            2006,
            2007,
            2008,
            2009,
            2010,
            2011,
            2012,
            2013,
            2014,
            2015
           ],
           "legendgroup": "Jordan",
           "line": {
            "color": "#ab63fa",
            "dash": "solid"
           },
           "marker": {
            "symbol": "circle"
           },
           "mode": "lines+markers",
           "name": "Jordan",
           "orientation": "v",
           "showlegend": true,
           "type": "scatter",
           "x": [
            2000,
            2001,
            2002,
            2003,
            2004,
            2005,
            2006,
            2007,
            2008,
            2009,
            2010,
            2011,
            2012,
            2013,
            2014,
            2015
           ],
           "xaxis": "x",
           "y": [
            71.7,
            71.9,
            72.1,
            72.3,
            72.5,
            72.4,
            72.8,
            73,
            73.1,
            73.3,
            73.4,
            73.6,
            73.7,
            73.9,
            74,
            74.1
           ],
           "yaxis": "y"
          }
         ],
         "name": "Jordan"
        },
        {
         "data": [
          {
           "hovertemplate": "Country=Sri Lanka<br>Year=%{x}<br>Life expectancy =%{y}<extra></extra>",
           "ids": [
            2000,
            2001,
            2002,
            2003,
            2004,
            2005,
            2006,
            2007,
            2008,
            2009,
            2010,
            2011,
            2012,
            2013,
            2014,
            2015
           ],
           "legendgroup": "Sri Lanka",
           "line": {
            "color": "#FFA15A",
            "dash": "solid"
           },
           "marker": {
            "symbol": "circle"
           },
           "mode": "lines+markers",
           "name": "Sri Lanka",
           "orientation": "v",
           "showlegend": true,
           "type": "scatter",
           "x": [
            2000,
            2001,
            2002,
            2003,
            2004,
            2005,
            2006,
            2007,
            2008,
            2009,
            2010,
            2011,
            2012,
            2013,
            2014,
            2015
           ],
           "xaxis": "x",
           "y": [
            71.5,
            72.7,
            73.7,
            73.9,
            69.1,
            74.2,
            73.8,
            73.7,
            72.3,
            71.8,
            74.5,
            74.5,
            74.5,
            74.6,
            74.7,
            74.9
           ],
           "yaxis": "y"
          }
         ],
         "name": "Sri Lanka"
        },
        {
         "data": [
          {
           "hovertemplate": "Country=Belgium<br>Year=%{x}<br>Life expectancy =%{y}<extra></extra>",
           "ids": [
            2000,
            2001,
            2002,
            2003,
            2004,
            2005,
            2006,
            2007,
            2008,
            2009,
            2010,
            2011,
            2012,
            2013,
            2014,
            2015
           ],
           "legendgroup": "Belgium",
           "line": {
            "color": "#19d3f3",
            "dash": "solid"
           },
           "marker": {
            "symbol": "circle"
           },
           "mode": "lines+markers",
           "name": "Belgium",
           "orientation": "v",
           "showlegend": true,
           "type": "scatter",
           "x": [
            2000,
            2001,
            2002,
            2003,
            2004,
            2005,
            2006,
            2007,
            2008,
            2009,
            2010,
            2011,
            2012,
            2013,
            2014,
            2015
           ],
           "xaxis": "x",
           "y": [
            77.6,
            78,
            78,
            78.3,
            78.8,
            78.9,
            79.4,
            79.5,
            79.5,
            79.8,
            80,
            83,
            83,
            87,
            89,
            81.1
           ],
           "yaxis": "y"
          }
         ],
         "name": "Belgium"
        },
        {
         "data": [
          {
           "hovertemplate": "Country=Bahrain<br>Year=%{x}<br>Life expectancy =%{y}<extra></extra>",
           "ids": [
            2000,
            2001,
            2002,
            2003,
            2004,
            2005,
            2006,
            2007,
            2008,
            2009,
            2010,
            2011,
            2012,
            2013,
            2014,
            2015
           ],
           "legendgroup": "Bahrain",
           "line": {
            "color": "#FF6692",
            "dash": "solid"
           },
           "marker": {
            "symbol": "circle"
           },
           "mode": "lines+markers",
           "name": "Bahrain",
           "orientation": "v",
           "showlegend": true,
           "type": "scatter",
           "x": [
            2000,
            2001,
            2002,
            2003,
            2004,
            2005,
            2006,
            2007,
            2008,
            2009,
            2010,
            2011,
            2012,
            2013,
            2014,
            2015
           ],
           "xaxis": "x",
           "y": [
            74.5,
            74.7,
            74.9,
            75,
            75.2,
            75.3,
            75.5,
            75.6,
            75.8,
            76,
            76.1,
            76.1,
            76.5,
            76.7,
            76.8,
            76.9
           ],
           "yaxis": "y"
          }
         ],
         "name": "Bahrain"
        },
        {
         "data": [
          {
           "hovertemplate": "Country=Thailand<br>Year=%{x}<br>Life expectancy =%{y}<extra></extra>",
           "ids": [
            2000,
            2001,
            2002,
            2003,
            2004,
            2005,
            2006,
            2007,
            2008,
            2009,
            2010,
            2011,
            2012,
            2013,
            2014,
            2015
           ],
           "legendgroup": "Thailand",
           "line": {
            "color": "#B6E880",
            "dash": "solid"
           },
           "marker": {
            "symbol": "circle"
           },
           "mode": "lines+markers",
           "name": "Thailand",
           "orientation": "v",
           "showlegend": true,
           "type": "scatter",
           "x": [
            2000,
            2001,
            2002,
            2003,
            2004,
            2005,
            2006,
            2007,
            2008,
            2009,
            2010,
            2011,
            2012,
            2013,
            2014,
            2015
           ],
           "xaxis": "x",
           "y": [
            71.1,
            71.2,
            71.4,
            71.7,
            71.6,
            72.5,
            73,
            73.3,
            73.5,
            73.7,
            73.9,
            74.1,
            74.3,
            74.5,
            74.6,
            74.9
           ],
           "yaxis": "y"
          }
         ],
         "name": "Thailand"
        },
        {
         "data": [
          {
           "hovertemplate": "Country=The former Yugoslav republic of Macedonia<br>Year=%{x}<br>Life expectancy =%{y}<extra></extra>",
           "ids": [
            2000,
            2001,
            2002,
            2003,
            2004,
            2005,
            2006,
            2007,
            2008,
            2009,
            2010,
            2011,
            2012,
            2013,
            2014,
            2015
           ],
           "legendgroup": "The former Yugoslav republic of Macedonia",
           "line": {
            "color": "#FF97FF",
            "dash": "solid"
           },
           "marker": {
            "symbol": "circle"
           },
           "mode": "lines+markers",
           "name": "The former Yugoslav republic of Macedonia",
           "orientation": "v",
           "showlegend": true,
           "type": "scatter",
           "x": [
            2000,
            2001,
            2002,
            2003,
            2004,
            2005,
            2006,
            2007,
            2008,
            2009,
            2010,
            2011,
            2012,
            2013,
            2014,
            2015
           ],
           "xaxis": "x",
           "y": [
            72.6,
            73.1,
            72.8,
            73.2,
            73.5,
            73.6,
            73.7,
            73.5,
            74.2,
            74.4,
            74.7,
            74.9,
            75.1,
            75.3,
            75.5,
            75.7
           ],
           "yaxis": "y"
          }
         ],
         "name": "The former Yugoslav republic of Macedonia"
        },
        {
         "data": [
          {
           "hovertemplate": "Country=Fiji<br>Year=%{x}<br>Life expectancy =%{y}<extra></extra>",
           "ids": [
            2000,
            2001,
            2002,
            2003,
            2004,
            2005,
            2006,
            2007,
            2008,
            2009,
            2010,
            2011,
            2012,
            2013,
            2014,
            2015
           ],
           "legendgroup": "Fiji",
           "line": {
            "color": "#FECB52",
            "dash": "solid"
           },
           "marker": {
            "symbol": "circle"
           },
           "mode": "lines+markers",
           "name": "Fiji",
           "orientation": "v",
           "showlegend": true,
           "type": "scatter",
           "x": [
            2000,
            2001,
            2002,
            2003,
            2004,
            2005,
            2006,
            2007,
            2008,
            2009,
            2010,
            2011,
            2012,
            2013,
            2014,
            2015
           ],
           "xaxis": "x",
           "y": [
            67.7,
            67.8,
            67.9,
            68,
            68.1,
            68.3,
            68.5,
            68.6,
            68.7,
            68.9,
            69.1,
            69.2,
            69.4,
            69.6,
            69.7,
            69.9
           ],
           "yaxis": "y"
          }
         ],
         "name": "Fiji"
        },
        {
         "data": [
          {
           "hovertemplate": "Country=Iraq<br>Year=%{x}<br>Life expectancy =%{y}<extra></extra>",
           "ids": [
            2000,
            2001,
            2002,
            2003,
            2004,
            2005,
            2006,
            2007,
            2008,
            2009,
            2010,
            2011,
            2012,
            2013,
            2014,
            2015
           ],
           "legendgroup": "Iraq",
           "line": {
            "color": "#636efa",
            "dash": "solid"
           },
           "marker": {
            "symbol": "circle"
           },
           "mode": "lines+markers",
           "name": "Iraq",
           "orientation": "v",
           "showlegend": true,
           "type": "scatter",
           "x": [
            2000,
            2001,
            2002,
            2003,
            2004,
            2005,
            2006,
            2007,
            2008,
            2009,
            2010,
            2011,
            2012,
            2013,
            2014,
            2015
           ],
           "xaxis": "x",
           "y": [
            70,
            72,
            74,
            66.5,
            67.2,
            66.8,
            64.7,
            65.9,
            69.3,
            74,
            76,
            77,
            76,
            69.5,
            67.9,
            68.9
           ],
           "yaxis": "y"
          }
         ],
         "name": "Iraq"
        },
        {
         "data": [
          {
           "hovertemplate": "Country=Bahamas<br>Year=%{x}<br>Life expectancy =%{y}<extra></extra>",
           "ids": [
            2000,
            2001,
            2002,
            2003,
            2004,
            2005,
            2006,
            2007,
            2008,
            2009,
            2010,
            2011,
            2012,
            2013,
            2014,
            2015
           ],
           "legendgroup": "Bahamas",
           "line": {
            "color": "#EF553B",
            "dash": "solid"
           },
           "marker": {
            "symbol": "circle"
           },
           "mode": "lines+markers",
           "name": "Bahamas",
           "orientation": "v",
           "showlegend": true,
           "type": "scatter",
           "x": [
            2000,
            2001,
            2002,
            2003,
            2004,
            2005,
            2006,
            2007,
            2008,
            2009,
            2010,
            2011,
            2012,
            2013,
            2014,
            2015
           ],
           "xaxis": "x",
           "y": [
            72.6,
            72.9,
            73.1,
            73.2,
            73.8,
            74.1,
            74.2,
            74.4,
            74.5,
            74.6,
            75,
            75,
            74.9,
            74.8,
            75.4,
            76.1
           ],
           "yaxis": "y"
          }
         ],
         "name": "Bahamas"
        },
        {
         "data": [
          {
           "hovertemplate": "Country=Ireland<br>Year=%{x}<br>Life expectancy =%{y}<extra></extra>",
           "ids": [
            2000,
            2001,
            2002,
            2003,
            2004,
            2005,
            2006,
            2007,
            2008,
            2009,
            2010,
            2011,
            2012,
            2013,
            2014,
            2015
           ],
           "legendgroup": "Ireland",
           "line": {
            "color": "#00cc96",
            "dash": "solid"
           },
           "marker": {
            "symbol": "circle"
           },
           "mode": "lines+markers",
           "name": "Ireland",
           "orientation": "v",
           "showlegend": true,
           "type": "scatter",
           "x": [
            2000,
            2001,
            2002,
            2003,
            2004,
            2005,
            2006,
            2007,
            2008,
            2009,
            2010,
            2011,
            2012,
            2013,
            2014,
            2015
           ],
           "xaxis": "x",
           "y": [
            76.4,
            77,
            77.4,
            78,
            78.3,
            78.7,
            79,
            79.5,
            79.8,
            79.7,
            86,
            84,
            85,
            81,
            81.2,
            81.4
           ],
           "yaxis": "y"
          }
         ],
         "name": "Ireland"
        },
        {
         "data": [
          {
           "hovertemplate": "Country=Timor-Leste<br>Year=%{x}<br>Life expectancy =%{y}<extra></extra>",
           "ids": [
            2000,
            2001,
            2002,
            2003,
            2004,
            2005,
            2006,
            2007,
            2008,
            2009,
            2010,
            2011,
            2012,
            2013,
            2014,
            2015
           ],
           "legendgroup": "Timor-Leste",
           "line": {
            "color": "#ab63fa",
            "dash": "solid"
           },
           "marker": {
            "symbol": "circle"
           },
           "mode": "lines+markers",
           "name": "Timor-Leste",
           "orientation": "v",
           "showlegend": true,
           "type": "scatter",
           "x": [
            2000,
            2001,
            2002,
            2003,
            2004,
            2005,
            2006,
            2007,
            2008,
            2009,
            2010,
            2011,
            2012,
            2013,
            2014,
            2015
           ],
           "xaxis": "x",
           "y": [
            58.7,
            59.4,
            62,
            61,
            62.3,
            63.7,
            64.9,
            65.8,
            66.2,
            66.6,
            66.9,
            67.2,
            67.4,
            67.7,
            68,
            68.3
           ],
           "yaxis": "y"
          }
         ],
         "name": "Timor-Leste"
        },
        {
         "data": [
          {
           "hovertemplate": "Country=Togo<br>Year=%{x}<br>Life expectancy =%{y}<extra></extra>",
           "ids": [
            2000,
            2001,
            2002,
            2003,
            2004,
            2005,
            2006,
            2007,
            2008,
            2009,
            2010,
            2011,
            2012,
            2013,
            2014,
            2015
           ],
           "legendgroup": "Togo",
           "line": {
            "color": "#FFA15A",
            "dash": "solid"
           },
           "marker": {
            "symbol": "circle"
           },
           "mode": "lines+markers",
           "name": "Togo",
           "orientation": "v",
           "showlegend": true,
           "type": "scatter",
           "x": [
            2000,
            2001,
            2002,
            2003,
            2004,
            2005,
            2006,
            2007,
            2008,
            2009,
            2010,
            2011,
            2012,
            2013,
            2014,
            2015
           ],
           "xaxis": "x",
           "y": [
            54.6,
            54.6,
            54.7,
            54.7,
            54.9,
            55,
            55.7,
            55.9,
            56.2,
            56.7,
            57.4,
            58.3,
            58.9,
            59.4,
            59.7,
            59.9
           ],
           "yaxis": "y"
          }
         ],
         "name": "Togo"
        },
        {
         "data": [
          {
           "hovertemplate": "Country=Azerbaijan<br>Year=%{x}<br>Life expectancy =%{y}<extra></extra>",
           "ids": [
            2000,
            2001,
            2002,
            2003,
            2004,
            2005,
            2006,
            2007,
            2008,
            2009,
            2010,
            2011,
            2012,
            2013,
            2014,
            2015
           ],
           "legendgroup": "Azerbaijan",
           "line": {
            "color": "#19d3f3",
            "dash": "solid"
           },
           "marker": {
            "symbol": "circle"
           },
           "mode": "lines+markers",
           "name": "Azerbaijan",
           "orientation": "v",
           "showlegend": true,
           "type": "scatter",
           "x": [
            2000,
            2001,
            2002,
            2003,
            2004,
            2005,
            2006,
            2007,
            2008,
            2009,
            2010,
            2011,
            2012,
            2013,
            2014,
            2015
           ],
           "xaxis": "x",
           "y": [
            66.6,
            67.5,
            67.8,
            67.8,
            68.4,
            68.4,
            69.2,
            73,
            73,
            78,
            71.1,
            71.6,
            71.9,
            72.2,
            72.5,
            72.7
           ],
           "yaxis": "y"
          }
         ],
         "name": "Azerbaijan"
        },
        {
         "data": [
          {
           "hovertemplate": "Country=Finland<br>Year=%{x}<br>Life expectancy =%{y}<extra></extra>",
           "ids": [
            2000,
            2001,
            2002,
            2003,
            2004,
            2005,
            2006,
            2007,
            2008,
            2009,
            2010,
            2011,
            2012,
            2013,
            2014,
            2015
           ],
           "legendgroup": "Finland",
           "line": {
            "color": "#FF6692",
            "dash": "solid"
           },
           "marker": {
            "symbol": "circle"
           },
           "mode": "lines+markers",
           "name": "Finland",
           "orientation": "v",
           "showlegend": true,
           "type": "scatter",
           "x": [
            2000,
            2001,
            2002,
            2003,
            2004,
            2005,
            2006,
            2007,
            2008,
            2009,
            2010,
            2011,
            2012,
            2013,
            2014,
            2015
           ],
           "xaxis": "x",
           "y": [
            77.5,
            78,
            78.1,
            78.4,
            78.7,
            78.9,
            79.2,
            79.3,
            79.6,
            79.7,
            79.9,
            83,
            84,
            87,
            89,
            81.1
           ],
           "yaxis": "y"
          }
         ],
         "name": "Finland"
        },
        {
         "data": [
          {
           "hovertemplate": "Country=Tonga<br>Year=%{x}<br>Life expectancy =%{y}<extra></extra>",
           "ids": [
            2000,
            2001,
            2002,
            2003,
            2004,
            2005,
            2006,
            2007,
            2008,
            2009,
            2010,
            2011,
            2012,
            2013,
            2014,
            2015
           ],
           "legendgroup": "Tonga",
           "line": {
            "color": "#B6E880",
            "dash": "solid"
           },
           "marker": {
            "symbol": "circle"
           },
           "mode": "lines+markers",
           "name": "Tonga",
           "orientation": "v",
           "showlegend": true,
           "type": "scatter",
           "x": [
            2000,
            2001,
            2002,
            2003,
            2004,
            2005,
            2006,
            2007,
            2008,
            2009,
            2010,
            2011,
            2012,
            2013,
            2014,
            2015
           ],
           "xaxis": "x",
           "y": [
            71.6,
            71.8,
            71.9,
            72,
            72.2,
            72.3,
            72.4,
            72.5,
            72.6,
            72.5,
            72.8,
            72.9,
            73,
            73.2,
            73.3,
            73.5
           ],
           "yaxis": "y"
          }
         ],
         "name": "Tonga"
        },
        {
         "data": [
          {
           "hovertemplate": "Country=Indonesia<br>Year=%{x}<br>Life expectancy =%{y}<extra></extra>",
           "ids": [
            2000,
            2001,
            2002,
            2003,
            2004,
            2005,
            2006,
            2007,
            2008,
            2009,
            2010,
            2011,
            2012,
            2013,
            2014,
            2015
           ],
           "legendgroup": "Indonesia",
           "line": {
            "color": "#FF97FF",
            "dash": "solid"
           },
           "marker": {
            "symbol": "circle"
           },
           "mode": "lines+markers",
           "name": "Indonesia",
           "orientation": "v",
           "showlegend": true,
           "type": "scatter",
           "x": [
            2000,
            2001,
            2002,
            2003,
            2004,
            2005,
            2006,
            2007,
            2008,
            2009,
            2010,
            2011,
            2012,
            2013,
            2014,
            2015
           ],
           "xaxis": "x",
           "y": [
            66.3,
            66.5,
            66.7,
            66.9,
            65.3,
            67.2,
            67.3,
            67.5,
            67.7,
            67.9,
            68.1,
            68.3,
            68.5,
            68.7,
            68.9,
            69.1
           ],
           "yaxis": "y"
          }
         ],
         "name": "Indonesia"
        },
        {
         "data": [
          {
           "hovertemplate": "Country=Trinidad and Tobago<br>Year=%{x}<br>Life expectancy =%{y}<extra></extra>",
           "ids": [
            2000,
            2001,
            2002,
            2003,
            2004,
            2005,
            2006,
            2007,
            2008,
            2009,
            2010,
            2011,
            2012,
            2013,
            2014,
            2015
           ],
           "legendgroup": "Trinidad and Tobago",
           "line": {
            "color": "#FECB52",
            "dash": "solid"
           },
           "marker": {
            "symbol": "circle"
           },
           "mode": "lines+markers",
           "name": "Trinidad and Tobago",
           "orientation": "v",
           "showlegend": true,
           "type": "scatter",
           "x": [
            2000,
            2001,
            2002,
            2003,
            2004,
            2005,
            2006,
            2007,
            2008,
            2009,
            2010,
            2011,
            2012,
            2013,
            2014,
            2015
           ],
           "xaxis": "x",
           "y": [
            69.1,
            69.1,
            69.2,
            69.3,
            69.4,
            69.5,
            69.6,
            69.7,
            69.9,
            71,
            74,
            76,
            78,
            71,
            71.1,
            71.2
           ],
           "yaxis": "y"
          }
         ],
         "name": "Trinidad and Tobago"
        },
        {
         "data": [
          {
           "hovertemplate": "Country=Iran (Islamic Republic of)<br>Year=%{x}<br>Life expectancy =%{y}<extra></extra>",
           "ids": [
            2000,
            2001,
            2002,
            2003,
            2004,
            2005,
            2006,
            2007,
            2008,
            2009,
            2010,
            2011,
            2012,
            2013,
            2014,
            2015
           ],
           "legendgroup": "Iran (Islamic Republic of)",
           "line": {
            "color": "#636efa",
            "dash": "solid"
           },
           "marker": {
            "symbol": "circle"
           },
           "mode": "lines+markers",
           "name": "Iran (Islamic Republic of)",
           "orientation": "v",
           "showlegend": true,
           "type": "scatter",
           "x": [
            2000,
            2001,
            2002,
            2003,
            2004,
            2005,
            2006,
            2007,
            2008,
            2009,
            2010,
            2011,
            2012,
            2013,
            2014,
            2015
           ],
           "xaxis": "x",
           "y": [
            73,
            78,
            71.2,
            75,
            71.8,
            72,
            72.2,
            72.4,
            72.7,
            73.3,
            74.1,
            74.7,
            75.1,
            75.3,
            75.4,
            75.5
           ],
           "yaxis": "y"
          }
         ],
         "name": "Iran (Islamic Republic of)"
        },
        {
         "data": [
          {
           "hovertemplate": "Country=Sao Tome and Principe<br>Year=%{x}<br>Life expectancy =%{y}<extra></extra>",
           "ids": [
            2000,
            2001,
            2002,
            2003,
            2004,
            2005,
            2006,
            2007,
            2008,
            2009,
            2010,
            2011,
            2012,
            2013,
            2014,
            2015
           ],
           "legendgroup": "Sao Tome and Principe",
           "line": {
            "color": "#EF553B",
            "dash": "solid"
           },
           "marker": {
            "symbol": "circle"
           },
           "mode": "lines+markers",
           "name": "Sao Tome and Principe",
           "orientation": "v",
           "showlegend": true,
           "type": "scatter",
           "x": [
            2000,
            2001,
            2002,
            2003,
            2004,
            2005,
            2006,
            2007,
            2008,
            2009,
            2010,
            2011,
            2012,
            2013,
            2014,
            2015
           ],
           "xaxis": "x",
           "y": [
            62.6,
            62.8,
            63.1,
            63.4,
            63.8,
            64.3,
            64.7,
            65.1,
            65.4,
            65.8,
            66.2,
            66.6,
            66.9,
            67.1,
            67.3,
            67.5
           ],
           "yaxis": "y"
          }
         ],
         "name": "Sao Tome and Principe"
        },
        {
         "data": [
          {
           "hovertemplate": "Country=Tajikistan<br>Year=%{x}<br>Life expectancy =%{y}<extra></extra>",
           "ids": [
            2000,
            2001,
            2002,
            2003,
            2004,
            2005,
            2006,
            2007,
            2008,
            2009,
            2010,
            2011,
            2012,
            2013,
            2014,
            2015
           ],
           "legendgroup": "Tajikistan",
           "line": {
            "color": "#00cc96",
            "dash": "solid"
           },
           "marker": {
            "symbol": "circle"
           },
           "mode": "lines+markers",
           "name": "Tajikistan",
           "orientation": "v",
           "showlegend": true,
           "type": "scatter",
           "x": [
            2000,
            2001,
            2002,
            2003,
            2004,
            2005,
            2006,
            2007,
            2008,
            2009,
            2010,
            2011,
            2012,
            2013,
            2014,
            2015
           ],
           "xaxis": "x",
           "y": [
            63.7,
            64,
            64.3,
            65.2,
            65.9,
            65.5,
            65.9,
            66.1,
            66.4,
            66.7,
            67.3,
            68.1,
            68.8,
            69.3,
            69.6,
            69.7
           ],
           "yaxis": "y"
          }
         ],
         "name": "Tajikistan"
        },
        {
         "data": [
          {
           "hovertemplate": "Country=Bangladesh<br>Year=%{x}<br>Life expectancy =%{y}<extra></extra>",
           "ids": [
            2000,
            2001,
            2002,
            2003,
            2004,
            2005,
            2006,
            2007,
            2008,
            2009,
            2010,
            2011,
            2012,
            2013,
            2014,
            2015
           ],
           "legendgroup": "Bangladesh",
           "line": {
            "color": "#ab63fa",
            "dash": "solid"
           },
           "marker": {
            "symbol": "circle"
           },
           "mode": "lines+markers",
           "name": "Bangladesh",
           "orientation": "v",
           "showlegend": true,
           "type": "scatter",
           "x": [
            2000,
            2001,
            2002,
            2003,
            2004,
            2005,
            2006,
            2007,
            2008,
            2009,
            2010,
            2011,
            2012,
            2013,
            2014,
            2015
           ],
           "xaxis": "x",
           "y": [
            65.3,
            65.8,
            66.3,
            66.8,
            67.3,
            67.8,
            68.2,
            68.6,
            69.1,
            69.5,
            69.9,
            73,
            77,
            71,
            71.4,
            71.8
           ],
           "yaxis": "y"
          }
         ],
         "name": "Bangladesh"
        },
        {
         "data": [
          {
           "hovertemplate": "Country=Eritrea<br>Year=%{x}<br>Life expectancy =%{y}<extra></extra>",
           "ids": [
            2000,
            2001,
            2002,
            2003,
            2004,
            2005,
            2006,
            2007,
            2008,
            2009,
            2010,
            2011,
            2012,
            2013,
            2014,
            2015
           ],
           "legendgroup": "Eritrea",
           "line": {
            "color": "#FFA15A",
            "dash": "solid"
           },
           "marker": {
            "symbol": "circle"
           },
           "mode": "lines+markers",
           "name": "Eritrea",
           "orientation": "v",
           "showlegend": true,
           "type": "scatter",
           "x": [
            2000,
            2001,
            2002,
            2003,
            2004,
            2005,
            2006,
            2007,
            2008,
            2009,
            2010,
            2011,
            2012,
            2013,
            2014,
            2015
           ],
           "xaxis": "x",
           "y": [
            45.3,
            58.1,
            58.5,
            58.8,
            59.1,
            59.4,
            59.7,
            62,
            67,
            61.4,
            62.1,
            62.9,
            63.6,
            64,
            64.4,
            64.7
           ],
           "yaxis": "y"
          }
         ],
         "name": "Eritrea"
        },
        {
         "data": [
          {
           "hovertemplate": "Country=Sudan<br>Year=%{x}<br>Life expectancy =%{y}<extra></extra>",
           "ids": [
            2000,
            2001,
            2002,
            2003,
            2004,
            2005,
            2006,
            2007,
            2008,
            2009,
            2010,
            2011,
            2012,
            2013,
            2014,
            2015
           ],
           "legendgroup": "Sudan",
           "line": {
            "color": "#19d3f3",
            "dash": "solid"
           },
           "marker": {
            "symbol": "circle"
           },
           "mode": "lines+markers",
           "name": "Sudan",
           "orientation": "v",
           "showlegend": true,
           "type": "scatter",
           "x": [
            2000,
            2001,
            2002,
            2003,
            2004,
            2005,
            2006,
            2007,
            2008,
            2009,
            2010,
            2011,
            2012,
            2013,
            2014,
            2015
           ],
           "xaxis": "x",
           "y": [
            58.6,
            58.9,
            59.4,
            59.6,
            59.7,
            67,
            61,
            61.4,
            61.8,
            62,
            62.5,
            62.7,
            63.2,
            63.5,
            63.8,
            64.1
           ],
           "yaxis": "y"
          }
         ],
         "name": "Sudan"
        },
        {
         "data": [
          {
           "hovertemplate": "Country=Japan<br>Year=%{x}<br>Life expectancy =%{y}<extra></extra>",
           "ids": [
            2000,
            2001,
            2002,
            2003,
            2004,
            2005,
            2006,
            2007,
            2008,
            2009,
            2010,
            2011,
            2012,
            2013,
            2014,
            2015
           ],
           "legendgroup": "Japan",
           "line": {
            "color": "#FF6692",
            "dash": "solid"
           },
           "marker": {
            "symbol": "circle"
           },
           "mode": "lines+markers",
           "name": "Japan",
           "orientation": "v",
           "showlegend": true,
           "type": "scatter",
           "x": [
            2000,
            2001,
            2002,
            2003,
            2004,
            2005,
            2006,
            2007,
            2008,
            2009,
            2010,
            2011,
            2012,
            2013,
            2014,
            2015
           ],
           "xaxis": "x",
           "y": [
            81.1,
            81.5,
            81.8,
            81.9,
            82.1,
            82,
            82.4,
            82.6,
            82.7,
            83,
            83,
            82.5,
            83.3,
            83.5,
            83.5,
            83.7
           ],
           "yaxis": "y"
          }
         ],
         "name": "Japan"
        },
        {
         "data": [
          {
           "hovertemplate": "Country=Suriname<br>Year=%{x}<br>Life expectancy =%{y}<extra></extra>",
           "ids": [
            2000,
            2001,
            2002,
            2003,
            2004,
            2005,
            2006,
            2007,
            2008,
            2009,
            2010,
            2011,
            2012,
            2013,
            2014,
            2015
           ],
           "legendgroup": "Suriname",
           "line": {
            "color": "#B6E880",
            "dash": "solid"
           },
           "marker": {
            "symbol": "circle"
           },
           "mode": "lines+markers",
           "name": "Suriname",
           "orientation": "v",
           "showlegend": true,
           "type": "scatter",
           "x": [
            2000,
            2001,
            2002,
            2003,
            2004,
            2005,
            2006,
            2007,
            2008,
            2009,
            2010,
            2011,
            2012,
            2013,
            2014,
            2015
           ],
           "xaxis": "x",
           "y": [
            67.4,
            67.7,
            67.9,
            68,
            68.3,
            68.9,
            69.3,
            69.5,
            69.8,
            70,
            73,
            76,
            71.3,
            71.2,
            71.4,
            71.6
           ],
           "yaxis": "y"
          }
         ],
         "name": "Suriname"
        },
        {
         "data": [
          {
           "hovertemplate": "Country=Belarus<br>Year=%{x}<br>Life expectancy =%{y}<extra></extra>",
           "ids": [
            2000,
            2001,
            2002,
            2003,
            2004,
            2005,
            2006,
            2007,
            2008,
            2009,
            2010,
            2011,
            2012,
            2013,
            2014,
            2015
           ],
           "legendgroup": "Belarus",
           "line": {
            "color": "#FF97FF",
            "dash": "solid"
           },
           "marker": {
            "symbol": "circle"
           },
           "mode": "lines+markers",
           "name": "Belarus",
           "orientation": "v",
           "showlegend": true,
           "type": "scatter",
           "x": [
            2000,
            2001,
            2002,
            2003,
            2004,
            2005,
            2006,
            2007,
            2008,
            2009,
            2010,
            2011,
            2012,
            2013,
            2014,
            2015
           ],
           "xaxis": "x",
           "y": [
            68,
            67.7,
            67.2,
            67.7,
            68.2,
            68.1,
            68.9,
            69.8,
            70,
            70,
            73,
            72,
            71.9,
            71.7,
            72,
            72.3
           ],
           "yaxis": "y"
          }
         ],
         "name": "Belarus"
        },
        {
         "data": [
          {
           "hovertemplate": "Country=Jamaica<br>Year=%{x}<br>Life expectancy =%{y}<extra></extra>",
           "ids": [
            2000,
            2001,
            2002,
            2003,
            2004,
            2005,
            2006,
            2007,
            2008,
            2009,
            2010,
            2011,
            2012,
            2013,
            2014,
            2015
           ],
           "legendgroup": "Jamaica",
           "line": {
            "color": "#FECB52",
            "dash": "solid"
           },
           "marker": {
            "symbol": "circle"
           },
           "mode": "lines+markers",
           "name": "Jamaica",
           "orientation": "v",
           "showlegend": true,
           "type": "scatter",
           "x": [
            2000,
            2001,
            2002,
            2003,
            2004,
            2005,
            2006,
            2007,
            2008,
            2009,
            2010,
            2011,
            2012,
            2013,
            2014,
            2015
           ],
           "xaxis": "x",
           "y": [
            72.6,
            72.7,
            73,
            73.1,
            73.3,
            73.5,
            74,
            74.2,
            74.5,
            74.7,
            75,
            75.2,
            75.3,
            75.6,
            75.8,
            76.2
           ],
           "yaxis": "y"
          }
         ],
         "name": "Jamaica"
        },
        {
         "data": [
          {
           "hovertemplate": "Country=Ethiopia<br>Year=%{x}<br>Life expectancy =%{y}<extra></extra>",
           "ids": [
            2000,
            2001,
            2002,
            2003,
            2004,
            2005,
            2006,
            2007,
            2008,
            2009,
            2010,
            2011,
            2012,
            2013,
            2014,
            2015
           ],
           "legendgroup": "Ethiopia",
           "line": {
            "color": "#636efa",
            "dash": "solid"
           },
           "marker": {
            "symbol": "circle"
           },
           "mode": "lines+markers",
           "name": "Ethiopia",
           "orientation": "v",
           "showlegend": true,
           "type": "scatter",
           "x": [
            2000,
            2001,
            2002,
            2003,
            2004,
            2005,
            2006,
            2007,
            2008,
            2009,
            2010,
            2011,
            2012,
            2013,
            2014,
            2015
           ],
           "xaxis": "x",
           "y": [
            51.2,
            52.5,
            53.2,
            54,
            55,
            56,
            57.2,
            58.5,
            59.8,
            68,
            61.8,
            62.6,
            63.3,
            63.7,
            64.2,
            64.8
           ],
           "yaxis": "y"
          }
         ],
         "name": "Ethiopia"
        },
        {
         "data": [
          {
           "hovertemplate": "Country=Swaziland<br>Year=%{x}<br>Life expectancy =%{y}<extra></extra>",
           "ids": [
            2000,
            2001,
            2002,
            2003,
            2004,
            2005,
            2006,
            2007,
            2008,
            2009,
            2010,
            2011,
            2012,
            2013,
            2014,
            2015
           ],
           "legendgroup": "Swaziland",
           "line": {
            "color": "#EF553B",
            "dash": "solid"
           },
           "marker": {
            "symbol": "circle"
           },
           "mode": "lines+markers",
           "name": "Swaziland",
           "orientation": "v",
           "showlegend": true,
           "type": "scatter",
           "x": [
            2000,
            2001,
            2002,
            2003,
            2004,
            2005,
            2006,
            2007,
            2008,
            2009,
            2010,
            2011,
            2012,
            2013,
            2014,
            2015
           ],
           "xaxis": "x",
           "y": [
            48.4,
            47.1,
            46.4,
            45.9,
            45.6,
            46,
            47.8,
            50,
            51.4,
            52.6,
            53.6,
            55,
            56.5,
            57.6,
            58.4,
            58.9
           ],
           "yaxis": "y"
          }
         ],
         "name": "Swaziland"
        },
        {
         "data": [
          {
           "hovertemplate": "Country=Sweden<br>Year=%{x}<br>Life expectancy =%{y}<extra></extra>",
           "ids": [
            2000,
            2001,
            2002,
            2003,
            2004,
            2005,
            2006,
            2007,
            2008,
            2009,
            2010,
            2011,
            2012,
            2013,
            2014,
            2015
           ],
           "legendgroup": "Sweden",
           "line": {
            "color": "#00cc96",
            "dash": "solid"
           },
           "marker": {
            "symbol": "circle"
           },
           "mode": "lines+markers",
           "name": "Sweden",
           "orientation": "v",
           "showlegend": true,
           "type": "scatter",
           "x": [
            2000,
            2001,
            2002,
            2003,
            2004,
            2005,
            2006,
            2007,
            2008,
            2009,
            2010,
            2011,
            2012,
            2013,
            2014,
            2015
           ],
           "xaxis": "x",
           "y": [
            79.6,
            79.8,
            79.9,
            82,
            83,
            85,
            88,
            89,
            81.1,
            81.4,
            81.5,
            81.7,
            81.7,
            81.9,
            82.3,
            82.4
           ],
           "yaxis": "y"
          }
         ],
         "name": "Sweden"
        },
        {
         "data": [
          {
           "hovertemplate": "Country=Barbados<br>Year=%{x}<br>Life expectancy =%{y}<extra></extra>",
           "ids": [
            2000,
            2001,
            2002,
            2003,
            2004,
            2005,
            2006,
            2007,
            2008,
            2009,
            2010,
            2011,
            2012,
            2013,
            2014,
            2015
           ],
           "legendgroup": "Barbados",
           "line": {
            "color": "#ab63fa",
            "dash": "solid"
           },
           "marker": {
            "symbol": "circle"
           },
           "mode": "lines+markers",
           "name": "Barbados",
           "orientation": "v",
           "showlegend": true,
           "type": "scatter",
           "x": [
            2000,
            2001,
            2002,
            2003,
            2004,
            2005,
            2006,
            2007,
            2008,
            2009,
            2010,
            2011,
            2012,
            2013,
            2014,
            2015
           ],
           "xaxis": "x",
           "y": [
            73.3,
            73.4,
            73.5,
            73.7,
            73.8,
            73.9,
            74.1,
            74.2,
            74.4,
            74.6,
            74.7,
            74.9,
            75.1,
            75.2,
            75.4,
            75.5
           ],
           "yaxis": "y"
          }
         ],
         "name": "Barbados"
        },
        {
         "data": [
          {
           "hovertemplate": "Country=Italy<br>Year=%{x}<br>Life expectancy =%{y}<extra></extra>",
           "ids": [
            2000,
            2001,
            2002,
            2003,
            2004,
            2005,
            2006,
            2007,
            2008,
            2009,
            2010,
            2011,
            2012,
            2013,
            2014,
            2015
           ],
           "legendgroup": "Italy",
           "line": {
            "color": "#FFA15A",
            "dash": "solid"
           },
           "marker": {
            "symbol": "circle"
           },
           "mode": "lines+markers",
           "name": "Italy",
           "orientation": "v",
           "showlegend": true,
           "type": "scatter",
           "x": [
            2000,
            2001,
            2002,
            2003,
            2004,
            2005,
            2006,
            2007,
            2008,
            2009,
            2010,
            2011,
            2012,
            2013,
            2014,
            2015
           ],
           "xaxis": "x",
           "y": [
            79.4,
            79.8,
            80,
            79.9,
            89,
            88,
            81.2,
            81.3,
            81.5,
            81.6,
            81.8,
            82,
            82,
            82.3,
            82.5,
            82.7
           ],
           "yaxis": "y"
          }
         ],
         "name": "Italy"
        },
        {
         "data": [
          {
           "hovertemplate": "Country=Switzerland<br>Year=%{x}<br>Life expectancy =%{y}<extra></extra>",
           "ids": [
            2000,
            2001,
            2002,
            2003,
            2004,
            2005,
            2006,
            2007,
            2008,
            2009,
            2010,
            2011,
            2012,
            2013,
            2014,
            2015
           ],
           "legendgroup": "Switzerland",
           "line": {
            "color": "#19d3f3",
            "dash": "solid"
           },
           "marker": {
            "symbol": "circle"
           },
           "mode": "lines+markers",
           "name": "Switzerland",
           "orientation": "v",
           "showlegend": true,
           "type": "scatter",
           "x": [
            2000,
            2001,
            2002,
            2003,
            2004,
            2005,
            2006,
            2007,
            2008,
            2009,
            2010,
            2011,
            2012,
            2013,
            2014,
            2015
           ],
           "xaxis": "x",
           "y": [
            79.7,
            82,
            84,
            85,
            81,
            81.1,
            81.5,
            81.7,
            82,
            82.1,
            82.3,
            82.6,
            82.7,
            83,
            83.2,
            83.4
           ],
           "yaxis": "y"
          }
         ],
         "name": "Switzerland"
        },
        {
         "data": [
          {
           "hovertemplate": "Country=Israel<br>Year=%{x}<br>Life expectancy =%{y}<extra></extra>",
           "ids": [
            2000,
            2001,
            2002,
            2003,
            2004,
            2005,
            2006,
            2007,
            2008,
            2009,
            2010,
            2011,
            2012,
            2013,
            2014,
            2015
           ],
           "legendgroup": "Israel",
           "line": {
            "color": "#FF6692",
            "dash": "solid"
           },
           "marker": {
            "symbol": "circle"
           },
           "mode": "lines+markers",
           "name": "Israel",
           "orientation": "v",
           "showlegend": true,
           "type": "scatter",
           "x": [
            2000,
            2001,
            2002,
            2003,
            2004,
            2005,
            2006,
            2007,
            2008,
            2009,
            2010,
            2011,
            2012,
            2013,
            2014,
            2015
           ],
           "xaxis": "x",
           "y": [
            78.9,
            79.3,
            79.3,
            79.7,
            81,
            80,
            84,
            84,
            81,
            81.5,
            81.7,
            81.8,
            81.8,
            82.1,
            82.2,
            82.5
           ],
           "yaxis": "y"
          }
         ],
         "name": "Israel"
        },
        {
         "data": [
          {
           "hovertemplate": "Country=Syrian Arab Republic<br>Year=%{x}<br>Life expectancy =%{y}<extra></extra>",
           "ids": [
            2000,
            2001,
            2002,
            2003,
            2004,
            2005,
            2006,
            2007,
            2008,
            2009,
            2010,
            2011,
            2012,
            2013,
            2014,
            2015
           ],
           "legendgroup": "Syrian Arab Republic",
           "line": {
            "color": "#B6E880",
            "dash": "solid"
           },
           "marker": {
            "symbol": "circle"
           },
           "mode": "lines+markers",
           "name": "Syrian Arab Republic",
           "orientation": "v",
           "showlegend": true,
           "type": "scatter",
           "x": [
            2000,
            2001,
            2002,
            2003,
            2004,
            2005,
            2006,
            2007,
            2008,
            2009,
            2010,
            2011,
            2012,
            2013,
            2014,
            2015
           ],
           "xaxis": "x",
           "y": [
            72.6,
            72.7,
            72.8,
            73,
            73.2,
            73.5,
            73.7,
            73.8,
            73.8,
            73.8,
            73.7,
            71.7,
            62.8,
            63.6,
            64.4,
            64.5
           ],
           "yaxis": "y"
          }
         ],
         "name": "Syrian Arab Republic"
        },
        {
         "data": [
          {
           "hovertemplate": "Country=Estonia<br>Year=%{x}<br>Life expectancy =%{y}<extra></extra>",
           "ids": [
            2000,
            2001,
            2002,
            2003,
            2004,
            2005,
            2006,
            2007,
            2008,
            2009,
            2010,
            2011,
            2012,
            2013,
            2014,
            2015
           ],
           "legendgroup": "Estonia",
           "line": {
            "color": "#FF97FF",
            "dash": "solid"
           },
           "marker": {
            "symbol": "circle"
           },
           "mode": "lines+markers",
           "name": "Estonia",
           "orientation": "v",
           "showlegend": true,
           "type": "scatter",
           "x": [
            2000,
            2001,
            2002,
            2003,
            2004,
            2005,
            2006,
            2007,
            2008,
            2009,
            2010,
            2011,
            2012,
            2013,
            2014,
            2015
           ],
           "xaxis": "x",
           "y": [
            78,
            78,
            71.2,
            71.9,
            72.3,
            72.8,
            73,
            73,
            74.2,
            74.9,
            75.6,
            76.1,
            76.3,
            76.9,
            77.3,
            77.6
           ],
           "yaxis": "y"
          }
         ],
         "name": "Estonia"
        },
        {
         "data": [
          {
           "hovertemplate": "Country=Brunei Darussalam<br>Year=%{x}<br>Life expectancy =%{y}<extra></extra>",
           "ids": [
            2000,
            2001,
            2002,
            2003,
            2004,
            2005,
            2006,
            2007,
            2008,
            2009,
            2010,
            2011,
            2012,
            2013,
            2014,
            2015
           ],
           "legendgroup": "Brunei Darussalam",
           "line": {
            "color": "#FECB52",
            "dash": "solid"
           },
           "marker": {
            "symbol": "circle"
           },
           "mode": "lines+markers",
           "name": "Brunei Darussalam",
           "orientation": "v",
           "showlegend": true,
           "type": "scatter",
           "x": [
            2000,
            2001,
            2002,
            2003,
            2004,
            2005,
            2006,
            2007,
            2008,
            2009,
            2010,
            2011,
            2012,
            2013,
            2014,
            2015
           ],
           "xaxis": "x",
           "y": [
            74.4,
            74.7,
            74.8,
            76,
            76.4,
            76.2,
            76.3,
            76,
            77.2,
            76.8,
            76.9,
            77.4,
            78.3,
            77.1,
            77.6,
            77.7
           ],
           "yaxis": "y"
          }
         ],
         "name": "Brunei Darussalam"
        },
        {
         "data": [
          {
           "hovertemplate": "Country=Lesotho<br>Year=%{x}<br>Life expectancy =%{y}<extra></extra>",
           "ids": [
            2000,
            2001,
            2002,
            2003,
            2004,
            2005,
            2006,
            2007,
            2008,
            2009,
            2010,
            2011,
            2012,
            2013,
            2014,
            2015
           ],
           "legendgroup": "Lesotho",
           "line": {
            "color": "#636efa",
            "dash": "solid"
           },
           "marker": {
            "symbol": "circle"
           },
           "mode": "lines+markers",
           "name": "Lesotho",
           "orientation": "v",
           "showlegend": true,
           "type": "scatter",
           "x": [
            2000,
            2001,
            2002,
            2003,
            2004,
            2005,
            2006,
            2007,
            2008,
            2009,
            2010,
            2011,
            2012,
            2013,
            2014,
            2015
           ],
           "xaxis": "x",
           "y": [
            49.3,
            47.8,
            46.4,
            45.5,
            44.8,
            44.5,
            45.3,
            46.2,
            47.8,
            49.4,
            51.1,
            52.3,
            52.2,
            52.1,
            52.1,
            53.7
           ],
           "yaxis": "y"
          }
         ],
         "name": "Lesotho"
        },
        {
         "data": [
          {
           "hovertemplate": "Country=Samoa<br>Year=%{x}<br>Life expectancy =%{y}<extra></extra>",
           "ids": [
            2000,
            2001,
            2002,
            2003,
            2004,
            2005,
            2006,
            2007,
            2008,
            2009,
            2010,
            2011,
            2012,
            2013,
            2014,
            2015
           ],
           "legendgroup": "Samoa",
           "line": {
            "color": "#EF553B",
            "dash": "solid"
           },
           "marker": {
            "symbol": "circle"
           },
           "mode": "lines+markers",
           "name": "Samoa",
           "orientation": "v",
           "showlegend": true,
           "type": "scatter",
           "x": [
            2000,
            2001,
            2002,
            2003,
            2004,
            2005,
            2006,
            2007,
            2008,
            2009,
            2010,
            2011,
            2012,
            2013,
            2014,
            2015
           ],
           "xaxis": "x",
           "y": [
            72,
            75,
            76,
            79,
            71.4,
            71.6,
            72,
            72.2,
            72.5,
            76,
            72.6,
            73,
            73.2,
            73.6,
            73.8,
            74
           ],
           "yaxis": "y"
          }
         ],
         "name": "Samoa"
        },
        {
         "data": [
          {
           "hovertemplate": "Country=Chile<br>Year=%{x}<br>Life expectancy =%{y}<extra></extra>",
           "ids": [
            2000,
            2001,
            2002,
            2003,
            2004,
            2005,
            2006,
            2007,
            2008,
            2009,
            2010,
            2011,
            2012,
            2013,
            2014,
            2015
           ],
           "legendgroup": "Chile",
           "line": {
            "color": "#00cc96",
            "dash": "solid"
           },
           "marker": {
            "symbol": "circle"
           },
           "mode": "lines+markers",
           "name": "Chile",
           "orientation": "v",
           "showlegend": true,
           "type": "scatter",
           "x": [
            2000,
            2001,
            2002,
            2003,
            2004,
            2005,
            2006,
            2007,
            2008,
            2009,
            2010,
            2011,
            2012,
            2013,
            2014,
            2015
           ],
           "xaxis": "x",
           "y": [
            77.3,
            77.3,
            77.8,
            77.9,
            78,
            78.4,
            78.9,
            78.9,
            79.6,
            79.3,
            79.1,
            79.8,
            79.9,
            81,
            83,
            85
           ],
           "yaxis": "y"
          }
         ],
         "name": "Chile"
        },
        {
         "data": [
          {
           "hovertemplate": "Country=Mexico<br>Year=%{x}<br>Life expectancy =%{y}<extra></extra>",
           "ids": [
            2000,
            2001,
            2002,
            2003,
            2004,
            2005,
            2006,
            2007,
            2008,
            2009,
            2010,
            2011,
            2012,
            2013,
            2014,
            2015
           ],
           "legendgroup": "Mexico",
           "line": {
            "color": "#ab63fa",
            "dash": "solid"
           },
           "marker": {
            "symbol": "circle"
           },
           "mode": "lines+markers",
           "name": "Mexico",
           "orientation": "v",
           "showlegend": true,
           "type": "scatter",
           "x": [
            2000,
            2001,
            2002,
            2003,
            2004,
            2005,
            2006,
            2007,
            2008,
            2009,
            2010,
            2011,
            2012,
            2013,
            2014,
            2015
           ],
           "xaxis": "x",
           "y": [
            74.8,
            75,
            75,
            75,
            75.4,
            75.3,
            75.8,
            76,
            75.6,
            75.7,
            75.6,
            76.1,
            76.3,
            76.6,
            76.6,
            76.7
           ],
           "yaxis": "y"
          }
         ],
         "name": "Mexico"
        },
        {
         "data": [
          {
           "hovertemplate": "Country=Nigeria<br>Year=%{x}<br>Life expectancy =%{y}<extra></extra>",
           "ids": [
            2000,
            2001,
            2002,
            2003,
            2004,
            2005,
            2006,
            2007,
            2008,
            2009,
            2010,
            2011,
            2012,
            2013,
            2014,
            2015
           ],
           "legendgroup": "Nigeria",
           "line": {
            "color": "#FFA15A",
            "dash": "solid"
           },
           "marker": {
            "symbol": "circle"
           },
           "mode": "lines+markers",
           "name": "Nigeria",
           "orientation": "v",
           "showlegend": true,
           "type": "scatter",
           "x": [
            2000,
            2001,
            2002,
            2003,
            2004,
            2005,
            2006,
            2007,
            2008,
            2009,
            2010,
            2011,
            2012,
            2013,
            2014,
            2015
           ],
           "xaxis": "x",
           "y": [
            47.1,
            47.4,
            47.7,
            48.1,
            48.5,
            49.2,
            49.8,
            55,
            59,
            51.6,
            52,
            52.3,
            52.7,
            53.2,
            53.6,
            54.5
           ],
           "yaxis": "y"
          }
         ],
         "name": "Nigeria"
        },
        {
         "data": [
          {
           "hovertemplate": "Country=Norway<br>Year=%{x}<br>Life expectancy =%{y}<extra></extra>",
           "ids": [
            2000,
            2001,
            2002,
            2003,
            2004,
            2005,
            2006,
            2007,
            2008,
            2009,
            2010,
            2011,
            2012,
            2013,
            2014,
            2015
           ],
           "legendgroup": "Norway",
           "line": {
            "color": "#19d3f3",
            "dash": "solid"
           },
           "marker": {
            "symbol": "circle"
           },
           "mode": "lines+markers",
           "name": "Norway",
           "orientation": "v",
           "showlegend": true,
           "type": "scatter",
           "x": [
            2000,
            2001,
            2002,
            2003,
            2004,
            2005,
            2006,
            2007,
            2008,
            2009,
            2010,
            2011,
            2012,
            2013,
            2014,
            2015
           ],
           "xaxis": "x",
           "y": [
            78.5,
            78.8,
            78.9,
            79.4,
            79.8,
            81,
            84,
            85,
            86,
            89,
            81,
            81.1,
            81.3,
            81.5,
            81.6,
            81.8
           ],
           "yaxis": "y"
          }
         ],
         "name": "Norway"
        },
        {
         "data": [
          {
           "hovertemplate": "Country=Cuba<br>Year=%{x}<br>Life expectancy =%{y}<extra></extra>",
           "ids": [
            2000,
            2001,
            2002,
            2003,
            2004,
            2005,
            2006,
            2007,
            2008,
            2009,
            2010,
            2011,
            2012,
            2013,
            2014,
            2015
           ],
           "legendgroup": "Cuba",
           "line": {
            "color": "#FF6692",
            "dash": "solid"
           },
           "marker": {
            "symbol": "circle"
           },
           "mode": "lines+markers",
           "name": "Cuba",
           "orientation": "v",
           "showlegend": true,
           "type": "scatter",
           "x": [
            2000,
            2001,
            2002,
            2003,
            2004,
            2005,
            2006,
            2007,
            2008,
            2009,
            2010,
            2011,
            2012,
            2013,
            2014,
            2015
           ],
           "xaxis": "x",
           "y": [
            76.9,
            76.7,
            77.7,
            77.4,
            77.3,
            77.2,
            78,
            78.1,
            77.9,
            78.1,
            78,
            78.8,
            78.7,
            78.7,
            79,
            79.1
           ],
           "yaxis": "y"
          }
         ],
         "name": "Cuba"
        },
        {
         "data": [
          {
           "hovertemplate": "Country=Chad<br>Year=%{x}<br>Life expectancy =%{y}<extra></extra>",
           "ids": [
            2000,
            2001,
            2002,
            2003,
            2004,
            2005,
            2006,
            2007,
            2008,
            2009,
            2010,
            2011,
            2012,
            2013,
            2014,
            2015
           ],
           "legendgroup": "Chad",
           "line": {
            "color": "#B6E880",
            "dash": "solid"
           },
           "marker": {
            "symbol": "circle"
           },
           "mode": "lines+markers",
           "name": "Chad",
           "orientation": "v",
           "showlegend": true,
           "type": "scatter",
           "x": [
            2000,
            2001,
            2002,
            2003,
            2004,
            2005,
            2006,
            2007,
            2008,
            2009,
            2010,
            2011,
            2012,
            2013,
            2014,
            2015
           ],
           "xaxis": "x",
           "y": [
            47.6,
            48,
            48.1,
            48.4,
            48.5,
            48.6,
            48.5,
            49.4,
            49.6,
            57,
            51.2,
            51.6,
            51.8,
            52.2,
            52.6,
            53.1
           ],
           "yaxis": "y"
          }
         ],
         "name": "Chad"
        },
        {
         "data": [
          {
           "hovertemplate": "Country=Micronesia (Federated States of)<br>Year=%{x}<br>Life expectancy =%{y}<extra></extra>",
           "ids": [
            2000,
            2001,
            2002,
            2003,
            2004,
            2005,
            2006,
            2007,
            2008,
            2009,
            2010,
            2011,
            2012,
            2013,
            2014,
            2015
           ],
           "legendgroup": "Micronesia (Federated States of)",
           "line": {
            "color": "#FF97FF",
            "dash": "solid"
           },
           "marker": {
            "symbol": "circle"
           },
           "mode": "lines+markers",
           "name": "Micronesia (Federated States of)",
           "orientation": "v",
           "showlegend": true,
           "type": "scatter",
           "x": [
            2000,
            2001,
            2002,
            2003,
            2004,
            2005,
            2006,
            2007,
            2008,
            2009,
            2010,
            2011,
            2012,
            2013,
            2014,
            2015
           ],
           "xaxis": "x",
           "y": [
            67,
            67.2,
            66.2,
            67.5,
            67.7,
            67.9,
            68,
            68.2,
            68.4,
            68.5,
            68.7,
            68.9,
            69,
            69.2,
            69.4,
            69.4
           ],
           "yaxis": "y"
          }
         ],
         "name": "Micronesia (Federated States of)"
        },
        {
         "data": [
          {
           "hovertemplate": "Country=Mauritius<br>Year=%{x}<br>Life expectancy =%{y}<extra></extra>",
           "ids": [
            2000,
            2001,
            2002,
            2003,
            2004,
            2005,
            2006,
            2007,
            2008,
            2009,
            2010,
            2011,
            2012,
            2013,
            2014,
            2015
           ],
           "legendgroup": "Mauritius",
           "line": {
            "color": "#FECB52",
            "dash": "solid"
           },
           "marker": {
            "symbol": "circle"
           },
           "mode": "lines+markers",
           "name": "Mauritius",
           "orientation": "v",
           "showlegend": true,
           "type": "scatter",
           "x": [
            2000,
            2001,
            2002,
            2003,
            2004,
            2005,
            2006,
            2007,
            2008,
            2009,
            2010,
            2011,
            2012,
            2013,
            2014,
            2015
           ],
           "xaxis": "x",
           "y": [
            71,
            71.5,
            71.5,
            71.5,
            71.9,
            72.1,
            71.8,
            72.9,
            72.7,
            72.8,
            73.3,
            73.6,
            73.9,
            74.1,
            74.2,
            74.6
           ],
           "yaxis": "y"
          }
         ],
         "name": "Mauritius"
        },
        {
         "data": [
          {
           "hovertemplate": "Country=Pakistan<br>Year=%{x}<br>Life expectancy =%{y}<extra></extra>",
           "ids": [
            2000,
            2001,
            2002,
            2003,
            2004,
            2005,
            2006,
            2007,
            2008,
            2009,
            2010,
            2011,
            2012,
            2013,
            2014,
            2015
           ],
           "legendgroup": "Pakistan",
           "line": {
            "color": "#636efa",
            "dash": "solid"
           },
           "marker": {
            "symbol": "circle"
           },
           "mode": "lines+markers",
           "name": "Pakistan",
           "orientation": "v",
           "showlegend": true,
           "type": "scatter",
           "x": [
            2000,
            2001,
            2002,
            2003,
            2004,
            2005,
            2006,
            2007,
            2008,
            2009,
            2010,
            2011,
            2012,
            2013,
            2014,
            2015
           ],
           "xaxis": "x",
           "y": [
            62.8,
            63,
            63.2,
            63.5,
            63.7,
            62.9,
            64.2,
            64.4,
            64.6,
            64.8,
            65.1,
            65.5,
            65.7,
            66,
            66.2,
            66.4
           ],
           "yaxis": "y"
          }
         ],
         "name": "Pakistan"
        },
        {
         "data": [
          {
           "hovertemplate": "Country=Mauritania<br>Year=%{x}<br>Life expectancy =%{y}<extra></extra>",
           "ids": [
            2000,
            2001,
            2002,
            2003,
            2004,
            2005,
            2006,
            2007,
            2008,
            2009,
            2010,
            2011,
            2012,
            2013,
            2014,
            2015
           ],
           "legendgroup": "Mauritania",
           "line": {
            "color": "#EF553B",
            "dash": "solid"
           },
           "marker": {
            "symbol": "circle"
           },
           "mode": "lines+markers",
           "name": "Mauritania",
           "orientation": "v",
           "showlegend": true,
           "type": "scatter",
           "x": [
            2000,
            2001,
            2002,
            2003,
            2004,
            2005,
            2006,
            2007,
            2008,
            2009,
            2010,
            2011,
            2012,
            2013,
            2014,
            2015
           ],
           "xaxis": "x",
           "y": [
            60,
            61,
            62,
            63,
            64,
            66,
            69,
            61.2,
            61.4,
            61.7,
            62,
            62.2,
            62.5,
            62.7,
            63,
            63.1
           ],
           "yaxis": "y"
          }
         ],
         "name": "Mauritania"
        },
        {
         "data": [
          {
           "hovertemplate": "Country=Central African Republic<br>Year=%{x}<br>Life expectancy =%{y}<extra></extra>",
           "ids": [
            2000,
            2001,
            2002,
            2003,
            2004,
            2005,
            2006,
            2007,
            2008,
            2009,
            2010,
            2011,
            2012,
            2013,
            2014,
            2015
           ],
           "legendgroup": "Central African Republic",
           "line": {
            "color": "#00cc96",
            "dash": "solid"
           },
           "marker": {
            "symbol": "circle"
           },
           "mode": "lines+markers",
           "name": "Central African Republic",
           "orientation": "v",
           "showlegend": true,
           "type": "scatter",
           "x": [
            2000,
            2001,
            2002,
            2003,
            2004,
            2005,
            2006,
            2007,
            2008,
            2009,
            2010,
            2011,
            2012,
            2013,
            2014,
            2015
           ],
           "xaxis": "x",
           "y": [
            46,
            45.6,
            45.6,
            45.7,
            45.7,
            45.9,
            46.3,
            46.8,
            47.6,
            48.6,
            49.2,
            49.8,
            53,
            49.9,
            58,
            52.5
           ],
           "yaxis": "y"
          }
         ],
         "name": "Central African Republic"
        },
        {
         "data": [
          {
           "hovertemplate": "Country=Cyprus<br>Year=%{x}<br>Life expectancy =%{y}<extra></extra>",
           "ids": [
            2000,
            2001,
            2002,
            2003,
            2004,
            2005,
            2006,
            2007,
            2008,
            2009,
            2010,
            2011,
            2012,
            2013,
            2014,
            2015
           ],
           "legendgroup": "Cyprus",
           "line": {
            "color": "#ab63fa",
            "dash": "solid"
           },
           "marker": {
            "symbol": "circle"
           },
           "mode": "lines+markers",
           "name": "Cyprus",
           "orientation": "v",
           "showlegend": true,
           "type": "scatter",
           "x": [
            2000,
            2001,
            2002,
            2003,
            2004,
            2005,
            2006,
            2007,
            2008,
            2009,
            2010,
            2011,
            2012,
            2013,
            2014,
            2015
           ],
           "xaxis": "x",
           "y": [
            78.1,
            78.2,
            78.4,
            78.5,
            78.6,
            78.7,
            78.8,
            78.9,
            79.1,
            79.3,
            79.5,
            79.7,
            80,
            81,
            83,
            85
           ],
           "yaxis": "y"
          }
         ],
         "name": "Cyprus"
        },
        {
         "data": [
          {
           "hovertemplate": "Country=Panama<br>Year=%{x}<br>Life expectancy =%{y}<extra></extra>",
           "ids": [
            2000,
            2001,
            2002,
            2003,
            2004,
            2005,
            2006,
            2007,
            2008,
            2009,
            2010,
            2011,
            2012,
            2013,
            2014,
            2015
           ],
           "legendgroup": "Panama",
           "line": {
            "color": "#FFA15A",
            "dash": "solid"
           },
           "marker": {
            "symbol": "circle"
           },
           "mode": "lines+markers",
           "name": "Panama",
           "orientation": "v",
           "showlegend": true,
           "type": "scatter",
           "x": [
            2000,
            2001,
            2002,
            2003,
            2004,
            2005,
            2006,
            2007,
            2008,
            2009,
            2010,
            2011,
            2012,
            2013,
            2014,
            2015
           ],
           "xaxis": "x",
           "y": [
            75.7,
            75.5,
            75.7,
            75.5,
            75.8,
            75.8,
            76.2,
            76.4,
            76.5,
            76.8,
            76.5,
            77.3,
            77.2,
            77.5,
            77.6,
            77.8
           ],
           "yaxis": "y"
          }
         ],
         "name": "Panama"
        },
        {
         "data": [
          {
           "hovertemplate": "Country=Papua New Guinea<br>Year=%{x}<br>Life expectancy =%{y}<extra></extra>",
           "ids": [
            2000,
            2001,
            2002,
            2003,
            2004,
            2005,
            2006,
            2007,
            2008,
            2009,
            2010,
            2011,
            2012,
            2013,
            2014,
            2015
           ],
           "legendgroup": "Papua New Guinea",
           "line": {
            "color": "#19d3f3",
            "dash": "solid"
           },
           "marker": {
            "symbol": "circle"
           },
           "mode": "lines+markers",
           "name": "Papua New Guinea",
           "orientation": "v",
           "showlegend": true,
           "type": "scatter",
           "x": [
            2000,
            2001,
            2002,
            2003,
            2004,
            2005,
            2006,
            2007,
            2008,
            2009,
            2010,
            2011,
            2012,
            2013,
            2014,
            2015
           ],
           "xaxis": "x",
           "y": [
            58.9,
            59.1,
            59.3,
            59.6,
            59.9,
            64,
            68,
            61.1,
            61.4,
            61.6,
            61.8,
            62,
            62.2,
            62.4,
            62.7,
            62.9
           ],
           "yaxis": "y"
          }
         ],
         "name": "Papua New Guinea"
        },
        {
         "data": [
          {
           "hovertemplate": "Country=Oman<br>Year=%{x}<br>Life expectancy =%{y}<extra></extra>",
           "ids": [
            2000,
            2001,
            2002,
            2003,
            2004,
            2005,
            2006,
            2007,
            2008,
            2009,
            2010,
            2011,
            2012,
            2013,
            2014,
            2015
           ],
           "legendgroup": "Oman",
           "line": {
            "color": "#FF6692",
            "dash": "solid"
           },
           "marker": {
            "symbol": "circle"
           },
           "mode": "lines+markers",
           "name": "Oman",
           "orientation": "v",
           "showlegend": true,
           "type": "scatter",
           "x": [
            2000,
            2001,
            2002,
            2003,
            2004,
            2005,
            2006,
            2007,
            2008,
            2009,
            2010,
            2011,
            2012,
            2013,
            2014,
            2015
           ],
           "xaxis": "x",
           "y": [
            72.6,
            72.9,
            73.3,
            73.6,
            74,
            74.3,
            74.7,
            74.9,
            75.2,
            75.4,
            75.6,
            75.8,
            76,
            76.2,
            76.4,
            76.6
           ],
           "yaxis": "y"
          }
         ],
         "name": "Oman"
        },
        {
         "data": [
          {
           "hovertemplate": "Country=Malta<br>Year=%{x}<br>Life expectancy =%{y}<extra></extra>",
           "ids": [
            2000,
            2001,
            2002,
            2003,
            2004,
            2005,
            2006,
            2007,
            2008,
            2009,
            2010,
            2011,
            2012,
            2013,
            2014,
            2015
           ],
           "legendgroup": "Malta",
           "line": {
            "color": "#B6E880",
            "dash": "solid"
           },
           "marker": {
            "symbol": "circle"
           },
           "mode": "lines+markers",
           "name": "Malta",
           "orientation": "v",
           "showlegend": true,
           "type": "scatter",
           "x": [
            2000,
            2001,
            2002,
            2003,
            2004,
            2005,
            2006,
            2007,
            2008,
            2009,
            2010,
            2011,
            2012,
            2013,
            2014,
            2015
           ],
           "xaxis": "x",
           "y": [
            77.5,
            77.8,
            78.2,
            78.5,
            78.7,
            79,
            79.3,
            79.6,
            80,
            82,
            83,
            87,
            81,
            81.1,
            81.4,
            81.7
           ],
           "yaxis": "y"
          }
         ],
         "name": "Malta"
        },
        {
         "data": [
          {
           "hovertemplate": "Country=Niger<br>Year=%{x}<br>Life expectancy =%{y}<extra></extra>",
           "ids": [
            2000,
            2001,
            2002,
            2003,
            2004,
            2005,
            2006,
            2007,
            2008,
            2009,
            2010,
            2011,
            2012,
            2013,
            2014,
            2015
           ],
           "legendgroup": "Niger",
           "line": {
            "color": "#FF97FF",
            "dash": "solid"
           },
           "marker": {
            "symbol": "circle"
           },
           "mode": "lines+markers",
           "name": "Niger",
           "orientation": "v",
           "showlegend": true,
           "type": "scatter",
           "x": [
            2000,
            2001,
            2002,
            2003,
            2004,
            2005,
            2006,
            2007,
            2008,
            2009,
            2010,
            2011,
            2012,
            2013,
            2014,
            2015
           ],
           "xaxis": "x",
           "y": [
            50,
            56,
            51.4,
            52.1,
            52.9,
            53.7,
            54.5,
            55.2,
            56,
            57.1,
            58.2,
            59.4,
            63,
            69,
            61.4,
            61.8
           ],
           "yaxis": "y"
          }
         ],
         "name": "Niger"
        },
        {
         "data": [
          {
           "hovertemplate": "Country=Nicaragua<br>Year=%{x}<br>Life expectancy =%{y}<extra></extra>",
           "ids": [
            2000,
            2001,
            2002,
            2003,
            2004,
            2005,
            2006,
            2007,
            2008,
            2009,
            2010,
            2011,
            2012,
            2013,
            2014,
            2015
           ],
           "legendgroup": "Nicaragua",
           "line": {
            "color": "#FECB52",
            "dash": "solid"
           },
           "marker": {
            "symbol": "circle"
           },
           "mode": "lines+markers",
           "name": "Nicaragua",
           "orientation": "v",
           "showlegend": true,
           "type": "scatter",
           "x": [
            2000,
            2001,
            2002,
            2003,
            2004,
            2005,
            2006,
            2007,
            2008,
            2009,
            2010,
            2011,
            2012,
            2013,
            2014,
            2015
           ],
           "xaxis": "x",
           "y": [
            73,
            73,
            75,
            76,
            71,
            71.2,
            73,
            72.5,
            72.5,
            73.2,
            73.2,
            74.5,
            73.9,
            73.9,
            74.5,
            74.8
           ],
           "yaxis": "y"
          }
         ],
         "name": "Nicaragua"
        },
        {
         "data": [
          {
           "hovertemplate": "Country=Congo<br>Year=%{x}<br>Life expectancy =%{y}<extra></extra>",
           "ids": [
            2000,
            2001,
            2002,
            2003,
            2004,
            2005,
            2006,
            2007,
            2008,
            2009,
            2010,
            2011,
            2012,
            2013,
            2014,
            2015
           ],
           "legendgroup": "Congo",
           "line": {
            "color": "#636efa",
            "dash": "solid"
           },
           "marker": {
            "symbol": "circle"
           },
           "mode": "lines+markers",
           "name": "Congo",
           "orientation": "v",
           "showlegend": true,
           "type": "scatter",
           "x": [
            2000,
            2001,
            2002,
            2003,
            2004,
            2005,
            2006,
            2007,
            2008,
            2009,
            2010,
            2011,
            2012,
            2013,
            2014,
            2015
           ],
           "xaxis": "x",
           "y": [
            52.9,
            52.7,
            52.6,
            53.2,
            54.1,
            55.3,
            56.9,
            58.2,
            59.4,
            68,
            62,
            62.9,
            63.7,
            63.9,
            64.2,
            64.7
           ],
           "yaxis": "y"
          }
         ],
         "name": "Congo"
        },
        {
         "data": [
          {
           "hovertemplate": "Country=Myanmar<br>Year=%{x}<br>Life expectancy =%{y}<extra></extra>",
           "ids": [
            2000,
            2001,
            2002,
            2003,
            2004,
            2005,
            2006,
            2007,
            2008,
            2009,
            2010,
            2011,
            2012,
            2013,
            2014,
            2015
           ],
           "legendgroup": "Myanmar",
           "line": {
            "color": "#EF553B",
            "dash": "solid"
           },
           "marker": {
            "symbol": "circle"
           },
           "mode": "lines+markers",
           "name": "Myanmar",
           "orientation": "v",
           "showlegend": true,
           "type": "scatter",
           "x": [
            2000,
            2001,
            2002,
            2003,
            2004,
            2005,
            2006,
            2007,
            2008,
            2009,
            2010,
            2011,
            2012,
            2013,
            2014,
            2015
           ],
           "xaxis": "x",
           "y": [
            62.1,
            62.5,
            62.8,
            63.2,
            63.5,
            63.9,
            64.2,
            64.5,
            59.2,
            65.2,
            65.4,
            65.6,
            65.9,
            66.2,
            66.4,
            66.6
           ],
           "yaxis": "y"
          }
         ],
         "name": "Myanmar"
        },
        {
         "data": [
          {
           "hovertemplate": "Country=Mozambique<br>Year=%{x}<br>Life expectancy =%{y}<extra></extra>",
           "ids": [
            2000,
            2001,
            2002,
            2003,
            2004,
            2005,
            2006,
            2007,
            2008,
            2009,
            2010,
            2011,
            2012,
            2013,
            2014,
            2015
           ],
           "legendgroup": "Mozambique",
           "line": {
            "color": "#00cc96",
            "dash": "solid"
           },
           "marker": {
            "symbol": "circle"
           },
           "mode": "lines+markers",
           "name": "Mozambique",
           "orientation": "v",
           "showlegend": true,
           "type": "scatter",
           "x": [
            2000,
            2001,
            2002,
            2003,
            2004,
            2005,
            2006,
            2007,
            2008,
            2009,
            2010,
            2011,
            2012,
            2013,
            2014,
            2015
           ],
           "xaxis": "x",
           "y": [
            49,
            49.5,
            49.8,
            51,
            54,
            58,
            51.2,
            52.1,
            53.2,
            53.8,
            54,
            54.3,
            54.8,
            55.3,
            56.7,
            57.6
           ],
           "yaxis": "y"
          }
         ],
         "name": "Mozambique"
        },
        {
         "data": [
          {
           "hovertemplate": "Country=Namibia<br>Year=%{x}<br>Life expectancy =%{y}<extra></extra>",
           "ids": [
            2000,
            2001,
            2002,
            2003,
            2004,
            2005,
            2006,
            2007,
            2008,
            2009,
            2010,
            2011,
            2012,
            2013,
            2014,
            2015
           ],
           "legendgroup": "Namibia",
           "line": {
            "color": "#ab63fa",
            "dash": "solid"
           },
           "marker": {
            "symbol": "circle"
           },
           "mode": "lines+markers",
           "name": "Namibia",
           "orientation": "v",
           "showlegend": true,
           "type": "scatter",
           "x": [
            2000,
            2001,
            2002,
            2003,
            2004,
            2005,
            2006,
            2007,
            2008,
            2009,
            2010,
            2011,
            2012,
            2013,
            2014,
            2015
           ],
           "xaxis": "x",
           "y": [
            57.4,
            56.5,
            55.7,
            55,
            54.7,
            55.1,
            57,
            60,
            61.7,
            62.4,
            63,
            64.3,
            65.8,
            66.1,
            65.9,
            65.8
           ],
           "yaxis": "y"
          }
         ],
         "name": "Namibia"
        },
        {
         "data": [
          {
           "hovertemplate": "Country=Comoros<br>Year=%{x}<br>Life expectancy =%{y}<extra></extra>",
           "ids": [
            2000,
            2001,
            2002,
            2003,
            2004,
            2005,
            2006,
            2007,
            2008,
            2009,
            2010,
            2011,
            2012,
            2013,
            2014,
            2015
           ],
           "legendgroup": "Comoros",
           "line": {
            "color": "#FFA15A",
            "dash": "solid"
           },
           "marker": {
            "symbol": "circle"
           },
           "mode": "lines+markers",
           "name": "Comoros",
           "orientation": "v",
           "showlegend": true,
           "type": "scatter",
           "x": [
            2000,
            2001,
            2002,
            2003,
            2004,
            2005,
            2006,
            2007,
            2008,
            2009,
            2010,
            2011,
            2012,
            2013,
            2014,
            2015
           ],
           "xaxis": "x",
           "y": [
            59.5,
            59.5,
            59.5,
            59.6,
            59.8,
            60,
            63,
            66,
            61,
            61.3,
            61.8,
            62.2,
            62.5,
            62.9,
            63.2,
            63.5
           ],
           "yaxis": "y"
          }
         ],
         "name": "Comoros"
        },
        {
         "data": [
          {
           "hovertemplate": "Country=Morocco<br>Year=%{x}<br>Life expectancy =%{y}<extra></extra>",
           "ids": [
            2000,
            2001,
            2002,
            2003,
            2004,
            2005,
            2006,
            2007,
            2008,
            2009,
            2010,
            2011,
            2012,
            2013,
            2014,
            2015
           ],
           "legendgroup": "Morocco",
           "line": {
            "color": "#19d3f3",
            "dash": "solid"
           },
           "marker": {
            "symbol": "circle"
           },
           "mode": "lines+markers",
           "name": "Morocco",
           "orientation": "v",
           "showlegend": true,
           "type": "scatter",
           "x": [
            2000,
            2001,
            2002,
            2003,
            2004,
            2005,
            2006,
            2007,
            2008,
            2009,
            2010,
            2011,
            2012,
            2013,
            2014,
            2015
           ],
           "xaxis": "x",
           "y": [
            68.6,
            69,
            69.5,
            69.9,
            72,
            77,
            71,
            71.4,
            71.8,
            72.3,
            72.8,
            73.3,
            73.6,
            73.9,
            74.1,
            74.3
           ],
           "yaxis": "y"
          }
         ],
         "name": "Morocco"
        },
        {
         "data": [
          {
           "hovertemplate": "Country=Croatia<br>Year=%{x}<br>Life expectancy =%{y}<extra></extra>",
           "ids": [
            2000,
            2001,
            2002,
            2003,
            2004,
            2005,
            2006,
            2007,
            2008,
            2009,
            2010,
            2011,
            2012,
            2013,
            2014,
            2015
           ],
           "legendgroup": "Croatia",
           "line": {
            "color": "#FF6692",
            "dash": "solid"
           },
           "marker": {
            "symbol": "circle"
           },
           "mode": "lines+markers",
           "name": "Croatia",
           "orientation": "v",
           "showlegend": true,
           "type": "scatter",
           "x": [
            2000,
            2001,
            2002,
            2003,
            2004,
            2005,
            2006,
            2007,
            2008,
            2009,
            2010,
            2011,
            2012,
            2013,
            2014,
            2015
           ],
           "xaxis": "x",
           "y": [
            74.7,
            74.9,
            74.8,
            74.7,
            75.4,
            75.2,
            75.9,
            75.8,
            76,
            76.3,
            76.6,
            77,
            77.1,
            77.7,
            77.8,
            78
           ],
           "yaxis": "y"
          }
         ],
         "name": "Croatia"
        },
        {
         "data": [
          {
           "hovertemplate": "Country=Nepal<br>Year=%{x}<br>Life expectancy =%{y}<extra></extra>",
           "ids": [
            2000,
            2001,
            2002,
            2003,
            2004,
            2005,
            2006,
            2007,
            2008,
            2009,
            2010,
            2011,
            2012,
            2013,
            2014,
            2015
           ],
           "legendgroup": "Nepal",
           "line": {
            "color": "#B6E880",
            "dash": "solid"
           },
           "marker": {
            "symbol": "circle"
           },
           "mode": "lines+markers",
           "name": "Nepal",
           "orientation": "v",
           "showlegend": true,
           "type": "scatter",
           "x": [
            2000,
            2001,
            2002,
            2003,
            2004,
            2005,
            2006,
            2007,
            2008,
            2009,
            2010,
            2011,
            2012,
            2013,
            2014,
            2015
           ],
           "xaxis": "x",
           "y": [
            62.5,
            63.2,
            63.1,
            64.3,
            64.7,
            65.4,
            66,
            66.6,
            67,
            67.5,
            68,
            68.4,
            68.9,
            69.3,
            69.6,
            69.2
           ],
           "yaxis": "y"
          }
         ],
         "name": "Nepal"
        },
        {
         "data": [
          {
           "hovertemplate": "Country=Colombia<br>Year=%{x}<br>Life expectancy =%{y}<extra></extra>",
           "ids": [
            2000,
            2001,
            2002,
            2003,
            2004,
            2005,
            2006,
            2007,
            2008,
            2009,
            2010,
            2011,
            2012,
            2013,
            2014,
            2015
           ],
           "legendgroup": "Colombia",
           "line": {
            "color": "#FF97FF",
            "dash": "solid"
           },
           "marker": {
            "symbol": "circle"
           },
           "mode": "lines+markers",
           "name": "Colombia",
           "orientation": "v",
           "showlegend": true,
           "type": "scatter",
           "x": [
            2000,
            2001,
            2002,
            2003,
            2004,
            2005,
            2006,
            2007,
            2008,
            2009,
            2010,
            2011,
            2012,
            2013,
            2014,
            2015
           ],
           "xaxis": "x",
           "y": [
            71.4,
            71.5,
            71.8,
            72.4,
            72.8,
            73.1,
            73.1,
            73.5,
            73.5,
            73.6,
            73.6,
            74.2,
            74.3,
            74.4,
            74.6,
            74.8
           ],
           "yaxis": "y"
          }
         ],
         "name": "Colombia"
        },
        {
         "data": [
          {
           "hovertemplate": "Country=Costa Rica<br>Year=%{x}<br>Life expectancy =%{y}<extra></extra>",
           "ids": [
            2000,
            2001,
            2002,
            2003,
            2004,
            2005,
            2006,
            2007,
            2008,
            2009,
            2010,
            2011,
            2012,
            2013,
            2014,
            2015
           ],
           "legendgroup": "Costa Rica",
           "line": {
            "color": "#FECB52",
            "dash": "solid"
           },
           "marker": {
            "symbol": "circle"
           },
           "mode": "lines+markers",
           "name": "Costa Rica",
           "orientation": "v",
           "showlegend": true,
           "type": "scatter",
           "x": [
            2000,
            2001,
            2002,
            2003,
            2004,
            2005,
            2006,
            2007,
            2008,
            2009,
            2010,
            2011,
            2012,
            2013,
            2014,
            2015
           ],
           "xaxis": "x",
           "y": [
            77.6,
            77.5,
            78.3,
            78,
            77.7,
            78.6,
            78,
            78.9,
            78.9,
            79.2,
            78.1,
            79,
            79.2,
            79.4,
            79.5,
            79.6
           ],
           "yaxis": "y"
          }
         ],
         "name": "Costa Rica"
        },
        {
         "data": [
          {
           "hovertemplate": "Country=Montenegro<br>Year=%{x}<br>Life expectancy =%{y}<extra></extra>",
           "ids": [
            2000,
            2001,
            2002,
            2003,
            2004,
            2005,
            2006,
            2007,
            2008,
            2009,
            2010,
            2011,
            2012,
            2013,
            2014,
            2015
           ],
           "legendgroup": "Montenegro",
           "line": {
            "color": "#636efa",
            "dash": "solid"
           },
           "marker": {
            "symbol": "circle"
           },
           "mode": "lines+markers",
           "name": "Montenegro",
           "orientation": "v",
           "showlegend": true,
           "type": "scatter",
           "x": [
            2000,
            2001,
            2002,
            2003,
            2004,
            2005,
            2006,
            2007,
            2008,
            2009,
            2010,
            2011,
            2012,
            2013,
            2014,
            2015
           ],
           "xaxis": "x",
           "y": [
            73,
            73.3,
            73.4,
            73.5,
            73.5,
            73.6,
            73.8,
            74.2,
            74.6,
            75,
            75.3,
            75.4,
            75.6,
            75.8,
            75.9,
            76.1
           ],
           "yaxis": "y"
          }
         ],
         "name": "Montenegro"
        },
        {
         "data": [
          {
           "hovertemplate": "Country=New Zealand<br>Year=%{x}<br>Life expectancy =%{y}<extra></extra>",
           "ids": [
            2000,
            2001,
            2002,
            2003,
            2004,
            2005,
            2006,
            2007,
            2008,
            2009,
            2010,
            2011,
            2012,
            2013,
            2014,
            2015
           ],
           "legendgroup": "New Zealand",
           "line": {
            "color": "#EF553B",
            "dash": "solid"
           },
           "marker": {
            "symbol": "circle"
           },
           "mode": "lines+markers",
           "name": "New Zealand",
           "orientation": "v",
           "showlegend": true,
           "type": "scatter",
           "x": [
            2000,
            2001,
            2002,
            2003,
            2004,
            2005,
            2006,
            2007,
            2008,
            2009,
            2010,
            2011,
            2012,
            2013,
            2014,
            2015
           ],
           "xaxis": "x",
           "y": [
            78.6,
            78.5,
            78.7,
            79.1,
            79.2,
            79.9,
            79.9,
            81,
            81,
            85,
            89,
            86,
            81.1,
            81.3,
            81.5,
            81.6
           ],
           "yaxis": "y"
          }
         ],
         "name": "New Zealand"
        },
        {
         "data": [
          {
           "hovertemplate": "Country=Mongolia<br>Year=%{x}<br>Life expectancy =%{y}<extra></extra>",
           "ids": [
            2000,
            2001,
            2002,
            2003,
            2004,
            2005,
            2006,
            2007,
            2008,
            2009,
            2010,
            2011,
            2012,
            2013,
            2014,
            2015
           ],
           "legendgroup": "Mongolia",
           "line": {
            "color": "#00cc96",
            "dash": "solid"
           },
           "marker": {
            "symbol": "circle"
           },
           "mode": "lines+markers",
           "name": "Mongolia",
           "orientation": "v",
           "showlegend": true,
           "type": "scatter",
           "x": [
            2000,
            2001,
            2002,
            2003,
            2004,
            2005,
            2006,
            2007,
            2008,
            2009,
            2010,
            2011,
            2012,
            2013,
            2014,
            2015
           ],
           "xaxis": "x",
           "y": [
            62.8,
            63.2,
            63.8,
            64,
            64,
            64.5,
            65,
            65.9,
            67.4,
            66.9,
            66.3,
            67.3,
            67.8,
            68.1,
            68.4,
            68.8
           ],
           "yaxis": "y"
          }
         ],
         "name": "Mongolia"
        },
        {
         "data": [
          {
           "hovertemplate": "Country=China<br>Year=%{x}<br>Life expectancy =%{y}<extra></extra>",
           "ids": [
            2000,
            2001,
            2002,
            2003,
            2004,
            2005,
            2006,
            2007,
            2008,
            2009,
            2010,
            2011,
            2012,
            2013,
            2014,
            2015
           ],
           "legendgroup": "China",
           "line": {
            "color": "#ab63fa",
            "dash": "solid"
           },
           "marker": {
            "symbol": "circle"
           },
           "mode": "lines+markers",
           "name": "China",
           "orientation": "v",
           "showlegend": true,
           "type": "scatter",
           "x": [
            2000,
            2001,
            2002,
            2003,
            2004,
            2005,
            2006,
            2007,
            2008,
            2009,
            2010,
            2011,
            2012,
            2013,
            2014,
            2015
           ],
           "xaxis": "x",
           "y": [
            71.7,
            72.2,
            72.7,
            73.1,
            73.5,
            73.9,
            74.2,
            74.4,
            74.5,
            74.9,
            75,
            75.2,
            75.4,
            75.6,
            75.8,
            76.1
           ],
           "yaxis": "y"
          }
         ],
         "name": "China"
        },
        {
         "data": [
          {
           "hovertemplate": "Country=Netherlands<br>Year=%{x}<br>Life expectancy =%{y}<extra></extra>",
           "ids": [
            2000,
            2001,
            2002,
            2003,
            2004,
            2005,
            2006,
            2007,
            2008,
            2009,
            2010,
            2011,
            2012,
            2013,
            2014,
            2015
           ],
           "legendgroup": "Netherlands",
           "line": {
            "color": "#FFA15A",
            "dash": "solid"
           },
           "marker": {
            "symbol": "circle"
           },
           "mode": "lines+markers",
           "name": "Netherlands",
           "orientation": "v",
           "showlegend": true,
           "type": "scatter",
           "x": [
            2000,
            2001,
            2002,
            2003,
            2004,
            2005,
            2006,
            2007,
            2008,
            2009,
            2010,
            2011,
            2012,
            2013,
            2014,
            2015
           ],
           "xaxis": "x",
           "y": [
            78.1,
            78.3,
            78.4,
            78.7,
            79.2,
            79.4,
            79.8,
            82,
            83,
            86,
            88,
            81.1,
            81.1,
            81.4,
            81.7,
            81.9
           ],
           "yaxis": "y"
          }
         ],
         "name": "Netherlands"
        },
        {
         "data": [
          {
           "hovertemplate": "Country=India<br>Year=%{x}<br>Life expectancy =%{y}<extra></extra>",
           "ids": [
            2000,
            2001,
            2002,
            2003,
            2004,
            2005,
            2006,
            2007,
            2008,
            2009,
            2010,
            2011,
            2012,
            2013,
            2014,
            2015
           ],
           "legendgroup": "India",
           "line": {
            "color": "#19d3f3",
            "dash": "solid"
           },
           "marker": {
            "symbol": "circle"
           },
           "mode": "lines+markers",
           "name": "India",
           "orientation": "v",
           "showlegend": true,
           "type": "scatter",
           "x": [
            2000,
            2001,
            2002,
            2003,
            2004,
            2005,
            2006,
            2007,
            2008,
            2009,
            2010,
            2011,
            2012,
            2013,
            2014,
            2015
           ],
           "xaxis": "x",
           "y": [
            62.5,
            62.9,
            63.3,
            63.7,
            64,
            64.4,
            64.8,
            65.2,
            65.5,
            66,
            66.4,
            66.8,
            67.3,
            67.6,
            68,
            68.3
           ],
           "yaxis": "y"
          }
         ],
         "name": "India"
        },
        {
         "data": [
          {
           "hovertemplate": "Country=Canada<br>Year=%{x}<br>Life expectancy =%{y}<extra></extra>",
           "ids": [
            2000,
            2001,
            2002,
            2003,
            2004,
            2005,
            2006,
            2007,
            2008,
            2009,
            2010,
            2011,
            2012,
            2013,
            2014,
            2015
           ],
           "legendgroup": "Canada",
           "line": {
            "color": "#FF6692",
            "dash": "solid"
           },
           "marker": {
            "symbol": "circle"
           },
           "mode": "lines+markers",
           "name": "Canada",
           "orientation": "v",
           "showlegend": true,
           "type": "scatter",
           "x": [
            2000,
            2001,
            2002,
            2003,
            2004,
            2005,
            2006,
            2007,
            2008,
            2009,
            2010,
            2011,
            2012,
            2013,
            2014,
            2015
           ],
           "xaxis": "x",
           "y": [
            79.1,
            79.4,
            79.5,
            79.7,
            80,
            81,
            85,
            85,
            87,
            81,
            81.2,
            81.5,
            81.6,
            81.8,
            82,
            82.2
           ],
           "yaxis": "y"
          }
         ],
         "name": "Canada"
        },
        {
         "data": [
          {
           "hovertemplate": "Country=Czechia<br>Year=%{x}<br>Life expectancy =%{y}<extra></extra>",
           "ids": [
            2000,
            2001,
            2002,
            2003,
            2004,
            2005,
            2006,
            2007,
            2008,
            2009,
            2010,
            2011,
            2012,
            2013,
            2014,
            2015
           ],
           "legendgroup": "Czechia",
           "line": {
            "color": "#B6E880",
            "dash": "solid"
           },
           "marker": {
            "symbol": "circle"
           },
           "mode": "lines+markers",
           "name": "Czechia",
           "orientation": "v",
           "showlegend": true,
           "type": "scatter",
           "x": [
            2000,
            2001,
            2002,
            2003,
            2004,
            2005,
            2006,
            2007,
            2008,
            2009,
            2010,
            2011,
            2012,
            2013,
            2014,
            2015
           ],
           "xaxis": "x",
           "y": [
            74.7,
            75.1,
            75.3,
            75.2,
            75.8,
            75.9,
            76.5,
            76.8,
            77,
            77.1,
            77.5,
            77.8,
            78,
            78.2,
            78.6,
            78.8
           ],
           "yaxis": "y"
          }
         ],
         "name": "Czechia"
        },
        {
         "data": [
          {
           "hovertemplate": "Country=Luxembourg<br>Year=%{x}<br>Life expectancy =%{y}<extra></extra>",
           "ids": [
            2000,
            2001,
            2002,
            2003,
            2004,
            2005,
            2006,
            2007,
            2008,
            2009,
            2010,
            2011,
            2012,
            2013,
            2014,
            2015
           ],
           "legendgroup": "Luxembourg",
           "line": {
            "color": "#FF97FF",
            "dash": "solid"
           },
           "marker": {
            "symbol": "circle"
           },
           "mode": "lines+markers",
           "name": "Luxembourg",
           "orientation": "v",
           "showlegend": true,
           "type": "scatter",
           "x": [
            2000,
            2001,
            2002,
            2003,
            2004,
            2005,
            2006,
            2007,
            2008,
            2009,
            2010,
            2011,
            2012,
            2013,
            2014,
            2015
           ],
           "xaxis": "x",
           "y": [
            77.8,
            78,
            78.3,
            78.6,
            78.7,
            78.8,
            79.4,
            79.7,
            80,
            83,
            86,
            88,
            81.1,
            81.4,
            81.7,
            82
           ],
           "yaxis": "y"
          }
         ],
         "name": "Luxembourg"
        },
        {
         "data": [
          {
           "hovertemplate": "Country=Romania<br>Year=%{x}<br>Life expectancy =%{y}<extra></extra>",
           "ids": [
            2000,
            2001,
            2002,
            2003,
            2004,
            2005,
            2006,
            2007,
            2008,
            2009,
            2010,
            2011,
            2012,
            2013,
            2014,
            2015
           ],
           "legendgroup": "Romania",
           "line": {
            "color": "#FECB52",
            "dash": "solid"
           },
           "marker": {
            "symbol": "circle"
           },
           "mode": "lines+markers",
           "name": "Romania",
           "orientation": "v",
           "showlegend": true,
           "type": "scatter",
           "x": [
            2000,
            2001,
            2002,
            2003,
            2004,
            2005,
            2006,
            2007,
            2008,
            2009,
            2010,
            2011,
            2012,
            2013,
            2014,
            2015
           ],
           "xaxis": "x",
           "y": [
            77,
            78,
            77,
            71.1,
            71.7,
            71.9,
            72.5,
            72.9,
            73.1,
            73.1,
            73.4,
            74.3,
            74.4,
            74.6,
            74.8,
            75
           ],
           "yaxis": "y"
          }
         ],
         "name": "Romania"
        },
        {
         "data": [
          {
           "hovertemplate": "Country=Burundi<br>Year=%{x}<br>Life expectancy =%{y}<extra></extra>",
           "ids": [
            2000,
            2001,
            2002,
            2003,
            2004,
            2005,
            2006,
            2007,
            2008,
            2009,
            2010,
            2011,
            2012,
            2013,
            2014,
            2015
           ],
           "legendgroup": "Burundi",
           "line": {
            "color": "#636efa",
            "dash": "solid"
           },
           "marker": {
            "symbol": "circle"
           },
           "mode": "lines+markers",
           "name": "Burundi",
           "orientation": "v",
           "showlegend": true,
           "type": "scatter",
           "x": [
            2000,
            2001,
            2002,
            2003,
            2004,
            2005,
            2006,
            2007,
            2008,
            2009,
            2010,
            2011,
            2012,
            2013,
            2014,
            2015
           ],
           "xaxis": "x",
           "y": [
            58,
            51.3,
            51.5,
            51.9,
            52.6,
            53.4,
            54.1,
            54.8,
            55.3,
            56.2,
            56.8,
            57.4,
            58,
            58.6,
            59.1,
            59.6
           ],
           "yaxis": "y"
          }
         ],
         "name": "Burundi"
        },
        {
         "data": [
          {
           "hovertemplate": "Country=Russian Federation<br>Year=%{x}<br>Life expectancy =%{y}<extra></extra>",
           "ids": [
            2000,
            2001,
            2002,
            2003,
            2004,
            2005,
            2006,
            2007,
            2008,
            2009,
            2010,
            2011,
            2012,
            2013,
            2014,
            2015
           ],
           "legendgroup": "Russian Federation",
           "line": {
            "color": "#EF553B",
            "dash": "solid"
           },
           "marker": {
            "symbol": "circle"
           },
           "mode": "lines+markers",
           "name": "Russian Federation",
           "orientation": "v",
           "showlegend": true,
           "type": "scatter",
           "x": [
            2000,
            2001,
            2002,
            2003,
            2004,
            2005,
            2006,
            2007,
            2008,
            2009,
            2010,
            2011,
            2012,
            2013,
            2014,
            2015
           ],
           "xaxis": "x",
           "y": [
            65,
            65.1,
            64.8,
            64.6,
            64.9,
            65,
            66.4,
            67.3,
            67.5,
            68.2,
            68.4,
            69.4,
            69.6,
            70,
            73,
            75
           ],
           "yaxis": "y"
          }
         ],
         "name": "Russian Federation"
        },
        {
         "data": [
          {
           "hovertemplate": "Country=Denmark<br>Year=%{x}<br>Life expectancy =%{y}<extra></extra>",
           "ids": [
            2000,
            2001,
            2002,
            2003,
            2004,
            2005,
            2006,
            2007,
            2008,
            2009,
            2010,
            2011,
            2012,
            2013,
            2014,
            2015
           ],
           "legendgroup": "Denmark",
           "line": {
            "color": "#00cc96",
            "dash": "solid"
           },
           "marker": {
            "symbol": "circle"
           },
           "mode": "lines+markers",
           "name": "Denmark",
           "orientation": "v",
           "showlegend": true,
           "type": "scatter",
           "x": [
            2000,
            2001,
            2002,
            2003,
            2004,
            2005,
            2006,
            2007,
            2008,
            2009,
            2010,
            2011,
            2012,
            2013,
            2014,
            2015
           ],
           "xaxis": "x",
           "y": [
            76.9,
            77,
            77,
            77.3,
            77.7,
            78.1,
            78.1,
            78.4,
            78.8,
            78.9,
            79.2,
            79.7,
            80,
            81,
            84,
            86
           ],
           "yaxis": "y"
          }
         ],
         "name": "Denmark"
        },
        {
         "data": [
          {
           "hovertemplate": "Country=Lithuania<br>Year=%{x}<br>Life expectancy =%{y}<extra></extra>",
           "ids": [
            2000,
            2001,
            2002,
            2003,
            2004,
            2005,
            2006,
            2007,
            2008,
            2009,
            2010,
            2011,
            2012,
            2013,
            2014,
            2015
           ],
           "legendgroup": "Lithuania",
           "line": {
            "color": "#ab63fa",
            "dash": "solid"
           },
           "marker": {
            "symbol": "circle"
           },
           "mode": "lines+markers",
           "name": "Lithuania",
           "orientation": "v",
           "showlegend": true,
           "type": "scatter",
           "x": [
            2000,
            2001,
            2002,
            2003,
            2004,
            2005,
            2006,
            2007,
            2008,
            2009,
            2010,
            2011,
            2012,
            2013,
            2014,
            2015
           ],
           "xaxis": "x",
           "y": [
            71.6,
            71.2,
            71.4,
            71.6,
            71.6,
            78,
            76,
            72,
            71.1,
            72.2,
            72.4,
            72.8,
            73,
            73,
            73.4,
            73.6
           ],
           "yaxis": "y"
          }
         ],
         "name": "Lithuania"
        },
        {
         "data": [
          {
           "hovertemplate": "Country=Republic of Moldova<br>Year=%{x}<br>Life expectancy =%{y}<extra></extra>",
           "ids": [
            2000,
            2001,
            2002,
            2003,
            2004,
            2005,
            2006,
            2007,
            2008,
            2009,
            2010,
            2011,
            2012,
            2013,
            2014,
            2015
           ],
           "legendgroup": "Republic of Moldova",
           "line": {
            "color": "#FFA15A",
            "dash": "solid"
           },
           "marker": {
            "symbol": "circle"
           },
           "mode": "lines+markers",
           "name": "Republic of Moldova",
           "orientation": "v",
           "showlegend": true,
           "type": "scatter",
           "x": [
            2000,
            2001,
            2002,
            2003,
            2004,
            2005,
            2006,
            2007,
            2008,
            2009,
            2010,
            2011,
            2012,
            2013,
            2014,
            2015
           ],
           "xaxis": "x",
           "y": [
            67.1,
            67.6,
            67.5,
            67.6,
            68,
            67.3,
            68,
            68.3,
            68.9,
            69,
            68.8,
            77,
            79,
            71.7,
            71.8,
            72.1
           ],
           "yaxis": "y"
          }
         ],
         "name": "Republic of Moldova"
        },
        {
         "data": [
          {
           "hovertemplate": "Country=Rwanda<br>Year=%{x}<br>Life expectancy =%{y}<extra></extra>",
           "ids": [
            2000,
            2001,
            2002,
            2003,
            2004,
            2005,
            2006,
            2007,
            2008,
            2009,
            2010,
            2011,
            2012,
            2013,
            2014,
            2015
           ],
           "legendgroup": "Rwanda",
           "line": {
            "color": "#19d3f3",
            "dash": "solid"
           },
           "marker": {
            "symbol": "circle"
           },
           "mode": "lines+markers",
           "name": "Rwanda",
           "orientation": "v",
           "showlegend": true,
           "type": "scatter",
           "x": [
            2000,
            2001,
            2002,
            2003,
            2004,
            2005,
            2006,
            2007,
            2008,
            2009,
            2010,
            2011,
            2012,
            2013,
            2014,
            2015
           ],
           "xaxis": "x",
           "y": [
            48.3,
            48.6,
            57,
            52,
            53.4,
            55.3,
            57.6,
            59.6,
            68,
            61,
            62.8,
            63.8,
            64.6,
            65.2,
            65.7,
            66.1
           ],
           "yaxis": "y"
          }
         ],
         "name": "Rwanda"
        },
        {
         "data": [
          {
           "hovertemplate": "Country=Libya<br>Year=%{x}<br>Life expectancy =%{y}<extra></extra>",
           "ids": [
            2000,
            2001,
            2002,
            2003,
            2004,
            2005,
            2006,
            2007,
            2008,
            2009,
            2010,
            2011,
            2012,
            2013,
            2014,
            2015
           ],
           "legendgroup": "Libya",
           "line": {
            "color": "#FF6692",
            "dash": "solid"
           },
           "marker": {
            "symbol": "circle"
           },
           "mode": "lines+markers",
           "name": "Libya",
           "orientation": "v",
           "showlegend": true,
           "type": "scatter",
           "x": [
            2000,
            2001,
            2002,
            2003,
            2004,
            2005,
            2006,
            2007,
            2008,
            2009,
            2010,
            2011,
            2012,
            2013,
            2014,
            2015
           ],
           "xaxis": "x",
           "y": [
            78,
            71,
            71.1,
            71.3,
            71.5,
            71.9,
            72.2,
            72.5,
            72.6,
            72.7,
            72.8,
            71.3,
            72.9,
            72.9,
            72.4,
            72.7
           ],
           "yaxis": "y"
          }
         ],
         "name": "Libya"
        },
        {
         "data": [
          {
           "hovertemplate": "Country=Saint Lucia<br>Year=%{x}<br>Life expectancy =%{y}<extra></extra>",
           "ids": [
            2000,
            2001,
            2002,
            2003,
            2004,
            2005,
            2006,
            2007,
            2008,
            2009,
            2010,
            2011,
            2012,
            2013,
            2014,
            2015
           ],
           "legendgroup": "Saint Lucia",
           "line": {
            "color": "#B6E880",
            "dash": "solid"
           },
           "marker": {
            "symbol": "circle"
           },
           "mode": "lines+markers",
           "name": "Saint Lucia",
           "orientation": "v",
           "showlegend": true,
           "type": "scatter",
           "x": [
            2000,
            2001,
            2002,
            2003,
            2004,
            2005,
            2006,
            2007,
            2008,
            2009,
            2010,
            2011,
            2012,
            2013,
            2014,
            2015
           ],
           "xaxis": "x",
           "y": [
            71.6,
            71.8,
            72,
            72.2,
            72.6,
            73.1,
            73.5,
            73.9,
            74.1,
            74.3,
            74.2,
            74.6,
            74.7,
            74.8,
            75,
            75.2
           ],
           "yaxis": "y"
          }
         ],
         "name": "Saint Lucia"
        },
        {
         "data": [
          {
           "hovertemplate": "Country=Saint Vincent and the Grenadines<br>Year=%{x}<br>Life expectancy =%{y}<extra></extra>",
           "ids": [
            2000,
            2001,
            2002,
            2003,
            2004,
            2005,
            2006,
            2007,
            2008,
            2009,
            2010,
            2011,
            2012,
            2013,
            2014,
            2015
           ],
           "legendgroup": "Saint Vincent and the Grenadines",
           "line": {
            "color": "#FF97FF",
            "dash": "solid"
           },
           "marker": {
            "symbol": "circle"
           },
           "mode": "lines+markers",
           "name": "Saint Vincent and the Grenadines",
           "orientation": "v",
           "showlegend": true,
           "type": "scatter",
           "x": [
            2000,
            2001,
            2002,
            2003,
            2004,
            2005,
            2006,
            2007,
            2008,
            2009,
            2010,
            2011,
            2012,
            2013,
            2014,
            2015
           ],
           "xaxis": "x",
           "y": [
            79,
            79,
            79,
            71,
            71.2,
            71.4,
            71.7,
            71.9,
            72.1,
            72.3,
            72.5,
            72.7,
            72.8,
            72.7,
            73.1,
            73.2
           ],
           "yaxis": "y"
          }
         ],
         "name": "Saint Vincent and the Grenadines"
        },
        {
         "data": [
          {
           "hovertemplate": "Country=Bulgaria<br>Year=%{x}<br>Life expectancy =%{y}<extra></extra>",
           "ids": [
            2000,
            2001,
            2002,
            2003,
            2004,
            2005,
            2006,
            2007,
            2008,
            2009,
            2010,
            2011,
            2012,
            2013,
            2014,
            2015
           ],
           "legendgroup": "Bulgaria",
           "line": {
            "color": "#FECB52",
            "dash": "solid"
           },
           "marker": {
            "symbol": "circle"
           },
           "mode": "lines+markers",
           "name": "Bulgaria",
           "orientation": "v",
           "showlegend": true,
           "type": "scatter",
           "x": [
            2000,
            2001,
            2002,
            2003,
            2004,
            2005,
            2006,
            2007,
            2008,
            2009,
            2010,
            2011,
            2012,
            2013,
            2014,
            2015
           ],
           "xaxis": "x",
           "y": [
            71.1,
            71.6,
            71.8,
            72,
            72.2,
            72.1,
            72.2,
            72.6,
            72.9,
            73.2,
            73.4,
            73.7,
            73.9,
            74.1,
            74.3,
            74.5
           ],
           "yaxis": "y"
          }
         ],
         "name": "Bulgaria"
        },
        {
         "data": [
          {
           "hovertemplate": "Country=Djibouti<br>Year=%{x}<br>Life expectancy =%{y}<extra></extra>",
           "ids": [
            2000,
            2001,
            2002,
            2003,
            2004,
            2005,
            2006,
            2007,
            2008,
            2009,
            2010,
            2011,
            2012,
            2013,
            2014,
            2015
           ],
           "legendgroup": "Djibouti",
           "line": {
            "color": "#636efa",
            "dash": "solid"
           },
           "marker": {
            "symbol": "circle"
           },
           "mode": "lines+markers",
           "name": "Djibouti",
           "orientation": "v",
           "showlegend": true,
           "type": "scatter",
           "x": [
            2000,
            2001,
            2002,
            2003,
            2004,
            2005,
            2006,
            2007,
            2008,
            2009,
            2010,
            2011,
            2012,
            2013,
            2014,
            2015
           ],
           "xaxis": "x",
           "y": [
            57.4,
            57.7,
            57.9,
            58,
            58.1,
            58.6,
            59.1,
            59.8,
            62,
            69,
            61.3,
            61.8,
            62.2,
            62.7,
            63,
            63.5
           ],
           "yaxis": "y"
          }
         ],
         "name": "Djibouti"
        },
        {
         "data": [
          {
           "hovertemplate": "Country=Liberia<br>Year=%{x}<br>Life expectancy =%{y}<extra></extra>",
           "ids": [
            2000,
            2001,
            2002,
            2003,
            2004,
            2005,
            2006,
            2007,
            2008,
            2009,
            2010,
            2011,
            2012,
            2013,
            2014,
            2015
           ],
           "legendgroup": "Liberia",
           "line": {
            "color": "#EF553B",
            "dash": "solid"
           },
           "marker": {
            "symbol": "circle"
           },
           "mode": "lines+markers",
           "name": "Liberia",
           "orientation": "v",
           "showlegend": true,
           "type": "scatter",
           "x": [
            2000,
            2001,
            2002,
            2003,
            2004,
            2005,
            2006,
            2007,
            2008,
            2009,
            2010,
            2011,
            2012,
            2013,
            2014,
            2015
           ],
           "xaxis": "x",
           "y": [
            51.9,
            51.5,
            56,
            50,
            54,
            55.3,
            56.7,
            57.9,
            58.6,
            59.2,
            59.7,
            62,
            67,
            61.1,
            58.1,
            61.4
           ],
           "yaxis": "y"
          }
         ],
         "name": "Liberia"
        },
        {
         "data": [
          {
           "hovertemplate": "Country=Burkina Faso<br>Year=%{x}<br>Life expectancy =%{y}<extra></extra>",
           "ids": [
            2000,
            2001,
            2002,
            2003,
            2004,
            2005,
            2006,
            2007,
            2008,
            2009,
            2010,
            2011,
            2012,
            2013,
            2014,
            2015
           ],
           "legendgroup": "Burkina Faso",
           "line": {
            "color": "#00cc96",
            "dash": "solid"
           },
           "marker": {
            "symbol": "circle"
           },
           "mode": "lines+markers",
           "name": "Burkina Faso",
           "orientation": "v",
           "showlegend": true,
           "type": "scatter",
           "x": [
            2000,
            2001,
            2002,
            2003,
            2004,
            2005,
            2006,
            2007,
            2008,
            2009,
            2010,
            2011,
            2012,
            2013,
            2014,
            2015
           ],
           "xaxis": "x",
           "y": [
            51,
            56,
            51,
            51.6,
            52.4,
            53.3,
            54.3,
            55.3,
            56.1,
            56.9,
            57.5,
            58.1,
            58.6,
            59,
            59.3,
            59.9
           ],
           "yaxis": "y"
          }
         ],
         "name": "Burkina Faso"
        },
        {
         "data": [
          {
           "hovertemplate": "Country=Paraguay<br>Year=%{x}<br>Life expectancy =%{y}<extra></extra>",
           "ids": [
            2000,
            2001,
            2002,
            2003,
            2004,
            2005,
            2006,
            2007,
            2008,
            2009,
            2010,
            2011,
            2012,
            2013,
            2014,
            2015
           ],
           "legendgroup": "Paraguay",
           "line": {
            "color": "#ab63fa",
            "dash": "solid"
           },
           "marker": {
            "symbol": "circle"
           },
           "mode": "lines+markers",
           "name": "Paraguay",
           "orientation": "v",
           "showlegend": true,
           "type": "scatter",
           "x": [
            2000,
            2001,
            2002,
            2003,
            2004,
            2005,
            2006,
            2007,
            2008,
            2009,
            2010,
            2011,
            2012,
            2013,
            2014,
            2015
           ],
           "xaxis": "x",
           "y": [
            79,
            71.2,
            71.5,
            71.7,
            71.9,
            72.1,
            72.3,
            72.5,
            72.7,
            73,
            73.2,
            73.4,
            73.6,
            73.8,
            73.9,
            74
           ],
           "yaxis": "y"
          }
         ],
         "name": "Paraguay"
        },
        {
         "data": [
          {
           "hovertemplate": "Country=Madagascar<br>Year=%{x}<br>Life expectancy =%{y}<extra></extra>",
           "ids": [
            2000,
            2001,
            2002,
            2003,
            2004,
            2005,
            2006,
            2007,
            2008,
            2009,
            2010,
            2011,
            2012,
            2013,
            2014,
            2015
           ],
           "legendgroup": "Madagascar",
           "line": {
            "color": "#FFA15A",
            "dash": "solid"
           },
           "marker": {
            "symbol": "circle"
           },
           "mode": "lines+markers",
           "name": "Madagascar",
           "orientation": "v",
           "showlegend": true,
           "type": "scatter",
           "x": [
            2000,
            2001,
            2002,
            2003,
            2004,
            2005,
            2006,
            2007,
            2008,
            2009,
            2010,
            2011,
            2012,
            2013,
            2014,
            2015
           ],
           "xaxis": "x",
           "y": [
            57.9,
            58.7,
            59.3,
            59.9,
            64,
            69,
            61.4,
            61.9,
            62.3,
            62.8,
            63.3,
            63.8,
            64.3,
            64.7,
            65.1,
            65.5
           ],
           "yaxis": "y"
          }
         ],
         "name": "Madagascar"
        },
        {
         "data": [
          {
           "hovertemplate": "Country=Democratic Republic of the Congo<br>Year=%{x}<br>Life expectancy =%{y}<extra></extra>",
           "ids": [
            2000,
            2001,
            2002,
            2003,
            2004,
            2005,
            2006,
            2007,
            2008,
            2009,
            2010,
            2011,
            2012,
            2013,
            2014,
            2015
           ],
           "legendgroup": "Democratic Republic of the Congo",
           "line": {
            "color": "#19d3f3",
            "dash": "solid"
           },
           "marker": {
            "symbol": "circle"
           },
           "mode": "lines+markers",
           "name": "Democratic Republic of the Congo",
           "orientation": "v",
           "showlegend": true,
           "type": "scatter",
           "x": [
            2000,
            2001,
            2002,
            2003,
            2004,
            2005,
            2006,
            2007,
            2008,
            2009,
            2010,
            2011,
            2012,
            2013,
            2014,
            2015
           ],
           "xaxis": "x",
           "y": [
            51.3,
            51.8,
            52.1,
            52.8,
            53.5,
            54.3,
            55,
            55.7,
            56.3,
            56.7,
            57.4,
            57.9,
            58.3,
            58.8,
            59.3,
            59.8
           ],
           "yaxis": "y"
          }
         ],
         "name": "Democratic Republic of the Congo"
        },
        {
         "data": [
          {
           "hovertemplate": "Country=Peru<br>Year=%{x}<br>Life expectancy =%{y}<extra></extra>",
           "ids": [
            2000,
            2001,
            2002,
            2003,
            2004,
            2005,
            2006,
            2007,
            2008,
            2009,
            2010,
            2011,
            2012,
            2013,
            2014,
            2015
           ],
           "legendgroup": "Peru",
           "line": {
            "color": "#FF6692",
            "dash": "solid"
           },
           "marker": {
            "symbol": "circle"
           },
           "mode": "lines+markers",
           "name": "Peru",
           "orientation": "v",
           "showlegend": true,
           "type": "scatter",
           "x": [
            2000,
            2001,
            2002,
            2003,
            2004,
            2005,
            2006,
            2007,
            2008,
            2009,
            2010,
            2011,
            2012,
            2013,
            2014,
            2015
           ],
           "xaxis": "x",
           "y": [
            71.4,
            72.4,
            72.6,
            72.1,
            72.2,
            72.8,
            74.2,
            74,
            73.9,
            73.8,
            73.7,
            74.5,
            74.9,
            75.3,
            75.3,
            75.5
           ],
           "yaxis": "y"
          }
         ],
         "name": "Peru"
        },
        {
         "data": [
          {
           "hovertemplate": "Country=Cameroon<br>Year=%{x}<br>Life expectancy =%{y}<extra></extra>",
           "ids": [
            2000,
            2001,
            2002,
            2003,
            2004,
            2005,
            2006,
            2007,
            2008,
            2009,
            2010,
            2011,
            2012,
            2013,
            2014,
            2015
           ],
           "legendgroup": "Cameroon",
           "line": {
            "color": "#B6E880",
            "dash": "solid"
           },
           "marker": {
            "symbol": "circle"
           },
           "mode": "lines+markers",
           "name": "Cameroon",
           "orientation": "v",
           "showlegend": true,
           "type": "scatter",
           "x": [
            2000,
            2001,
            2002,
            2003,
            2004,
            2005,
            2006,
            2007,
            2008,
            2009,
            2010,
            2011,
            2012,
            2013,
            2014,
            2015
           ],
           "xaxis": "x",
           "y": [
            51.4,
            51.5,
            51.6,
            51.8,
            52.1,
            52.8,
            53.3,
            53.6,
            54.2,
            54.8,
            55.3,
            55.6,
            55.9,
            56.4,
            56.7,
            57.3
           ],
           "yaxis": "y"
          }
         ],
         "name": "Cameroon"
        },
        {
         "data": [
          {
           "hovertemplate": "Country=Mali<br>Year=%{x}<br>Life expectancy =%{y}<extra></extra>",
           "ids": [
            2000,
            2001,
            2002,
            2003,
            2004,
            2005,
            2006,
            2007,
            2008,
            2009,
            2010,
            2011,
            2012,
            2013,
            2014,
            2015
           ],
           "legendgroup": "Mali",
           "line": {
            "color": "#FF97FF",
            "dash": "solid"
           },
           "marker": {
            "symbol": "circle"
           },
           "mode": "lines+markers",
           "name": "Mali",
           "orientation": "v",
           "showlegend": true,
           "type": "scatter",
           "x": [
            2000,
            2001,
            2002,
            2003,
            2004,
            2005,
            2006,
            2007,
            2008,
            2009,
            2010,
            2011,
            2012,
            2013,
            2014,
            2015
           ],
           "xaxis": "x",
           "y": [
            49.8,
            55,
            51.2,
            52,
            52.8,
            53.6,
            54.3,
            55,
            55.5,
            56,
            56.5,
            56.8,
            57.2,
            57.3,
            57.8,
            58.2
           ],
           "yaxis": "y"
          }
         ],
         "name": "Mali"
        },
        {
         "data": [
          {
           "hovertemplate": "Country=Maldives<br>Year=%{x}<br>Life expectancy =%{y}<extra></extra>",
           "ids": [
            2000,
            2001,
            2002,
            2003,
            2004,
            2005,
            2006,
            2007,
            2008,
            2009,
            2010,
            2011,
            2012,
            2013,
            2014,
            2015
           ],
           "legendgroup": "Maldives",
           "line": {
            "color": "#FECB52",
            "dash": "solid"
           },
           "marker": {
            "symbol": "circle"
           },
           "mode": "lines+markers",
           "name": "Maldives",
           "orientation": "v",
           "showlegend": true,
           "type": "scatter",
           "x": [
            2000,
            2001,
            2002,
            2003,
            2004,
            2005,
            2006,
            2007,
            2008,
            2009,
            2010,
            2011,
            2012,
            2013,
            2014,
            2015
           ],
           "xaxis": "x",
           "y": [
            69.6,
            78,
            71.8,
            72.7,
            73.4,
            74.3,
            75,
            75.4,
            75.9,
            76.3,
            76.7,
            77.3,
            77.6,
            77.9,
            78.2,
            78.5
           ],
           "yaxis": "y"
          }
         ],
         "name": "Maldives"
        },
        {
         "data": [
          {
           "hovertemplate": "Country=Philippines<br>Year=%{x}<br>Life expectancy =%{y}<extra></extra>",
           "ids": [
            2000,
            2001,
            2002,
            2003,
            2004,
            2005,
            2006,
            2007,
            2008,
            2009,
            2010,
            2011,
            2012,
            2013,
            2014,
            2015
           ],
           "legendgroup": "Philippines",
           "line": {
            "color": "#636efa",
            "dash": "solid"
           },
           "marker": {
            "symbol": "circle"
           },
           "mode": "lines+markers",
           "name": "Philippines",
           "orientation": "v",
           "showlegend": true,
           "type": "scatter",
           "x": [
            2000,
            2001,
            2002,
            2003,
            2004,
            2005,
            2006,
            2007,
            2008,
            2009,
            2010,
            2011,
            2012,
            2013,
            2014,
            2015
           ],
           "xaxis": "x",
           "y": [
            66.8,
            66.8,
            66.8,
            67.2,
            67.3,
            67,
            67.3,
            67.5,
            67.5,
            68,
            67.9,
            68,
            68.1,
            68.1,
            68.4,
            68.5
           ],
           "yaxis": "y"
          }
         ],
         "name": "Philippines"
        },
        {
         "data": [
          {
           "hovertemplate": "Country=Cambodia<br>Year=%{x}<br>Life expectancy =%{y}<extra></extra>",
           "ids": [
            2000,
            2001,
            2002,
            2003,
            2004,
            2005,
            2006,
            2007,
            2008,
            2009,
            2010,
            2011,
            2012,
            2013,
            2014,
            2015
           ],
           "legendgroup": "Cambodia",
           "line": {
            "color": "#EF553B",
            "dash": "solid"
           },
           "marker": {
            "symbol": "circle"
           },
           "mode": "lines+markers",
           "name": "Cambodia",
           "orientation": "v",
           "showlegend": true,
           "type": "scatter",
           "x": [
            2000,
            2001,
            2002,
            2003,
            2004,
            2005,
            2006,
            2007,
            2008,
            2009,
            2010,
            2011,
            2012,
            2013,
            2014,
            2015
           ],
           "xaxis": "x",
           "y": [
            57.7,
            58.5,
            59.3,
            63,
            61.5,
            62.9,
            64.1,
            65,
            65.6,
            66.1,
            66.6,
            67,
            67.4,
            67.8,
            68.3,
            68.7
           ],
           "yaxis": "y"
          }
         ],
         "name": "Cambodia"
        },
        {
         "data": [
          {
           "hovertemplate": "Country=Côte d'Ivoire<br>Year=%{x}<br>Life expectancy =%{y}<extra></extra>",
           "ids": [
            2000,
            2001,
            2002,
            2003,
            2004,
            2005,
            2006,
            2007,
            2008,
            2009,
            2010,
            2011,
            2012,
            2013,
            2014,
            2015
           ],
           "legendgroup": "Côte d'Ivoire",
           "line": {
            "color": "#00cc96",
            "dash": "solid"
           },
           "marker": {
            "symbol": "circle"
           },
           "mode": "lines+markers",
           "name": "Côte d'Ivoire",
           "orientation": "v",
           "showlegend": true,
           "type": "scatter",
           "x": [
            2000,
            2001,
            2002,
            2003,
            2004,
            2005,
            2006,
            2007,
            2008,
            2009,
            2010,
            2011,
            2012,
            2013,
            2014,
            2015
           ],
           "xaxis": "x",
           "y": [
            47.9,
            47.8,
            47.7,
            48,
            48.2,
            48.7,
            49.4,
            49.9,
            54,
            51,
            51.5,
            51.7,
            52,
            52.3,
            52.8,
            53.3
           ],
           "yaxis": "y"
          }
         ],
         "name": "Côte d'Ivoire"
        },
        {
         "data": [
          {
           "hovertemplate": "Country=Poland<br>Year=%{x}<br>Life expectancy =%{y}<extra></extra>",
           "ids": [
            2000,
            2001,
            2002,
            2003,
            2004,
            2005,
            2006,
            2007,
            2008,
            2009,
            2010,
            2011,
            2012,
            2013,
            2014,
            2015
           ],
           "legendgroup": "Poland",
           "line": {
            "color": "#ab63fa",
            "dash": "solid"
           },
           "marker": {
            "symbol": "circle"
           },
           "mode": "lines+markers",
           "name": "Poland",
           "orientation": "v",
           "showlegend": true,
           "type": "scatter",
           "x": [
            2000,
            2001,
            2002,
            2003,
            2004,
            2005,
            2006,
            2007,
            2008,
            2009,
            2010,
            2011,
            2012,
            2013,
            2014,
            2015
           ],
           "xaxis": "x",
           "y": [
            73.7,
            74.2,
            74.5,
            74.7,
            74.9,
            75,
            75.2,
            75.3,
            75.5,
            75.7,
            76.3,
            76.7,
            76.8,
            77.1,
            77.3,
            77.5
           ],
           "yaxis": "y"
          }
         ],
         "name": "Poland"
        },
        {
         "data": [
          {
           "hovertemplate": "Country=Malaysia<br>Year=%{x}<br>Life expectancy =%{y}<extra></extra>",
           "ids": [
            2000,
            2001,
            2002,
            2003,
            2004,
            2005,
            2006,
            2007,
            2008,
            2009,
            2010,
            2011,
            2012,
            2013,
            2014,
            2015
           ],
           "legendgroup": "Malaysia",
           "line": {
            "color": "#FFA15A",
            "dash": "solid"
           },
           "marker": {
            "symbol": "circle"
           },
           "mode": "lines+markers",
           "name": "Malaysia",
           "orientation": "v",
           "showlegend": true,
           "type": "scatter",
           "x": [
            2000,
            2001,
            2002,
            2003,
            2004,
            2005,
            2006,
            2007,
            2008,
            2009,
            2010,
            2011,
            2012,
            2013,
            2014,
            2015
           ],
           "xaxis": "x",
           "y": [
            72.4,
            72.7,
            72.9,
            73.1,
            73.2,
            73.4,
            73.6,
            73.7,
            73.8,
            74,
            74.1,
            74.3,
            74.5,
            74.6,
            74.8,
            75
           ],
           "yaxis": "y"
          }
         ],
         "name": "Malaysia"
        },
        {
         "data": [
          {
           "hovertemplate": "Country=Portugal<br>Year=%{x}<br>Life expectancy =%{y}<extra></extra>",
           "ids": [
            2000,
            2001,
            2002,
            2003,
            2004,
            2005,
            2006,
            2007,
            2008,
            2009,
            2010,
            2011,
            2012,
            2013,
            2014,
            2015
           ],
           "legendgroup": "Portugal",
           "line": {
            "color": "#19d3f3",
            "dash": "solid"
           },
           "marker": {
            "symbol": "circle"
           },
           "mode": "lines+markers",
           "name": "Portugal",
           "orientation": "v",
           "showlegend": true,
           "type": "scatter",
           "x": [
            2000,
            2001,
            2002,
            2003,
            2004,
            2005,
            2006,
            2007,
            2008,
            2009,
            2010,
            2011,
            2012,
            2013,
            2014,
            2015
           ],
           "xaxis": "x",
           "y": [
            76.6,
            76.9,
            77.2,
            77.3,
            78,
            77.7,
            78.5,
            78.7,
            79,
            79.3,
            79.6,
            82,
            83,
            86,
            89,
            81.1
           ],
           "yaxis": "y"
          }
         ],
         "name": "Portugal"
        },
        {
         "data": [
          {
           "hovertemplate": "Country=Cabo Verde<br>Year=%{x}<br>Life expectancy =%{y}<extra></extra>",
           "ids": [
            2000,
            2001,
            2002,
            2003,
            2004,
            2005,
            2006,
            2007,
            2008,
            2009,
            2010,
            2011,
            2012,
            2013,
            2014,
            2015
           ],
           "legendgroup": "Cabo Verde",
           "line": {
            "color": "#FF6692",
            "dash": "solid"
           },
           "marker": {
            "symbol": "circle"
           },
           "mode": "lines+markers",
           "name": "Cabo Verde",
           "orientation": "v",
           "showlegend": true,
           "type": "scatter",
           "x": [
            2000,
            2001,
            2002,
            2003,
            2004,
            2005,
            2006,
            2007,
            2008,
            2009,
            2010,
            2011,
            2012,
            2013,
            2014,
            2015
           ],
           "xaxis": "x",
           "y": [
            69.9,
            73,
            77,
            71.1,
            71.4,
            71.8,
            72.1,
            72.3,
            72.4,
            72.4,
            72.5,
            72.6,
            72.7,
            72.8,
            73,
            73.3
           ],
           "yaxis": "y"
          }
         ],
         "name": "Cabo Verde"
        },
        {
         "data": [
          {
           "hovertemplate": "Country=Malawi<br>Year=%{x}<br>Life expectancy =%{y}<extra></extra>",
           "ids": [
            2000,
            2001,
            2002,
            2003,
            2004,
            2005,
            2006,
            2007,
            2008,
            2009,
            2010,
            2011,
            2012,
            2013,
            2014,
            2015
           ],
           "legendgroup": "Malawi",
           "line": {
            "color": "#B6E880",
            "dash": "solid"
           },
           "marker": {
            "symbol": "circle"
           },
           "mode": "lines+markers",
           "name": "Malawi",
           "orientation": "v",
           "showlegend": true,
           "type": "scatter",
           "x": [
            2000,
            2001,
            2002,
            2003,
            2004,
            2005,
            2006,
            2007,
            2008,
            2009,
            2010,
            2011,
            2012,
            2013,
            2014,
            2015
           ],
           "xaxis": "x",
           "y": [
            43.1,
            43.5,
            44,
            44.6,
            45.1,
            46,
            47.1,
            48.5,
            50,
            51.5,
            52.9,
            54.1,
            55.3,
            56.7,
            57.6,
            58.3
           ],
           "yaxis": "y"
          }
         ],
         "name": "Malawi"
        },
        {
         "data": [
          {
           "hovertemplate": "Country=Qatar<br>Year=%{x}<br>Life expectancy =%{y}<extra></extra>",
           "ids": [
            2000,
            2001,
            2002,
            2003,
            2004,
            2005,
            2006,
            2007,
            2008,
            2009,
            2010,
            2011,
            2012,
            2013,
            2014,
            2015
           ],
           "legendgroup": "Qatar",
           "line": {
            "color": "#FF97FF",
            "dash": "solid"
           },
           "marker": {
            "symbol": "circle"
           },
           "mode": "lines+markers",
           "name": "Qatar",
           "orientation": "v",
           "showlegend": true,
           "type": "scatter",
           "x": [
            2000,
            2001,
            2002,
            2003,
            2004,
            2005,
            2006,
            2007,
            2008,
            2009,
            2010,
            2011,
            2012,
            2013,
            2014,
            2015
           ],
           "xaxis": "x",
           "y": [
            76.2,
            76.3,
            76.4,
            76.5,
            76.6,
            76.6,
            76.6,
            76.7,
            76.8,
            77,
            77.3,
            77.5,
            77.8,
            77.9,
            78.1,
            78.2
           ],
           "yaxis": "y"
          }
         ],
         "name": "Qatar"
        },
        {
         "data": [
          {
           "hovertemplate": "Country=Republic of Korea<br>Year=%{x}<br>Life expectancy =%{y}<extra></extra>",
           "ids": [
            2000,
            2001,
            2002,
            2003,
            2004,
            2005,
            2006,
            2007,
            2008,
            2009,
            2010,
            2011,
            2012,
            2013,
            2014,
            2015
           ],
           "legendgroup": "Republic of Korea",
           "line": {
            "color": "#FECB52",
            "dash": "solid"
           },
           "marker": {
            "symbol": "circle"
           },
           "mode": "lines+markers",
           "name": "Republic of Korea",
           "orientation": "v",
           "showlegend": true,
           "type": "scatter",
           "x": [
            2000,
            2001,
            2002,
            2003,
            2004,
            2005,
            2006,
            2007,
            2008,
            2009,
            2010,
            2011,
            2012,
            2013,
            2014,
            2015
           ],
           "xaxis": "x",
           "y": [
            76,
            76.7,
            77.1,
            77.6,
            78.2,
            78.7,
            79.4,
            79.8,
            83,
            86,
            87,
            81.1,
            81.2,
            81.7,
            82,
            82.3
           ],
           "yaxis": "y"
          }
         ],
         "name": "Republic of Korea"
        },
        {
         "data": [
          {
           "hovertemplate": "Country=Democratic People's Republic of Korea<br>Year=%{x}<br>Life expectancy =%{y}<extra></extra>",
           "ids": [
            2000,
            2001,
            2002,
            2003,
            2004,
            2005,
            2006,
            2007,
            2008,
            2009,
            2010,
            2011,
            2012,
            2013,
            2014,
            2015
           ],
           "legendgroup": "Democratic People's Republic of Korea",
           "line": {
            "color": "#636efa",
            "dash": "solid"
           },
           "marker": {
            "symbol": "circle"
           },
           "mode": "lines+markers",
           "name": "Democratic People's Republic of Korea",
           "orientation": "v",
           "showlegend": true,
           "type": "scatter",
           "x": [
            2000,
            2001,
            2002,
            2003,
            2004,
            2005,
            2006,
            2007,
            2008,
            2009,
            2010,
            2011,
            2012,
            2013,
            2014,
            2015
           ],
           "xaxis": "x",
           "y": [
            65.4,
            66.6,
            67.6,
            68.1,
            68.4,
            68.5,
            68.5,
            68.5,
            68.6,
            68.7,
            69,
            69.4,
            69.8,
            71,
            73,
            76
           ],
           "yaxis": "y"
          }
         ],
         "name": "Democratic People's Republic of Korea"
        },
        {
         "data": [
          {
           "hovertemplate": "Country=Austria<br>Year=%{x}<br>Life expectancy =%{y}<extra></extra>",
           "ids": [
            2000,
            2001,
            2002,
            2003,
            2004,
            2005,
            2006,
            2007,
            2008,
            2009,
            2010,
            2011,
            2012,
            2013,
            2014,
            2015
           ],
           "legendgroup": "Austria",
           "line": {
            "color": "#EF553B",
            "dash": "solid"
           },
           "marker": {
            "symbol": "circle"
           },
           "mode": "lines+markers",
           "name": "Austria",
           "orientation": "v",
           "showlegend": true,
           "type": "scatter",
           "x": [
            2000,
            2001,
            2002,
            2003,
            2004,
            2005,
            2006,
            2007,
            2008,
            2009,
            2010,
            2011,
            2012,
            2013,
            2014,
            2015
           ],
           "xaxis": "x",
           "y": [
            78.1,
            78.6,
            78.7,
            78.8,
            79.3,
            79.4,
            79.8,
            81,
            84,
            82,
            84,
            88,
            88,
            81.1,
            81.4,
            81.5
           ],
           "yaxis": "y"
          }
         ],
         "name": "Austria"
        },
        {
         "data": [
          {
           "hovertemplate": "Country=Slovenia<br>Year=%{x}<br>Life expectancy =%{y}<extra></extra>",
           "ids": [
            2000,
            2001,
            2002,
            2003,
            2004,
            2005,
            2006,
            2007,
            2008,
            2009,
            2010,
            2011,
            2012,
            2013,
            2014,
            2015
           ],
           "legendgroup": "Slovenia",
           "line": {
            "color": "#00cc96",
            "dash": "solid"
           },
           "marker": {
            "symbol": "circle"
           },
           "mode": "lines+markers",
           "name": "Slovenia",
           "orientation": "v",
           "showlegend": true,
           "type": "scatter",
           "x": [
            2000,
            2001,
            2002,
            2003,
            2004,
            2005,
            2006,
            2007,
            2008,
            2009,
            2010,
            2011,
            2012,
            2013,
            2014,
            2015
           ],
           "xaxis": "x",
           "y": [
            76,
            76.2,
            76.6,
            76.5,
            77.2,
            77.5,
            78.1,
            78.3,
            78.9,
            79.1,
            79.5,
            79.8,
            82,
            85,
            87,
            88
           ],
           "yaxis": "y"
          }
         ],
         "name": "Slovenia"
        },
        {
         "data": [
          {
           "hovertemplate": "Country=Algeria<br>Year=%{x}<br>Life expectancy =%{y}<extra></extra>",
           "ids": [
            2000,
            2001,
            2002,
            2003,
            2004,
            2005,
            2006,
            2007,
            2008,
            2009,
            2010,
            2011,
            2012,
            2013,
            2014,
            2015
           ],
           "legendgroup": "Algeria",
           "line": {
            "color": "#ab63fa",
            "dash": "solid"
           },
           "marker": {
            "symbol": "circle"
           },
           "mode": "lines+markers",
           "name": "Algeria",
           "orientation": "v",
           "showlegend": true,
           "type": "scatter",
           "x": [
            2000,
            2001,
            2002,
            2003,
            2004,
            2005,
            2006,
            2007,
            2008,
            2009,
            2010,
            2011,
            2012,
            2013,
            2014,
            2015
           ],
           "xaxis": "x",
           "y": [
            71.3,
            71.4,
            71.6,
            71.7,
            72.3,
            72.9,
            73.4,
            73.8,
            74.1,
            74.4,
            74.7,
            74.9,
            75.1,
            75.3,
            75.4,
            75.6
           ],
           "yaxis": "y"
          }
         ],
         "name": "Algeria"
        },
        {
         "data": [
          {
           "hovertemplate": "Country=Viet Nam<br>Year=%{x}<br>Life expectancy =%{y}<extra></extra>",
           "ids": [
            2000,
            2001,
            2002,
            2003,
            2004,
            2005,
            2006,
            2007,
            2008,
            2009,
            2010,
            2011,
            2012,
            2013,
            2014,
            2015
           ],
           "legendgroup": "Viet Nam",
           "line": {
            "color": "#FFA15A",
            "dash": "solid"
           },
           "marker": {
            "symbol": "circle"
           },
           "mode": "lines+markers",
           "name": "Viet Nam",
           "orientation": "v",
           "showlegend": true,
           "type": "scatter",
           "x": [
            2000,
            2001,
            2002,
            2003,
            2004,
            2005,
            2006,
            2007,
            2008,
            2009,
            2010,
            2011,
            2012,
            2013,
            2014,
            2015
           ],
           "xaxis": "x",
           "y": [
            73.4,
            73.6,
            73.8,
            74,
            74.2,
            74.4,
            74.6,
            74.7,
            74.9,
            75,
            75.2,
            75.4,
            75.6,
            75.7,
            75.9,
            76
           ],
           "yaxis": "y"
          }
         ],
         "name": "Viet Nam"
        },
        {
         "data": [
          {
           "hovertemplate": "Country=United States of America<br>Year=%{x}<br>Life expectancy =%{y}<extra></extra>",
           "ids": [
            2000,
            2001,
            2002,
            2003,
            2004,
            2005,
            2006,
            2007,
            2008,
            2009,
            2010,
            2011,
            2012,
            2013,
            2014,
            2015
           ],
           "legendgroup": "United States of America",
           "line": {
            "color": "#19d3f3",
            "dash": "solid"
           },
           "marker": {
            "symbol": "circle"
           },
           "mode": "lines+markers",
           "name": "United States of America",
           "orientation": "v",
           "showlegend": true,
           "type": "scatter",
           "x": [
            2000,
            2001,
            2002,
            2003,
            2004,
            2005,
            2006,
            2007,
            2008,
            2009,
            2010,
            2011,
            2012,
            2013,
            2014,
            2015
           ],
           "xaxis": "x",
           "y": [
            76.8,
            76.9,
            77,
            77.2,
            77.5,
            77.5,
            77.8,
            78.1,
            78.2,
            78.5,
            78.7,
            78.7,
            78.8,
            78.9,
            79.1,
            79.3
           ],
           "yaxis": "y"
          }
         ],
         "name": "United States of America"
        },
        {
         "data": [
          {
           "hovertemplate": "Country=Guatemala<br>Year=%{x}<br>Life expectancy =%{y}<extra></extra>",
           "ids": [
            2000,
            2001,
            2002,
            2003,
            2004,
            2005,
            2006,
            2007,
            2008,
            2009,
            2010,
            2011,
            2012,
            2013,
            2014,
            2015
           ],
           "legendgroup": "Guatemala",
           "line": {
            "color": "#FF6692",
            "dash": "solid"
           },
           "marker": {
            "symbol": "circle"
           },
           "mode": "lines+markers",
           "name": "Guatemala",
           "orientation": "v",
           "showlegend": true,
           "type": "scatter",
           "x": [
            2000,
            2001,
            2002,
            2003,
            2004,
            2005,
            2006,
            2007,
            2008,
            2009,
            2010,
            2011,
            2012,
            2013,
            2014,
            2015
           ],
           "xaxis": "x",
           "y": [
            67.7,
            68.4,
            69.3,
            69.4,
            69.6,
            69.2,
            69.7,
            75,
            79,
            76,
            77,
            71.1,
            71.3,
            71.4,
            71.7,
            71.9
           ],
           "yaxis": "y"
          }
         ],
         "name": "Guatemala"
        },
        {
         "data": [
          {
           "hovertemplate": "Country=Turkey<br>Year=%{x}<br>Life expectancy =%{y}<extra></extra>",
           "ids": [
            2000,
            2001,
            2002,
            2003,
            2004,
            2005,
            2006,
            2007,
            2008,
            2009,
            2010,
            2011,
            2012,
            2013,
            2014,
            2015
           ],
           "legendgroup": "Turkey",
           "line": {
            "color": "#B6E880",
            "dash": "solid"
           },
           "marker": {
            "symbol": "circle"
           },
           "mode": "lines+markers",
           "name": "Turkey",
           "orientation": "v",
           "showlegend": true,
           "type": "scatter",
           "x": [
            2000,
            2001,
            2002,
            2003,
            2004,
            2005,
            2006,
            2007,
            2008,
            2009,
            2010,
            2011,
            2012,
            2013,
            2014,
            2015
           ],
           "xaxis": "x",
           "y": [
            74,
            78,
            71.2,
            71.6,
            72,
            72.4,
            72.8,
            73.2,
            73.5,
            73.9,
            74.2,
            74.5,
            74.8,
            75.2,
            75.5,
            75.8
           ],
           "yaxis": "y"
          }
         ],
         "name": "Turkey"
        },
        {
         "data": [
          {
           "hovertemplate": "Country=France<br>Year=%{x}<br>Life expectancy =%{y}<extra></extra>",
           "ids": [
            2000,
            2001,
            2002,
            2003,
            2004,
            2005,
            2006,
            2007,
            2008,
            2009,
            2010,
            2011,
            2012,
            2013,
            2014,
            2015
           ],
           "legendgroup": "France",
           "line": {
            "color": "#FF97FF",
            "dash": "solid"
           },
           "marker": {
            "symbol": "circle"
           },
           "mode": "lines+markers",
           "name": "France",
           "orientation": "v",
           "showlegend": true,
           "type": "scatter",
           "x": [
            2000,
            2001,
            2002,
            2003,
            2004,
            2005,
            2006,
            2007,
            2008,
            2009,
            2010,
            2011,
            2012,
            2013,
            2014,
            2015
           ],
           "xaxis": "x",
           "y": [
            78.8,
            79,
            79.2,
            79.3,
            82,
            81,
            86,
            89,
            89,
            81.1,
            81.3,
            81.7,
            81.5,
            82,
            82.2,
            82.4
           ],
           "yaxis": "y"
          }
         ],
         "name": "France"
        },
        {
         "data": [
          {
           "hovertemplate": "Country=Hungary<br>Year=%{x}<br>Life expectancy =%{y}<extra></extra>",
           "ids": [
            2000,
            2001,
            2002,
            2003,
            2004,
            2005,
            2006,
            2007,
            2008,
            2009,
            2010,
            2011,
            2012,
            2013,
            2014,
            2015
           ],
           "legendgroup": "Hungary",
           "line": {
            "color": "#FECB52",
            "dash": "solid"
           },
           "marker": {
            "symbol": "circle"
           },
           "mode": "lines+markers",
           "name": "Hungary",
           "orientation": "v",
           "showlegend": true,
           "type": "scatter",
           "x": [
            2000,
            2001,
            2002,
            2003,
            2004,
            2005,
            2006,
            2007,
            2008,
            2009,
            2010,
            2011,
            2012,
            2013,
            2014,
            2015
           ],
           "xaxis": "x",
           "y": [
            71.7,
            72.3,
            72.5,
            72.5,
            72.9,
            72.9,
            73.4,
            73.5,
            74.1,
            74.2,
            74.5,
            74.8,
            75,
            75.5,
            75.6,
            75.8
           ],
           "yaxis": "y"
          }
         ],
         "name": "Hungary"
        },
        {
         "data": [
          {
           "hovertemplate": "Country=Venezuela (Bolivarian Republic of)<br>Year=%{x}<br>Life expectancy =%{y}<extra></extra>",
           "ids": [
            2000,
            2001,
            2002,
            2003,
            2004,
            2005,
            2006,
            2007,
            2008,
            2009,
            2010,
            2011,
            2012,
            2013,
            2014,
            2015
           ],
           "legendgroup": "Venezuela (Bolivarian Republic of)",
           "line": {
            "color": "#636efa",
            "dash": "solid"
           },
           "marker": {
            "symbol": "circle"
           },
           "mode": "lines+markers",
           "name": "Venezuela (Bolivarian Republic of)",
           "orientation": "v",
           "showlegend": true,
           "type": "scatter",
           "x": [
            2000,
            2001,
            2002,
            2003,
            2004,
            2005,
            2006,
            2007,
            2008,
            2009,
            2010,
            2011,
            2012,
            2013,
            2014,
            2015
           ],
           "xaxis": "x",
           "y": [
            72.5,
            72.5,
            73.1,
            72.4,
            73.3,
            73.6,
            73.6,
            73.4,
            73.2,
            73.6,
            73.7,
            73.8,
            73.7,
            73.8,
            73.9,
            74.1
           ],
           "yaxis": "y"
          }
         ],
         "name": "Venezuela (Bolivarian Republic of)"
        },
        {
         "data": [
          {
           "hovertemplate": "Country=Greece<br>Year=%{x}<br>Life expectancy =%{y}<extra></extra>",
           "ids": [
            2000,
            2001,
            2002,
            2003,
            2004,
            2005,
            2006,
            2007,
            2008,
            2009,
            2010,
            2011,
            2012,
            2013,
            2014,
            2015
           ],
           "legendgroup": "Greece",
           "line": {
            "color": "#EF553B",
            "dash": "solid"
           },
           "marker": {
            "symbol": "circle"
           },
           "mode": "lines+markers",
           "name": "Greece",
           "orientation": "v",
           "showlegend": true,
           "type": "scatter",
           "x": [
            2000,
            2001,
            2002,
            2003,
            2004,
            2005,
            2006,
            2007,
            2008,
            2009,
            2010,
            2011,
            2012,
            2013,
            2014,
            2015
           ],
           "xaxis": "x",
           "y": [
            78.2,
            78.7,
            79,
            79.1,
            79.2,
            79.3,
            79.7,
            79.4,
            79.9,
            80,
            83,
            85,
            84,
            86,
            88,
            81
           ],
           "yaxis": "y"
          }
         ],
         "name": "Greece"
        },
        {
         "data": [
          {
           "hovertemplate": "Country=Australia<br>Year=%{x}<br>Life expectancy =%{y}<extra></extra>",
           "ids": [
            2000,
            2001,
            2002,
            2003,
            2004,
            2005,
            2006,
            2007,
            2008,
            2009,
            2010,
            2011,
            2012,
            2013,
            2014,
            2015
           ],
           "legendgroup": "Australia",
           "line": {
            "color": "#00cc96",
            "dash": "solid"
           },
           "marker": {
            "symbol": "circle"
           },
           "mode": "lines+markers",
           "name": "Australia",
           "orientation": "v",
           "showlegend": true,
           "type": "scatter",
           "x": [
            2000,
            2001,
            2002,
            2003,
            2004,
            2005,
            2006,
            2007,
            2008,
            2009,
            2010,
            2011,
            2012,
            2013,
            2014,
            2015
           ],
           "xaxis": "x",
           "y": [
            79.5,
            79.9,
            79.9,
            83,
            86,
            81,
            81.2,
            81.3,
            81.3,
            81.7,
            81.9,
            82,
            82.3,
            82.5,
            82.7,
            82.8
           ],
           "yaxis": "y"
          }
         ],
         "name": "Australia"
        },
        {
         "data": [
          {
           "hovertemplate": "Country=Ghana<br>Year=%{x}<br>Life expectancy =%{y}<extra></extra>",
           "ids": [
            2000,
            2001,
            2002,
            2003,
            2004,
            2005,
            2006,
            2007,
            2008,
            2009,
            2010,
            2011,
            2012,
            2013,
            2014,
            2015
           ],
           "legendgroup": "Ghana",
           "line": {
            "color": "#ab63fa",
            "dash": "solid"
           },
           "marker": {
            "symbol": "circle"
           },
           "mode": "lines+markers",
           "name": "Ghana",
           "orientation": "v",
           "showlegend": true,
           "type": "scatter",
           "x": [
            2000,
            2001,
            2002,
            2003,
            2004,
            2005,
            2006,
            2007,
            2008,
            2009,
            2010,
            2011,
            2012,
            2013,
            2014,
            2015
           ],
           "xaxis": "x",
           "y": [
            57.2,
            57.4,
            57.6,
            57.9,
            58.3,
            58.9,
            59.4,
            59.9,
            63,
            66,
            69,
            61.2,
            61.6,
            61.9,
            62.1,
            62.4
           ],
           "yaxis": "y"
          }
         ],
         "name": "Ghana"
        },
        {
         "data": [
          {
           "hovertemplate": "Country=Haiti<br>Year=%{x}<br>Life expectancy =%{y}<extra></extra>",
           "ids": [
            2000,
            2001,
            2002,
            2003,
            2004,
            2005,
            2006,
            2007,
            2008,
            2009,
            2010,
            2011,
            2012,
            2013,
            2014,
            2015
           ],
           "legendgroup": "Haiti",
           "line": {
            "color": "#FFA15A",
            "dash": "solid"
           },
           "marker": {
            "symbol": "circle"
           },
           "mode": "lines+markers",
           "name": "Haiti",
           "orientation": "v",
           "showlegend": true,
           "type": "scatter",
           "x": [
            2000,
            2001,
            2002,
            2003,
            2004,
            2005,
            2006,
            2007,
            2008,
            2009,
            2010,
            2011,
            2012,
            2013,
            2014,
            2015
           ],
           "xaxis": "x",
           "y": [
            58.6,
            58.9,
            59.3,
            59.7,
            58.7,
            65,
            61.1,
            61.8,
            62.1,
            62.5,
            36.3,
            62.3,
            62.3,
            62.7,
            63.1,
            63.5
           ],
           "yaxis": "y"
          }
         ],
         "name": "Haiti"
        },
        {
         "data": [
          {
           "hovertemplate": "Country=Guinea-Bissau<br>Year=%{x}<br>Life expectancy =%{y}<extra></extra>",
           "ids": [
            2000,
            2001,
            2002,
            2003,
            2004,
            2005,
            2006,
            2007,
            2008,
            2009,
            2010,
            2011,
            2012,
            2013,
            2014,
            2015
           ],
           "legendgroup": "Guinea-Bissau",
           "line": {
            "color": "#19d3f3",
            "dash": "solid"
           },
           "marker": {
            "symbol": "circle"
           },
           "mode": "lines+markers",
           "name": "Guinea-Bissau",
           "orientation": "v",
           "showlegend": true,
           "type": "scatter",
           "x": [
            2000,
            2001,
            2002,
            2003,
            2004,
            2005,
            2006,
            2007,
            2008,
            2009,
            2010,
            2011,
            2012,
            2013,
            2014,
            2015
           ],
           "xaxis": "x",
           "y": [
            52.1,
            52.5,
            52.8,
            53,
            53.5,
            53.9,
            54.4,
            55,
            55.6,
            56.3,
            56.7,
            57.1,
            57.6,
            58.1,
            58.4,
            58.9
           ],
           "yaxis": "y"
          }
         ],
         "name": "Guinea-Bissau"
        },
        {
         "data": [
          {
           "hovertemplate": "Country=United Arab Emirates<br>Year=%{x}<br>Life expectancy =%{y}<extra></extra>",
           "ids": [
            2000,
            2001,
            2002,
            2003,
            2004,
            2005,
            2006,
            2007,
            2008,
            2009,
            2010,
            2011,
            2012,
            2013,
            2014,
            2015
           ],
           "legendgroup": "United Arab Emirates",
           "line": {
            "color": "#FF6692",
            "dash": "solid"
           },
           "marker": {
            "symbol": "circle"
           },
           "mode": "lines+markers",
           "name": "United Arab Emirates",
           "orientation": "v",
           "showlegend": true,
           "type": "scatter",
           "x": [
            2000,
            2001,
            2002,
            2003,
            2004,
            2005,
            2006,
            2007,
            2008,
            2009,
            2010,
            2011,
            2012,
            2013,
            2014,
            2015
           ],
           "xaxis": "x",
           "y": [
            74.2,
            74.5,
            74.7,
            74.9,
            75.1,
            75.3,
            75.4,
            75.6,
            75.8,
            76,
            76.2,
            76.3,
            76.5,
            76.7,
            76.9,
            77.1
           ],
           "yaxis": "y"
          }
         ],
         "name": "United Arab Emirates"
        },
        {
         "data": [
          {
           "hovertemplate": "Country=United Republic of Tanzania<br>Year=%{x}<br>Life expectancy =%{y}<extra></extra>",
           "ids": [
            2000,
            2001,
            2002,
            2003,
            2004,
            2005,
            2006,
            2007,
            2008,
            2009,
            2010,
            2011,
            2012,
            2013,
            2014,
            2015
           ],
           "legendgroup": "United Republic of Tanzania",
           "line": {
            "color": "#B6E880",
            "dash": "solid"
           },
           "marker": {
            "symbol": "circle"
           },
           "mode": "lines+markers",
           "name": "United Republic of Tanzania",
           "orientation": "v",
           "showlegend": true,
           "type": "scatter",
           "x": [
            2000,
            2001,
            2002,
            2003,
            2004,
            2005,
            2006,
            2007,
            2008,
            2009,
            2010,
            2011,
            2012,
            2013,
            2014,
            2015
           ],
           "xaxis": "x",
           "y": [
            49.2,
            49.6,
            52,
            58,
            51.5,
            52.2,
            53.1,
            54.5,
            56.2,
            56.9,
            57.5,
            58.3,
            58.6,
            59.7,
            67,
            61.8
           ],
           "yaxis": "y"
          }
         ],
         "name": "United Republic of Tanzania"
        },
        {
         "data": [
          {
           "hovertemplate": "Country=Iceland<br>Year=%{x}<br>Life expectancy =%{y}<extra></extra>",
           "ids": [
            2000,
            2001,
            2002,
            2003,
            2004,
            2005,
            2006,
            2007,
            2008,
            2009,
            2010,
            2011,
            2012,
            2013,
            2014,
            2015
           ],
           "legendgroup": "Iceland",
           "line": {
            "color": "#FF97FF",
            "dash": "solid"
           },
           "marker": {
            "symbol": "circle"
           },
           "mode": "lines+markers",
           "name": "Iceland",
           "orientation": "v",
           "showlegend": true,
           "type": "scatter",
           "x": [
            2000,
            2001,
            2002,
            2003,
            2004,
            2005,
            2006,
            2007,
            2008,
            2009,
            2010,
            2011,
            2012,
            2013,
            2014,
            2015
           ],
           "xaxis": "x",
           "y": [
            79.7,
            80,
            84,
            87,
            88,
            81,
            81.1,
            81.3,
            81.4,
            81.6,
            81.8,
            82.1,
            82.5,
            82.4,
            82.5,
            82.7
           ],
           "yaxis": "y"
          }
         ],
         "name": "Iceland"
        },
        {
         "data": [
          {
           "hovertemplate": "Country=Uganda<br>Year=%{x}<br>Life expectancy =%{y}<extra></extra>",
           "ids": [
            2000,
            2001,
            2002,
            2003,
            2004,
            2005,
            2006,
            2007,
            2008,
            2009,
            2010,
            2011,
            2012,
            2013,
            2014,
            2015
           ],
           "legendgroup": "Uganda",
           "line": {
            "color": "#FECB52",
            "dash": "solid"
           },
           "marker": {
            "symbol": "circle"
           },
           "mode": "lines+markers",
           "name": "Uganda",
           "orientation": "v",
           "showlegend": true,
           "type": "scatter",
           "x": [
            2000,
            2001,
            2002,
            2003,
            2004,
            2005,
            2006,
            2007,
            2008,
            2009,
            2010,
            2011,
            2012,
            2013,
            2014,
            2015
           ],
           "xaxis": "x",
           "y": [
            46.6,
            47.7,
            48.8,
            51,
            51.3,
            53.2,
            54.9,
            55.5,
            56.3,
            57.5,
            58.4,
            59.3,
            60,
            67,
            61.5,
            62.3
           ],
           "yaxis": "y"
          }
         ],
         "name": "Uganda"
        },
        {
         "data": [
          {
           "hovertemplate": "Country=Guyana<br>Year=%{x}<br>Life expectancy =%{y}<extra></extra>",
           "ids": [
            2000,
            2001,
            2002,
            2003,
            2004,
            2005,
            2006,
            2007,
            2008,
            2009,
            2010,
            2011,
            2012,
            2013,
            2014,
            2015
           ],
           "legendgroup": "Guyana",
           "line": {
            "color": "#636efa",
            "dash": "solid"
           },
           "marker": {
            "symbol": "circle"
           },
           "mode": "lines+markers",
           "name": "Guyana",
           "orientation": "v",
           "showlegend": true,
           "type": "scatter",
           "x": [
            2000,
            2001,
            2002,
            2003,
            2004,
            2005,
            2006,
            2007,
            2008,
            2009,
            2010,
            2011,
            2012,
            2013,
            2014,
            2015
           ],
           "xaxis": "x",
           "y": [
            65.4,
            65.4,
            65.3,
            65.3,
            65.1,
            65,
            65.2,
            65.7,
            66.3,
            66.1,
            65.9,
            65.6,
            65.8,
            65.9,
            66,
            66.2
           ],
           "yaxis": "y"
          }
         ],
         "name": "Guyana"
        },
        {
         "data": [
          {
           "hovertemplate": "Country=Germany<br>Year=%{x}<br>Life expectancy =%{y}<extra></extra>",
           "ids": [
            2000,
            2001,
            2002,
            2003,
            2004,
            2005,
            2006,
            2007,
            2008,
            2009,
            2010,
            2011,
            2012,
            2013,
            2014,
            2015
           ],
           "legendgroup": "Germany",
           "line": {
            "color": "#EF553B",
            "dash": "solid"
           },
           "marker": {
            "symbol": "circle"
           },
           "mode": "lines+markers",
           "name": "Germany",
           "orientation": "v",
           "showlegend": true,
           "type": "scatter",
           "x": [
            2000,
            2001,
            2002,
            2003,
            2004,
            2005,
            2006,
            2007,
            2008,
            2009,
            2010,
            2011,
            2012,
            2013,
            2014,
            2015
           ],
           "xaxis": "x",
           "y": [
            78,
            78.3,
            78.4,
            78.5,
            79.1,
            79.2,
            79.6,
            79.8,
            79.9,
            80,
            81,
            85,
            86,
            86,
            89,
            81
           ],
           "yaxis": "y"
          }
         ],
         "name": "Germany"
        },
        {
         "data": [
          {
           "hovertemplate": "Country=United Kingdom of Great Britain and Northern Ireland<br>Year=%{x}<br>Life expectancy =%{y}<extra></extra>",
           "ids": [
            2000,
            2001,
            2002,
            2003,
            2004,
            2005,
            2006,
            2007,
            2008,
            2009,
            2010,
            2011,
            2012,
            2013,
            2014,
            2015
           ],
           "legendgroup": "United Kingdom of Great Britain and Northern Ireland",
           "line": {
            "color": "#00cc96",
            "dash": "solid"
           },
           "marker": {
            "symbol": "circle"
           },
           "mode": "lines+markers",
           "name": "United Kingdom of Great Britain and Northern Ireland",
           "orientation": "v",
           "showlegend": true,
           "type": "scatter",
           "x": [
            2000,
            2001,
            2002,
            2003,
            2004,
            2005,
            2006,
            2007,
            2008,
            2009,
            2010,
            2011,
            2012,
            2013,
            2014,
            2015
           ],
           "xaxis": "x",
           "y": [
            77.8,
            78,
            78.2,
            78.3,
            78.8,
            79,
            79.3,
            79.5,
            79.6,
            81,
            82,
            86,
            86,
            87,
            81,
            81.2
           ],
           "yaxis": "y"
          }
         ],
         "name": "United Kingdom of Great Britain and Northern Ireland"
        },
        {
         "data": [
          {
           "hovertemplate": "Country=Antigua and Barbuda<br>Year=%{x}<br>Life expectancy =%{y}<extra></extra>",
           "ids": [
            2000,
            2001,
            2002,
            2003,
            2004,
            2005,
            2006,
            2007,
            2008,
            2009,
            2010,
            2011,
            2012,
            2013,
            2014,
            2015
           ],
           "legendgroup": "Antigua and Barbuda",
           "line": {
            "color": "#ab63fa",
            "dash": "solid"
           },
           "marker": {
            "symbol": "circle"
           },
           "mode": "lines+markers",
           "name": "Antigua and Barbuda",
           "orientation": "v",
           "showlegend": true,
           "type": "scatter",
           "x": [
            2000,
            2001,
            2002,
            2003,
            2004,
            2005,
            2006,
            2007,
            2008,
            2009,
            2010,
            2011,
            2012,
            2013,
            2014,
            2015
           ],
           "xaxis": "x",
           "y": [
            73.6,
            73.8,
            74,
            74.2,
            74.4,
            74.6,
            74.8,
            75,
            75.2,
            75.4,
            75.6,
            75.7,
            75.9,
            76.1,
            76.2,
            76.4
           ],
           "yaxis": "y"
          }
         ],
         "name": "Antigua and Barbuda"
        },
        {
         "data": [
          {
           "hovertemplate": "Country=Vanuatu<br>Year=%{x}<br>Life expectancy =%{y}<extra></extra>",
           "ids": [
            2000,
            2001,
            2002,
            2003,
            2004,
            2005,
            2006,
            2007,
            2008,
            2009,
            2010,
            2011,
            2012,
            2013,
            2014,
            2015
           ],
           "legendgroup": "Vanuatu",
           "line": {
            "color": "#FFA15A",
            "dash": "solid"
           },
           "marker": {
            "symbol": "circle"
           },
           "mode": "lines+markers",
           "name": "Vanuatu",
           "orientation": "v",
           "showlegend": true,
           "type": "scatter",
           "x": [
            2000,
            2001,
            2002,
            2003,
            2004,
            2005,
            2006,
            2007,
            2008,
            2009,
            2010,
            2011,
            2012,
            2013,
            2014,
            2015
           ],
           "xaxis": "x",
           "y": [
            69,
            69.1,
            69.3,
            69.4,
            69.6,
            69.9,
            71,
            73,
            75,
            78,
            71,
            71.2,
            71.4,
            71.6,
            71.7,
            72
           ],
           "yaxis": "y"
          }
         ],
         "name": "Vanuatu"
        },
        {
         "data": [
          {
           "hovertemplate": "Country=Yemen<br>Year=%{x}<br>Life expectancy =%{y}<extra></extra>",
           "ids": [
            2000,
            2001,
            2002,
            2003,
            2004,
            2005,
            2006,
            2007,
            2008,
            2009,
            2010,
            2011,
            2012,
            2013,
            2014,
            2015
           ],
           "legendgroup": "Yemen",
           "line": {
            "color": "#19d3f3",
            "dash": "solid"
           },
           "marker": {
            "symbol": "circle"
           },
           "mode": "lines+markers",
           "name": "Yemen",
           "orientation": "v",
           "showlegend": true,
           "type": "scatter",
           "x": [
            2000,
            2001,
            2002,
            2003,
            2004,
            2005,
            2006,
            2007,
            2008,
            2009,
            2010,
            2011,
            2012,
            2013,
            2014,
            2015
           ],
           "xaxis": "x",
           "y": [
            68,
            61.1,
            61.5,
            61.9,
            62.2,
            62.6,
            63,
            63.4,
            63.8,
            64.1,
            64.4,
            64.6,
            64.7,
            65.4,
            65.4,
            65.7
           ],
           "yaxis": "y"
          }
         ],
         "name": "Yemen"
        },
        {
         "data": [
          {
           "hovertemplate": "Country=Turkmenistan<br>Year=%{x}<br>Life expectancy =%{y}<extra></extra>",
           "ids": [
            2000,
            2001,
            2002,
            2003,
            2004,
            2005,
            2006,
            2007,
            2008,
            2009,
            2010,
            2011,
            2012,
            2013,
            2014,
            2015
           ],
           "legendgroup": "Turkmenistan",
           "line": {
            "color": "#FF6692",
            "dash": "solid"
           },
           "marker": {
            "symbol": "circle"
           },
           "mode": "lines+markers",
           "name": "Turkmenistan",
           "orientation": "v",
           "showlegend": true,
           "type": "scatter",
           "x": [
            2000,
            2001,
            2002,
            2003,
            2004,
            2005,
            2006,
            2007,
            2008,
            2009,
            2010,
            2011,
            2012,
            2013,
            2014,
            2015
           ],
           "xaxis": "x",
           "y": [
            63.8,
            64,
            63.3,
            63.4,
            63.5,
            63.3,
            63.7,
            64.1,
            64.5,
            65.6,
            65.8,
            65.6,
            65.6,
            65.4,
            66,
            66.3
           ],
           "yaxis": "y"
          }
         ],
         "name": "Turkmenistan"
        },
        {
         "data": [
          {
           "hovertemplate": "Country=Afghanistan<br>Year=%{x}<br>Life expectancy =%{y}<extra></extra>",
           "ids": [
            2000,
            2001,
            2002,
            2003,
            2004,
            2005,
            2006,
            2007,
            2008,
            2009,
            2010,
            2011,
            2012,
            2013,
            2014,
            2015
           ],
           "legendgroup": "Afghanistan",
           "line": {
            "color": "#B6E880",
            "dash": "solid"
           },
           "marker": {
            "symbol": "circle"
           },
           "mode": "lines+markers",
           "name": "Afghanistan",
           "orientation": "v",
           "showlegend": true,
           "type": "scatter",
           "x": [
            2000,
            2001,
            2002,
            2003,
            2004,
            2005,
            2006,
            2007,
            2008,
            2009,
            2010,
            2011,
            2012,
            2013,
            2014,
            2015
           ],
           "xaxis": "x",
           "y": [
            54.8,
            55.3,
            56.2,
            56.7,
            57,
            57.3,
            57.3,
            57.5,
            58.1,
            58.6,
            58.8,
            59.2,
            59.5,
            59.9,
            59.9,
            65
           ],
           "yaxis": "y"
          }
         ],
         "name": "Afghanistan"
        },
        {
         "data": [
          {
           "hovertemplate": "Country=Armenia<br>Year=%{x}<br>Life expectancy =%{y}<extra></extra>",
           "ids": [
            2000,
            2001,
            2002,
            2003,
            2004,
            2005,
            2006,
            2007,
            2008,
            2009,
            2010,
            2011,
            2012,
            2013,
            2014,
            2015
           ],
           "legendgroup": "Armenia",
           "line": {
            "color": "#FF97FF",
            "dash": "solid"
           },
           "marker": {
            "symbol": "circle"
           },
           "mode": "lines+markers",
           "name": "Armenia",
           "orientation": "v",
           "showlegend": true,
           "type": "scatter",
           "x": [
            2000,
            2001,
            2002,
            2003,
            2004,
            2005,
            2006,
            2007,
            2008,
            2009,
            2010,
            2011,
            2012,
            2013,
            2014,
            2015
           ],
           "xaxis": "x",
           "y": [
            72,
            72.6,
            72.6,
            72.7,
            73,
            73,
            72.9,
            73.5,
            73.2,
            73.3,
            73.5,
            73.9,
            74.4,
            74.4,
            74.6,
            74.8
           ],
           "yaxis": "y"
          }
         ],
         "name": "Armenia"
        },
        {
         "data": [
          {
           "hovertemplate": "Country=Albania<br>Year=%{x}<br>Life expectancy =%{y}<extra></extra>",
           "ids": [
            2000,
            2001,
            2002,
            2003,
            2004,
            2005,
            2006,
            2007,
            2008,
            2009,
            2010,
            2011,
            2012,
            2013,
            2014,
            2015
           ],
           "legendgroup": "Albania",
           "line": {
            "color": "#FECB52",
            "dash": "solid"
           },
           "marker": {
            "symbol": "circle"
           },
           "mode": "lines+markers",
           "name": "Albania",
           "orientation": "v",
           "showlegend": true,
           "type": "scatter",
           "x": [
            2000,
            2001,
            2002,
            2003,
            2004,
            2005,
            2006,
            2007,
            2008,
            2009,
            2010,
            2011,
            2012,
            2013,
            2014,
            2015
           ],
           "xaxis": "x",
           "y": [
            72.6,
            73.6,
            73.3,
            72.8,
            73,
            73.5,
            74.2,
            75.9,
            75.3,
            76.1,
            76.2,
            76.6,
            76.9,
            77.2,
            77.5,
            77.8
           ],
           "yaxis": "y"
          }
         ],
         "name": "Albania"
        },
        {
         "data": [
          {
           "hovertemplate": "Country=Gambia<br>Year=%{x}<br>Life expectancy =%{y}<extra></extra>",
           "ids": [
            2000,
            2001,
            2002,
            2003,
            2004,
            2005,
            2006,
            2007,
            2008,
            2009,
            2010,
            2011,
            2012,
            2013,
            2014,
            2015
           ],
           "legendgroup": "Gambia",
           "line": {
            "color": "#636efa",
            "dash": "solid"
           },
           "marker": {
            "symbol": "circle"
           },
           "mode": "lines+markers",
           "name": "Gambia",
           "orientation": "v",
           "showlegend": true,
           "type": "scatter",
           "x": [
            2000,
            2001,
            2002,
            2003,
            2004,
            2005,
            2006,
            2007,
            2008,
            2009,
            2010,
            2011,
            2012,
            2013,
            2014,
            2015
           ],
           "xaxis": "x",
           "y": [
            55.9,
            56.3,
            56.6,
            57,
            57.3,
            57.7,
            58.2,
            58.5,
            58.7,
            59,
            59.3,
            59.8,
            62,
            66,
            68,
            61.1
           ],
           "yaxis": "y"
          }
         ],
         "name": "Gambia"
        },
        {
         "data": [
          {
           "hovertemplate": "Country=Argentina<br>Year=%{x}<br>Life expectancy =%{y}<extra></extra>",
           "ids": [
            2000,
            2001,
            2002,
            2003,
            2004,
            2005,
            2006,
            2007,
            2008,
            2009,
            2010,
            2011,
            2012,
            2013,
            2014,
            2015
           ],
           "legendgroup": "Argentina",
           "line": {
            "color": "#EF553B",
            "dash": "solid"
           },
           "marker": {
            "symbol": "circle"
           },
           "mode": "lines+markers",
           "name": "Argentina",
           "orientation": "v",
           "showlegend": true,
           "type": "scatter",
           "x": [
            2000,
            2001,
            2002,
            2003,
            2004,
            2005,
            2006,
            2007,
            2008,
            2009,
            2010,
            2011,
            2012,
            2013,
            2014,
            2015
           ],
           "xaxis": "x",
           "y": [
            74.1,
            74,
            74.1,
            74.1,
            74.7,
            74.9,
            75.2,
            74.8,
            75.4,
            75.6,
            75.5,
            75.7,
            75.9,
            76,
            76.2,
            76.3
           ],
           "yaxis": "y"
          }
         ],
         "name": "Argentina"
        },
        {
         "data": [
          {
           "hovertemplate": "Country=Grenada<br>Year=%{x}<br>Life expectancy =%{y}<extra></extra>",
           "ids": [
            2000,
            2001,
            2002,
            2003,
            2004,
            2005,
            2006,
            2007,
            2008,
            2009,
            2010,
            2011,
            2012,
            2013,
            2014,
            2015
           ],
           "legendgroup": "Grenada",
           "line": {
            "color": "#00cc96",
            "dash": "solid"
           },
           "marker": {
            "symbol": "circle"
           },
           "mode": "lines+markers",
           "name": "Grenada",
           "orientation": "v",
           "showlegend": true,
           "type": "scatter",
           "x": [
            2000,
            2001,
            2002,
            2003,
            2004,
            2005,
            2006,
            2007,
            2008,
            2009,
            2010,
            2011,
            2012,
            2013,
            2014,
            2015
           ],
           "xaxis": "x",
           "y": [
            74,
            77,
            79,
            71.1,
            73,
            71.5,
            71.7,
            71.9,
            72.1,
            72.4,
            72.6,
            72.9,
            73.1,
            73.3,
            73.5,
            73.6
           ],
           "yaxis": "y"
          }
         ],
         "name": "Grenada"
        },
        {
         "data": [
          {
           "hovertemplate": "Country=Ukraine<br>Year=%{x}<br>Life expectancy =%{y}<extra></extra>",
           "ids": [
            2000,
            2001,
            2002,
            2003,
            2004,
            2005,
            2006,
            2007,
            2008,
            2009,
            2010,
            2011,
            2012,
            2013,
            2014,
            2015
           ],
           "legendgroup": "Ukraine",
           "line": {
            "color": "#ab63fa",
            "dash": "solid"
           },
           "marker": {
            "symbol": "circle"
           },
           "mode": "lines+markers",
           "name": "Ukraine",
           "orientation": "v",
           "showlegend": true,
           "type": "scatter",
           "x": [
            2000,
            2001,
            2002,
            2003,
            2004,
            2005,
            2006,
            2007,
            2008,
            2009,
            2010,
            2011,
            2012,
            2013,
            2014,
            2015
           ],
           "xaxis": "x",
           "y": [
            67.5,
            67.7,
            67.6,
            67.6,
            67.4,
            67,
            67.7,
            67.5,
            67.7,
            69.2,
            69.8,
            75,
            77,
            71,
            78,
            71.3
           ],
           "yaxis": "y"
          }
         ],
         "name": "Ukraine"
        },
        {
         "data": [
          {
           "hovertemplate": "Country=Tunisia<br>Year=%{x}<br>Life expectancy =%{y}<extra></extra>",
           "ids": [
            2000,
            2001,
            2002,
            2003,
            2004,
            2005,
            2006,
            2007,
            2008,
            2009,
            2010,
            2011,
            2012,
            2013,
            2014,
            2015
           ],
           "legendgroup": "Tunisia",
           "line": {
            "color": "#FFA15A",
            "dash": "solid"
           },
           "marker": {
            "symbol": "circle"
           },
           "mode": "lines+markers",
           "name": "Tunisia",
           "orientation": "v",
           "showlegend": true,
           "type": "scatter",
           "x": [
            2000,
            2001,
            2002,
            2003,
            2004,
            2005,
            2006,
            2007,
            2008,
            2009,
            2010,
            2011,
            2012,
            2013,
            2014,
            2015
           ],
           "xaxis": "x",
           "y": [
            72.9,
            73.2,
            73.5,
            73.7,
            74,
            74.2,
            74.4,
            74.6,
            74.7,
            74.7,
            74.8,
            74.8,
            74.9,
            74.9,
            75.1,
            75.3
           ],
           "yaxis": "y"
          }
         ],
         "name": "Tunisia"
        },
        {
         "data": [
          {
           "hovertemplate": "Country=Zambia<br>Year=%{x}<br>Life expectancy =%{y}<extra></extra>",
           "ids": [
            2000,
            2001,
            2002,
            2003,
            2004,
            2005,
            2006,
            2007,
            2008,
            2009,
            2010,
            2011,
            2012,
            2013,
            2014,
            2015
           ],
           "legendgroup": "Zambia",
           "line": {
            "color": "#19d3f3",
            "dash": "solid"
           },
           "marker": {
            "symbol": "circle"
           },
           "mode": "lines+markers",
           "name": "Zambia",
           "orientation": "v",
           "showlegend": true,
           "type": "scatter",
           "x": [
            2000,
            2001,
            2002,
            2003,
            2004,
            2005,
            2006,
            2007,
            2008,
            2009,
            2010,
            2011,
            2012,
            2013,
            2014,
            2015
           ],
           "xaxis": "x",
           "y": [
            43.8,
            44.6,
            45.5,
            46.4,
            47.9,
            49.3,
            58,
            52.6,
            55.7,
            57.4,
            58,
            58.2,
            59.2,
            63,
            61.1,
            61.8
           ],
           "yaxis": "y"
          }
         ],
         "name": "Zambia"
        },
        {
         "data": [
          {
           "hovertemplate": "Country=Uzbekistan<br>Year=%{x}<br>Life expectancy =%{y}<extra></extra>",
           "ids": [
            2000,
            2001,
            2002,
            2003,
            2004,
            2005,
            2006,
            2007,
            2008,
            2009,
            2010,
            2011,
            2012,
            2013,
            2014,
            2015
           ],
           "legendgroup": "Uzbekistan",
           "line": {
            "color": "#FF6692",
            "dash": "solid"
           },
           "marker": {
            "symbol": "circle"
           },
           "mode": "lines+markers",
           "name": "Uzbekistan",
           "orientation": "v",
           "showlegend": true,
           "type": "scatter",
           "x": [
            2000,
            2001,
            2002,
            2003,
            2004,
            2005,
            2006,
            2007,
            2008,
            2009,
            2010,
            2011,
            2012,
            2013,
            2014,
            2015
           ],
           "xaxis": "x",
           "y": [
            67.1,
            67.4,
            67.1,
            67.2,
            67.8,
            67.3,
            67.6,
            67.8,
            67.9,
            68,
            68.3,
            68.5,
            68.8,
            69.1,
            69.2,
            69.4
           ],
           "yaxis": "y"
          }
         ],
         "name": "Uzbekistan"
        },
        {
         "data": [
          {
           "hovertemplate": "Country=Angola<br>Year=%{x}<br>Life expectancy =%{y}<extra></extra>",
           "ids": [
            2000,
            2001,
            2002,
            2003,
            2004,
            2005,
            2006,
            2007,
            2008,
            2009,
            2010,
            2011,
            2012,
            2013,
            2014,
            2015
           ],
           "legendgroup": "Angola",
           "line": {
            "color": "#B6E880",
            "dash": "solid"
           },
           "marker": {
            "symbol": "circle"
           },
           "mode": "lines+markers",
           "name": "Angola",
           "orientation": "v",
           "showlegend": true,
           "type": "scatter",
           "x": [
            2000,
            2001,
            2002,
            2003,
            2004,
            2005,
            2006,
            2007,
            2008,
            2009,
            2010,
            2011,
            2012,
            2013,
            2014,
            2015
           ],
           "xaxis": "x",
           "y": [
            45.3,
            45.7,
            46.5,
            46.8,
            47.1,
            47.4,
            47.7,
            48.2,
            48.7,
            49.1,
            49.6,
            51,
            56,
            51.1,
            51.7,
            52.4
           ],
           "yaxis": "y"
          }
         ],
         "name": "Angola"
        },
        {
         "data": [
          {
           "hovertemplate": "Country=Georgia<br>Year=%{x}<br>Life expectancy =%{y}<extra></extra>",
           "ids": [
            2000,
            2001,
            2002,
            2003,
            2004,
            2005,
            2006,
            2007,
            2008,
            2009,
            2010,
            2011,
            2012,
            2013,
            2014,
            2015
           ],
           "legendgroup": "Georgia",
           "line": {
            "color": "#FF97FF",
            "dash": "solid"
           },
           "marker": {
            "symbol": "circle"
           },
           "mode": "lines+markers",
           "name": "Georgia",
           "orientation": "v",
           "showlegend": true,
           "type": "scatter",
           "x": [
            2000,
            2001,
            2002,
            2003,
            2004,
            2005,
            2006,
            2007,
            2008,
            2009,
            2010,
            2011,
            2012,
            2013,
            2014,
            2015
           ],
           "xaxis": "x",
           "y": [
            71.8,
            73,
            71.7,
            72.7,
            72.3,
            73.9,
            73.9,
            74.4,
            73.9,
            73.2,
            73.8,
            73.9,
            74.2,
            74.5,
            74.5,
            74.4
           ],
           "yaxis": "y"
          }
         ],
         "name": "Georgia"
        },
        {
         "data": [
          {
           "hovertemplate": "Country=Gabon<br>Year=%{x}<br>Life expectancy =%{y}<extra></extra>",
           "ids": [
            2000,
            2001,
            2002,
            2003,
            2004,
            2005,
            2006,
            2007,
            2008,
            2009,
            2010,
            2011,
            2012,
            2013,
            2014,
            2015
           ],
           "legendgroup": "Gabon",
           "line": {
            "color": "#FECB52",
            "dash": "solid"
           },
           "marker": {
            "symbol": "circle"
           },
           "mode": "lines+markers",
           "name": "Gabon",
           "orientation": "v",
           "showlegend": true,
           "type": "scatter",
           "x": [
            2000,
            2001,
            2002,
            2003,
            2004,
            2005,
            2006,
            2007,
            2008,
            2009,
            2010,
            2011,
            2012,
            2013,
            2014,
            2015
           ],
           "xaxis": "x",
           "y": [
            61,
            59.8,
            59.7,
            59.7,
            59.7,
            65,
            61.4,
            61.6,
            61.6,
            61.7,
            62.3,
            62.8,
            63.5,
            64.6,
            65.5,
            66
           ],
           "yaxis": "y"
          }
         ],
         "name": "Gabon"
        },
        {
         "data": [
          {
           "hovertemplate": "Country=Honduras<br>Year=%{x}<br>Life expectancy =%{y}<extra></extra>",
           "ids": [
            2000,
            2001,
            2002,
            2003,
            2004,
            2005,
            2006,
            2007,
            2008,
            2009,
            2010,
            2011,
            2012,
            2013,
            2014,
            2015
           ],
           "legendgroup": "Honduras",
           "line": {
            "color": "#636efa",
            "dash": "solid"
           },
           "marker": {
            "symbol": "circle"
           },
           "mode": "lines+markers",
           "name": "Honduras",
           "orientation": "v",
           "showlegend": true,
           "type": "scatter",
           "x": [
            2000,
            2001,
            2002,
            2003,
            2004,
            2005,
            2006,
            2007,
            2008,
            2009,
            2010,
            2011,
            2012,
            2013,
            2014,
            2015
           ],
           "xaxis": "x",
           "y": [
            71,
            71.3,
            71.6,
            71.9,
            72.2,
            72.5,
            72.8,
            73,
            73.2,
            73.4,
            73.6,
            73.9,
            74.1,
            74.3,
            74.5,
            74.6
           ],
           "yaxis": "y"
          }
         ],
         "name": "Honduras"
        },
        {
         "data": [
          {
           "hovertemplate": "Country=Uruguay<br>Year=%{x}<br>Life expectancy =%{y}<extra></extra>",
           "ids": [
            2000,
            2001,
            2002,
            2003,
            2004,
            2005,
            2006,
            2007,
            2008,
            2009,
            2010,
            2011,
            2012,
            2013,
            2014,
            2015
           ],
           "legendgroup": "Uruguay",
           "line": {
            "color": "#EF553B",
            "dash": "solid"
           },
           "marker": {
            "symbol": "circle"
           },
           "mode": "lines+markers",
           "name": "Uruguay",
           "orientation": "v",
           "showlegend": true,
           "type": "scatter",
           "x": [
            2000,
            2001,
            2002,
            2003,
            2004,
            2005,
            2006,
            2007,
            2008,
            2009,
            2010,
            2011,
            2012,
            2013,
            2014,
            2015
           ],
           "xaxis": "x",
           "y": [
            75.1,
            75.2,
            75.4,
            75.4,
            75.4,
            75.7,
            76.2,
            75.4,
            76.4,
            76.6,
            76.3,
            77,
            76.5,
            76.8,
            76.8,
            77
           ],
           "yaxis": "y"
          }
         ],
         "name": "Uruguay"
        },
        {
         "data": [
          {
           "hovertemplate": "Country=Guinea<br>Year=%{x}<br>Life expectancy =%{y}<extra></extra>",
           "ids": [
            2000,
            2001,
            2002,
            2003,
            2004,
            2005,
            2006,
            2007,
            2008,
            2009,
            2010,
            2011,
            2012,
            2013,
            2014,
            2015
           ],
           "legendgroup": "Guinea",
           "line": {
            "color": "#00cc96",
            "dash": "solid"
           },
           "marker": {
            "symbol": "circle"
           },
           "mode": "lines+markers",
           "name": "Guinea",
           "orientation": "v",
           "showlegend": true,
           "type": "scatter",
           "x": [
            2000,
            2001,
            2002,
            2003,
            2004,
            2005,
            2006,
            2007,
            2008,
            2009,
            2010,
            2011,
            2012,
            2013,
            2014,
            2015
           ],
           "xaxis": "x",
           "y": [
            52.5,
            52.5,
            52.9,
            53.3,
            54,
            54.7,
            55.6,
            56.4,
            56.8,
            57.3,
            57.8,
            58.1,
            58.4,
            58.8,
            58.1,
            59
           ],
           "yaxis": "y"
          }
         ],
         "name": "Guinea"
        },
        {
         "data": [
          {
           "hovertemplate": "Country=Marshall Islands<br>Year=%{x}<br>Life expectancy =%{y}<extra></extra>",
           "ids": [
            2013
           ],
           "legendgroup": "Marshall Islands",
           "line": {
            "color": "#ab63fa",
            "dash": "solid"
           },
           "marker": {
            "symbol": "circle"
           },
           "mode": "lines+markers",
           "name": "Marshall Islands",
           "orientation": "v",
           "showlegend": true,
           "type": "scatter",
           "x": [
            2013
           ],
           "xaxis": "x",
           "y": [
            69.22493169398908
           ],
           "yaxis": "y"
          }
         ],
         "name": "Marshall Islands"
        },
        {
         "data": [
          {
           "hovertemplate": "Country=Palau<br>Year=%{x}<br>Life expectancy =%{y}<extra></extra>",
           "ids": [
            2013
           ],
           "legendgroup": "Palau",
           "line": {
            "color": "#FFA15A",
            "dash": "solid"
           },
           "marker": {
            "symbol": "circle"
           },
           "mode": "lines+markers",
           "name": "Palau",
           "orientation": "v",
           "showlegend": true,
           "type": "scatter",
           "x": [
            2013
           ],
           "xaxis": "x",
           "y": [
            69.22493169398908
           ],
           "yaxis": "y"
          }
         ],
         "name": "Palau"
        },
        {
         "data": [
          {
           "hovertemplate": "Country=Monaco<br>Year=%{x}<br>Life expectancy =%{y}<extra></extra>",
           "ids": [
            2013
           ],
           "legendgroup": "Monaco",
           "line": {
            "color": "#19d3f3",
            "dash": "solid"
           },
           "marker": {
            "symbol": "circle"
           },
           "mode": "lines+markers",
           "name": "Monaco",
           "orientation": "v",
           "showlegend": true,
           "type": "scatter",
           "x": [
            2013
           ],
           "xaxis": "x",
           "y": [
            69.22493169398908
           ],
           "yaxis": "y"
          }
         ],
         "name": "Monaco"
        },
        {
         "data": [
          {
           "hovertemplate": "Country=Cook Islands<br>Year=%{x}<br>Life expectancy =%{y}<extra></extra>",
           "ids": [
            2013
           ],
           "legendgroup": "Cook Islands",
           "line": {
            "color": "#FF6692",
            "dash": "solid"
           },
           "marker": {
            "symbol": "circle"
           },
           "mode": "lines+markers",
           "name": "Cook Islands",
           "orientation": "v",
           "showlegend": true,
           "type": "scatter",
           "x": [
            2013
           ],
           "xaxis": "x",
           "y": [
            69.22493169398908
           ],
           "yaxis": "y"
          }
         ],
         "name": "Cook Islands"
        },
        {
         "data": [
          {
           "hovertemplate": "Country=Niue<br>Year=%{x}<br>Life expectancy =%{y}<extra></extra>",
           "ids": [
            2013
           ],
           "legendgroup": "Niue",
           "line": {
            "color": "#B6E880",
            "dash": "solid"
           },
           "marker": {
            "symbol": "circle"
           },
           "mode": "lines+markers",
           "name": "Niue",
           "orientation": "v",
           "showlegend": true,
           "type": "scatter",
           "x": [
            2013
           ],
           "xaxis": "x",
           "y": [
            69.22493169398908
           ],
           "yaxis": "y"
          }
         ],
         "name": "Niue"
        },
        {
         "data": [
          {
           "hovertemplate": "Country=Nauru<br>Year=%{x}<br>Life expectancy =%{y}<extra></extra>",
           "ids": [
            2013
           ],
           "legendgroup": "Nauru",
           "line": {
            "color": "#FF97FF",
            "dash": "solid"
           },
           "marker": {
            "symbol": "circle"
           },
           "mode": "lines+markers",
           "name": "Nauru",
           "orientation": "v",
           "showlegend": true,
           "type": "scatter",
           "x": [
            2013
           ],
           "xaxis": "x",
           "y": [
            69.22493169398908
           ],
           "yaxis": "y"
          }
         ],
         "name": "Nauru"
        },
        {
         "data": [
          {
           "hovertemplate": "Country=Saint Kitts and Nevis<br>Year=%{x}<br>Life expectancy =%{y}<extra></extra>",
           "ids": [
            2013
           ],
           "legendgroup": "Saint Kitts and Nevis",
           "line": {
            "color": "#FECB52",
            "dash": "solid"
           },
           "marker": {
            "symbol": "circle"
           },
           "mode": "lines+markers",
           "name": "Saint Kitts and Nevis",
           "orientation": "v",
           "showlegend": true,
           "type": "scatter",
           "x": [
            2013
           ],
           "xaxis": "x",
           "y": [
            69.22493169398908
           ],
           "yaxis": "y"
          }
         ],
         "name": "Saint Kitts and Nevis"
        },
        {
         "data": [
          {
           "hovertemplate": "Country=Dominica<br>Year=%{x}<br>Life expectancy =%{y}<extra></extra>",
           "ids": [
            2013
           ],
           "legendgroup": "Dominica",
           "line": {
            "color": "#636efa",
            "dash": "solid"
           },
           "marker": {
            "symbol": "circle"
           },
           "mode": "lines+markers",
           "name": "Dominica",
           "orientation": "v",
           "showlegend": true,
           "type": "scatter",
           "x": [
            2013
           ],
           "xaxis": "x",
           "y": [
            69.22493169398908
           ],
           "yaxis": "y"
          }
         ],
         "name": "Dominica"
        },
        {
         "data": [
          {
           "hovertemplate": "Country=Tuvalu<br>Year=%{x}<br>Life expectancy =%{y}<extra></extra>",
           "ids": [
            2013
           ],
           "legendgroup": "Tuvalu",
           "line": {
            "color": "#EF553B",
            "dash": "solid"
           },
           "marker": {
            "symbol": "circle"
           },
           "mode": "lines+markers",
           "name": "Tuvalu",
           "orientation": "v",
           "showlegend": true,
           "type": "scatter",
           "x": [
            2013
           ],
           "xaxis": "x",
           "y": [
            69.22493169398908
           ],
           "yaxis": "y"
          }
         ],
         "name": "Tuvalu"
        },
        {
         "data": [
          {
           "hovertemplate": "Country=San Marino<br>Year=%{x}<br>Life expectancy =%{y}<extra></extra>",
           "ids": [
            2013
           ],
           "legendgroup": "San Marino",
           "line": {
            "color": "#00cc96",
            "dash": "solid"
           },
           "marker": {
            "symbol": "circle"
           },
           "mode": "lines+markers",
           "name": "San Marino",
           "orientation": "v",
           "showlegend": true,
           "type": "scatter",
           "x": [
            2013
           ],
           "xaxis": "x",
           "y": [
            69.22493169398908
           ],
           "yaxis": "y"
          }
         ],
         "name": "San Marino"
        }
       ],
       "layout": {
        "autosize": true,
        "legend": {
         "title": {
          "text": "Country"
         },
         "tracegroupgap": 0
        },
        "sliders": [
         {
          "active": 0,
          "currentvalue": {
           "prefix": "Country="
          },
          "len": 0.9,
          "pad": {
           "b": 10,
           "t": 60
          },
          "steps": [
           {
            "args": [
             [
              "Zimbabwe"
             ],
             {
              "frame": {
               "duration": 0,
               "redraw": false
              },
              "fromcurrent": true,
              "mode": "immediate",
              "transition": {
               "duration": 0,
               "easing": "linear"
              }
             }
            ],
            "label": "Zimbabwe",
            "method": "animate"
           },
           {
            "args": [
             [
              "Belize"
             ],
             {
              "frame": {
               "duration": 0,
               "redraw": false
              },
              "fromcurrent": true,
              "mode": "immediate",
              "transition": {
               "duration": 0,
               "easing": "linear"
              }
             }
            ],
            "label": "Belize",
            "method": "animate"
           },
           {
            "args": [
             [
              "Kazakhstan"
             ],
             {
              "frame": {
               "duration": 0,
               "redraw": false
              },
              "fromcurrent": true,
              "mode": "immediate",
              "transition": {
               "duration": 0,
               "easing": "linear"
              }
             }
            ],
            "label": "Kazakhstan",
            "method": "animate"
           },
           {
            "args": [
             [
              "Equatorial Guinea"
             ],
             {
              "frame": {
               "duration": 0,
               "redraw": false
              },
              "fromcurrent": true,
              "mode": "immediate",
              "transition": {
               "duration": 0,
               "easing": "linear"
              }
             }
            ],
            "label": "Equatorial Guinea",
            "method": "animate"
           },
           {
            "args": [
             [
              "South Sudan"
             ],
             {
              "frame": {
               "duration": 0,
               "redraw": false
              },
              "fromcurrent": true,
              "mode": "immediate",
              "transition": {
               "duration": 0,
               "easing": "linear"
              }
             }
            ],
            "label": "South Sudan",
            "method": "animate"
           },
           {
            "args": [
             [
              "South Africa"
             ],
             {
              "frame": {
               "duration": 0,
               "redraw": false
              },
              "fromcurrent": true,
              "mode": "immediate",
              "transition": {
               "duration": 0,
               "easing": "linear"
              }
             }
            ],
            "label": "South Africa",
            "method": "animate"
           },
           {
            "args": [
             [
              "Benin"
             ],
             {
              "frame": {
               "duration": 0,
               "redraw": false
              },
              "fromcurrent": true,
              "mode": "immediate",
              "transition": {
               "duration": 0,
               "easing": "linear"
              }
             }
            ],
            "label": "Benin",
            "method": "animate"
           },
           {
            "args": [
             [
              "Kenya"
             ],
             {
              "frame": {
               "duration": 0,
               "redraw": false
              },
              "fromcurrent": true,
              "mode": "immediate",
              "transition": {
               "duration": 0,
               "easing": "linear"
              }
             }
            ],
            "label": "Kenya",
            "method": "animate"
           },
           {
            "args": [
             [
              "Somalia"
             ],
             {
              "frame": {
               "duration": 0,
               "redraw": false
              },
              "fromcurrent": true,
              "mode": "immediate",
              "transition": {
               "duration": 0,
               "easing": "linear"
              }
             }
            ],
            "label": "Somalia",
            "method": "animate"
           },
           {
            "args": [
             [
              "Kiribati"
             ],
             {
              "frame": {
               "duration": 0,
               "redraw": false
              },
              "fromcurrent": true,
              "mode": "immediate",
              "transition": {
               "duration": 0,
               "easing": "linear"
              }
             }
            ],
            "label": "Kiribati",
            "method": "animate"
           },
           {
            "args": [
             [
              "El Salvador"
             ],
             {
              "frame": {
               "duration": 0,
               "redraw": false
              },
              "fromcurrent": true,
              "mode": "immediate",
              "transition": {
               "duration": 0,
               "easing": "linear"
              }
             }
            ],
            "label": "El Salvador",
            "method": "animate"
           },
           {
            "args": [
             [
              "Bhutan"
             ],
             {
              "frame": {
               "duration": 0,
               "redraw": false
              },
              "fromcurrent": true,
              "mode": "immediate",
              "transition": {
               "duration": 0,
               "easing": "linear"
              }
             }
            ],
            "label": "Bhutan",
            "method": "animate"
           },
           {
            "args": [
             [
              "Solomon Islands"
             ],
             {
              "frame": {
               "duration": 0,
               "redraw": false
              },
              "fromcurrent": true,
              "mode": "immediate",
              "transition": {
               "duration": 0,
               "easing": "linear"
              }
             }
            ],
            "label": "Solomon Islands",
            "method": "animate"
           },
           {
            "args": [
             [
              "Kuwait"
             ],
             {
              "frame": {
               "duration": 0,
               "redraw": false
              },
              "fromcurrent": true,
              "mode": "immediate",
              "transition": {
               "duration": 0,
               "easing": "linear"
              }
             }
            ],
            "label": "Kuwait",
            "method": "animate"
           },
           {
            "args": [
             [
              "Bolivia (Plurinational State of)"
             ],
             {
              "frame": {
               "duration": 0,
               "redraw": false
              },
              "fromcurrent": true,
              "mode": "immediate",
              "transition": {
               "duration": 0,
               "easing": "linear"
              }
             }
            ],
            "label": "Bolivia (Plurinational State of)",
            "method": "animate"
           },
           {
            "args": [
             [
              "Slovakia"
             ],
             {
              "frame": {
               "duration": 0,
               "redraw": false
              },
              "fromcurrent": true,
              "mode": "immediate",
              "transition": {
               "duration": 0,
               "easing": "linear"
              }
             }
            ],
            "label": "Slovakia",
            "method": "animate"
           },
           {
            "args": [
             [
              "Kyrgyzstan"
             ],
             {
              "frame": {
               "duration": 0,
               "redraw": false
              },
              "fromcurrent": true,
              "mode": "immediate",
              "transition": {
               "duration": 0,
               "easing": "linear"
              }
             }
            ],
            "label": "Kyrgyzstan",
            "method": "animate"
           },
           {
            "args": [
             [
              "Egypt"
             ],
             {
              "frame": {
               "duration": 0,
               "redraw": false
              },
              "fromcurrent": true,
              "mode": "immediate",
              "transition": {
               "duration": 0,
               "easing": "linear"
              }
             }
            ],
            "label": "Egypt",
            "method": "animate"
           },
           {
            "args": [
             [
              "Dominican Republic"
             ],
             {
              "frame": {
               "duration": 0,
               "redraw": false
              },
              "fromcurrent": true,
              "mode": "immediate",
              "transition": {
               "duration": 0,
               "easing": "linear"
              }
             }
            ],
            "label": "Dominican Republic",
            "method": "animate"
           },
           {
            "args": [
             [
              "Saudi Arabia"
             ],
             {
              "frame": {
               "duration": 0,
               "redraw": false
              },
              "fromcurrent": true,
              "mode": "immediate",
              "transition": {
               "duration": 0,
               "easing": "linear"
              }
             }
            ],
            "label": "Saudi Arabia",
            "method": "animate"
           },
           {
            "args": [
             [
              "Lebanon"
             ],
             {
              "frame": {
               "duration": 0,
               "redraw": false
              },
              "fromcurrent": true,
              "mode": "immediate",
              "transition": {
               "duration": 0,
               "easing": "linear"
              }
             }
            ],
            "label": "Lebanon",
            "method": "animate"
           },
           {
            "args": [
             [
              "Brazil"
             ],
             {
              "frame": {
               "duration": 0,
               "redraw": false
              },
              "fromcurrent": true,
              "mode": "immediate",
              "transition": {
               "duration": 0,
               "easing": "linear"
              }
             }
            ],
            "label": "Brazil",
            "method": "animate"
           },
           {
            "args": [
             [
              "Senegal"
             ],
             {
              "frame": {
               "duration": 0,
               "redraw": false
              },
              "fromcurrent": true,
              "mode": "immediate",
              "transition": {
               "duration": 0,
               "easing": "linear"
              }
             }
            ],
            "label": "Senegal",
            "method": "animate"
           },
           {
            "args": [
             [
              "Latvia"
             ],
             {
              "frame": {
               "duration": 0,
               "redraw": false
              },
              "fromcurrent": true,
              "mode": "immediate",
              "transition": {
               "duration": 0,
               "easing": "linear"
              }
             }
            ],
            "label": "Latvia",
            "method": "animate"
           },
           {
            "args": [
             [
              "Spain"
             ],
             {
              "frame": {
               "duration": 0,
               "redraw": false
              },
              "fromcurrent": true,
              "mode": "immediate",
              "transition": {
               "duration": 0,
               "easing": "linear"
              }
             }
            ],
            "label": "Spain",
            "method": "animate"
           },
           {
            "args": [
             [
              "Serbia"
             ],
             {
              "frame": {
               "duration": 0,
               "redraw": false
              },
              "fromcurrent": true,
              "mode": "immediate",
              "transition": {
               "duration": 0,
               "easing": "linear"
              }
             }
            ],
            "label": "Serbia",
            "method": "animate"
           },
           {
            "args": [
             [
              "Ecuador"
             ],
             {
              "frame": {
               "duration": 0,
               "redraw": false
              },
              "fromcurrent": true,
              "mode": "immediate",
              "transition": {
               "duration": 0,
               "easing": "linear"
              }
             }
            ],
            "label": "Ecuador",
            "method": "animate"
           },
           {
            "args": [
             [
              "Seychelles"
             ],
             {
              "frame": {
               "duration": 0,
               "redraw": false
              },
              "fromcurrent": true,
              "mode": "immediate",
              "transition": {
               "duration": 0,
               "easing": "linear"
              }
             }
            ],
            "label": "Seychelles",
            "method": "animate"
           },
           {
            "args": [
             [
              "Lao People's Democratic Republic"
             ],
             {
              "frame": {
               "duration": 0,
               "redraw": false
              },
              "fromcurrent": true,
              "mode": "immediate",
              "transition": {
               "duration": 0,
               "easing": "linear"
              }
             }
            ],
            "label": "Lao People's Democratic Republic",
            "method": "animate"
           },
           {
            "args": [
             [
              "Sierra Leone"
             ],
             {
              "frame": {
               "duration": 0,
               "redraw": false
              },
              "fromcurrent": true,
              "mode": "immediate",
              "transition": {
               "duration": 0,
               "easing": "linear"
              }
             }
            ],
            "label": "Sierra Leone",
            "method": "animate"
           },
           {
            "args": [
             [
              "Bosnia and Herzegovina"
             ],
             {
              "frame": {
               "duration": 0,
               "redraw": false
              },
              "fromcurrent": true,
              "mode": "immediate",
              "transition": {
               "duration": 0,
               "easing": "linear"
              }
             }
            ],
            "label": "Bosnia and Herzegovina",
            "method": "animate"
           },
           {
            "args": [
             [
              "Singapore"
             ],
             {
              "frame": {
               "duration": 0,
               "redraw": false
              },
              "fromcurrent": true,
              "mode": "immediate",
              "transition": {
               "duration": 0,
               "easing": "linear"
              }
             }
            ],
            "label": "Singapore",
            "method": "animate"
           },
           {
            "args": [
             [
              "Botswana"
             ],
             {
              "frame": {
               "duration": 0,
               "redraw": false
              },
              "fromcurrent": true,
              "mode": "immediate",
              "transition": {
               "duration": 0,
               "easing": "linear"
              }
             }
            ],
            "label": "Botswana",
            "method": "animate"
           },
           {
            "args": [
             [
              "Jordan"
             ],
             {
              "frame": {
               "duration": 0,
               "redraw": false
              },
              "fromcurrent": true,
              "mode": "immediate",
              "transition": {
               "duration": 0,
               "easing": "linear"
              }
             }
            ],
            "label": "Jordan",
            "method": "animate"
           },
           {
            "args": [
             [
              "Sri Lanka"
             ],
             {
              "frame": {
               "duration": 0,
               "redraw": false
              },
              "fromcurrent": true,
              "mode": "immediate",
              "transition": {
               "duration": 0,
               "easing": "linear"
              }
             }
            ],
            "label": "Sri Lanka",
            "method": "animate"
           },
           {
            "args": [
             [
              "Belgium"
             ],
             {
              "frame": {
               "duration": 0,
               "redraw": false
              },
              "fromcurrent": true,
              "mode": "immediate",
              "transition": {
               "duration": 0,
               "easing": "linear"
              }
             }
            ],
            "label": "Belgium",
            "method": "animate"
           },
           {
            "args": [
             [
              "Bahrain"
             ],
             {
              "frame": {
               "duration": 0,
               "redraw": false
              },
              "fromcurrent": true,
              "mode": "immediate",
              "transition": {
               "duration": 0,
               "easing": "linear"
              }
             }
            ],
            "label": "Bahrain",
            "method": "animate"
           },
           {
            "args": [
             [
              "Thailand"
             ],
             {
              "frame": {
               "duration": 0,
               "redraw": false
              },
              "fromcurrent": true,
              "mode": "immediate",
              "transition": {
               "duration": 0,
               "easing": "linear"
              }
             }
            ],
            "label": "Thailand",
            "method": "animate"
           },
           {
            "args": [
             [
              "The former Yugoslav republic of Macedonia"
             ],
             {
              "frame": {
               "duration": 0,
               "redraw": false
              },
              "fromcurrent": true,
              "mode": "immediate",
              "transition": {
               "duration": 0,
               "easing": "linear"
              }
             }
            ],
            "label": "The former Yugoslav republic of Macedonia",
            "method": "animate"
           },
           {
            "args": [
             [
              "Fiji"
             ],
             {
              "frame": {
               "duration": 0,
               "redraw": false
              },
              "fromcurrent": true,
              "mode": "immediate",
              "transition": {
               "duration": 0,
               "easing": "linear"
              }
             }
            ],
            "label": "Fiji",
            "method": "animate"
           },
           {
            "args": [
             [
              "Iraq"
             ],
             {
              "frame": {
               "duration": 0,
               "redraw": false
              },
              "fromcurrent": true,
              "mode": "immediate",
              "transition": {
               "duration": 0,
               "easing": "linear"
              }
             }
            ],
            "label": "Iraq",
            "method": "animate"
           },
           {
            "args": [
             [
              "Bahamas"
             ],
             {
              "frame": {
               "duration": 0,
               "redraw": false
              },
              "fromcurrent": true,
              "mode": "immediate",
              "transition": {
               "duration": 0,
               "easing": "linear"
              }
             }
            ],
            "label": "Bahamas",
            "method": "animate"
           },
           {
            "args": [
             [
              "Ireland"
             ],
             {
              "frame": {
               "duration": 0,
               "redraw": false
              },
              "fromcurrent": true,
              "mode": "immediate",
              "transition": {
               "duration": 0,
               "easing": "linear"
              }
             }
            ],
            "label": "Ireland",
            "method": "animate"
           },
           {
            "args": [
             [
              "Timor-Leste"
             ],
             {
              "frame": {
               "duration": 0,
               "redraw": false
              },
              "fromcurrent": true,
              "mode": "immediate",
              "transition": {
               "duration": 0,
               "easing": "linear"
              }
             }
            ],
            "label": "Timor-Leste",
            "method": "animate"
           },
           {
            "args": [
             [
              "Togo"
             ],
             {
              "frame": {
               "duration": 0,
               "redraw": false
              },
              "fromcurrent": true,
              "mode": "immediate",
              "transition": {
               "duration": 0,
               "easing": "linear"
              }
             }
            ],
            "label": "Togo",
            "method": "animate"
           },
           {
            "args": [
             [
              "Azerbaijan"
             ],
             {
              "frame": {
               "duration": 0,
               "redraw": false
              },
              "fromcurrent": true,
              "mode": "immediate",
              "transition": {
               "duration": 0,
               "easing": "linear"
              }
             }
            ],
            "label": "Azerbaijan",
            "method": "animate"
           },
           {
            "args": [
             [
              "Finland"
             ],
             {
              "frame": {
               "duration": 0,
               "redraw": false
              },
              "fromcurrent": true,
              "mode": "immediate",
              "transition": {
               "duration": 0,
               "easing": "linear"
              }
             }
            ],
            "label": "Finland",
            "method": "animate"
           },
           {
            "args": [
             [
              "Tonga"
             ],
             {
              "frame": {
               "duration": 0,
               "redraw": false
              },
              "fromcurrent": true,
              "mode": "immediate",
              "transition": {
               "duration": 0,
               "easing": "linear"
              }
             }
            ],
            "label": "Tonga",
            "method": "animate"
           },
           {
            "args": [
             [
              "Indonesia"
             ],
             {
              "frame": {
               "duration": 0,
               "redraw": false
              },
              "fromcurrent": true,
              "mode": "immediate",
              "transition": {
               "duration": 0,
               "easing": "linear"
              }
             }
            ],
            "label": "Indonesia",
            "method": "animate"
           },
           {
            "args": [
             [
              "Trinidad and Tobago"
             ],
             {
              "frame": {
               "duration": 0,
               "redraw": false
              },
              "fromcurrent": true,
              "mode": "immediate",
              "transition": {
               "duration": 0,
               "easing": "linear"
              }
             }
            ],
            "label": "Trinidad and Tobago",
            "method": "animate"
           },
           {
            "args": [
             [
              "Iran (Islamic Republic of)"
             ],
             {
              "frame": {
               "duration": 0,
               "redraw": false
              },
              "fromcurrent": true,
              "mode": "immediate",
              "transition": {
               "duration": 0,
               "easing": "linear"
              }
             }
            ],
            "label": "Iran (Islamic Republic of)",
            "method": "animate"
           },
           {
            "args": [
             [
              "Sao Tome and Principe"
             ],
             {
              "frame": {
               "duration": 0,
               "redraw": false
              },
              "fromcurrent": true,
              "mode": "immediate",
              "transition": {
               "duration": 0,
               "easing": "linear"
              }
             }
            ],
            "label": "Sao Tome and Principe",
            "method": "animate"
           },
           {
            "args": [
             [
              "Tajikistan"
             ],
             {
              "frame": {
               "duration": 0,
               "redraw": false
              },
              "fromcurrent": true,
              "mode": "immediate",
              "transition": {
               "duration": 0,
               "easing": "linear"
              }
             }
            ],
            "label": "Tajikistan",
            "method": "animate"
           },
           {
            "args": [
             [
              "Bangladesh"
             ],
             {
              "frame": {
               "duration": 0,
               "redraw": false
              },
              "fromcurrent": true,
              "mode": "immediate",
              "transition": {
               "duration": 0,
               "easing": "linear"
              }
             }
            ],
            "label": "Bangladesh",
            "method": "animate"
           },
           {
            "args": [
             [
              "Eritrea"
             ],
             {
              "frame": {
               "duration": 0,
               "redraw": false
              },
              "fromcurrent": true,
              "mode": "immediate",
              "transition": {
               "duration": 0,
               "easing": "linear"
              }
             }
            ],
            "label": "Eritrea",
            "method": "animate"
           },
           {
            "args": [
             [
              "Sudan"
             ],
             {
              "frame": {
               "duration": 0,
               "redraw": false
              },
              "fromcurrent": true,
              "mode": "immediate",
              "transition": {
               "duration": 0,
               "easing": "linear"
              }
             }
            ],
            "label": "Sudan",
            "method": "animate"
           },
           {
            "args": [
             [
              "Japan"
             ],
             {
              "frame": {
               "duration": 0,
               "redraw": false
              },
              "fromcurrent": true,
              "mode": "immediate",
              "transition": {
               "duration": 0,
               "easing": "linear"
              }
             }
            ],
            "label": "Japan",
            "method": "animate"
           },
           {
            "args": [
             [
              "Suriname"
             ],
             {
              "frame": {
               "duration": 0,
               "redraw": false
              },
              "fromcurrent": true,
              "mode": "immediate",
              "transition": {
               "duration": 0,
               "easing": "linear"
              }
             }
            ],
            "label": "Suriname",
            "method": "animate"
           },
           {
            "args": [
             [
              "Belarus"
             ],
             {
              "frame": {
               "duration": 0,
               "redraw": false
              },
              "fromcurrent": true,
              "mode": "immediate",
              "transition": {
               "duration": 0,
               "easing": "linear"
              }
             }
            ],
            "label": "Belarus",
            "method": "animate"
           },
           {
            "args": [
             [
              "Jamaica"
             ],
             {
              "frame": {
               "duration": 0,
               "redraw": false
              },
              "fromcurrent": true,
              "mode": "immediate",
              "transition": {
               "duration": 0,
               "easing": "linear"
              }
             }
            ],
            "label": "Jamaica",
            "method": "animate"
           },
           {
            "args": [
             [
              "Ethiopia"
             ],
             {
              "frame": {
               "duration": 0,
               "redraw": false
              },
              "fromcurrent": true,
              "mode": "immediate",
              "transition": {
               "duration": 0,
               "easing": "linear"
              }
             }
            ],
            "label": "Ethiopia",
            "method": "animate"
           },
           {
            "args": [
             [
              "Swaziland"
             ],
             {
              "frame": {
               "duration": 0,
               "redraw": false
              },
              "fromcurrent": true,
              "mode": "immediate",
              "transition": {
               "duration": 0,
               "easing": "linear"
              }
             }
            ],
            "label": "Swaziland",
            "method": "animate"
           },
           {
            "args": [
             [
              "Sweden"
             ],
             {
              "frame": {
               "duration": 0,
               "redraw": false
              },
              "fromcurrent": true,
              "mode": "immediate",
              "transition": {
               "duration": 0,
               "easing": "linear"
              }
             }
            ],
            "label": "Sweden",
            "method": "animate"
           },
           {
            "args": [
             [
              "Barbados"
             ],
             {
              "frame": {
               "duration": 0,
               "redraw": false
              },
              "fromcurrent": true,
              "mode": "immediate",
              "transition": {
               "duration": 0,
               "easing": "linear"
              }
             }
            ],
            "label": "Barbados",
            "method": "animate"
           },
           {
            "args": [
             [
              "Italy"
             ],
             {
              "frame": {
               "duration": 0,
               "redraw": false
              },
              "fromcurrent": true,
              "mode": "immediate",
              "transition": {
               "duration": 0,
               "easing": "linear"
              }
             }
            ],
            "label": "Italy",
            "method": "animate"
           },
           {
            "args": [
             [
              "Switzerland"
             ],
             {
              "frame": {
               "duration": 0,
               "redraw": false
              },
              "fromcurrent": true,
              "mode": "immediate",
              "transition": {
               "duration": 0,
               "easing": "linear"
              }
             }
            ],
            "label": "Switzerland",
            "method": "animate"
           },
           {
            "args": [
             [
              "Israel"
             ],
             {
              "frame": {
               "duration": 0,
               "redraw": false
              },
              "fromcurrent": true,
              "mode": "immediate",
              "transition": {
               "duration": 0,
               "easing": "linear"
              }
             }
            ],
            "label": "Israel",
            "method": "animate"
           },
           {
            "args": [
             [
              "Syrian Arab Republic"
             ],
             {
              "frame": {
               "duration": 0,
               "redraw": false
              },
              "fromcurrent": true,
              "mode": "immediate",
              "transition": {
               "duration": 0,
               "easing": "linear"
              }
             }
            ],
            "label": "Syrian Arab Republic",
            "method": "animate"
           },
           {
            "args": [
             [
              "Estonia"
             ],
             {
              "frame": {
               "duration": 0,
               "redraw": false
              },
              "fromcurrent": true,
              "mode": "immediate",
              "transition": {
               "duration": 0,
               "easing": "linear"
              }
             }
            ],
            "label": "Estonia",
            "method": "animate"
           },
           {
            "args": [
             [
              "Brunei Darussalam"
             ],
             {
              "frame": {
               "duration": 0,
               "redraw": false
              },
              "fromcurrent": true,
              "mode": "immediate",
              "transition": {
               "duration": 0,
               "easing": "linear"
              }
             }
            ],
            "label": "Brunei Darussalam",
            "method": "animate"
           },
           {
            "args": [
             [
              "Lesotho"
             ],
             {
              "frame": {
               "duration": 0,
               "redraw": false
              },
              "fromcurrent": true,
              "mode": "immediate",
              "transition": {
               "duration": 0,
               "easing": "linear"
              }
             }
            ],
            "label": "Lesotho",
            "method": "animate"
           },
           {
            "args": [
             [
              "Samoa"
             ],
             {
              "frame": {
               "duration": 0,
               "redraw": false
              },
              "fromcurrent": true,
              "mode": "immediate",
              "transition": {
               "duration": 0,
               "easing": "linear"
              }
             }
            ],
            "label": "Samoa",
            "method": "animate"
           },
           {
            "args": [
             [
              "Chile"
             ],
             {
              "frame": {
               "duration": 0,
               "redraw": false
              },
              "fromcurrent": true,
              "mode": "immediate",
              "transition": {
               "duration": 0,
               "easing": "linear"
              }
             }
            ],
            "label": "Chile",
            "method": "animate"
           },
           {
            "args": [
             [
              "Mexico"
             ],
             {
              "frame": {
               "duration": 0,
               "redraw": false
              },
              "fromcurrent": true,
              "mode": "immediate",
              "transition": {
               "duration": 0,
               "easing": "linear"
              }
             }
            ],
            "label": "Mexico",
            "method": "animate"
           },
           {
            "args": [
             [
              "Nigeria"
             ],
             {
              "frame": {
               "duration": 0,
               "redraw": false
              },
              "fromcurrent": true,
              "mode": "immediate",
              "transition": {
               "duration": 0,
               "easing": "linear"
              }
             }
            ],
            "label": "Nigeria",
            "method": "animate"
           },
           {
            "args": [
             [
              "Norway"
             ],
             {
              "frame": {
               "duration": 0,
               "redraw": false
              },
              "fromcurrent": true,
              "mode": "immediate",
              "transition": {
               "duration": 0,
               "easing": "linear"
              }
             }
            ],
            "label": "Norway",
            "method": "animate"
           },
           {
            "args": [
             [
              "Cuba"
             ],
             {
              "frame": {
               "duration": 0,
               "redraw": false
              },
              "fromcurrent": true,
              "mode": "immediate",
              "transition": {
               "duration": 0,
               "easing": "linear"
              }
             }
            ],
            "label": "Cuba",
            "method": "animate"
           },
           {
            "args": [
             [
              "Chad"
             ],
             {
              "frame": {
               "duration": 0,
               "redraw": false
              },
              "fromcurrent": true,
              "mode": "immediate",
              "transition": {
               "duration": 0,
               "easing": "linear"
              }
             }
            ],
            "label": "Chad",
            "method": "animate"
           },
           {
            "args": [
             [
              "Micronesia (Federated States of)"
             ],
             {
              "frame": {
               "duration": 0,
               "redraw": false
              },
              "fromcurrent": true,
              "mode": "immediate",
              "transition": {
               "duration": 0,
               "easing": "linear"
              }
             }
            ],
            "label": "Micronesia (Federated States of)",
            "method": "animate"
           },
           {
            "args": [
             [
              "Mauritius"
             ],
             {
              "frame": {
               "duration": 0,
               "redraw": false
              },
              "fromcurrent": true,
              "mode": "immediate",
              "transition": {
               "duration": 0,
               "easing": "linear"
              }
             }
            ],
            "label": "Mauritius",
            "method": "animate"
           },
           {
            "args": [
             [
              "Pakistan"
             ],
             {
              "frame": {
               "duration": 0,
               "redraw": false
              },
              "fromcurrent": true,
              "mode": "immediate",
              "transition": {
               "duration": 0,
               "easing": "linear"
              }
             }
            ],
            "label": "Pakistan",
            "method": "animate"
           },
           {
            "args": [
             [
              "Mauritania"
             ],
             {
              "frame": {
               "duration": 0,
               "redraw": false
              },
              "fromcurrent": true,
              "mode": "immediate",
              "transition": {
               "duration": 0,
               "easing": "linear"
              }
             }
            ],
            "label": "Mauritania",
            "method": "animate"
           },
           {
            "args": [
             [
              "Central African Republic"
             ],
             {
              "frame": {
               "duration": 0,
               "redraw": false
              },
              "fromcurrent": true,
              "mode": "immediate",
              "transition": {
               "duration": 0,
               "easing": "linear"
              }
             }
            ],
            "label": "Central African Republic",
            "method": "animate"
           },
           {
            "args": [
             [
              "Cyprus"
             ],
             {
              "frame": {
               "duration": 0,
               "redraw": false
              },
              "fromcurrent": true,
              "mode": "immediate",
              "transition": {
               "duration": 0,
               "easing": "linear"
              }
             }
            ],
            "label": "Cyprus",
            "method": "animate"
           },
           {
            "args": [
             [
              "Panama"
             ],
             {
              "frame": {
               "duration": 0,
               "redraw": false
              },
              "fromcurrent": true,
              "mode": "immediate",
              "transition": {
               "duration": 0,
               "easing": "linear"
              }
             }
            ],
            "label": "Panama",
            "method": "animate"
           },
           {
            "args": [
             [
              "Papua New Guinea"
             ],
             {
              "frame": {
               "duration": 0,
               "redraw": false
              },
              "fromcurrent": true,
              "mode": "immediate",
              "transition": {
               "duration": 0,
               "easing": "linear"
              }
             }
            ],
            "label": "Papua New Guinea",
            "method": "animate"
           },
           {
            "args": [
             [
              "Oman"
             ],
             {
              "frame": {
               "duration": 0,
               "redraw": false
              },
              "fromcurrent": true,
              "mode": "immediate",
              "transition": {
               "duration": 0,
               "easing": "linear"
              }
             }
            ],
            "label": "Oman",
            "method": "animate"
           },
           {
            "args": [
             [
              "Malta"
             ],
             {
              "frame": {
               "duration": 0,
               "redraw": false
              },
              "fromcurrent": true,
              "mode": "immediate",
              "transition": {
               "duration": 0,
               "easing": "linear"
              }
             }
            ],
            "label": "Malta",
            "method": "animate"
           },
           {
            "args": [
             [
              "Niger"
             ],
             {
              "frame": {
               "duration": 0,
               "redraw": false
              },
              "fromcurrent": true,
              "mode": "immediate",
              "transition": {
               "duration": 0,
               "easing": "linear"
              }
             }
            ],
            "label": "Niger",
            "method": "animate"
           },
           {
            "args": [
             [
              "Nicaragua"
             ],
             {
              "frame": {
               "duration": 0,
               "redraw": false
              },
              "fromcurrent": true,
              "mode": "immediate",
              "transition": {
               "duration": 0,
               "easing": "linear"
              }
             }
            ],
            "label": "Nicaragua",
            "method": "animate"
           },
           {
            "args": [
             [
              "Congo"
             ],
             {
              "frame": {
               "duration": 0,
               "redraw": false
              },
              "fromcurrent": true,
              "mode": "immediate",
              "transition": {
               "duration": 0,
               "easing": "linear"
              }
             }
            ],
            "label": "Congo",
            "method": "animate"
           },
           {
            "args": [
             [
              "Myanmar"
             ],
             {
              "frame": {
               "duration": 0,
               "redraw": false
              },
              "fromcurrent": true,
              "mode": "immediate",
              "transition": {
               "duration": 0,
               "easing": "linear"
              }
             }
            ],
            "label": "Myanmar",
            "method": "animate"
           },
           {
            "args": [
             [
              "Mozambique"
             ],
             {
              "frame": {
               "duration": 0,
               "redraw": false
              },
              "fromcurrent": true,
              "mode": "immediate",
              "transition": {
               "duration": 0,
               "easing": "linear"
              }
             }
            ],
            "label": "Mozambique",
            "method": "animate"
           },
           {
            "args": [
             [
              "Namibia"
             ],
             {
              "frame": {
               "duration": 0,
               "redraw": false
              },
              "fromcurrent": true,
              "mode": "immediate",
              "transition": {
               "duration": 0,
               "easing": "linear"
              }
             }
            ],
            "label": "Namibia",
            "method": "animate"
           },
           {
            "args": [
             [
              "Comoros"
             ],
             {
              "frame": {
               "duration": 0,
               "redraw": false
              },
              "fromcurrent": true,
              "mode": "immediate",
              "transition": {
               "duration": 0,
               "easing": "linear"
              }
             }
            ],
            "label": "Comoros",
            "method": "animate"
           },
           {
            "args": [
             [
              "Morocco"
             ],
             {
              "frame": {
               "duration": 0,
               "redraw": false
              },
              "fromcurrent": true,
              "mode": "immediate",
              "transition": {
               "duration": 0,
               "easing": "linear"
              }
             }
            ],
            "label": "Morocco",
            "method": "animate"
           },
           {
            "args": [
             [
              "Croatia"
             ],
             {
              "frame": {
               "duration": 0,
               "redraw": false
              },
              "fromcurrent": true,
              "mode": "immediate",
              "transition": {
               "duration": 0,
               "easing": "linear"
              }
             }
            ],
            "label": "Croatia",
            "method": "animate"
           },
           {
            "args": [
             [
              "Nepal"
             ],
             {
              "frame": {
               "duration": 0,
               "redraw": false
              },
              "fromcurrent": true,
              "mode": "immediate",
              "transition": {
               "duration": 0,
               "easing": "linear"
              }
             }
            ],
            "label": "Nepal",
            "method": "animate"
           },
           {
            "args": [
             [
              "Colombia"
             ],
             {
              "frame": {
               "duration": 0,
               "redraw": false
              },
              "fromcurrent": true,
              "mode": "immediate",
              "transition": {
               "duration": 0,
               "easing": "linear"
              }
             }
            ],
            "label": "Colombia",
            "method": "animate"
           },
           {
            "args": [
             [
              "Costa Rica"
             ],
             {
              "frame": {
               "duration": 0,
               "redraw": false
              },
              "fromcurrent": true,
              "mode": "immediate",
              "transition": {
               "duration": 0,
               "easing": "linear"
              }
             }
            ],
            "label": "Costa Rica",
            "method": "animate"
           },
           {
            "args": [
             [
              "Montenegro"
             ],
             {
              "frame": {
               "duration": 0,
               "redraw": false
              },
              "fromcurrent": true,
              "mode": "immediate",
              "transition": {
               "duration": 0,
               "easing": "linear"
              }
             }
            ],
            "label": "Montenegro",
            "method": "animate"
           },
           {
            "args": [
             [
              "New Zealand"
             ],
             {
              "frame": {
               "duration": 0,
               "redraw": false
              },
              "fromcurrent": true,
              "mode": "immediate",
              "transition": {
               "duration": 0,
               "easing": "linear"
              }
             }
            ],
            "label": "New Zealand",
            "method": "animate"
           },
           {
            "args": [
             [
              "Mongolia"
             ],
             {
              "frame": {
               "duration": 0,
               "redraw": false
              },
              "fromcurrent": true,
              "mode": "immediate",
              "transition": {
               "duration": 0,
               "easing": "linear"
              }
             }
            ],
            "label": "Mongolia",
            "method": "animate"
           },
           {
            "args": [
             [
              "China"
             ],
             {
              "frame": {
               "duration": 0,
               "redraw": false
              },
              "fromcurrent": true,
              "mode": "immediate",
              "transition": {
               "duration": 0,
               "easing": "linear"
              }
             }
            ],
            "label": "China",
            "method": "animate"
           },
           {
            "args": [
             [
              "Netherlands"
             ],
             {
              "frame": {
               "duration": 0,
               "redraw": false
              },
              "fromcurrent": true,
              "mode": "immediate",
              "transition": {
               "duration": 0,
               "easing": "linear"
              }
             }
            ],
            "label": "Netherlands",
            "method": "animate"
           },
           {
            "args": [
             [
              "India"
             ],
             {
              "frame": {
               "duration": 0,
               "redraw": false
              },
              "fromcurrent": true,
              "mode": "immediate",
              "transition": {
               "duration": 0,
               "easing": "linear"
              }
             }
            ],
            "label": "India",
            "method": "animate"
           },
           {
            "args": [
             [
              "Canada"
             ],
             {
              "frame": {
               "duration": 0,
               "redraw": false
              },
              "fromcurrent": true,
              "mode": "immediate",
              "transition": {
               "duration": 0,
               "easing": "linear"
              }
             }
            ],
            "label": "Canada",
            "method": "animate"
           },
           {
            "args": [
             [
              "Czechia"
             ],
             {
              "frame": {
               "duration": 0,
               "redraw": false
              },
              "fromcurrent": true,
              "mode": "immediate",
              "transition": {
               "duration": 0,
               "easing": "linear"
              }
             }
            ],
            "label": "Czechia",
            "method": "animate"
           },
           {
            "args": [
             [
              "Luxembourg"
             ],
             {
              "frame": {
               "duration": 0,
               "redraw": false
              },
              "fromcurrent": true,
              "mode": "immediate",
              "transition": {
               "duration": 0,
               "easing": "linear"
              }
             }
            ],
            "label": "Luxembourg",
            "method": "animate"
           },
           {
            "args": [
             [
              "Romania"
             ],
             {
              "frame": {
               "duration": 0,
               "redraw": false
              },
              "fromcurrent": true,
              "mode": "immediate",
              "transition": {
               "duration": 0,
               "easing": "linear"
              }
             }
            ],
            "label": "Romania",
            "method": "animate"
           },
           {
            "args": [
             [
              "Burundi"
             ],
             {
              "frame": {
               "duration": 0,
               "redraw": false
              },
              "fromcurrent": true,
              "mode": "immediate",
              "transition": {
               "duration": 0,
               "easing": "linear"
              }
             }
            ],
            "label": "Burundi",
            "method": "animate"
           },
           {
            "args": [
             [
              "Russian Federation"
             ],
             {
              "frame": {
               "duration": 0,
               "redraw": false
              },
              "fromcurrent": true,
              "mode": "immediate",
              "transition": {
               "duration": 0,
               "easing": "linear"
              }
             }
            ],
            "label": "Russian Federation",
            "method": "animate"
           },
           {
            "args": [
             [
              "Denmark"
             ],
             {
              "frame": {
               "duration": 0,
               "redraw": false
              },
              "fromcurrent": true,
              "mode": "immediate",
              "transition": {
               "duration": 0,
               "easing": "linear"
              }
             }
            ],
            "label": "Denmark",
            "method": "animate"
           },
           {
            "args": [
             [
              "Lithuania"
             ],
             {
              "frame": {
               "duration": 0,
               "redraw": false
              },
              "fromcurrent": true,
              "mode": "immediate",
              "transition": {
               "duration": 0,
               "easing": "linear"
              }
             }
            ],
            "label": "Lithuania",
            "method": "animate"
           },
           {
            "args": [
             [
              "Republic of Moldova"
             ],
             {
              "frame": {
               "duration": 0,
               "redraw": false
              },
              "fromcurrent": true,
              "mode": "immediate",
              "transition": {
               "duration": 0,
               "easing": "linear"
              }
             }
            ],
            "label": "Republic of Moldova",
            "method": "animate"
           },
           {
            "args": [
             [
              "Rwanda"
             ],
             {
              "frame": {
               "duration": 0,
               "redraw": false
              },
              "fromcurrent": true,
              "mode": "immediate",
              "transition": {
               "duration": 0,
               "easing": "linear"
              }
             }
            ],
            "label": "Rwanda",
            "method": "animate"
           },
           {
            "args": [
             [
              "Libya"
             ],
             {
              "frame": {
               "duration": 0,
               "redraw": false
              },
              "fromcurrent": true,
              "mode": "immediate",
              "transition": {
               "duration": 0,
               "easing": "linear"
              }
             }
            ],
            "label": "Libya",
            "method": "animate"
           },
           {
            "args": [
             [
              "Saint Lucia"
             ],
             {
              "frame": {
               "duration": 0,
               "redraw": false
              },
              "fromcurrent": true,
              "mode": "immediate",
              "transition": {
               "duration": 0,
               "easing": "linear"
              }
             }
            ],
            "label": "Saint Lucia",
            "method": "animate"
           },
           {
            "args": [
             [
              "Saint Vincent and the Grenadines"
             ],
             {
              "frame": {
               "duration": 0,
               "redraw": false
              },
              "fromcurrent": true,
              "mode": "immediate",
              "transition": {
               "duration": 0,
               "easing": "linear"
              }
             }
            ],
            "label": "Saint Vincent and the Grenadines",
            "method": "animate"
           },
           {
            "args": [
             [
              "Bulgaria"
             ],
             {
              "frame": {
               "duration": 0,
               "redraw": false
              },
              "fromcurrent": true,
              "mode": "immediate",
              "transition": {
               "duration": 0,
               "easing": "linear"
              }
             }
            ],
            "label": "Bulgaria",
            "method": "animate"
           },
           {
            "args": [
             [
              "Djibouti"
             ],
             {
              "frame": {
               "duration": 0,
               "redraw": false
              },
              "fromcurrent": true,
              "mode": "immediate",
              "transition": {
               "duration": 0,
               "easing": "linear"
              }
             }
            ],
            "label": "Djibouti",
            "method": "animate"
           },
           {
            "args": [
             [
              "Liberia"
             ],
             {
              "frame": {
               "duration": 0,
               "redraw": false
              },
              "fromcurrent": true,
              "mode": "immediate",
              "transition": {
               "duration": 0,
               "easing": "linear"
              }
             }
            ],
            "label": "Liberia",
            "method": "animate"
           },
           {
            "args": [
             [
              "Burkina Faso"
             ],
             {
              "frame": {
               "duration": 0,
               "redraw": false
              },
              "fromcurrent": true,
              "mode": "immediate",
              "transition": {
               "duration": 0,
               "easing": "linear"
              }
             }
            ],
            "label": "Burkina Faso",
            "method": "animate"
           },
           {
            "args": [
             [
              "Paraguay"
             ],
             {
              "frame": {
               "duration": 0,
               "redraw": false
              },
              "fromcurrent": true,
              "mode": "immediate",
              "transition": {
               "duration": 0,
               "easing": "linear"
              }
             }
            ],
            "label": "Paraguay",
            "method": "animate"
           },
           {
            "args": [
             [
              "Madagascar"
             ],
             {
              "frame": {
               "duration": 0,
               "redraw": false
              },
              "fromcurrent": true,
              "mode": "immediate",
              "transition": {
               "duration": 0,
               "easing": "linear"
              }
             }
            ],
            "label": "Madagascar",
            "method": "animate"
           },
           {
            "args": [
             [
              "Democratic Republic of the Congo"
             ],
             {
              "frame": {
               "duration": 0,
               "redraw": false
              },
              "fromcurrent": true,
              "mode": "immediate",
              "transition": {
               "duration": 0,
               "easing": "linear"
              }
             }
            ],
            "label": "Democratic Republic of the Congo",
            "method": "animate"
           },
           {
            "args": [
             [
              "Peru"
             ],
             {
              "frame": {
               "duration": 0,
               "redraw": false
              },
              "fromcurrent": true,
              "mode": "immediate",
              "transition": {
               "duration": 0,
               "easing": "linear"
              }
             }
            ],
            "label": "Peru",
            "method": "animate"
           },
           {
            "args": [
             [
              "Cameroon"
             ],
             {
              "frame": {
               "duration": 0,
               "redraw": false
              },
              "fromcurrent": true,
              "mode": "immediate",
              "transition": {
               "duration": 0,
               "easing": "linear"
              }
             }
            ],
            "label": "Cameroon",
            "method": "animate"
           },
           {
            "args": [
             [
              "Mali"
             ],
             {
              "frame": {
               "duration": 0,
               "redraw": false
              },
              "fromcurrent": true,
              "mode": "immediate",
              "transition": {
               "duration": 0,
               "easing": "linear"
              }
             }
            ],
            "label": "Mali",
            "method": "animate"
           },
           {
            "args": [
             [
              "Maldives"
             ],
             {
              "frame": {
               "duration": 0,
               "redraw": false
              },
              "fromcurrent": true,
              "mode": "immediate",
              "transition": {
               "duration": 0,
               "easing": "linear"
              }
             }
            ],
            "label": "Maldives",
            "method": "animate"
           },
           {
            "args": [
             [
              "Philippines"
             ],
             {
              "frame": {
               "duration": 0,
               "redraw": false
              },
              "fromcurrent": true,
              "mode": "immediate",
              "transition": {
               "duration": 0,
               "easing": "linear"
              }
             }
            ],
            "label": "Philippines",
            "method": "animate"
           },
           {
            "args": [
             [
              "Cambodia"
             ],
             {
              "frame": {
               "duration": 0,
               "redraw": false
              },
              "fromcurrent": true,
              "mode": "immediate",
              "transition": {
               "duration": 0,
               "easing": "linear"
              }
             }
            ],
            "label": "Cambodia",
            "method": "animate"
           },
           {
            "args": [
             [
              "Côte d'Ivoire"
             ],
             {
              "frame": {
               "duration": 0,
               "redraw": false
              },
              "fromcurrent": true,
              "mode": "immediate",
              "transition": {
               "duration": 0,
               "easing": "linear"
              }
             }
            ],
            "label": "Côte d'Ivoire",
            "method": "animate"
           },
           {
            "args": [
             [
              "Poland"
             ],
             {
              "frame": {
               "duration": 0,
               "redraw": false
              },
              "fromcurrent": true,
              "mode": "immediate",
              "transition": {
               "duration": 0,
               "easing": "linear"
              }
             }
            ],
            "label": "Poland",
            "method": "animate"
           },
           {
            "args": [
             [
              "Malaysia"
             ],
             {
              "frame": {
               "duration": 0,
               "redraw": false
              },
              "fromcurrent": true,
              "mode": "immediate",
              "transition": {
               "duration": 0,
               "easing": "linear"
              }
             }
            ],
            "label": "Malaysia",
            "method": "animate"
           },
           {
            "args": [
             [
              "Portugal"
             ],
             {
              "frame": {
               "duration": 0,
               "redraw": false
              },
              "fromcurrent": true,
              "mode": "immediate",
              "transition": {
               "duration": 0,
               "easing": "linear"
              }
             }
            ],
            "label": "Portugal",
            "method": "animate"
           },
           {
            "args": [
             [
              "Cabo Verde"
             ],
             {
              "frame": {
               "duration": 0,
               "redraw": false
              },
              "fromcurrent": true,
              "mode": "immediate",
              "transition": {
               "duration": 0,
               "easing": "linear"
              }
             }
            ],
            "label": "Cabo Verde",
            "method": "animate"
           },
           {
            "args": [
             [
              "Malawi"
             ],
             {
              "frame": {
               "duration": 0,
               "redraw": false
              },
              "fromcurrent": true,
              "mode": "immediate",
              "transition": {
               "duration": 0,
               "easing": "linear"
              }
             }
            ],
            "label": "Malawi",
            "method": "animate"
           },
           {
            "args": [
             [
              "Qatar"
             ],
             {
              "frame": {
               "duration": 0,
               "redraw": false
              },
              "fromcurrent": true,
              "mode": "immediate",
              "transition": {
               "duration": 0,
               "easing": "linear"
              }
             }
            ],
            "label": "Qatar",
            "method": "animate"
           },
           {
            "args": [
             [
              "Republic of Korea"
             ],
             {
              "frame": {
               "duration": 0,
               "redraw": false
              },
              "fromcurrent": true,
              "mode": "immediate",
              "transition": {
               "duration": 0,
               "easing": "linear"
              }
             }
            ],
            "label": "Republic of Korea",
            "method": "animate"
           },
           {
            "args": [
             [
              "Democratic People's Republic of Korea"
             ],
             {
              "frame": {
               "duration": 0,
               "redraw": false
              },
              "fromcurrent": true,
              "mode": "immediate",
              "transition": {
               "duration": 0,
               "easing": "linear"
              }
             }
            ],
            "label": "Democratic People's Republic of Korea",
            "method": "animate"
           },
           {
            "args": [
             [
              "Austria"
             ],
             {
              "frame": {
               "duration": 0,
               "redraw": false
              },
              "fromcurrent": true,
              "mode": "immediate",
              "transition": {
               "duration": 0,
               "easing": "linear"
              }
             }
            ],
            "label": "Austria",
            "method": "animate"
           },
           {
            "args": [
             [
              "Slovenia"
             ],
             {
              "frame": {
               "duration": 0,
               "redraw": false
              },
              "fromcurrent": true,
              "mode": "immediate",
              "transition": {
               "duration": 0,
               "easing": "linear"
              }
             }
            ],
            "label": "Slovenia",
            "method": "animate"
           },
           {
            "args": [
             [
              "Algeria"
             ],
             {
              "frame": {
               "duration": 0,
               "redraw": false
              },
              "fromcurrent": true,
              "mode": "immediate",
              "transition": {
               "duration": 0,
               "easing": "linear"
              }
             }
            ],
            "label": "Algeria",
            "method": "animate"
           },
           {
            "args": [
             [
              "Viet Nam"
             ],
             {
              "frame": {
               "duration": 0,
               "redraw": false
              },
              "fromcurrent": true,
              "mode": "immediate",
              "transition": {
               "duration": 0,
               "easing": "linear"
              }
             }
            ],
            "label": "Viet Nam",
            "method": "animate"
           },
           {
            "args": [
             [
              "United States of America"
             ],
             {
              "frame": {
               "duration": 0,
               "redraw": false
              },
              "fromcurrent": true,
              "mode": "immediate",
              "transition": {
               "duration": 0,
               "easing": "linear"
              }
             }
            ],
            "label": "United States of America",
            "method": "animate"
           },
           {
            "args": [
             [
              "Guatemala"
             ],
             {
              "frame": {
               "duration": 0,
               "redraw": false
              },
              "fromcurrent": true,
              "mode": "immediate",
              "transition": {
               "duration": 0,
               "easing": "linear"
              }
             }
            ],
            "label": "Guatemala",
            "method": "animate"
           },
           {
            "args": [
             [
              "Turkey"
             ],
             {
              "frame": {
               "duration": 0,
               "redraw": false
              },
              "fromcurrent": true,
              "mode": "immediate",
              "transition": {
               "duration": 0,
               "easing": "linear"
              }
             }
            ],
            "label": "Turkey",
            "method": "animate"
           },
           {
            "args": [
             [
              "France"
             ],
             {
              "frame": {
               "duration": 0,
               "redraw": false
              },
              "fromcurrent": true,
              "mode": "immediate",
              "transition": {
               "duration": 0,
               "easing": "linear"
              }
             }
            ],
            "label": "France",
            "method": "animate"
           },
           {
            "args": [
             [
              "Hungary"
             ],
             {
              "frame": {
               "duration": 0,
               "redraw": false
              },
              "fromcurrent": true,
              "mode": "immediate",
              "transition": {
               "duration": 0,
               "easing": "linear"
              }
             }
            ],
            "label": "Hungary",
            "method": "animate"
           },
           {
            "args": [
             [
              "Venezuela (Bolivarian Republic of)"
             ],
             {
              "frame": {
               "duration": 0,
               "redraw": false
              },
              "fromcurrent": true,
              "mode": "immediate",
              "transition": {
               "duration": 0,
               "easing": "linear"
              }
             }
            ],
            "label": "Venezuela (Bolivarian Republic of)",
            "method": "animate"
           },
           {
            "args": [
             [
              "Greece"
             ],
             {
              "frame": {
               "duration": 0,
               "redraw": false
              },
              "fromcurrent": true,
              "mode": "immediate",
              "transition": {
               "duration": 0,
               "easing": "linear"
              }
             }
            ],
            "label": "Greece",
            "method": "animate"
           },
           {
            "args": [
             [
              "Australia"
             ],
             {
              "frame": {
               "duration": 0,
               "redraw": false
              },
              "fromcurrent": true,
              "mode": "immediate",
              "transition": {
               "duration": 0,
               "easing": "linear"
              }
             }
            ],
            "label": "Australia",
            "method": "animate"
           },
           {
            "args": [
             [
              "Ghana"
             ],
             {
              "frame": {
               "duration": 0,
               "redraw": false
              },
              "fromcurrent": true,
              "mode": "immediate",
              "transition": {
               "duration": 0,
               "easing": "linear"
              }
             }
            ],
            "label": "Ghana",
            "method": "animate"
           },
           {
            "args": [
             [
              "Haiti"
             ],
             {
              "frame": {
               "duration": 0,
               "redraw": false
              },
              "fromcurrent": true,
              "mode": "immediate",
              "transition": {
               "duration": 0,
               "easing": "linear"
              }
             }
            ],
            "label": "Haiti",
            "method": "animate"
           },
           {
            "args": [
             [
              "Guinea-Bissau"
             ],
             {
              "frame": {
               "duration": 0,
               "redraw": false
              },
              "fromcurrent": true,
              "mode": "immediate",
              "transition": {
               "duration": 0,
               "easing": "linear"
              }
             }
            ],
            "label": "Guinea-Bissau",
            "method": "animate"
           },
           {
            "args": [
             [
              "United Arab Emirates"
             ],
             {
              "frame": {
               "duration": 0,
               "redraw": false
              },
              "fromcurrent": true,
              "mode": "immediate",
              "transition": {
               "duration": 0,
               "easing": "linear"
              }
             }
            ],
            "label": "United Arab Emirates",
            "method": "animate"
           },
           {
            "args": [
             [
              "United Republic of Tanzania"
             ],
             {
              "frame": {
               "duration": 0,
               "redraw": false
              },
              "fromcurrent": true,
              "mode": "immediate",
              "transition": {
               "duration": 0,
               "easing": "linear"
              }
             }
            ],
            "label": "United Republic of Tanzania",
            "method": "animate"
           },
           {
            "args": [
             [
              "Iceland"
             ],
             {
              "frame": {
               "duration": 0,
               "redraw": false
              },
              "fromcurrent": true,
              "mode": "immediate",
              "transition": {
               "duration": 0,
               "easing": "linear"
              }
             }
            ],
            "label": "Iceland",
            "method": "animate"
           },
           {
            "args": [
             [
              "Uganda"
             ],
             {
              "frame": {
               "duration": 0,
               "redraw": false
              },
              "fromcurrent": true,
              "mode": "immediate",
              "transition": {
               "duration": 0,
               "easing": "linear"
              }
             }
            ],
            "label": "Uganda",
            "method": "animate"
           },
           {
            "args": [
             [
              "Guyana"
             ],
             {
              "frame": {
               "duration": 0,
               "redraw": false
              },
              "fromcurrent": true,
              "mode": "immediate",
              "transition": {
               "duration": 0,
               "easing": "linear"
              }
             }
            ],
            "label": "Guyana",
            "method": "animate"
           },
           {
            "args": [
             [
              "Germany"
             ],
             {
              "frame": {
               "duration": 0,
               "redraw": false
              },
              "fromcurrent": true,
              "mode": "immediate",
              "transition": {
               "duration": 0,
               "easing": "linear"
              }
             }
            ],
            "label": "Germany",
            "method": "animate"
           },
           {
            "args": [
             [
              "United Kingdom of Great Britain and Northern Ireland"
             ],
             {
              "frame": {
               "duration": 0,
               "redraw": false
              },
              "fromcurrent": true,
              "mode": "immediate",
              "transition": {
               "duration": 0,
               "easing": "linear"
              }
             }
            ],
            "label": "United Kingdom of Great Britain and Northern Ireland",
            "method": "animate"
           },
           {
            "args": [
             [
              "Antigua and Barbuda"
             ],
             {
              "frame": {
               "duration": 0,
               "redraw": false
              },
              "fromcurrent": true,
              "mode": "immediate",
              "transition": {
               "duration": 0,
               "easing": "linear"
              }
             }
            ],
            "label": "Antigua and Barbuda",
            "method": "animate"
           },
           {
            "args": [
             [
              "Vanuatu"
             ],
             {
              "frame": {
               "duration": 0,
               "redraw": false
              },
              "fromcurrent": true,
              "mode": "immediate",
              "transition": {
               "duration": 0,
               "easing": "linear"
              }
             }
            ],
            "label": "Vanuatu",
            "method": "animate"
           },
           {
            "args": [
             [
              "Yemen"
             ],
             {
              "frame": {
               "duration": 0,
               "redraw": false
              },
              "fromcurrent": true,
              "mode": "immediate",
              "transition": {
               "duration": 0,
               "easing": "linear"
              }
             }
            ],
            "label": "Yemen",
            "method": "animate"
           },
           {
            "args": [
             [
              "Turkmenistan"
             ],
             {
              "frame": {
               "duration": 0,
               "redraw": false
              },
              "fromcurrent": true,
              "mode": "immediate",
              "transition": {
               "duration": 0,
               "easing": "linear"
              }
             }
            ],
            "label": "Turkmenistan",
            "method": "animate"
           },
           {
            "args": [
             [
              "Afghanistan"
             ],
             {
              "frame": {
               "duration": 0,
               "redraw": false
              },
              "fromcurrent": true,
              "mode": "immediate",
              "transition": {
               "duration": 0,
               "easing": "linear"
              }
             }
            ],
            "label": "Afghanistan",
            "method": "animate"
           },
           {
            "args": [
             [
              "Armenia"
             ],
             {
              "frame": {
               "duration": 0,
               "redraw": false
              },
              "fromcurrent": true,
              "mode": "immediate",
              "transition": {
               "duration": 0,
               "easing": "linear"
              }
             }
            ],
            "label": "Armenia",
            "method": "animate"
           },
           {
            "args": [
             [
              "Albania"
             ],
             {
              "frame": {
               "duration": 0,
               "redraw": false
              },
              "fromcurrent": true,
              "mode": "immediate",
              "transition": {
               "duration": 0,
               "easing": "linear"
              }
             }
            ],
            "label": "Albania",
            "method": "animate"
           },
           {
            "args": [
             [
              "Gambia"
             ],
             {
              "frame": {
               "duration": 0,
               "redraw": false
              },
              "fromcurrent": true,
              "mode": "immediate",
              "transition": {
               "duration": 0,
               "easing": "linear"
              }
             }
            ],
            "label": "Gambia",
            "method": "animate"
           },
           {
            "args": [
             [
              "Argentina"
             ],
             {
              "frame": {
               "duration": 0,
               "redraw": false
              },
              "fromcurrent": true,
              "mode": "immediate",
              "transition": {
               "duration": 0,
               "easing": "linear"
              }
             }
            ],
            "label": "Argentina",
            "method": "animate"
           },
           {
            "args": [
             [
              "Grenada"
             ],
             {
              "frame": {
               "duration": 0,
               "redraw": false
              },
              "fromcurrent": true,
              "mode": "immediate",
              "transition": {
               "duration": 0,
               "easing": "linear"
              }
             }
            ],
            "label": "Grenada",
            "method": "animate"
           },
           {
            "args": [
             [
              "Ukraine"
             ],
             {
              "frame": {
               "duration": 0,
               "redraw": false
              },
              "fromcurrent": true,
              "mode": "immediate",
              "transition": {
               "duration": 0,
               "easing": "linear"
              }
             }
            ],
            "label": "Ukraine",
            "method": "animate"
           },
           {
            "args": [
             [
              "Tunisia"
             ],
             {
              "frame": {
               "duration": 0,
               "redraw": false
              },
              "fromcurrent": true,
              "mode": "immediate",
              "transition": {
               "duration": 0,
               "easing": "linear"
              }
             }
            ],
            "label": "Tunisia",
            "method": "animate"
           },
           {
            "args": [
             [
              "Zambia"
             ],
             {
              "frame": {
               "duration": 0,
               "redraw": false
              },
              "fromcurrent": true,
              "mode": "immediate",
              "transition": {
               "duration": 0,
               "easing": "linear"
              }
             }
            ],
            "label": "Zambia",
            "method": "animate"
           },
           {
            "args": [
             [
              "Uzbekistan"
             ],
             {
              "frame": {
               "duration": 0,
               "redraw": false
              },
              "fromcurrent": true,
              "mode": "immediate",
              "transition": {
               "duration": 0,
               "easing": "linear"
              }
             }
            ],
            "label": "Uzbekistan",
            "method": "animate"
           },
           {
            "args": [
             [
              "Angola"
             ],
             {
              "frame": {
               "duration": 0,
               "redraw": false
              },
              "fromcurrent": true,
              "mode": "immediate",
              "transition": {
               "duration": 0,
               "easing": "linear"
              }
             }
            ],
            "label": "Angola",
            "method": "animate"
           },
           {
            "args": [
             [
              "Georgia"
             ],
             {
              "frame": {
               "duration": 0,
               "redraw": false
              },
              "fromcurrent": true,
              "mode": "immediate",
              "transition": {
               "duration": 0,
               "easing": "linear"
              }
             }
            ],
            "label": "Georgia",
            "method": "animate"
           },
           {
            "args": [
             [
              "Gabon"
             ],
             {
              "frame": {
               "duration": 0,
               "redraw": false
              },
              "fromcurrent": true,
              "mode": "immediate",
              "transition": {
               "duration": 0,
               "easing": "linear"
              }
             }
            ],
            "label": "Gabon",
            "method": "animate"
           },
           {
            "args": [
             [
              "Honduras"
             ],
             {
              "frame": {
               "duration": 0,
               "redraw": false
              },
              "fromcurrent": true,
              "mode": "immediate",
              "transition": {
               "duration": 0,
               "easing": "linear"
              }
             }
            ],
            "label": "Honduras",
            "method": "animate"
           },
           {
            "args": [
             [
              "Uruguay"
             ],
             {
              "frame": {
               "duration": 0,
               "redraw": false
              },
              "fromcurrent": true,
              "mode": "immediate",
              "transition": {
               "duration": 0,
               "easing": "linear"
              }
             }
            ],
            "label": "Uruguay",
            "method": "animate"
           },
           {
            "args": [
             [
              "Guinea"
             ],
             {
              "frame": {
               "duration": 0,
               "redraw": false
              },
              "fromcurrent": true,
              "mode": "immediate",
              "transition": {
               "duration": 0,
               "easing": "linear"
              }
             }
            ],
            "label": "Guinea",
            "method": "animate"
           },
           {
            "args": [
             [
              "Marshall Islands"
             ],
             {
              "frame": {
               "duration": 0,
               "redraw": false
              },
              "fromcurrent": true,
              "mode": "immediate",
              "transition": {
               "duration": 0,
               "easing": "linear"
              }
             }
            ],
            "label": "Marshall Islands",
            "method": "animate"
           },
           {
            "args": [
             [
              "Palau"
             ],
             {
              "frame": {
               "duration": 0,
               "redraw": false
              },
              "fromcurrent": true,
              "mode": "immediate",
              "transition": {
               "duration": 0,
               "easing": "linear"
              }
             }
            ],
            "label": "Palau",
            "method": "animate"
           },
           {
            "args": [
             [
              "Monaco"
             ],
             {
              "frame": {
               "duration": 0,
               "redraw": false
              },
              "fromcurrent": true,
              "mode": "immediate",
              "transition": {
               "duration": 0,
               "easing": "linear"
              }
             }
            ],
            "label": "Monaco",
            "method": "animate"
           },
           {
            "args": [
             [
              "Cook Islands"
             ],
             {
              "frame": {
               "duration": 0,
               "redraw": false
              },
              "fromcurrent": true,
              "mode": "immediate",
              "transition": {
               "duration": 0,
               "easing": "linear"
              }
             }
            ],
            "label": "Cook Islands",
            "method": "animate"
           },
           {
            "args": [
             [
              "Niue"
             ],
             {
              "frame": {
               "duration": 0,
               "redraw": false
              },
              "fromcurrent": true,
              "mode": "immediate",
              "transition": {
               "duration": 0,
               "easing": "linear"
              }
             }
            ],
            "label": "Niue",
            "method": "animate"
           },
           {
            "args": [
             [
              "Nauru"
             ],
             {
              "frame": {
               "duration": 0,
               "redraw": false
              },
              "fromcurrent": true,
              "mode": "immediate",
              "transition": {
               "duration": 0,
               "easing": "linear"
              }
             }
            ],
            "label": "Nauru",
            "method": "animate"
           },
           {
            "args": [
             [
              "Saint Kitts and Nevis"
             ],
             {
              "frame": {
               "duration": 0,
               "redraw": false
              },
              "fromcurrent": true,
              "mode": "immediate",
              "transition": {
               "duration": 0,
               "easing": "linear"
              }
             }
            ],
            "label": "Saint Kitts and Nevis",
            "method": "animate"
           },
           {
            "args": [
             [
              "Dominica"
             ],
             {
              "frame": {
               "duration": 0,
               "redraw": false
              },
              "fromcurrent": true,
              "mode": "immediate",
              "transition": {
               "duration": 0,
               "easing": "linear"
              }
             }
            ],
            "label": "Dominica",
            "method": "animate"
           },
           {
            "args": [
             [
              "Tuvalu"
             ],
             {
              "frame": {
               "duration": 0,
               "redraw": false
              },
              "fromcurrent": true,
              "mode": "immediate",
              "transition": {
               "duration": 0,
               "easing": "linear"
              }
             }
            ],
            "label": "Tuvalu",
            "method": "animate"
           },
           {
            "args": [
             [
              "San Marino"
             ],
             {
              "frame": {
               "duration": 0,
               "redraw": false
              },
              "fromcurrent": true,
              "mode": "immediate",
              "transition": {
               "duration": 0,
               "easing": "linear"
              }
             }
            ],
            "label": "San Marino",
            "method": "animate"
           }
          ],
          "x": 0.1,
          "xanchor": "left",
          "y": 0,
          "yanchor": "top"
         }
        ],
        "template": {
         "data": {
          "bar": [
           {
            "error_x": {
             "color": "#f2f5fa"
            },
            "error_y": {
             "color": "#f2f5fa"
            },
            "marker": {
             "line": {
              "color": "rgb(17,17,17)",
              "width": 0.5
             },
             "pattern": {
              "fillmode": "overlay",
              "size": 10,
              "solidity": 0.2
             }
            },
            "type": "bar"
           }
          ],
          "barpolar": [
           {
            "marker": {
             "line": {
              "color": "rgb(17,17,17)",
              "width": 0.5
             },
             "pattern": {
              "fillmode": "overlay",
              "size": 10,
              "solidity": 0.2
             }
            },
            "type": "barpolar"
           }
          ],
          "carpet": [
           {
            "aaxis": {
             "endlinecolor": "#A2B1C6",
             "gridcolor": "#506784",
             "linecolor": "#506784",
             "minorgridcolor": "#506784",
             "startlinecolor": "#A2B1C6"
            },
            "baxis": {
             "endlinecolor": "#A2B1C6",
             "gridcolor": "#506784",
             "linecolor": "#506784",
             "minorgridcolor": "#506784",
             "startlinecolor": "#A2B1C6"
            },
            "type": "carpet"
           }
          ],
          "choropleth": [
           {
            "colorbar": {
             "outlinewidth": 0,
             "ticks": ""
            },
            "type": "choropleth"
           }
          ],
          "contour": [
           {
            "colorbar": {
             "outlinewidth": 0,
             "ticks": ""
            },
            "colorscale": [
             [
              0,
              "#0d0887"
             ],
             [
              0.1111111111111111,
              "#46039f"
             ],
             [
              0.2222222222222222,
              "#7201a8"
             ],
             [
              0.3333333333333333,
              "#9c179e"
             ],
             [
              0.4444444444444444,
              "#bd3786"
             ],
             [
              0.5555555555555556,
              "#d8576b"
             ],
             [
              0.6666666666666666,
              "#ed7953"
             ],
             [
              0.7777777777777778,
              "#fb9f3a"
             ],
             [
              0.8888888888888888,
              "#fdca26"
             ],
             [
              1,
              "#f0f921"
             ]
            ],
            "type": "contour"
           }
          ],
          "contourcarpet": [
           {
            "colorbar": {
             "outlinewidth": 0,
             "ticks": ""
            },
            "type": "contourcarpet"
           }
          ],
          "heatmap": [
           {
            "colorbar": {
             "outlinewidth": 0,
             "ticks": ""
            },
            "colorscale": [
             [
              0,
              "#0d0887"
             ],
             [
              0.1111111111111111,
              "#46039f"
             ],
             [
              0.2222222222222222,
              "#7201a8"
             ],
             [
              0.3333333333333333,
              "#9c179e"
             ],
             [
              0.4444444444444444,
              "#bd3786"
             ],
             [
              0.5555555555555556,
              "#d8576b"
             ],
             [
              0.6666666666666666,
              "#ed7953"
             ],
             [
              0.7777777777777778,
              "#fb9f3a"
             ],
             [
              0.8888888888888888,
              "#fdca26"
             ],
             [
              1,
              "#f0f921"
             ]
            ],
            "type": "heatmap"
           }
          ],
          "heatmapgl": [
           {
            "colorbar": {
             "outlinewidth": 0,
             "ticks": ""
            },
            "colorscale": [
             [
              0,
              "#0d0887"
             ],
             [
              0.1111111111111111,
              "#46039f"
             ],
             [
              0.2222222222222222,
              "#7201a8"
             ],
             [
              0.3333333333333333,
              "#9c179e"
             ],
             [
              0.4444444444444444,
              "#bd3786"
             ],
             [
              0.5555555555555556,
              "#d8576b"
             ],
             [
              0.6666666666666666,
              "#ed7953"
             ],
             [
              0.7777777777777778,
              "#fb9f3a"
             ],
             [
              0.8888888888888888,
              "#fdca26"
             ],
             [
              1,
              "#f0f921"
             ]
            ],
            "type": "heatmapgl"
           }
          ],
          "histogram": [
           {
            "marker": {
             "pattern": {
              "fillmode": "overlay",
              "size": 10,
              "solidity": 0.2
             }
            },
            "type": "histogram"
           }
          ],
          "histogram2d": [
           {
            "colorbar": {
             "outlinewidth": 0,
             "ticks": ""
            },
            "colorscale": [
             [
              0,
              "#0d0887"
             ],
             [
              0.1111111111111111,
              "#46039f"
             ],
             [
              0.2222222222222222,
              "#7201a8"
             ],
             [
              0.3333333333333333,
              "#9c179e"
             ],
             [
              0.4444444444444444,
              "#bd3786"
             ],
             [
              0.5555555555555556,
              "#d8576b"
             ],
             [
              0.6666666666666666,
              "#ed7953"
             ],
             [
              0.7777777777777778,
              "#fb9f3a"
             ],
             [
              0.8888888888888888,
              "#fdca26"
             ],
             [
              1,
              "#f0f921"
             ]
            ],
            "type": "histogram2d"
           }
          ],
          "histogram2dcontour": [
           {
            "colorbar": {
             "outlinewidth": 0,
             "ticks": ""
            },
            "colorscale": [
             [
              0,
              "#0d0887"
             ],
             [
              0.1111111111111111,
              "#46039f"
             ],
             [
              0.2222222222222222,
              "#7201a8"
             ],
             [
              0.3333333333333333,
              "#9c179e"
             ],
             [
              0.4444444444444444,
              "#bd3786"
             ],
             [
              0.5555555555555556,
              "#d8576b"
             ],
             [
              0.6666666666666666,
              "#ed7953"
             ],
             [
              0.7777777777777778,
              "#fb9f3a"
             ],
             [
              0.8888888888888888,
              "#fdca26"
             ],
             [
              1,
              "#f0f921"
             ]
            ],
            "type": "histogram2dcontour"
           }
          ],
          "mesh3d": [
           {
            "colorbar": {
             "outlinewidth": 0,
             "ticks": ""
            },
            "type": "mesh3d"
           }
          ],
          "parcoords": [
           {
            "line": {
             "colorbar": {
              "outlinewidth": 0,
              "ticks": ""
             }
            },
            "type": "parcoords"
           }
          ],
          "pie": [
           {
            "automargin": true,
            "type": "pie"
           }
          ],
          "scatter": [
           {
            "marker": {
             "line": {
              "color": "#283442"
             }
            },
            "type": "scatter"
           }
          ],
          "scatter3d": [
           {
            "line": {
             "colorbar": {
              "outlinewidth": 0,
              "ticks": ""
             }
            },
            "marker": {
             "colorbar": {
              "outlinewidth": 0,
              "ticks": ""
             }
            },
            "type": "scatter3d"
           }
          ],
          "scattercarpet": [
           {
            "marker": {
             "colorbar": {
              "outlinewidth": 0,
              "ticks": ""
             }
            },
            "type": "scattercarpet"
           }
          ],
          "scattergeo": [
           {
            "marker": {
             "colorbar": {
              "outlinewidth": 0,
              "ticks": ""
             }
            },
            "type": "scattergeo"
           }
          ],
          "scattergl": [
           {
            "marker": {
             "line": {
              "color": "#283442"
             }
            },
            "type": "scattergl"
           }
          ],
          "scattermapbox": [
           {
            "marker": {
             "colorbar": {
              "outlinewidth": 0,
              "ticks": ""
             }
            },
            "type": "scattermapbox"
           }
          ],
          "scatterpolar": [
           {
            "marker": {
             "colorbar": {
              "outlinewidth": 0,
              "ticks": ""
             }
            },
            "type": "scatterpolar"
           }
          ],
          "scatterpolargl": [
           {
            "marker": {
             "colorbar": {
              "outlinewidth": 0,
              "ticks": ""
             }
            },
            "type": "scatterpolargl"
           }
          ],
          "scatterternary": [
           {
            "marker": {
             "colorbar": {
              "outlinewidth": 0,
              "ticks": ""
             }
            },
            "type": "scatterternary"
           }
          ],
          "surface": [
           {
            "colorbar": {
             "outlinewidth": 0,
             "ticks": ""
            },
            "colorscale": [
             [
              0,
              "#0d0887"
             ],
             [
              0.1111111111111111,
              "#46039f"
             ],
             [
              0.2222222222222222,
              "#7201a8"
             ],
             [
              0.3333333333333333,
              "#9c179e"
             ],
             [
              0.4444444444444444,
              "#bd3786"
             ],
             [
              0.5555555555555556,
              "#d8576b"
             ],
             [
              0.6666666666666666,
              "#ed7953"
             ],
             [
              0.7777777777777778,
              "#fb9f3a"
             ],
             [
              0.8888888888888888,
              "#fdca26"
             ],
             [
              1,
              "#f0f921"
             ]
            ],
            "type": "surface"
           }
          ],
          "table": [
           {
            "cells": {
             "fill": {
              "color": "#506784"
             },
             "line": {
              "color": "rgb(17,17,17)"
             }
            },
            "header": {
             "fill": {
              "color": "#2a3f5f"
             },
             "line": {
              "color": "rgb(17,17,17)"
             }
            },
            "type": "table"
           }
          ]
         },
         "layout": {
          "annotationdefaults": {
           "arrowcolor": "#f2f5fa",
           "arrowhead": 0,
           "arrowwidth": 1
          },
          "autotypenumbers": "strict",
          "coloraxis": {
           "colorbar": {
            "outlinewidth": 0,
            "ticks": ""
           }
          },
          "colorscale": {
           "diverging": [
            [
             0,
             "#8e0152"
            ],
            [
             0.1,
             "#c51b7d"
            ],
            [
             0.2,
             "#de77ae"
            ],
            [
             0.3,
             "#f1b6da"
            ],
            [
             0.4,
             "#fde0ef"
            ],
            [
             0.5,
             "#f7f7f7"
            ],
            [
             0.6,
             "#e6f5d0"
            ],
            [
             0.7,
             "#b8e186"
            ],
            [
             0.8,
             "#7fbc41"
            ],
            [
             0.9,
             "#4d9221"
            ],
            [
             1,
             "#276419"
            ]
           ],
           "sequential": [
            [
             0,
             "#0d0887"
            ],
            [
             0.1111111111111111,
             "#46039f"
            ],
            [
             0.2222222222222222,
             "#7201a8"
            ],
            [
             0.3333333333333333,
             "#9c179e"
            ],
            [
             0.4444444444444444,
             "#bd3786"
            ],
            [
             0.5555555555555556,
             "#d8576b"
            ],
            [
             0.6666666666666666,
             "#ed7953"
            ],
            [
             0.7777777777777778,
             "#fb9f3a"
            ],
            [
             0.8888888888888888,
             "#fdca26"
            ],
            [
             1,
             "#f0f921"
            ]
           ],
           "sequentialminus": [
            [
             0,
             "#0d0887"
            ],
            [
             0.1111111111111111,
             "#46039f"
            ],
            [
             0.2222222222222222,
             "#7201a8"
            ],
            [
             0.3333333333333333,
             "#9c179e"
            ],
            [
             0.4444444444444444,
             "#bd3786"
            ],
            [
             0.5555555555555556,
             "#d8576b"
            ],
            [
             0.6666666666666666,
             "#ed7953"
            ],
            [
             0.7777777777777778,
             "#fb9f3a"
            ],
            [
             0.8888888888888888,
             "#fdca26"
            ],
            [
             1,
             "#f0f921"
            ]
           ]
          },
          "colorway": [
           "#636efa",
           "#EF553B",
           "#00cc96",
           "#ab63fa",
           "#FFA15A",
           "#19d3f3",
           "#FF6692",
           "#B6E880",
           "#FF97FF",
           "#FECB52"
          ],
          "font": {
           "color": "#f2f5fa"
          },
          "geo": {
           "bgcolor": "rgb(17,17,17)",
           "lakecolor": "rgb(17,17,17)",
           "landcolor": "rgb(17,17,17)",
           "showlakes": true,
           "showland": true,
           "subunitcolor": "#506784"
          },
          "hoverlabel": {
           "align": "left"
          },
          "hovermode": "closest",
          "mapbox": {
           "style": "dark"
          },
          "paper_bgcolor": "rgb(17,17,17)",
          "plot_bgcolor": "rgb(17,17,17)",
          "polar": {
           "angularaxis": {
            "gridcolor": "#506784",
            "linecolor": "#506784",
            "ticks": ""
           },
           "bgcolor": "rgb(17,17,17)",
           "radialaxis": {
            "gridcolor": "#506784",
            "linecolor": "#506784",
            "ticks": ""
           }
          },
          "scene": {
           "xaxis": {
            "backgroundcolor": "rgb(17,17,17)",
            "gridcolor": "#506784",
            "gridwidth": 2,
            "linecolor": "#506784",
            "showbackground": true,
            "ticks": "",
            "zerolinecolor": "#C8D4E3"
           },
           "yaxis": {
            "backgroundcolor": "rgb(17,17,17)",
            "gridcolor": "#506784",
            "gridwidth": 2,
            "linecolor": "#506784",
            "showbackground": true,
            "ticks": "",
            "zerolinecolor": "#C8D4E3"
           },
           "zaxis": {
            "backgroundcolor": "rgb(17,17,17)",
            "gridcolor": "#506784",
            "gridwidth": 2,
            "linecolor": "#506784",
            "showbackground": true,
            "ticks": "",
            "zerolinecolor": "#C8D4E3"
           }
          },
          "shapedefaults": {
           "line": {
            "color": "#f2f5fa"
           }
          },
          "sliderdefaults": {
           "bgcolor": "#C8D4E3",
           "bordercolor": "rgb(17,17,17)",
           "borderwidth": 1,
           "tickwidth": 0
          },
          "ternary": {
           "aaxis": {
            "gridcolor": "#506784",
            "linecolor": "#506784",
            "ticks": ""
           },
           "baxis": {
            "gridcolor": "#506784",
            "linecolor": "#506784",
            "ticks": ""
           },
           "bgcolor": "rgb(17,17,17)",
           "caxis": {
            "gridcolor": "#506784",
            "linecolor": "#506784",
            "ticks": ""
           }
          },
          "title": {
           "x": 0.05
          },
          "updatemenudefaults": {
           "bgcolor": "#506784",
           "borderwidth": 0
          },
          "xaxis": {
           "automargin": true,
           "gridcolor": "#283442",
           "linecolor": "#506784",
           "ticks": "",
           "title": {
            "standoff": 15
           },
           "zerolinecolor": "#283442",
           "zerolinewidth": 2
          },
          "yaxis": {
           "automargin": true,
           "gridcolor": "#283442",
           "linecolor": "#506784",
           "ticks": "",
           "title": {
            "standoff": 15
           },
           "zerolinecolor": "#283442",
           "zerolinewidth": 2
          }
         }
        },
        "title": {
         "text": "<b> Country wise Life Expectancy over Years"
        },
        "updatemenus": [
         {
          "buttons": [
           {
            "args": [
             null,
             {
              "frame": {
               "duration": 500,
               "redraw": false
              },
              "fromcurrent": true,
              "mode": "immediate",
              "transition": {
               "duration": 500,
               "easing": "linear"
              }
             }
            ],
            "label": "&#9654;",
            "method": "animate"
           },
           {
            "args": [
             [
              null
             ],
             {
              "frame": {
               "duration": 0,
               "redraw": false
              },
              "fromcurrent": true,
              "mode": "immediate",
              "transition": {
               "duration": 0,
               "easing": "linear"
              }
             }
            ],
            "label": "&#9724;",
            "method": "animate"
           }
          ],
          "direction": "left",
          "pad": {
           "r": 10,
           "t": 70
          },
          "showactive": false,
          "type": "buttons",
          "x": 0.1,
          "xanchor": "right",
          "y": 0,
          "yanchor": "top"
         }
        ],
        "xaxis": {
         "anchor": "y",
         "autorange": true,
         "domain": [
          0,
          1
         ],
         "range": [
          1999.1105575006734,
          2015.8894424993266
         ],
         "title": {
          "text": "Year"
         },
         "type": "linear"
        },
        "yaxis": {
         "anchor": "x",
         "autorange": true,
         "domain": [
          0,
          1
         ],
         "range": [
          41.96285551763367,
          69.33714448236633
         ],
         "title": {
          "text": "Life expectancy "
         },
         "type": "linear"
        }
       }
      },
      "image/png": "[encoded data removed]",
      "text/html": [
       "<div>                            <div id=\"f033fe24-e0df-435c-880a-9074f4f654dd\" class=\"plotly-graph-div\" style=\"height:525px; width:100%;\"></div>            <script type=\"text/javascript\">                require([\"plotly\"], function(Plotly) {                    window.PLOTLYENV=window.PLOTLYENV || {};                                    if (document.getElementById(\"f033fe24-e0df-435c-880a-9074f4f654dd\")) {                    Plotly.newPlot(                        \"f033fe24-e0df-435c-880a-9074f4f654dd\",                        [{\"hovertemplate\":\"Country=Zimbabwe<br>Year=%{x}<br>Life expectancy =%{y}<extra></extra>\",\"ids\":[2000,2001,2002,2003,2004,2005,2006,2007,2008,2009,2010,2011,2012,2013,2014,2015],\"legendgroup\":\"Zimbabwe\",\"line\":{\"color\":\"#636efa\",\"dash\":\"solid\"},\"marker\":{\"symbol\":\"circle\"},\"mode\":\"lines+markers\",\"name\":\"Zimbabwe\",\"orientation\":\"v\",\"showlegend\":true,\"x\":[2000,2001,2002,2003,2004,2005,2006,2007,2008,2009,2010,2011,2012,2013,2014,2015],\"xaxis\":\"x\",\"y\":[46.0,45.3,44.8,44.5,44.3,44.6,45.4,46.6,48.2,50.0,52.4,54.9,56.6,58.0,59.2,67.0],\"yaxis\":\"y\",\"type\":\"scatter\"}],                        {\"template\":{\"data\":{\"barpolar\":[{\"marker\":{\"line\":{\"color\":\"rgb(17,17,17)\",\"width\":0.5},\"pattern\":{\"fillmode\":\"overlay\",\"size\":10,\"solidity\":0.2}},\"type\":\"barpolar\"}],\"bar\":[{\"error_x\":{\"color\":\"#f2f5fa\"},\"error_y\":{\"color\":\"#f2f5fa\"},\"marker\":{\"line\":{\"color\":\"rgb(17,17,17)\",\"width\":0.5},\"pattern\":{\"fillmode\":\"overlay\",\"size\":10,\"solidity\":0.2}},\"type\":\"bar\"}],\"carpet\":[{\"aaxis\":{\"endlinecolor\":\"#A2B1C6\",\"gridcolor\":\"#506784\",\"linecolor\":\"#506784\",\"minorgridcolor\":\"#506784\",\"startlinecolor\":\"#A2B1C6\"},\"baxis\":{\"endlinecolor\":\"#A2B1C6\",\"gridcolor\":\"#506784\",\"linecolor\":\"#506784\",\"minorgridcolor\":\"#506784\",\"startlinecolor\":\"#A2B1C6\"},\"type\":\"carpet\"}],\"choropleth\":[{\"colorbar\":{\"outlinewidth\":0,\"ticks\":\"\"},\"type\":\"choropleth\"}],\"contourcarpet\":[{\"colorbar\":{\"outlinewidth\":0,\"ticks\":\"\"},\"type\":\"contourcarpet\"}],\"contour\":[{\"colorbar\":{\"outlinewidth\":0,\"ticks\":\"\"},\"colorscale\":[[0.0,\"#0d0887\"],[0.1111111111111111,\"#46039f\"],[0.2222222222222222,\"#7201a8\"],[0.3333333333333333,\"#9c179e\"],[0.4444444444444444,\"#bd3786\"],[0.5555555555555556,\"#d8576b\"],[0.6666666666666666,\"#ed7953\"],[0.7777777777777778,\"#fb9f3a\"],[0.8888888888888888,\"#fdca26\"],[1.0,\"#f0f921\"]],\"type\":\"contour\"}],\"heatmapgl\":[{\"colorbar\":{\"outlinewidth\":0,\"ticks\":\"\"},\"colorscale\":[[0.0,\"#0d0887\"],[0.1111111111111111,\"#46039f\"],[0.2222222222222222,\"#7201a8\"],[0.3333333333333333,\"#9c179e\"],[0.4444444444444444,\"#bd3786\"],[0.5555555555555556,\"#d8576b\"],[0.6666666666666666,\"#ed7953\"],[0.7777777777777778,\"#fb9f3a\"],[0.8888888888888888,\"#fdca26\"],[1.0,\"#f0f921\"]],\"type\":\"heatmapgl\"}],\"heatmap\":[{\"colorbar\":{\"outlinewidth\":0,\"ticks\":\"\"},\"colorscale\":[[0.0,\"#0d0887\"],[0.1111111111111111,\"#46039f\"],[0.2222222222222222,\"#7201a8\"],[0.3333333333333333,\"#9c179e\"],[0.4444444444444444,\"#bd3786\"],[0.5555555555555556,\"#d8576b\"],[0.6666666666666666,\"#ed7953\"],[0.7777777777777778,\"#fb9f3a\"],[0.8888888888888888,\"#fdca26\"],[1.0,\"#f0f921\"]],\"type\":\"heatmap\"}],\"histogram2dcontour\":[{\"colorbar\":{\"outlinewidth\":0,\"ticks\":\"\"},\"colorscale\":[[0.0,\"#0d0887\"],[0.1111111111111111,\"#46039f\"],[0.2222222222222222,\"#7201a8\"],[0.3333333333333333,\"#9c179e\"],[0.4444444444444444,\"#bd3786\"],[0.5555555555555556,\"#d8576b\"],[0.6666666666666666,\"#ed7953\"],[0.7777777777777778,\"#fb9f3a\"],[0.8888888888888888,\"#fdca26\"],[1.0,\"#f0f921\"]],\"type\":\"histogram2dcontour\"}],\"histogram2d\":[{\"colorbar\":{\"outlinewidth\":0,\"ticks\":\"\"},\"colorscale\":[[0.0,\"#0d0887\"],[0.1111111111111111,\"#46039f\"],[0.2222222222222222,\"#7201a8\"],[0.3333333333333333,\"#9c179e\"],[0.4444444444444444,\"#bd3786\"],[0.5555555555555556,\"#d8576b\"],[0.6666666666666666,\"#ed7953\"],[0.7777777777777778,\"#fb9f3a\"],[0.8888888888888888,\"#fdca26\"],[1.0,\"#f0f921\"]],\"type\":\"histogram2d\"}],\"histogram\":[{\"marker\":{\"pattern\":{\"fillmode\":\"overlay\",\"size\":10,\"solidity\":0.2}},\"type\":\"histogram\"}],\"mesh3d\":[{\"colorbar\":{\"outlinewidth\":0,\"ticks\":\"\"},\"type\":\"mesh3d\"}],\"parcoords\":[{\"line\":{\"colorbar\":{\"outlinewidth\":0,\"ticks\":\"\"}},\"type\":\"parcoords\"}],\"pie\":[{\"automargin\":true,\"type\":\"pie\"}],\"scatter3d\":[{\"line\":{\"colorbar\":{\"outlinewidth\":0,\"ticks\":\"\"}},\"marker\":{\"colorbar\":{\"outlinewidth\":0,\"ticks\":\"\"}},\"type\":\"scatter3d\"}],\"scattercarpet\":[{\"marker\":{\"colorbar\":{\"outlinewidth\":0,\"ticks\":\"\"}},\"type\":\"scattercarpet\"}],\"scattergeo\":[{\"marker\":{\"colorbar\":{\"outlinewidth\":0,\"ticks\":\"\"}},\"type\":\"scattergeo\"}],\"scattergl\":[{\"marker\":{\"line\":{\"color\":\"#283442\"}},\"type\":\"scattergl\"}],\"scattermapbox\":[{\"marker\":{\"colorbar\":{\"outlinewidth\":0,\"ticks\":\"\"}},\"type\":\"scattermapbox\"}],\"scatterpolargl\":[{\"marker\":{\"colorbar\":{\"outlinewidth\":0,\"ticks\":\"\"}},\"type\":\"scatterpolargl\"}],\"scatterpolar\":[{\"marker\":{\"colorbar\":{\"outlinewidth\":0,\"ticks\":\"\"}},\"type\":\"scatterpolar\"}],\"scatter\":[{\"marker\":{\"line\":{\"color\":\"#283442\"}},\"type\":\"scatter\"}],\"scatterternary\":[{\"marker\":{\"colorbar\":{\"outlinewidth\":0,\"ticks\":\"\"}},\"type\":\"scatterternary\"}],\"surface\":[{\"colorbar\":{\"outlinewidth\":0,\"ticks\":\"\"},\"colorscale\":[[0.0,\"#0d0887\"],[0.1111111111111111,\"#46039f\"],[0.2222222222222222,\"#7201a8\"],[0.3333333333333333,\"#9c179e\"],[0.4444444444444444,\"#bd3786\"],[0.5555555555555556,\"#d8576b\"],[0.6666666666666666,\"#ed7953\"],[0.7777777777777778,\"#fb9f3a\"],[0.8888888888888888,\"#fdca26\"],[1.0,\"#f0f921\"]],\"type\":\"surface\"}],\"table\":[{\"cells\":{\"fill\":{\"color\":\"#506784\"},\"line\":{\"color\":\"rgb(17,17,17)\"}},\"header\":{\"fill\":{\"color\":\"#2a3f5f\"},\"line\":{\"color\":\"rgb(17,17,17)\"}},\"type\":\"table\"}]},\"layout\":{\"annotationdefaults\":{\"arrowcolor\":\"#f2f5fa\",\"arrowhead\":0,\"arrowwidth\":1},\"autotypenumbers\":\"strict\",\"coloraxis\":{\"colorbar\":{\"outlinewidth\":0,\"ticks\":\"\"}},\"colorscale\":{\"diverging\":[[0,\"#8e0152\"],[0.1,\"#c51b7d\"],[0.2,\"#de77ae\"],[0.3,\"#f1b6da\"],[0.4,\"#fde0ef\"],[0.5,\"#f7f7f7\"],[0.6,\"#e6f5d0\"],[0.7,\"#b8e186\"],[0.8,\"#7fbc41\"],[0.9,\"#4d9221\"],[1,\"#276419\"]],\"sequential\":[[0.0,\"#0d0887\"],[0.1111111111111111,\"#46039f\"],[0.2222222222222222,\"#7201a8\"],[0.3333333333333333,\"#9c179e\"],[0.4444444444444444,\"#bd3786\"],[0.5555555555555556,\"#d8576b\"],[0.6666666666666666,\"#ed7953\"],[0.7777777777777778,\"#fb9f3a\"],[0.8888888888888888,\"#fdca26\"],[1.0,\"#f0f921\"]],\"sequentialminus\":[[0.0,\"#0d0887\"],[0.1111111111111111,\"#46039f\"],[0.2222222222222222,\"#7201a8\"],[0.3333333333333333,\"#9c179e\"],[0.4444444444444444,\"#bd3786\"],[0.5555555555555556,\"#d8576b\"],[0.6666666666666666,\"#ed7953\"],[0.7777777777777778,\"#fb9f3a\"],[0.8888888888888888,\"#fdca26\"],[1.0,\"#f0f921\"]]},\"colorway\":[\"#636efa\",\"#EF553B\",\"#00cc96\",\"#ab63fa\",\"#FFA15A\",\"#19d3f3\",\"#FF6692\",\"#B6E880\",\"#FF97FF\",\"#FECB52\"],\"font\":{\"color\":\"#f2f5fa\"},\"geo\":{\"bgcolor\":\"rgb(17,17,17)\",\"lakecolor\":\"rgb(17,17,17)\",\"landcolor\":\"rgb(17,17,17)\",\"showlakes\":true,\"showland\":true,\"subunitcolor\":\"#506784\"},\"hoverlabel\":{\"align\":\"left\"},\"hovermode\":\"closest\",\"mapbox\":{\"style\":\"dark\"},\"paper_bgcolor\":\"rgb(17,17,17)\",\"plot_bgcolor\":\"rgb(17,17,17)\",\"polar\":{\"angularaxis\":{\"gridcolor\":\"#506784\",\"linecolor\":\"#506784\",\"ticks\":\"\"},\"bgcolor\":\"rgb(17,17,17)\",\"radialaxis\":{\"gridcolor\":\"#506784\",\"linecolor\":\"#506784\",\"ticks\":\"\"}},\"scene\":{\"xaxis\":{\"backgroundcolor\":\"rgb(17,17,17)\",\"gridcolor\":\"#506784\",\"gridwidth\":2,\"linecolor\":\"#506784\",\"showbackground\":true,\"ticks\":\"\",\"zerolinecolor\":\"#C8D4E3\"},\"yaxis\":{\"backgroundcolor\":\"rgb(17,17,17)\",\"gridcolor\":\"#506784\",\"gridwidth\":2,\"linecolor\":\"#506784\",\"showbackground\":true,\"ticks\":\"\",\"zerolinecolor\":\"#C8D4E3\"},\"zaxis\":{\"backgroundcolor\":\"rgb(17,17,17)\",\"gridcolor\":\"#506784\",\"gridwidth\":2,\"linecolor\":\"#506784\",\"showbackground\":true,\"ticks\":\"\",\"zerolinecolor\":\"#C8D4E3\"}},\"shapedefaults\":{\"line\":{\"color\":\"#f2f5fa\"}},\"sliderdefaults\":{\"bgcolor\":\"#C8D4E3\",\"bordercolor\":\"rgb(17,17,17)\",\"borderwidth\":1,\"tickwidth\":0},\"ternary\":{\"aaxis\":{\"gridcolor\":\"#506784\",\"linecolor\":\"#506784\",\"ticks\":\"\"},\"baxis\":{\"gridcolor\":\"#506784\",\"linecolor\":\"#506784\",\"ticks\":\"\"},\"bgcolor\":\"rgb(17,17,17)\",\"caxis\":{\"gridcolor\":\"#506784\",\"linecolor\":\"#506784\",\"ticks\":\"\"}},\"title\":{\"x\":0.05},\"updatemenudefaults\":{\"bgcolor\":\"#506784\",\"borderwidth\":0},\"xaxis\":{\"automargin\":true,\"gridcolor\":\"#283442\",\"linecolor\":\"#506784\",\"ticks\":\"\",\"title\":{\"standoff\":15},\"zerolinecolor\":\"#283442\",\"zerolinewidth\":2},\"yaxis\":{\"automargin\":true,\"gridcolor\":\"#283442\",\"linecolor\":\"#506784\",\"ticks\":\"\",\"title\":{\"standoff\":15},\"zerolinecolor\":\"#283442\",\"zerolinewidth\":2}}},\"xaxis\":{\"anchor\":\"y\",\"domain\":[0.0,1.0],\"title\":{\"text\":\"Year\"}},\"yaxis\":{\"anchor\":\"x\",\"domain\":[0.0,1.0],\"title\":{\"text\":\"Life expectancy \"}},\"legend\":{\"title\":{\"text\":\"Country\"},\"tracegroupgap\":0},\"title\":{\"text\":\"<b> Country wise Life Expectancy over Years\"},\"updatemenus\":[{\"buttons\":[{\"args\":[null,{\"frame\":{\"duration\":500,\"redraw\":false},\"mode\":\"immediate\",\"fromcurrent\":true,\"transition\":{\"duration\":500,\"easing\":\"linear\"}}],\"label\":\"&#9654;\",\"method\":\"animate\"},{\"args\":[[null],{\"frame\":{\"duration\":0,\"redraw\":false},\"mode\":\"immediate\",\"fromcurrent\":true,\"transition\":{\"duration\":0,\"easing\":\"linear\"}}],\"label\":\"&#9724;\",\"method\":\"animate\"}],\"direction\":\"left\",\"pad\":{\"r\":10,\"t\":70},\"showactive\":false,\"type\":\"buttons\",\"x\":0.1,\"xanchor\":\"right\",\"y\":0,\"yanchor\":\"top\"}],\"sliders\":[{\"active\":0,\"currentvalue\":{\"prefix\":\"Country=\"},\"len\":0.9,\"pad\":{\"b\":10,\"t\":60},\"steps\":[{\"args\":[[\"Zimbabwe\"],{\"frame\":{\"duration\":0,\"redraw\":false},\"mode\":\"immediate\",\"fromcurrent\":true,\"transition\":{\"duration\":0,\"easing\":\"linear\"}}],\"label\":\"Zimbabwe\",\"method\":\"animate\"},{\"args\":[[\"Belize\"],{\"frame\":{\"duration\":0,\"redraw\":false},\"mode\":\"immediate\",\"fromcurrent\":true,\"transition\":{\"duration\":0,\"easing\":\"linear\"}}],\"label\":\"Belize\",\"method\":\"animate\"},{\"args\":[[\"Kazakhstan\"],{\"frame\":{\"duration\":0,\"redraw\":false},\"mode\":\"immediate\",\"fromcurrent\":true,\"transition\":{\"duration\":0,\"easing\":\"linear\"}}],\"label\":\"Kazakhstan\",\"method\":\"animate\"},{\"args\":[[\"Equatorial Guinea\"],{\"frame\":{\"duration\":0,\"redraw\":false},\"mode\":\"immediate\",\"fromcurrent\":true,\"transition\":{\"duration\":0,\"easing\":\"linear\"}}],\"label\":\"Equatorial Guinea\",\"method\":\"animate\"},{\"args\":[[\"South Sudan\"],{\"frame\":{\"duration\":0,\"redraw\":false},\"mode\":\"immediate\",\"fromcurrent\":true,\"transition\":{\"duration\":0,\"easing\":\"linear\"}}],\"label\":\"South Sudan\",\"method\":\"animate\"},{\"args\":[[\"South Africa\"],{\"frame\":{\"duration\":0,\"redraw\":false},\"mode\":\"immediate\",\"fromcurrent\":true,\"transition\":{\"duration\":0,\"easing\":\"linear\"}}],\"label\":\"South Africa\",\"method\":\"animate\"},{\"args\":[[\"Benin\"],{\"frame\":{\"duration\":0,\"redraw\":false},\"mode\":\"immediate\",\"fromcurrent\":true,\"transition\":{\"duration\":0,\"easing\":\"linear\"}}],\"label\":\"Benin\",\"method\":\"animate\"},{\"args\":[[\"Kenya\"],{\"frame\":{\"duration\":0,\"redraw\":false},\"mode\":\"immediate\",\"fromcurrent\":true,\"transition\":{\"duration\":0,\"easing\":\"linear\"}}],\"label\":\"Kenya\",\"method\":\"animate\"},{\"args\":[[\"Somalia\"],{\"frame\":{\"duration\":0,\"redraw\":false},\"mode\":\"immediate\",\"fromcurrent\":true,\"transition\":{\"duration\":0,\"easing\":\"linear\"}}],\"label\":\"Somalia\",\"method\":\"animate\"},{\"args\":[[\"Kiribati\"],{\"frame\":{\"duration\":0,\"redraw\":false},\"mode\":\"immediate\",\"fromcurrent\":true,\"transition\":{\"duration\":0,\"easing\":\"linear\"}}],\"label\":\"Kiribati\",\"method\":\"animate\"},{\"args\":[[\"El Salvador\"],{\"frame\":{\"duration\":0,\"redraw\":false},\"mode\":\"immediate\",\"fromcurrent\":true,\"transition\":{\"duration\":0,\"easing\":\"linear\"}}],\"label\":\"El Salvador\",\"method\":\"animate\"},{\"args\":[[\"Bhutan\"],{\"frame\":{\"duration\":0,\"redraw\":false},\"mode\":\"immediate\",\"fromcurrent\":true,\"transition\":{\"duration\":0,\"easing\":\"linear\"}}],\"label\":\"Bhutan\",\"method\":\"animate\"},{\"args\":[[\"Solomon Islands\"],{\"frame\":{\"duration\":0,\"redraw\":false},\"mode\":\"immediate\",\"fromcurrent\":true,\"transition\":{\"duration\":0,\"easing\":\"linear\"}}],\"label\":\"Solomon Islands\",\"method\":\"animate\"},{\"args\":[[\"Kuwait\"],{\"frame\":{\"duration\":0,\"redraw\":false},\"mode\":\"immediate\",\"fromcurrent\":true,\"transition\":{\"duration\":0,\"easing\":\"linear\"}}],\"label\":\"Kuwait\",\"method\":\"animate\"},{\"args\":[[\"Bolivia (Plurinational State of)\"],{\"frame\":{\"duration\":0,\"redraw\":false},\"mode\":\"immediate\",\"fromcurrent\":true,\"transition\":{\"duration\":0,\"easing\":\"linear\"}}],\"label\":\"Bolivia (Plurinational State of)\",\"method\":\"animate\"},{\"args\":[[\"Slovakia\"],{\"frame\":{\"duration\":0,\"redraw\":false},\"mode\":\"immediate\",\"fromcurrent\":true,\"transition\":{\"duration\":0,\"easing\":\"linear\"}}],\"label\":\"Slovakia\",\"method\":\"animate\"},{\"args\":[[\"Kyrgyzstan\"],{\"frame\":{\"duration\":0,\"redraw\":false},\"mode\":\"immediate\",\"fromcurrent\":true,\"transition\":{\"duration\":0,\"easing\":\"linear\"}}],\"label\":\"Kyrgyzstan\",\"method\":\"animate\"},{\"args\":[[\"Egypt\"],{\"frame\":{\"duration\":0,\"redraw\":false},\"mode\":\"immediate\",\"fromcurrent\":true,\"transition\":{\"duration\":0,\"easing\":\"linear\"}}],\"label\":\"Egypt\",\"method\":\"animate\"},{\"args\":[[\"Dominican Republic\"],{\"frame\":{\"duration\":0,\"redraw\":false},\"mode\":\"immediate\",\"fromcurrent\":true,\"transition\":{\"duration\":0,\"easing\":\"linear\"}}],\"label\":\"Dominican Republic\",\"method\":\"animate\"},{\"args\":[[\"Saudi Arabia\"],{\"frame\":{\"duration\":0,\"redraw\":false},\"mode\":\"immediate\",\"fromcurrent\":true,\"transition\":{\"duration\":0,\"easing\":\"linear\"}}],\"label\":\"Saudi Arabia\",\"method\":\"animate\"},{\"args\":[[\"Lebanon\"],{\"frame\":{\"duration\":0,\"redraw\":false},\"mode\":\"immediate\",\"fromcurrent\":true,\"transition\":{\"duration\":0,\"easing\":\"linear\"}}],\"label\":\"Lebanon\",\"method\":\"animate\"},{\"args\":[[\"Brazil\"],{\"frame\":{\"duration\":0,\"redraw\":false},\"mode\":\"immediate\",\"fromcurrent\":true,\"transition\":{\"duration\":0,\"easing\":\"linear\"}}],\"label\":\"Brazil\",\"method\":\"animate\"},{\"args\":[[\"Senegal\"],{\"frame\":{\"duration\":0,\"redraw\":false},\"mode\":\"immediate\",\"fromcurrent\":true,\"transition\":{\"duration\":0,\"easing\":\"linear\"}}],\"label\":\"Senegal\",\"method\":\"animate\"},{\"args\":[[\"Latvia\"],{\"frame\":{\"duration\":0,\"redraw\":false},\"mode\":\"immediate\",\"fromcurrent\":true,\"transition\":{\"duration\":0,\"easing\":\"linear\"}}],\"label\":\"Latvia\",\"method\":\"animate\"},{\"args\":[[\"Spain\"],{\"frame\":{\"duration\":0,\"redraw\":false},\"mode\":\"immediate\",\"fromcurrent\":true,\"transition\":{\"duration\":0,\"easing\":\"linear\"}}],\"label\":\"Spain\",\"method\":\"animate\"},{\"args\":[[\"Serbia\"],{\"frame\":{\"duration\":0,\"redraw\":false},\"mode\":\"immediate\",\"fromcurrent\":true,\"transition\":{\"duration\":0,\"easing\":\"linear\"}}],\"label\":\"Serbia\",\"method\":\"animate\"},{\"args\":[[\"Ecuador\"],{\"frame\":{\"duration\":0,\"redraw\":false},\"mode\":\"immediate\",\"fromcurrent\":true,\"transition\":{\"duration\":0,\"easing\":\"linear\"}}],\"label\":\"Ecuador\",\"method\":\"animate\"},{\"args\":[[\"Seychelles\"],{\"frame\":{\"duration\":0,\"redraw\":false},\"mode\":\"immediate\",\"fromcurrent\":true,\"transition\":{\"duration\":0,\"easing\":\"linear\"}}],\"label\":\"Seychelles\",\"method\":\"animate\"},{\"args\":[[\"Lao People's Democratic Republic\"],{\"frame\":{\"duration\":0,\"redraw\":false},\"mode\":\"immediate\",\"fromcurrent\":true,\"transition\":{\"duration\":0,\"easing\":\"linear\"}}],\"label\":\"Lao People's Democratic Republic\",\"method\":\"animate\"},{\"args\":[[\"Sierra Leone\"],{\"frame\":{\"duration\":0,\"redraw\":false},\"mode\":\"immediate\",\"fromcurrent\":true,\"transition\":{\"duration\":0,\"easing\":\"linear\"}}],\"label\":\"Sierra Leone\",\"method\":\"animate\"},{\"args\":[[\"Bosnia and Herzegovina\"],{\"frame\":{\"duration\":0,\"redraw\":false},\"mode\":\"immediate\",\"fromcurrent\":true,\"transition\":{\"duration\":0,\"easing\":\"linear\"}}],\"label\":\"Bosnia and Herzegovina\",\"method\":\"animate\"},{\"args\":[[\"Singapore\"],{\"frame\":{\"duration\":0,\"redraw\":false},\"mode\":\"immediate\",\"fromcurrent\":true,\"transition\":{\"duration\":0,\"easing\":\"linear\"}}],\"label\":\"Singapore\",\"method\":\"animate\"},{\"args\":[[\"Botswana\"],{\"frame\":{\"duration\":0,\"redraw\":false},\"mode\":\"immediate\",\"fromcurrent\":true,\"transition\":{\"duration\":0,\"easing\":\"linear\"}}],\"label\":\"Botswana\",\"method\":\"animate\"},{\"args\":[[\"Jordan\"],{\"frame\":{\"duration\":0,\"redraw\":false},\"mode\":\"immediate\",\"fromcurrent\":true,\"transition\":{\"duration\":0,\"easing\":\"linear\"}}],\"label\":\"Jordan\",\"method\":\"animate\"},{\"args\":[[\"Sri Lanka\"],{\"frame\":{\"duration\":0,\"redraw\":false},\"mode\":\"immediate\",\"fromcurrent\":true,\"transition\":{\"duration\":0,\"easing\":\"linear\"}}],\"label\":\"Sri Lanka\",\"method\":\"animate\"},{\"args\":[[\"Belgium\"],{\"frame\":{\"duration\":0,\"redraw\":false},\"mode\":\"immediate\",\"fromcurrent\":true,\"transition\":{\"duration\":0,\"easing\":\"linear\"}}],\"label\":\"Belgium\",\"method\":\"animate\"},{\"args\":[[\"Bahrain\"],{\"frame\":{\"duration\":0,\"redraw\":false},\"mode\":\"immediate\",\"fromcurrent\":true,\"transition\":{\"duration\":0,\"easing\":\"linear\"}}],\"label\":\"Bahrain\",\"method\":\"animate\"},{\"args\":[[\"Thailand\"],{\"frame\":{\"duration\":0,\"redraw\":false},\"mode\":\"immediate\",\"fromcurrent\":true,\"transition\":{\"duration\":0,\"easing\":\"linear\"}}],\"label\":\"Thailand\",\"method\":\"animate\"},{\"args\":[[\"The former Yugoslav republic of Macedonia\"],{\"frame\":{\"duration\":0,\"redraw\":false},\"mode\":\"immediate\",\"fromcurrent\":true,\"transition\":{\"duration\":0,\"easing\":\"linear\"}}],\"label\":\"The former Yugoslav republic of Macedonia\",\"method\":\"animate\"},{\"args\":[[\"Fiji\"],{\"frame\":{\"duration\":0,\"redraw\":false},\"mode\":\"immediate\",\"fromcurrent\":true,\"transition\":{\"duration\":0,\"easing\":\"linear\"}}],\"label\":\"Fiji\",\"method\":\"animate\"},{\"args\":[[\"Iraq\"],{\"frame\":{\"duration\":0,\"redraw\":false},\"mode\":\"immediate\",\"fromcurrent\":true,\"transition\":{\"duration\":0,\"easing\":\"linear\"}}],\"label\":\"Iraq\",\"method\":\"animate\"},{\"args\":[[\"Bahamas\"],{\"frame\":{\"duration\":0,\"redraw\":false},\"mode\":\"immediate\",\"fromcurrent\":true,\"transition\":{\"duration\":0,\"easing\":\"linear\"}}],\"label\":\"Bahamas\",\"method\":\"animate\"},{\"args\":[[\"Ireland\"],{\"frame\":{\"duration\":0,\"redraw\":false},\"mode\":\"immediate\",\"fromcurrent\":true,\"transition\":{\"duration\":0,\"easing\":\"linear\"}}],\"label\":\"Ireland\",\"method\":\"animate\"},{\"args\":[[\"Timor-Leste\"],{\"frame\":{\"duration\":0,\"redraw\":false},\"mode\":\"immediate\",\"fromcurrent\":true,\"transition\":{\"duration\":0,\"easing\":\"linear\"}}],\"label\":\"Timor-Leste\",\"method\":\"animate\"},{\"args\":[[\"Togo\"],{\"frame\":{\"duration\":0,\"redraw\":false},\"mode\":\"immediate\",\"fromcurrent\":true,\"transition\":{\"duration\":0,\"easing\":\"linear\"}}],\"label\":\"Togo\",\"method\":\"animate\"},{\"args\":[[\"Azerbaijan\"],{\"frame\":{\"duration\":0,\"redraw\":false},\"mode\":\"immediate\",\"fromcurrent\":true,\"transition\":{\"duration\":0,\"easing\":\"linear\"}}],\"label\":\"Azerbaijan\",\"method\":\"animate\"},{\"args\":[[\"Finland\"],{\"frame\":{\"duration\":0,\"redraw\":false},\"mode\":\"immediate\",\"fromcurrent\":true,\"transition\":{\"duration\":0,\"easing\":\"linear\"}}],\"label\":\"Finland\",\"method\":\"animate\"},{\"args\":[[\"Tonga\"],{\"frame\":{\"duration\":0,\"redraw\":false},\"mode\":\"immediate\",\"fromcurrent\":true,\"transition\":{\"duration\":0,\"easing\":\"linear\"}}],\"label\":\"Tonga\",\"method\":\"animate\"},{\"args\":[[\"Indonesia\"],{\"frame\":{\"duration\":0,\"redraw\":false},\"mode\":\"immediate\",\"fromcurrent\":true,\"transition\":{\"duration\":0,\"easing\":\"linear\"}}],\"label\":\"Indonesia\",\"method\":\"animate\"},{\"args\":[[\"Trinidad and Tobago\"],{\"frame\":{\"duration\":0,\"redraw\":false},\"mode\":\"immediate\",\"fromcurrent\":true,\"transition\":{\"duration\":0,\"easing\":\"linear\"}}],\"label\":\"Trinidad and Tobago\",\"method\":\"animate\"},{\"args\":[[\"Iran (Islamic Republic of)\"],{\"frame\":{\"duration\":0,\"redraw\":false},\"mode\":\"immediate\",\"fromcurrent\":true,\"transition\":{\"duration\":0,\"easing\":\"linear\"}}],\"label\":\"Iran (Islamic Republic of)\",\"method\":\"animate\"},{\"args\":[[\"Sao Tome and Principe\"],{\"frame\":{\"duration\":0,\"redraw\":false},\"mode\":\"immediate\",\"fromcurrent\":true,\"transition\":{\"duration\":0,\"easing\":\"linear\"}}],\"label\":\"Sao Tome and Principe\",\"method\":\"animate\"},{\"args\":[[\"Tajikistan\"],{\"frame\":{\"duration\":0,\"redraw\":false},\"mode\":\"immediate\",\"fromcurrent\":true,\"transition\":{\"duration\":0,\"easing\":\"linear\"}}],\"label\":\"Tajikistan\",\"method\":\"animate\"},{\"args\":[[\"Bangladesh\"],{\"frame\":{\"duration\":0,\"redraw\":false},\"mode\":\"immediate\",\"fromcurrent\":true,\"transition\":{\"duration\":0,\"easing\":\"linear\"}}],\"label\":\"Bangladesh\",\"method\":\"animate\"},{\"args\":[[\"Eritrea\"],{\"frame\":{\"duration\":0,\"redraw\":false},\"mode\":\"immediate\",\"fromcurrent\":true,\"transition\":{\"duration\":0,\"easing\":\"linear\"}}],\"label\":\"Eritrea\",\"method\":\"animate\"},{\"args\":[[\"Sudan\"],{\"frame\":{\"duration\":0,\"redraw\":false},\"mode\":\"immediate\",\"fromcurrent\":true,\"transition\":{\"duration\":0,\"easing\":\"linear\"}}],\"label\":\"Sudan\",\"method\":\"animate\"},{\"args\":[[\"Japan\"],{\"frame\":{\"duration\":0,\"redraw\":false},\"mode\":\"immediate\",\"fromcurrent\":true,\"transition\":{\"duration\":0,\"easing\":\"linear\"}}],\"label\":\"Japan\",\"method\":\"animate\"},{\"args\":[[\"Suriname\"],{\"frame\":{\"duration\":0,\"redraw\":false},\"mode\":\"immediate\",\"fromcurrent\":true,\"transition\":{\"duration\":0,\"easing\":\"linear\"}}],\"label\":\"Suriname\",\"method\":\"animate\"},{\"args\":[[\"Belarus\"],{\"frame\":{\"duration\":0,\"redraw\":false},\"mode\":\"immediate\",\"fromcurrent\":true,\"transition\":{\"duration\":0,\"easing\":\"linear\"}}],\"label\":\"Belarus\",\"method\":\"animate\"},{\"args\":[[\"Jamaica\"],{\"frame\":{\"duration\":0,\"redraw\":false},\"mode\":\"immediate\",\"fromcurrent\":true,\"transition\":{\"duration\":0,\"easing\":\"linear\"}}],\"label\":\"Jamaica\",\"method\":\"animate\"},{\"args\":[[\"Ethiopia\"],{\"frame\":{\"duration\":0,\"redraw\":false},\"mode\":\"immediate\",\"fromcurrent\":true,\"transition\":{\"duration\":0,\"easing\":\"linear\"}}],\"label\":\"Ethiopia\",\"method\":\"animate\"},{\"args\":[[\"Swaziland\"],{\"frame\":{\"duration\":0,\"redraw\":false},\"mode\":\"immediate\",\"fromcurrent\":true,\"transition\":{\"duration\":0,\"easing\":\"linear\"}}],\"label\":\"Swaziland\",\"method\":\"animate\"},{\"args\":[[\"Sweden\"],{\"frame\":{\"duration\":0,\"redraw\":false},\"mode\":\"immediate\",\"fromcurrent\":true,\"transition\":{\"duration\":0,\"easing\":\"linear\"}}],\"label\":\"Sweden\",\"method\":\"animate\"},{\"args\":[[\"Barbados\"],{\"frame\":{\"duration\":0,\"redraw\":false},\"mode\":\"immediate\",\"fromcurrent\":true,\"transition\":{\"duration\":0,\"easing\":\"linear\"}}],\"label\":\"Barbados\",\"method\":\"animate\"},{\"args\":[[\"Italy\"],{\"frame\":{\"duration\":0,\"redraw\":false},\"mode\":\"immediate\",\"fromcurrent\":true,\"transition\":{\"duration\":0,\"easing\":\"linear\"}}],\"label\":\"Italy\",\"method\":\"animate\"},{\"args\":[[\"Switzerland\"],{\"frame\":{\"duration\":0,\"redraw\":false},\"mode\":\"immediate\",\"fromcurrent\":true,\"transition\":{\"duration\":0,\"easing\":\"linear\"}}],\"label\":\"Switzerland\",\"method\":\"animate\"},{\"args\":[[\"Israel\"],{\"frame\":{\"duration\":0,\"redraw\":false},\"mode\":\"immediate\",\"fromcurrent\":true,\"transition\":{\"duration\":0,\"easing\":\"linear\"}}],\"label\":\"Israel\",\"method\":\"animate\"},{\"args\":[[\"Syrian Arab Republic\"],{\"frame\":{\"duration\":0,\"redraw\":false},\"mode\":\"immediate\",\"fromcurrent\":true,\"transition\":{\"duration\":0,\"easing\":\"linear\"}}],\"label\":\"Syrian Arab Republic\",\"method\":\"animate\"},{\"args\":[[\"Estonia\"],{\"frame\":{\"duration\":0,\"redraw\":false},\"mode\":\"immediate\",\"fromcurrent\":true,\"transition\":{\"duration\":0,\"easing\":\"linear\"}}],\"label\":\"Estonia\",\"method\":\"animate\"},{\"args\":[[\"Brunei Darussalam\"],{\"frame\":{\"duration\":0,\"redraw\":false},\"mode\":\"immediate\",\"fromcurrent\":true,\"transition\":{\"duration\":0,\"easing\":\"linear\"}}],\"label\":\"Brunei Darussalam\",\"method\":\"animate\"},{\"args\":[[\"Lesotho\"],{\"frame\":{\"duration\":0,\"redraw\":false},\"mode\":\"immediate\",\"fromcurrent\":true,\"transition\":{\"duration\":0,\"easing\":\"linear\"}}],\"label\":\"Lesotho\",\"method\":\"animate\"},{\"args\":[[\"Samoa\"],{\"frame\":{\"duration\":0,\"redraw\":false},\"mode\":\"immediate\",\"fromcurrent\":true,\"transition\":{\"duration\":0,\"easing\":\"linear\"}}],\"label\":\"Samoa\",\"method\":\"animate\"},{\"args\":[[\"Chile\"],{\"frame\":{\"duration\":0,\"redraw\":false},\"mode\":\"immediate\",\"fromcurrent\":true,\"transition\":{\"duration\":0,\"easing\":\"linear\"}}],\"label\":\"Chile\",\"method\":\"animate\"},{\"args\":[[\"Mexico\"],{\"frame\":{\"duration\":0,\"redraw\":false},\"mode\":\"immediate\",\"fromcurrent\":true,\"transition\":{\"duration\":0,\"easing\":\"linear\"}}],\"label\":\"Mexico\",\"method\":\"animate\"},{\"args\":[[\"Nigeria\"],{\"frame\":{\"duration\":0,\"redraw\":false},\"mode\":\"immediate\",\"fromcurrent\":true,\"transition\":{\"duration\":0,\"easing\":\"linear\"}}],\"label\":\"Nigeria\",\"method\":\"animate\"},{\"args\":[[\"Norway\"],{\"frame\":{\"duration\":0,\"redraw\":false},\"mode\":\"immediate\",\"fromcurrent\":true,\"transition\":{\"duration\":0,\"easing\":\"linear\"}}],\"label\":\"Norway\",\"method\":\"animate\"},{\"args\":[[\"Cuba\"],{\"frame\":{\"duration\":0,\"redraw\":false},\"mode\":\"immediate\",\"fromcurrent\":true,\"transition\":{\"duration\":0,\"easing\":\"linear\"}}],\"label\":\"Cuba\",\"method\":\"animate\"},{\"args\":[[\"Chad\"],{\"frame\":{\"duration\":0,\"redraw\":false},\"mode\":\"immediate\",\"fromcurrent\":true,\"transition\":{\"duration\":0,\"easing\":\"linear\"}}],\"label\":\"Chad\",\"method\":\"animate\"},{\"args\":[[\"Micronesia (Federated States of)\"],{\"frame\":{\"duration\":0,\"redraw\":false},\"mode\":\"immediate\",\"fromcurrent\":true,\"transition\":{\"duration\":0,\"easing\":\"linear\"}}],\"label\":\"Micronesia (Federated States of)\",\"method\":\"animate\"},{\"args\":[[\"Mauritius\"],{\"frame\":{\"duration\":0,\"redraw\":false},\"mode\":\"immediate\",\"fromcurrent\":true,\"transition\":{\"duration\":0,\"easing\":\"linear\"}}],\"label\":\"Mauritius\",\"method\":\"animate\"},{\"args\":[[\"Pakistan\"],{\"frame\":{\"duration\":0,\"redraw\":false},\"mode\":\"immediate\",\"fromcurrent\":true,\"transition\":{\"duration\":0,\"easing\":\"linear\"}}],\"label\":\"Pakistan\",\"method\":\"animate\"},{\"args\":[[\"Mauritania\"],{\"frame\":{\"duration\":0,\"redraw\":false},\"mode\":\"immediate\",\"fromcurrent\":true,\"transition\":{\"duration\":0,\"easing\":\"linear\"}}],\"label\":\"Mauritania\",\"method\":\"animate\"},{\"args\":[[\"Central African Republic\"],{\"frame\":{\"duration\":0,\"redraw\":false},\"mode\":\"immediate\",\"fromcurrent\":true,\"transition\":{\"duration\":0,\"easing\":\"linear\"}}],\"label\":\"Central African Republic\",\"method\":\"animate\"},{\"args\":[[\"Cyprus\"],{\"frame\":{\"duration\":0,\"redraw\":false},\"mode\":\"immediate\",\"fromcurrent\":true,\"transition\":{\"duration\":0,\"easing\":\"linear\"}}],\"label\":\"Cyprus\",\"method\":\"animate\"},{\"args\":[[\"Panama\"],{\"frame\":{\"duration\":0,\"redraw\":false},\"mode\":\"immediate\",\"fromcurrent\":true,\"transition\":{\"duration\":0,\"easing\":\"linear\"}}],\"label\":\"Panama\",\"method\":\"animate\"},{\"args\":[[\"Papua New Guinea\"],{\"frame\":{\"duration\":0,\"redraw\":false},\"mode\":\"immediate\",\"fromcurrent\":true,\"transition\":{\"duration\":0,\"easing\":\"linear\"}}],\"label\":\"Papua New Guinea\",\"method\":\"animate\"},{\"args\":[[\"Oman\"],{\"frame\":{\"duration\":0,\"redraw\":false},\"mode\":\"immediate\",\"fromcurrent\":true,\"transition\":{\"duration\":0,\"easing\":\"linear\"}}],\"label\":\"Oman\",\"method\":\"animate\"},{\"args\":[[\"Malta\"],{\"frame\":{\"duration\":0,\"redraw\":false},\"mode\":\"immediate\",\"fromcurrent\":true,\"transition\":{\"duration\":0,\"easing\":\"linear\"}}],\"label\":\"Malta\",\"method\":\"animate\"},{\"args\":[[\"Niger\"],{\"frame\":{\"duration\":0,\"redraw\":false},\"mode\":\"immediate\",\"fromcurrent\":true,\"transition\":{\"duration\":0,\"easing\":\"linear\"}}],\"label\":\"Niger\",\"method\":\"animate\"},{\"args\":[[\"Nicaragua\"],{\"frame\":{\"duration\":0,\"redraw\":false},\"mode\":\"immediate\",\"fromcurrent\":true,\"transition\":{\"duration\":0,\"easing\":\"linear\"}}],\"label\":\"Nicaragua\",\"method\":\"animate\"},{\"args\":[[\"Congo\"],{\"frame\":{\"duration\":0,\"redraw\":false},\"mode\":\"immediate\",\"fromcurrent\":true,\"transition\":{\"duration\":0,\"easing\":\"linear\"}}],\"label\":\"Congo\",\"method\":\"animate\"},{\"args\":[[\"Myanmar\"],{\"frame\":{\"duration\":0,\"redraw\":false},\"mode\":\"immediate\",\"fromcurrent\":true,\"transition\":{\"duration\":0,\"easing\":\"linear\"}}],\"label\":\"Myanmar\",\"method\":\"animate\"},{\"args\":[[\"Mozambique\"],{\"frame\":{\"duration\":0,\"redraw\":false},\"mode\":\"immediate\",\"fromcurrent\":true,\"transition\":{\"duration\":0,\"easing\":\"linear\"}}],\"label\":\"Mozambique\",\"method\":\"animate\"},{\"args\":[[\"Namibia\"],{\"frame\":{\"duration\":0,\"redraw\":false},\"mode\":\"immediate\",\"fromcurrent\":true,\"transition\":{\"duration\":0,\"easing\":\"linear\"}}],\"label\":\"Namibia\",\"method\":\"animate\"},{\"args\":[[\"Comoros\"],{\"frame\":{\"duration\":0,\"redraw\":false},\"mode\":\"immediate\",\"fromcurrent\":true,\"transition\":{\"duration\":0,\"easing\":\"linear\"}}],\"label\":\"Comoros\",\"method\":\"animate\"},{\"args\":[[\"Morocco\"],{\"frame\":{\"duration\":0,\"redraw\":false},\"mode\":\"immediate\",\"fromcurrent\":true,\"transition\":{\"duration\":0,\"easing\":\"linear\"}}],\"label\":\"Morocco\",\"method\":\"animate\"},{\"args\":[[\"Croatia\"],{\"frame\":{\"duration\":0,\"redraw\":false},\"mode\":\"immediate\",\"fromcurrent\":true,\"transition\":{\"duration\":0,\"easing\":\"linear\"}}],\"label\":\"Croatia\",\"method\":\"animate\"},{\"args\":[[\"Nepal\"],{\"frame\":{\"duration\":0,\"redraw\":false},\"mode\":\"immediate\",\"fromcurrent\":true,\"transition\":{\"duration\":0,\"easing\":\"linear\"}}],\"label\":\"Nepal\",\"method\":\"animate\"},{\"args\":[[\"Colombia\"],{\"frame\":{\"duration\":0,\"redraw\":false},\"mode\":\"immediate\",\"fromcurrent\":true,\"transition\":{\"duration\":0,\"easing\":\"linear\"}}],\"label\":\"Colombia\",\"method\":\"animate\"},{\"args\":[[\"Costa Rica\"],{\"frame\":{\"duration\":0,\"redraw\":false},\"mode\":\"immediate\",\"fromcurrent\":true,\"transition\":{\"duration\":0,\"easing\":\"linear\"}}],\"label\":\"Costa Rica\",\"method\":\"animate\"},{\"args\":[[\"Montenegro\"],{\"frame\":{\"duration\":0,\"redraw\":false},\"mode\":\"immediate\",\"fromcurrent\":true,\"transition\":{\"duration\":0,\"easing\":\"linear\"}}],\"label\":\"Montenegro\",\"method\":\"animate\"},{\"args\":[[\"New Zealand\"],{\"frame\":{\"duration\":0,\"redraw\":false},\"mode\":\"immediate\",\"fromcurrent\":true,\"transition\":{\"duration\":0,\"easing\":\"linear\"}}],\"label\":\"New Zealand\",\"method\":\"animate\"},{\"args\":[[\"Mongolia\"],{\"frame\":{\"duration\":0,\"redraw\":false},\"mode\":\"immediate\",\"fromcurrent\":true,\"transition\":{\"duration\":0,\"easing\":\"linear\"}}],\"label\":\"Mongolia\",\"method\":\"animate\"},{\"args\":[[\"China\"],{\"frame\":{\"duration\":0,\"redraw\":false},\"mode\":\"immediate\",\"fromcurrent\":true,\"transition\":{\"duration\":0,\"easing\":\"linear\"}}],\"label\":\"China\",\"method\":\"animate\"},{\"args\":[[\"Netherlands\"],{\"frame\":{\"duration\":0,\"redraw\":false},\"mode\":\"immediate\",\"fromcurrent\":true,\"transition\":{\"duration\":0,\"easing\":\"linear\"}}],\"label\":\"Netherlands\",\"method\":\"animate\"},{\"args\":[[\"India\"],{\"frame\":{\"duration\":0,\"redraw\":false},\"mode\":\"immediate\",\"fromcurrent\":true,\"transition\":{\"duration\":0,\"easing\":\"linear\"}}],\"label\":\"India\",\"method\":\"animate\"},{\"args\":[[\"Canada\"],{\"frame\":{\"duration\":0,\"redraw\":false},\"mode\":\"immediate\",\"fromcurrent\":true,\"transition\":{\"duration\":0,\"easing\":\"linear\"}}],\"label\":\"Canada\",\"method\":\"animate\"},{\"args\":[[\"Czechia\"],{\"frame\":{\"duration\":0,\"redraw\":false},\"mode\":\"immediate\",\"fromcurrent\":true,\"transition\":{\"duration\":0,\"easing\":\"linear\"}}],\"label\":\"Czechia\",\"method\":\"animate\"},{\"args\":[[\"Luxembourg\"],{\"frame\":{\"duration\":0,\"redraw\":false},\"mode\":\"immediate\",\"fromcurrent\":true,\"transition\":{\"duration\":0,\"easing\":\"linear\"}}],\"label\":\"Luxembourg\",\"method\":\"animate\"},{\"args\":[[\"Romania\"],{\"frame\":{\"duration\":0,\"redraw\":false},\"mode\":\"immediate\",\"fromcurrent\":true,\"transition\":{\"duration\":0,\"easing\":\"linear\"}}],\"label\":\"Romania\",\"method\":\"animate\"},{\"args\":[[\"Burundi\"],{\"frame\":{\"duration\":0,\"redraw\":false},\"mode\":\"immediate\",\"fromcurrent\":true,\"transition\":{\"duration\":0,\"easing\":\"linear\"}}],\"label\":\"Burundi\",\"method\":\"animate\"},{\"args\":[[\"Russian Federation\"],{\"frame\":{\"duration\":0,\"redraw\":false},\"mode\":\"immediate\",\"fromcurrent\":true,\"transition\":{\"duration\":0,\"easing\":\"linear\"}}],\"label\":\"Russian Federation\",\"method\":\"animate\"},{\"args\":[[\"Denmark\"],{\"frame\":{\"duration\":0,\"redraw\":false},\"mode\":\"immediate\",\"fromcurrent\":true,\"transition\":{\"duration\":0,\"easing\":\"linear\"}}],\"label\":\"Denmark\",\"method\":\"animate\"},{\"args\":[[\"Lithuania\"],{\"frame\":{\"duration\":0,\"redraw\":false},\"mode\":\"immediate\",\"fromcurrent\":true,\"transition\":{\"duration\":0,\"easing\":\"linear\"}}],\"label\":\"Lithuania\",\"method\":\"animate\"},{\"args\":[[\"Republic of Moldova\"],{\"frame\":{\"duration\":0,\"redraw\":false},\"mode\":\"immediate\",\"fromcurrent\":true,\"transition\":{\"duration\":0,\"easing\":\"linear\"}}],\"label\":\"Republic of Moldova\",\"method\":\"animate\"},{\"args\":[[\"Rwanda\"],{\"frame\":{\"duration\":0,\"redraw\":false},\"mode\":\"immediate\",\"fromcurrent\":true,\"transition\":{\"duration\":0,\"easing\":\"linear\"}}],\"label\":\"Rwanda\",\"method\":\"animate\"},{\"args\":[[\"Libya\"],{\"frame\":{\"duration\":0,\"redraw\":false},\"mode\":\"immediate\",\"fromcurrent\":true,\"transition\":{\"duration\":0,\"easing\":\"linear\"}}],\"label\":\"Libya\",\"method\":\"animate\"},{\"args\":[[\"Saint Lucia\"],{\"frame\":{\"duration\":0,\"redraw\":false},\"mode\":\"immediate\",\"fromcurrent\":true,\"transition\":{\"duration\":0,\"easing\":\"linear\"}}],\"label\":\"Saint Lucia\",\"method\":\"animate\"},{\"args\":[[\"Saint Vincent and the Grenadines\"],{\"frame\":{\"duration\":0,\"redraw\":false},\"mode\":\"immediate\",\"fromcurrent\":true,\"transition\":{\"duration\":0,\"easing\":\"linear\"}}],\"label\":\"Saint Vincent and the Grenadines\",\"method\":\"animate\"},{\"args\":[[\"Bulgaria\"],{\"frame\":{\"duration\":0,\"redraw\":false},\"mode\":\"immediate\",\"fromcurrent\":true,\"transition\":{\"duration\":0,\"easing\":\"linear\"}}],\"label\":\"Bulgaria\",\"method\":\"animate\"},{\"args\":[[\"Djibouti\"],{\"frame\":{\"duration\":0,\"redraw\":false},\"mode\":\"immediate\",\"fromcurrent\":true,\"transition\":{\"duration\":0,\"easing\":\"linear\"}}],\"label\":\"Djibouti\",\"method\":\"animate\"},{\"args\":[[\"Liberia\"],{\"frame\":{\"duration\":0,\"redraw\":false},\"mode\":\"immediate\",\"fromcurrent\":true,\"transition\":{\"duration\":0,\"easing\":\"linear\"}}],\"label\":\"Liberia\",\"method\":\"animate\"},{\"args\":[[\"Burkina Faso\"],{\"frame\":{\"duration\":0,\"redraw\":false},\"mode\":\"immediate\",\"fromcurrent\":true,\"transition\":{\"duration\":0,\"easing\":\"linear\"}}],\"label\":\"Burkina Faso\",\"method\":\"animate\"},{\"args\":[[\"Paraguay\"],{\"frame\":{\"duration\":0,\"redraw\":false},\"mode\":\"immediate\",\"fromcurrent\":true,\"transition\":{\"duration\":0,\"easing\":\"linear\"}}],\"label\":\"Paraguay\",\"method\":\"animate\"},{\"args\":[[\"Madagascar\"],{\"frame\":{\"duration\":0,\"redraw\":false},\"mode\":\"immediate\",\"fromcurrent\":true,\"transition\":{\"duration\":0,\"easing\":\"linear\"}}],\"label\":\"Madagascar\",\"method\":\"animate\"},{\"args\":[[\"Democratic Republic of the Congo\"],{\"frame\":{\"duration\":0,\"redraw\":false},\"mode\":\"immediate\",\"fromcurrent\":true,\"transition\":{\"duration\":0,\"easing\":\"linear\"}}],\"label\":\"Democratic Republic of the Congo\",\"method\":\"animate\"},{\"args\":[[\"Peru\"],{\"frame\":{\"duration\":0,\"redraw\":false},\"mode\":\"immediate\",\"fromcurrent\":true,\"transition\":{\"duration\":0,\"easing\":\"linear\"}}],\"label\":\"Peru\",\"method\":\"animate\"},{\"args\":[[\"Cameroon\"],{\"frame\":{\"duration\":0,\"redraw\":false},\"mode\":\"immediate\",\"fromcurrent\":true,\"transition\":{\"duration\":0,\"easing\":\"linear\"}}],\"label\":\"Cameroon\",\"method\":\"animate\"},{\"args\":[[\"Mali\"],{\"frame\":{\"duration\":0,\"redraw\":false},\"mode\":\"immediate\",\"fromcurrent\":true,\"transition\":{\"duration\":0,\"easing\":\"linear\"}}],\"label\":\"Mali\",\"method\":\"animate\"},{\"args\":[[\"Maldives\"],{\"frame\":{\"duration\":0,\"redraw\":false},\"mode\":\"immediate\",\"fromcurrent\":true,\"transition\":{\"duration\":0,\"easing\":\"linear\"}}],\"label\":\"Maldives\",\"method\":\"animate\"},{\"args\":[[\"Philippines\"],{\"frame\":{\"duration\":0,\"redraw\":false},\"mode\":\"immediate\",\"fromcurrent\":true,\"transition\":{\"duration\":0,\"easing\":\"linear\"}}],\"label\":\"Philippines\",\"method\":\"animate\"},{\"args\":[[\"Cambodia\"],{\"frame\":{\"duration\":0,\"redraw\":false},\"mode\":\"immediate\",\"fromcurrent\":true,\"transition\":{\"duration\":0,\"easing\":\"linear\"}}],\"label\":\"Cambodia\",\"method\":\"animate\"},{\"args\":[[\"C\\u00f4te d'Ivoire\"],{\"frame\":{\"duration\":0,\"redraw\":false},\"mode\":\"immediate\",\"fromcurrent\":true,\"transition\":{\"duration\":0,\"easing\":\"linear\"}}],\"label\":\"C\\u00f4te d'Ivoire\",\"method\":\"animate\"},{\"args\":[[\"Poland\"],{\"frame\":{\"duration\":0,\"redraw\":false},\"mode\":\"immediate\",\"fromcurrent\":true,\"transition\":{\"duration\":0,\"easing\":\"linear\"}}],\"label\":\"Poland\",\"method\":\"animate\"},{\"args\":[[\"Malaysia\"],{\"frame\":{\"duration\":0,\"redraw\":false},\"mode\":\"immediate\",\"fromcurrent\":true,\"transition\":{\"duration\":0,\"easing\":\"linear\"}}],\"label\":\"Malaysia\",\"method\":\"animate\"},{\"args\":[[\"Portugal\"],{\"frame\":{\"duration\":0,\"redraw\":false},\"mode\":\"immediate\",\"fromcurrent\":true,\"transition\":{\"duration\":0,\"easing\":\"linear\"}}],\"label\":\"Portugal\",\"method\":\"animate\"},{\"args\":[[\"Cabo Verde\"],{\"frame\":{\"duration\":0,\"redraw\":false},\"mode\":\"immediate\",\"fromcurrent\":true,\"transition\":{\"duration\":0,\"easing\":\"linear\"}}],\"label\":\"Cabo Verde\",\"method\":\"animate\"},{\"args\":[[\"Malawi\"],{\"frame\":{\"duration\":0,\"redraw\":false},\"mode\":\"immediate\",\"fromcurrent\":true,\"transition\":{\"duration\":0,\"easing\":\"linear\"}}],\"label\":\"Malawi\",\"method\":\"animate\"},{\"args\":[[\"Qatar\"],{\"frame\":{\"duration\":0,\"redraw\":false},\"mode\":\"immediate\",\"fromcurrent\":true,\"transition\":{\"duration\":0,\"easing\":\"linear\"}}],\"label\":\"Qatar\",\"method\":\"animate\"},{\"args\":[[\"Republic of Korea\"],{\"frame\":{\"duration\":0,\"redraw\":false},\"mode\":\"immediate\",\"fromcurrent\":true,\"transition\":{\"duration\":0,\"easing\":\"linear\"}}],\"label\":\"Republic of Korea\",\"method\":\"animate\"},{\"args\":[[\"Democratic People's Republic of Korea\"],{\"frame\":{\"duration\":0,\"redraw\":false},\"mode\":\"immediate\",\"fromcurrent\":true,\"transition\":{\"duration\":0,\"easing\":\"linear\"}}],\"label\":\"Democratic People's Republic of Korea\",\"method\":\"animate\"},{\"args\":[[\"Austria\"],{\"frame\":{\"duration\":0,\"redraw\":false},\"mode\":\"immediate\",\"fromcurrent\":true,\"transition\":{\"duration\":0,\"easing\":\"linear\"}}],\"label\":\"Austria\",\"method\":\"animate\"},{\"args\":[[\"Slovenia\"],{\"frame\":{\"duration\":0,\"redraw\":false},\"mode\":\"immediate\",\"fromcurrent\":true,\"transition\":{\"duration\":0,\"easing\":\"linear\"}}],\"label\":\"Slovenia\",\"method\":\"animate\"},{\"args\":[[\"Algeria\"],{\"frame\":{\"duration\":0,\"redraw\":false},\"mode\":\"immediate\",\"fromcurrent\":true,\"transition\":{\"duration\":0,\"easing\":\"linear\"}}],\"label\":\"Algeria\",\"method\":\"animate\"},{\"args\":[[\"Viet Nam\"],{\"frame\":{\"duration\":0,\"redraw\":false},\"mode\":\"immediate\",\"fromcurrent\":true,\"transition\":{\"duration\":0,\"easing\":\"linear\"}}],\"label\":\"Viet Nam\",\"method\":\"animate\"},{\"args\":[[\"United States of America\"],{\"frame\":{\"duration\":0,\"redraw\":false},\"mode\":\"immediate\",\"fromcurrent\":true,\"transition\":{\"duration\":0,\"easing\":\"linear\"}}],\"label\":\"United States of America\",\"method\":\"animate\"},{\"args\":[[\"Guatemala\"],{\"frame\":{\"duration\":0,\"redraw\":false},\"mode\":\"immediate\",\"fromcurrent\":true,\"transition\":{\"duration\":0,\"easing\":\"linear\"}}],\"label\":\"Guatemala\",\"method\":\"animate\"},{\"args\":[[\"Turkey\"],{\"frame\":{\"duration\":0,\"redraw\":false},\"mode\":\"immediate\",\"fromcurrent\":true,\"transition\":{\"duration\":0,\"easing\":\"linear\"}}],\"label\":\"Turkey\",\"method\":\"animate\"},{\"args\":[[\"France\"],{\"frame\":{\"duration\":0,\"redraw\":false},\"mode\":\"immediate\",\"fromcurrent\":true,\"transition\":{\"duration\":0,\"easing\":\"linear\"}}],\"label\":\"France\",\"method\":\"animate\"},{\"args\":[[\"Hungary\"],{\"frame\":{\"duration\":0,\"redraw\":false},\"mode\":\"immediate\",\"fromcurrent\":true,\"transition\":{\"duration\":0,\"easing\":\"linear\"}}],\"label\":\"Hungary\",\"method\":\"animate\"},{\"args\":[[\"Venezuela (Bolivarian Republic of)\"],{\"frame\":{\"duration\":0,\"redraw\":false},\"mode\":\"immediate\",\"fromcurrent\":true,\"transition\":{\"duration\":0,\"easing\":\"linear\"}}],\"label\":\"Venezuela (Bolivarian Republic of)\",\"method\":\"animate\"},{\"args\":[[\"Greece\"],{\"frame\":{\"duration\":0,\"redraw\":false},\"mode\":\"immediate\",\"fromcurrent\":true,\"transition\":{\"duration\":0,\"easing\":\"linear\"}}],\"label\":\"Greece\",\"method\":\"animate\"},{\"args\":[[\"Australia\"],{\"frame\":{\"duration\":0,\"redraw\":false},\"mode\":\"immediate\",\"fromcurrent\":true,\"transition\":{\"duration\":0,\"easing\":\"linear\"}}],\"label\":\"Australia\",\"method\":\"animate\"},{\"args\":[[\"Ghana\"],{\"frame\":{\"duration\":0,\"redraw\":false},\"mode\":\"immediate\",\"fromcurrent\":true,\"transition\":{\"duration\":0,\"easing\":\"linear\"}}],\"label\":\"Ghana\",\"method\":\"animate\"},{\"args\":[[\"Haiti\"],{\"frame\":{\"duration\":0,\"redraw\":false},\"mode\":\"immediate\",\"fromcurrent\":true,\"transition\":{\"duration\":0,\"easing\":\"linear\"}}],\"label\":\"Haiti\",\"method\":\"animate\"},{\"args\":[[\"Guinea-Bissau\"],{\"frame\":{\"duration\":0,\"redraw\":false},\"mode\":\"immediate\",\"fromcurrent\":true,\"transition\":{\"duration\":0,\"easing\":\"linear\"}}],\"label\":\"Guinea-Bissau\",\"method\":\"animate\"},{\"args\":[[\"United Arab Emirates\"],{\"frame\":{\"duration\":0,\"redraw\":false},\"mode\":\"immediate\",\"fromcurrent\":true,\"transition\":{\"duration\":0,\"easing\":\"linear\"}}],\"label\":\"United Arab Emirates\",\"method\":\"animate\"},{\"args\":[[\"United Republic of Tanzania\"],{\"frame\":{\"duration\":0,\"redraw\":false},\"mode\":\"immediate\",\"fromcurrent\":true,\"transition\":{\"duration\":0,\"easing\":\"linear\"}}],\"label\":\"United Republic of Tanzania\",\"method\":\"animate\"},{\"args\":[[\"Iceland\"],{\"frame\":{\"duration\":0,\"redraw\":false},\"mode\":\"immediate\",\"fromcurrent\":true,\"transition\":{\"duration\":0,\"easing\":\"linear\"}}],\"label\":\"Iceland\",\"method\":\"animate\"},{\"args\":[[\"Uganda\"],{\"frame\":{\"duration\":0,\"redraw\":false},\"mode\":\"immediate\",\"fromcurrent\":true,\"transition\":{\"duration\":0,\"easing\":\"linear\"}}],\"label\":\"Uganda\",\"method\":\"animate\"},{\"args\":[[\"Guyana\"],{\"frame\":{\"duration\":0,\"redraw\":false},\"mode\":\"immediate\",\"fromcurrent\":true,\"transition\":{\"duration\":0,\"easing\":\"linear\"}}],\"label\":\"Guyana\",\"method\":\"animate\"},{\"args\":[[\"Germany\"],{\"frame\":{\"duration\":0,\"redraw\":false},\"mode\":\"immediate\",\"fromcurrent\":true,\"transition\":{\"duration\":0,\"easing\":\"linear\"}}],\"label\":\"Germany\",\"method\":\"animate\"},{\"args\":[[\"United Kingdom of Great Britain and Northern Ireland\"],{\"frame\":{\"duration\":0,\"redraw\":false},\"mode\":\"immediate\",\"fromcurrent\":true,\"transition\":{\"duration\":0,\"easing\":\"linear\"}}],\"label\":\"United Kingdom of Great Britain and Northern Ireland\",\"method\":\"animate\"},{\"args\":[[\"Antigua and Barbuda\"],{\"frame\":{\"duration\":0,\"redraw\":false},\"mode\":\"immediate\",\"fromcurrent\":true,\"transition\":{\"duration\":0,\"easing\":\"linear\"}}],\"label\":\"Antigua and Barbuda\",\"method\":\"animate\"},{\"args\":[[\"Vanuatu\"],{\"frame\":{\"duration\":0,\"redraw\":false},\"mode\":\"immediate\",\"fromcurrent\":true,\"transition\":{\"duration\":0,\"easing\":\"linear\"}}],\"label\":\"Vanuatu\",\"method\":\"animate\"},{\"args\":[[\"Yemen\"],{\"frame\":{\"duration\":0,\"redraw\":false},\"mode\":\"immediate\",\"fromcurrent\":true,\"transition\":{\"duration\":0,\"easing\":\"linear\"}}],\"label\":\"Yemen\",\"method\":\"animate\"},{\"args\":[[\"Turkmenistan\"],{\"frame\":{\"duration\":0,\"redraw\":false},\"mode\":\"immediate\",\"fromcurrent\":true,\"transition\":{\"duration\":0,\"easing\":\"linear\"}}],\"label\":\"Turkmenistan\",\"method\":\"animate\"},{\"args\":[[\"Afghanistan\"],{\"frame\":{\"duration\":0,\"redraw\":false},\"mode\":\"immediate\",\"fromcurrent\":true,\"transition\":{\"duration\":0,\"easing\":\"linear\"}}],\"label\":\"Afghanistan\",\"method\":\"animate\"},{\"args\":[[\"Armenia\"],{\"frame\":{\"duration\":0,\"redraw\":false},\"mode\":\"immediate\",\"fromcurrent\":true,\"transition\":{\"duration\":0,\"easing\":\"linear\"}}],\"label\":\"Armenia\",\"method\":\"animate\"},{\"args\":[[\"Albania\"],{\"frame\":{\"duration\":0,\"redraw\":false},\"mode\":\"immediate\",\"fromcurrent\":true,\"transition\":{\"duration\":0,\"easing\":\"linear\"}}],\"label\":\"Albania\",\"method\":\"animate\"},{\"args\":[[\"Gambia\"],{\"frame\":{\"duration\":0,\"redraw\":false},\"mode\":\"immediate\",\"fromcurrent\":true,\"transition\":{\"duration\":0,\"easing\":\"linear\"}}],\"label\":\"Gambia\",\"method\":\"animate\"},{\"args\":[[\"Argentina\"],{\"frame\":{\"duration\":0,\"redraw\":false},\"mode\":\"immediate\",\"fromcurrent\":true,\"transition\":{\"duration\":0,\"easing\":\"linear\"}}],\"label\":\"Argentina\",\"method\":\"animate\"},{\"args\":[[\"Grenada\"],{\"frame\":{\"duration\":0,\"redraw\":false},\"mode\":\"immediate\",\"fromcurrent\":true,\"transition\":{\"duration\":0,\"easing\":\"linear\"}}],\"label\":\"Grenada\",\"method\":\"animate\"},{\"args\":[[\"Ukraine\"],{\"frame\":{\"duration\":0,\"redraw\":false},\"mode\":\"immediate\",\"fromcurrent\":true,\"transition\":{\"duration\":0,\"easing\":\"linear\"}}],\"label\":\"Ukraine\",\"method\":\"animate\"},{\"args\":[[\"Tunisia\"],{\"frame\":{\"duration\":0,\"redraw\":false},\"mode\":\"immediate\",\"fromcurrent\":true,\"transition\":{\"duration\":0,\"easing\":\"linear\"}}],\"label\":\"Tunisia\",\"method\":\"animate\"},{\"args\":[[\"Zambia\"],{\"frame\":{\"duration\":0,\"redraw\":false},\"mode\":\"immediate\",\"fromcurrent\":true,\"transition\":{\"duration\":0,\"easing\":\"linear\"}}],\"label\":\"Zambia\",\"method\":\"animate\"},{\"args\":[[\"Uzbekistan\"],{\"frame\":{\"duration\":0,\"redraw\":false},\"mode\":\"immediate\",\"fromcurrent\":true,\"transition\":{\"duration\":0,\"easing\":\"linear\"}}],\"label\":\"Uzbekistan\",\"method\":\"animate\"},{\"args\":[[\"Angola\"],{\"frame\":{\"duration\":0,\"redraw\":false},\"mode\":\"immediate\",\"fromcurrent\":true,\"transition\":{\"duration\":0,\"easing\":\"linear\"}}],\"label\":\"Angola\",\"method\":\"animate\"},{\"args\":[[\"Georgia\"],{\"frame\":{\"duration\":0,\"redraw\":false},\"mode\":\"immediate\",\"fromcurrent\":true,\"transition\":{\"duration\":0,\"easing\":\"linear\"}}],\"label\":\"Georgia\",\"method\":\"animate\"},{\"args\":[[\"Gabon\"],{\"frame\":{\"duration\":0,\"redraw\":false},\"mode\":\"immediate\",\"fromcurrent\":true,\"transition\":{\"duration\":0,\"easing\":\"linear\"}}],\"label\":\"Gabon\",\"method\":\"animate\"},{\"args\":[[\"Honduras\"],{\"frame\":{\"duration\":0,\"redraw\":false},\"mode\":\"immediate\",\"fromcurrent\":true,\"transition\":{\"duration\":0,\"easing\":\"linear\"}}],\"label\":\"Honduras\",\"method\":\"animate\"},{\"args\":[[\"Uruguay\"],{\"frame\":{\"duration\":0,\"redraw\":false},\"mode\":\"immediate\",\"fromcurrent\":true,\"transition\":{\"duration\":0,\"easing\":\"linear\"}}],\"label\":\"Uruguay\",\"method\":\"animate\"},{\"args\":[[\"Guinea\"],{\"frame\":{\"duration\":0,\"redraw\":false},\"mode\":\"immediate\",\"fromcurrent\":true,\"transition\":{\"duration\":0,\"easing\":\"linear\"}}],\"label\":\"Guinea\",\"method\":\"animate\"},{\"args\":[[\"Marshall Islands\"],{\"frame\":{\"duration\":0,\"redraw\":false},\"mode\":\"immediate\",\"fromcurrent\":true,\"transition\":{\"duration\":0,\"easing\":\"linear\"}}],\"label\":\"Marshall Islands\",\"method\":\"animate\"},{\"args\":[[\"Palau\"],{\"frame\":{\"duration\":0,\"redraw\":false},\"mode\":\"immediate\",\"fromcurrent\":true,\"transition\":{\"duration\":0,\"easing\":\"linear\"}}],\"label\":\"Palau\",\"method\":\"animate\"},{\"args\":[[\"Monaco\"],{\"frame\":{\"duration\":0,\"redraw\":false},\"mode\":\"immediate\",\"fromcurrent\":true,\"transition\":{\"duration\":0,\"easing\":\"linear\"}}],\"label\":\"Monaco\",\"method\":\"animate\"},{\"args\":[[\"Cook Islands\"],{\"frame\":{\"duration\":0,\"redraw\":false},\"mode\":\"immediate\",\"fromcurrent\":true,\"transition\":{\"duration\":0,\"easing\":\"linear\"}}],\"label\":\"Cook Islands\",\"method\":\"animate\"},{\"args\":[[\"Niue\"],{\"frame\":{\"duration\":0,\"redraw\":false},\"mode\":\"immediate\",\"fromcurrent\":true,\"transition\":{\"duration\":0,\"easing\":\"linear\"}}],\"label\":\"Niue\",\"method\":\"animate\"},{\"args\":[[\"Nauru\"],{\"frame\":{\"duration\":0,\"redraw\":false},\"mode\":\"immediate\",\"fromcurrent\":true,\"transition\":{\"duration\":0,\"easing\":\"linear\"}}],\"label\":\"Nauru\",\"method\":\"animate\"},{\"args\":[[\"Saint Kitts and Nevis\"],{\"frame\":{\"duration\":0,\"redraw\":false},\"mode\":\"immediate\",\"fromcurrent\":true,\"transition\":{\"duration\":0,\"easing\":\"linear\"}}],\"label\":\"Saint Kitts and Nevis\",\"method\":\"animate\"},{\"args\":[[\"Dominica\"],{\"frame\":{\"duration\":0,\"redraw\":false},\"mode\":\"immediate\",\"fromcurrent\":true,\"transition\":{\"duration\":0,\"easing\":\"linear\"}}],\"label\":\"Dominica\",\"method\":\"animate\"},{\"args\":[[\"Tuvalu\"],{\"frame\":{\"duration\":0,\"redraw\":false},\"mode\":\"immediate\",\"fromcurrent\":true,\"transition\":{\"duration\":0,\"easing\":\"linear\"}}],\"label\":\"Tuvalu\",\"method\":\"animate\"},{\"args\":[[\"San Marino\"],{\"frame\":{\"duration\":0,\"redraw\":false},\"mode\":\"immediate\",\"fromcurrent\":true,\"transition\":{\"duration\":0,\"easing\":\"linear\"}}],\"label\":\"San Marino\",\"method\":\"animate\"}],\"x\":0.1,\"xanchor\":\"left\",\"y\":0,\"yanchor\":\"top\"}]},                        {\"responsive\": true}                    ).then(function(){\n",
       "                            Plotly.addFrames('f033fe24-e0df-435c-880a-9074f4f654dd', [{\"data\":[{\"hovertemplate\":\"Country=Zimbabwe<br>Year=%{x}<br>Life expectancy =%{y}<extra></extra>\",\"ids\":[2000,2001,2002,2003,2004,2005,2006,2007,2008,2009,2010,2011,2012,2013,2014,2015],\"legendgroup\":\"Zimbabwe\",\"line\":{\"color\":\"#636efa\",\"dash\":\"solid\"},\"marker\":{\"symbol\":\"circle\"},\"mode\":\"lines+markers\",\"name\":\"Zimbabwe\",\"orientation\":\"v\",\"showlegend\":true,\"x\":[2000,2001,2002,2003,2004,2005,2006,2007,2008,2009,2010,2011,2012,2013,2014,2015],\"xaxis\":\"x\",\"y\":[46.0,45.3,44.8,44.5,44.3,44.6,45.4,46.6,48.2,50.0,52.4,54.9,56.6,58.0,59.2,67.0],\"yaxis\":\"y\",\"type\":\"scatter\"}],\"name\":\"Zimbabwe\"},{\"data\":[{\"hovertemplate\":\"Country=Belize<br>Year=%{x}<br>Life expectancy =%{y}<extra></extra>\",\"ids\":[2000,2001,2002,2003,2004,2005,2006,2007,2008,2009,2010,2011,2012,2013,2014,2015],\"legendgroup\":\"Belize\",\"line\":{\"color\":\"#EF553B\",\"dash\":\"solid\"},\"marker\":{\"symbol\":\"circle\"},\"mode\":\"lines+markers\",\"name\":\"Belize\",\"orientation\":\"v\",\"showlegend\":true,\"x\":[2000,2001,2002,2003,2004,2005,2006,2007,2008,2009,2010,2011,2012,2013,2014,2015],\"xaxis\":\"x\",\"y\":[68.3,68.2,68.5,68.4,68.7,69.0,69.4,69.6,69.6,69.5,69.5,69.4,69.4,69.8,70.0,71.0],\"yaxis\":\"y\",\"type\":\"scatter\"}],\"name\":\"Belize\"},{\"data\":[{\"hovertemplate\":\"Country=Kazakhstan<br>Year=%{x}<br>Life expectancy =%{y}<extra></extra>\",\"ids\":[2000,2001,2002,2003,2004,2005,2006,2007,2008,2009,2010,2011,2012,2013,2014,2015],\"legendgroup\":\"Kazakhstan\",\"line\":{\"color\":\"#00cc96\",\"dash\":\"solid\"},\"marker\":{\"symbol\":\"circle\"},\"mode\":\"lines+markers\",\"name\":\"Kazakhstan\",\"orientation\":\"v\",\"showlegend\":true,\"x\":[2000,2001,2002,2003,2004,2005,2006,2007,2008,2009,2010,2011,2012,2013,2014,2015],\"xaxis\":\"x\",\"y\":[63.9,64.4,64.7,64.4,64.7,64.6,65.0,65.3,66.6,67.8,67.8,68.5,69.1,69.5,69.9,72.0],\"yaxis\":\"y\",\"type\":\"scatter\"}],\"name\":\"Kazakhstan\"},{\"data\":[{\"hovertemplate\":\"Country=Equatorial Guinea<br>Year=%{x}<br>Life expectancy =%{y}<extra></extra>\",\"ids\":[2000,2001,2002,2003,2004,2005,2006,2007,2008,2009,2010,2011,2012,2013,2014,2015],\"legendgroup\":\"Equatorial Guinea\",\"line\":{\"color\":\"#ab63fa\",\"dash\":\"solid\"},\"marker\":{\"symbol\":\"circle\"},\"mode\":\"lines+markers\",\"name\":\"Equatorial Guinea\",\"orientation\":\"v\",\"showlegend\":true,\"x\":[2000,2001,2002,2003,2004,2005,2006,2007,2008,2009,2010,2011,2012,2013,2014,2015],\"xaxis\":\"x\",\"y\":[52.7,53.1,53.5,53.8,54.1,54.4,54.8,55.0,55.4,55.7,56.1,56.2,56.7,57.4,57.9,58.2],\"yaxis\":\"y\",\"type\":\"scatter\"}],\"name\":\"Equatorial Guinea\"},{\"data\":[{\"hovertemplate\":\"Country=South Sudan<br>Year=%{x}<br>Life expectancy =%{y}<extra></extra>\",\"ids\":[2000,2001,2002,2003,2004,2005,2006,2007,2008,2009,2010,2011,2012,2013,2014,2015],\"legendgroup\":\"South Sudan\",\"line\":{\"color\":\"#FFA15A\",\"dash\":\"solid\"},\"marker\":{\"symbol\":\"circle\"},\"mode\":\"lines+markers\",\"name\":\"South Sudan\",\"orientation\":\"v\",\"showlegend\":true,\"x\":[2000,2001,2002,2003,2004,2005,2006,2007,2008,2009,2010,2011,2012,2013,2014,2015],\"xaxis\":\"x\",\"y\":[48.9,49.6,52.0,58.0,51.4,51.9,52.5,53.1,53.6,54.3,55.0,55.4,56.0,56.4,56.6,57.3],\"yaxis\":\"y\",\"type\":\"scatter\"}],\"name\":\"South Sudan\"},{\"data\":[{\"hovertemplate\":\"Country=South Africa<br>Year=%{x}<br>Life expectancy =%{y}<extra></extra>\",\"ids\":[2000,2001,2002,2003,2004,2005,2006,2007,2008,2009,2010,2011,2012,2013,2014,2015],\"legendgroup\":\"South Africa\",\"line\":{\"color\":\"#19d3f3\",\"dash\":\"solid\"},\"marker\":{\"symbol\":\"circle\"},\"mode\":\"lines+markers\",\"name\":\"South Africa\",\"orientation\":\"v\",\"showlegend\":true,\"x\":[2000,2001,2002,2003,2004,2005,2006,2007,2008,2009,2010,2011,2012,2013,2014,2015],\"xaxis\":\"x\",\"y\":[57.3,56.0,54.9,54.0,53.7,53.8,54.0,54.5,55.3,56.5,58.0,58.9,59.2,69.0,62.0,62.9],\"yaxis\":\"y\",\"type\":\"scatter\"}],\"name\":\"South Africa\"},{\"data\":[{\"hovertemplate\":\"Country=Benin<br>Year=%{x}<br>Life expectancy =%{y}<extra></extra>\",\"ids\":[2000,2001,2002,2003,2004,2005,2006,2007,2008,2009,2010,2011,2012,2013,2014,2015],\"legendgroup\":\"Benin\",\"line\":{\"color\":\"#FF6692\",\"dash\":\"solid\"},\"marker\":{\"symbol\":\"circle\"},\"mode\":\"lines+markers\",\"name\":\"Benin\",\"orientation\":\"v\",\"showlegend\":true,\"x\":[2000,2001,2002,2003,2004,2005,2006,2007,2008,2009,2010,2011,2012,2013,2014,2015],\"xaxis\":\"x\",\"y\":[55.4,55.5,55.6,55.8,56.1,56.5,56.8,57.1,57.6,58.4,58.7,59.1,59.3,59.5,59.7,60.0],\"yaxis\":\"y\",\"type\":\"scatter\"}],\"name\":\"Benin\"},{\"data\":[{\"hovertemplate\":\"Country=Kenya<br>Year=%{x}<br>Life expectancy =%{y}<extra></extra>\",\"ids\":[2000,2001,2002,2003,2004,2005,2006,2007,2008,2009,2010,2011,2012,2013,2014,2015],\"legendgroup\":\"Kenya\",\"line\":{\"color\":\"#B6E880\",\"dash\":\"solid\"},\"marker\":{\"symbol\":\"circle\"},\"mode\":\"lines+markers\",\"name\":\"Kenya\",\"orientation\":\"v\",\"showlegend\":true,\"x\":[2000,2001,2002,2003,2004,2005,2006,2007,2008,2009,2010,2011,2012,2013,2014,2015],\"xaxis\":\"x\",\"y\":[51.9,51.9,52.1,52.4,53.0,54.1,55.3,56.8,57.9,59.1,63.0,61.2,62.1,62.6,62.9,63.4],\"yaxis\":\"y\",\"type\":\"scatter\"}],\"name\":\"Kenya\"},{\"data\":[{\"hovertemplate\":\"Country=Somalia<br>Year=%{x}<br>Life expectancy =%{y}<extra></extra>\",\"ids\":[2000,2001,2002,2003,2004,2005,2006,2007,2008,2009,2010,2011,2012,2013,2014,2015],\"legendgroup\":\"Somalia\",\"line\":{\"color\":\"#FF97FF\",\"dash\":\"solid\"},\"marker\":{\"symbol\":\"circle\"},\"mode\":\"lines+markers\",\"name\":\"Somalia\",\"orientation\":\"v\",\"showlegend\":true,\"x\":[2000,2001,2002,2003,2004,2005,2006,2007,2008,2009,2010,2011,2012,2013,2014,2015],\"xaxis\":\"x\",\"y\":[55.0,57.0,58.0,51.1,51.2,51.6,51.5,51.5,51.9,52.2,52.4,53.1,53.1,54.2,54.3,55.0],\"yaxis\":\"y\",\"type\":\"scatter\"}],\"name\":\"Somalia\"},{\"data\":[{\"hovertemplate\":\"Country=Kiribati<br>Year=%{x}<br>Life expectancy =%{y}<extra></extra>\",\"ids\":[2000,2001,2002,2003,2004,2005,2006,2007,2008,2009,2010,2011,2012,2013,2014,2015],\"legendgroup\":\"Kiribati\",\"line\":{\"color\":\"#FECB52\",\"dash\":\"solid\"},\"marker\":{\"symbol\":\"circle\"},\"mode\":\"lines+markers\",\"name\":\"Kiribati\",\"orientation\":\"v\",\"showlegend\":true,\"x\":[2000,2001,2002,2003,2004,2005,2006,2007,2008,2009,2010,2011,2012,2013,2014,2015],\"xaxis\":\"x\",\"y\":[64.1,64.3,64.6,64.7,64.8,64.9,65.0,65.0,65.1,65.2,65.3,65.5,65.7,65.8,66.1,66.3],\"yaxis\":\"y\",\"type\":\"scatter\"}],\"name\":\"Kiribati\"},{\"data\":[{\"hovertemplate\":\"Country=El Salvador<br>Year=%{x}<br>Life expectancy =%{y}<extra></extra>\",\"ids\":[2000,2001,2002,2003,2004,2005,2006,2007,2008,2009,2010,2011,2012,2013,2014,2015],\"legendgroup\":\"El Salvador\",\"line\":{\"color\":\"#636efa\",\"dash\":\"solid\"},\"marker\":{\"symbol\":\"circle\"},\"mode\":\"lines+markers\",\"name\":\"El Salvador\",\"orientation\":\"v\",\"showlegend\":true,\"x\":[2000,2001,2002,2003,2004,2005,2006,2007,2008,2009,2010,2011,2012,2013,2014,2015],\"xaxis\":\"x\",\"y\":[69.0,68.9,73.0,69.9,70.0,71.0,75.0,71.2,71.7,71.4,72.0,72.0,73.0,73.0,73.3,73.5],\"yaxis\":\"y\",\"type\":\"scatter\"}],\"name\":\"El Salvador\"},{\"data\":[{\"hovertemplate\":\"Country=Bhutan<br>Year=%{x}<br>Life expectancy =%{y}<extra></extra>\",\"ids\":[2000,2001,2002,2003,2004,2005,2006,2007,2008,2009,2010,2011,2012,2013,2014,2015],\"legendgroup\":\"Bhutan\",\"line\":{\"color\":\"#EF553B\",\"dash\":\"solid\"},\"marker\":{\"symbol\":\"circle\"},\"mode\":\"lines+markers\",\"name\":\"Bhutan\",\"orientation\":\"v\",\"showlegend\":true,\"x\":[2000,2001,2002,2003,2004,2005,2006,2007,2008,2009,2010,2011,2012,2013,2014,2015],\"xaxis\":\"x\",\"y\":[62.0,61.7,62.5,63.3,64.2,65.0,65.8,66.5,67.0,67.4,67.9,68.3,68.7,69.1,69.4,69.8],\"yaxis\":\"y\",\"type\":\"scatter\"}],\"name\":\"Bhutan\"},{\"data\":[{\"hovertemplate\":\"Country=Solomon Islands<br>Year=%{x}<br>Life expectancy =%{y}<extra></extra>\",\"ids\":[2000,2001,2002,2003,2004,2005,2006,2007,2008,2009,2010,2011,2012,2013,2014,2015],\"legendgroup\":\"Solomon Islands\",\"line\":{\"color\":\"#00cc96\",\"dash\":\"solid\"},\"marker\":{\"symbol\":\"circle\"},\"mode\":\"lines+markers\",\"name\":\"Solomon Islands\",\"orientation\":\"v\",\"showlegend\":true,\"x\":[2000,2001,2002,2003,2004,2005,2006,2007,2008,2009,2010,2011,2012,2013,2014,2015],\"xaxis\":\"x\",\"y\":[65.8,66.2,66.5,66.8,67.1,67.4,67.6,67.6,68.0,68.1,68.3,68.5,68.7,68.8,68.8,69.2],\"yaxis\":\"y\",\"type\":\"scatter\"}],\"name\":\"Solomon Islands\"},{\"data\":[{\"hovertemplate\":\"Country=Kuwait<br>Year=%{x}<br>Life expectancy =%{y}<extra></extra>\",\"ids\":[2000,2001,2002,2003,2004,2005,2006,2007,2008,2009,2010,2011,2012,2013,2014,2015],\"legendgroup\":\"Kuwait\",\"line\":{\"color\":\"#ab63fa\",\"dash\":\"solid\"},\"marker\":{\"symbol\":\"circle\"},\"mode\":\"lines+markers\",\"name\":\"Kuwait\",\"orientation\":\"v\",\"showlegend\":true,\"x\":[2000,2001,2002,2003,2004,2005,2006,2007,2008,2009,2010,2011,2012,2013,2014,2015],\"xaxis\":\"x\",\"y\":[73.2,73.2,73.3,73.4,73.5,73.6,73.6,73.7,73.8,73.9,74.0,74.2,74.3,74.5,74.6,74.7],\"yaxis\":\"y\",\"type\":\"scatter\"}],\"name\":\"Kuwait\"},{\"data\":[{\"hovertemplate\":\"Country=Bolivia (Plurinational State of)<br>Year=%{x}<br>Life expectancy =%{y}<extra></extra>\",\"ids\":[2000,2001,2002,2003,2004,2005,2006,2007,2008,2009,2010,2011,2012,2013,2014,2015],\"legendgroup\":\"Bolivia (Plurinational State of)\",\"line\":{\"color\":\"#FFA15A\",\"dash\":\"solid\"},\"marker\":{\"symbol\":\"circle\"},\"mode\":\"lines+markers\",\"name\":\"Bolivia (Plurinational State of)\",\"orientation\":\"v\",\"showlegend\":true,\"x\":[2000,2001,2002,2003,2004,2005,2006,2007,2008,2009,2010,2011,2012,2013,2014,2015],\"xaxis\":\"x\",\"y\":[62.6,63.3,63.9,64.5,65.1,65.7,66.2,66.8,67.4,68.0,68.7,69.3,69.8,71.0,74.0,77.0],\"yaxis\":\"y\",\"type\":\"scatter\"}],\"name\":\"Bolivia (Plurinational State of)\"},{\"data\":[{\"hovertemplate\":\"Country=Slovakia<br>Year=%{x}<br>Life expectancy =%{y}<extra></extra>\",\"ids\":[2000,2001,2002,2003,2004,2005,2006,2007,2008,2009,2010,2011,2012,2013,2014,2015],\"legendgroup\":\"Slovakia\",\"line\":{\"color\":\"#19d3f3\",\"dash\":\"solid\"},\"marker\":{\"symbol\":\"circle\"},\"mode\":\"lines+markers\",\"name\":\"Slovakia\",\"orientation\":\"v\",\"showlegend\":true,\"x\":[2000,2001,2002,2003,2004,2005,2006,2007,2008,2009,2010,2011,2012,2013,2014,2015],\"xaxis\":\"x\",\"y\":[73.0,73.3,73.7,73.8,74.1,74.0,74.3,74.4,74.7,75.0,75.1,75.6,75.8,76.1,76.4,76.7],\"yaxis\":\"y\",\"type\":\"scatter\"}],\"name\":\"Slovakia\"},{\"data\":[{\"hovertemplate\":\"Country=Kyrgyzstan<br>Year=%{x}<br>Life expectancy =%{y}<extra></extra>\",\"ids\":[2000,2001,2002,2003,2004,2005,2006,2007,2008,2009,2010,2011,2012,2013,2014,2015],\"legendgroup\":\"Kyrgyzstan\",\"line\":{\"color\":\"#FF6692\",\"dash\":\"solid\"},\"marker\":{\"symbol\":\"circle\"},\"mode\":\"lines+markers\",\"name\":\"Kyrgyzstan\",\"orientation\":\"v\",\"showlegend\":true,\"x\":[2000,2001,2002,2003,2004,2005,2006,2007,2008,2009,2010,2011,2012,2013,2014,2015],\"xaxis\":\"x\",\"y\":[66.6,67.2,66.7,66.6,67.1,66.9,66.7,67.2,67.6,68.5,68.8,69.4,69.9,77.0,78.0,71.1],\"yaxis\":\"y\",\"type\":\"scatter\"}],\"name\":\"Kyrgyzstan\"},{\"data\":[{\"hovertemplate\":\"Country=Egypt<br>Year=%{x}<br>Life expectancy =%{y}<extra></extra>\",\"ids\":[2000,2001,2002,2003,2004,2005,2006,2007,2008,2009,2010,2011,2012,2013,2014,2015],\"legendgroup\":\"Egypt\",\"line\":{\"color\":\"#B6E880\",\"dash\":\"solid\"},\"marker\":{\"symbol\":\"circle\"},\"mode\":\"lines+markers\",\"name\":\"Egypt\",\"orientation\":\"v\",\"showlegend\":true,\"x\":[2000,2001,2002,2003,2004,2005,2006,2007,2008,2009,2010,2011,2012,2013,2014,2015],\"xaxis\":\"x\",\"y\":[68.8,68.6,68.7,68.6,69.0,69.4,69.5,69.7,69.8,69.9,70.0,74.0,72.0,79.0,78.0,79.0],\"yaxis\":\"y\",\"type\":\"scatter\"}],\"name\":\"Egypt\"},{\"data\":[{\"hovertemplate\":\"Country=Dominican Republic<br>Year=%{x}<br>Life expectancy =%{y}<extra></extra>\",\"ids\":[2000,2001,2002,2003,2004,2005,2006,2007,2008,2009,2010,2011,2012,2013,2014,2015],\"legendgroup\":\"Dominican Republic\",\"line\":{\"color\":\"#FF97FF\",\"dash\":\"solid\"},\"marker\":{\"symbol\":\"circle\"},\"mode\":\"lines+markers\",\"name\":\"Dominican Republic\",\"orientation\":\"v\",\"showlegend\":true,\"x\":[2000,2001,2002,2003,2004,2005,2006,2007,2008,2009,2010,2011,2012,2013,2014,2015],\"xaxis\":\"x\",\"y\":[72.0,71.2,71.4,73.0,69.3,69.7,72.3,72.9,73.3,73.6,72.7,73.1,72.1,73.4,73.6,73.9],\"yaxis\":\"y\",\"type\":\"scatter\"}],\"name\":\"Dominican Republic\"},{\"data\":[{\"hovertemplate\":\"Country=Saudi Arabia<br>Year=%{x}<br>Life expectancy =%{y}<extra></extra>\",\"ids\":[2000,2001,2002,2003,2004,2005,2006,2007,2008,2009,2010,2011,2012,2013,2014,2015],\"legendgroup\":\"Saudi Arabia\",\"line\":{\"color\":\"#FECB52\",\"dash\":\"solid\"},\"marker\":{\"symbol\":\"circle\"},\"mode\":\"lines+markers\",\"name\":\"Saudi Arabia\",\"orientation\":\"v\",\"showlegend\":true,\"x\":[2000,2001,2002,2003,2004,2005,2006,2007,2008,2009,2010,2011,2012,2013,2014,2015],\"xaxis\":\"x\",\"y\":[72.6,72.8,72.9,73.0,73.1,73.1,73.2,73.2,73.3,73.4,73.7,73.9,74.1,74.3,74.4,74.5],\"yaxis\":\"y\",\"type\":\"scatter\"}],\"name\":\"Saudi Arabia\"},{\"data\":[{\"hovertemplate\":\"Country=Lebanon<br>Year=%{x}<br>Life expectancy =%{y}<extra></extra>\",\"ids\":[2000,2001,2002,2003,2004,2005,2006,2007,2008,2009,2010,2011,2012,2013,2014,2015],\"legendgroup\":\"Lebanon\",\"line\":{\"color\":\"#636efa\",\"dash\":\"solid\"},\"marker\":{\"symbol\":\"circle\"},\"mode\":\"lines+markers\",\"name\":\"Lebanon\",\"orientation\":\"v\",\"showlegend\":true,\"x\":[2000,2001,2002,2003,2004,2005,2006,2007,2008,2009,2010,2011,2012,2013,2014,2015],\"xaxis\":\"x\",\"y\":[72.7,73.0,73.2,73.5,73.7,73.9,74.1,74.4,74.5,74.7,74.9,75.0,75.0,74.9,74.8,74.9],\"yaxis\":\"y\",\"type\":\"scatter\"}],\"name\":\"Lebanon\"},{\"data\":[{\"hovertemplate\":\"Country=Brazil<br>Year=%{x}<br>Life expectancy =%{y}<extra></extra>\",\"ids\":[2000,2001,2002,2003,2004,2005,2006,2007,2008,2009,2010,2011,2012,2013,2014,2015],\"legendgroup\":\"Brazil\",\"line\":{\"color\":\"#EF553B\",\"dash\":\"solid\"},\"marker\":{\"symbol\":\"circle\"},\"mode\":\"lines+markers\",\"name\":\"Brazil\",\"orientation\":\"v\",\"showlegend\":true,\"x\":[2000,2001,2002,2003,2004,2005,2006,2007,2008,2009,2010,2011,2012,2013,2014,2015],\"xaxis\":\"x\",\"y\":[75.0,71.0,71.4,71.8,72.0,72.7,73.0,73.3,73.4,73.6,73.8,74.1,74.5,74.7,74.8,75.0],\"yaxis\":\"y\",\"type\":\"scatter\"}],\"name\":\"Brazil\"},{\"data\":[{\"hovertemplate\":\"Country=Senegal<br>Year=%{x}<br>Life expectancy =%{y}<extra></extra>\",\"ids\":[2000,2001,2002,2003,2004,2005,2006,2007,2008,2009,2010,2011,2012,2013,2014,2015],\"legendgroup\":\"Senegal\",\"line\":{\"color\":\"#00cc96\",\"dash\":\"solid\"},\"marker\":{\"symbol\":\"circle\"},\"mode\":\"lines+markers\",\"name\":\"Senegal\",\"orientation\":\"v\",\"showlegend\":true,\"x\":[2000,2001,2002,2003,2004,2005,2006,2007,2008,2009,2010,2011,2012,2013,2014,2015],\"xaxis\":\"x\",\"y\":[57.5,57.9,58.4,59.0,59.7,65.0,61.3,62.1,62.8,63.5,64.3,64.9,65.6,66.0,66.4,66.7],\"yaxis\":\"y\",\"type\":\"scatter\"}],\"name\":\"Senegal\"},{\"data\":[{\"hovertemplate\":\"Country=Latvia<br>Year=%{x}<br>Life expectancy =%{y}<extra></extra>\",\"ids\":[2000,2001,2002,2003,2004,2005,2006,2007,2008,2009,2010,2011,2012,2013,2014,2015],\"legendgroup\":\"Latvia\",\"line\":{\"color\":\"#ab63fa\",\"dash\":\"solid\"},\"marker\":{\"symbol\":\"circle\"},\"mode\":\"lines+markers\",\"name\":\"Latvia\",\"orientation\":\"v\",\"showlegend\":true,\"x\":[2000,2001,2002,2003,2004,2005,2006,2007,2008,2009,2010,2011,2012,2013,2014,2015],\"xaxis\":\"x\",\"y\":[71.0,69.9,73.0,78.0,71.0,76.0,75.0,78.0,71.9,72.6,72.8,73.6,73.8,74.1,74.4,74.6],\"yaxis\":\"y\",\"type\":\"scatter\"}],\"name\":\"Latvia\"},{\"data\":[{\"hovertemplate\":\"Country=Spain<br>Year=%{x}<br>Life expectancy =%{y}<extra></extra>\",\"ids\":[2000,2001,2002,2003,2004,2005,2006,2007,2008,2009,2010,2011,2012,2013,2014,2015],\"legendgroup\":\"Spain\",\"line\":{\"color\":\"#FFA15A\",\"dash\":\"solid\"},\"marker\":{\"symbol\":\"circle\"},\"mode\":\"lines+markers\",\"name\":\"Spain\",\"orientation\":\"v\",\"showlegend\":true,\"x\":[2000,2001,2002,2003,2004,2005,2006,2007,2008,2009,2010,2011,2012,2013,2014,2015],\"xaxis\":\"x\",\"y\":[79.1,79.4,79.5,79.4,81.0,81.0,88.0,89.0,81.3,81.6,81.9,82.1,82.0,82.4,82.6,82.8],\"yaxis\":\"y\",\"type\":\"scatter\"}],\"name\":\"Spain\"},{\"data\":[{\"hovertemplate\":\"Country=Serbia<br>Year=%{x}<br>Life expectancy =%{y}<extra></extra>\",\"ids\":[2000,2001,2002,2003,2004,2005,2006,2007,2008,2009,2010,2011,2012,2013,2014,2015],\"legendgroup\":\"Serbia\",\"line\":{\"color\":\"#19d3f3\",\"dash\":\"solid\"},\"marker\":{\"symbol\":\"circle\"},\"mode\":\"lines+markers\",\"name\":\"Serbia\",\"orientation\":\"v\",\"showlegend\":true,\"x\":[2000,2001,2002,2003,2004,2005,2006,2007,2008,2009,2010,2011,2012,2013,2014,2015],\"xaxis\":\"x\",\"y\":[72.6,73.1,72.9,73.0,73.0,73.0,73.6,73.8,74.0,74.1,74.4,74.6,74.9,75.3,75.4,75.6],\"yaxis\":\"y\",\"type\":\"scatter\"}],\"name\":\"Serbia\"},{\"data\":[{\"hovertemplate\":\"Country=Ecuador<br>Year=%{x}<br>Life expectancy =%{y}<extra></extra>\",\"ids\":[2000,2001,2002,2003,2004,2005,2006,2007,2008,2009,2010,2011,2012,2013,2014,2015],\"legendgroup\":\"Ecuador\",\"line\":{\"color\":\"#FF6692\",\"dash\":\"solid\"},\"marker\":{\"symbol\":\"circle\"},\"mode\":\"lines+markers\",\"name\":\"Ecuador\",\"orientation\":\"v\",\"showlegend\":true,\"x\":[2000,2001,2002,2003,2004,2005,2006,2007,2008,2009,2010,2011,2012,2013,2014,2015],\"xaxis\":\"x\",\"y\":[72.8,73.4,73.6,74.4,74.4,74.2,74.4,74.7,74.6,75.1,75.0,75.3,75.5,76.0,76.0,76.2],\"yaxis\":\"y\",\"type\":\"scatter\"}],\"name\":\"Ecuador\"},{\"data\":[{\"hovertemplate\":\"Country=Seychelles<br>Year=%{x}<br>Life expectancy =%{y}<extra></extra>\",\"ids\":[2000,2001,2002,2003,2004,2005,2006,2007,2008,2009,2010,2011,2012,2013,2014,2015],\"legendgroup\":\"Seychelles\",\"line\":{\"color\":\"#B6E880\",\"dash\":\"solid\"},\"marker\":{\"symbol\":\"circle\"},\"mode\":\"lines+markers\",\"name\":\"Seychelles\",\"orientation\":\"v\",\"showlegend\":true,\"x\":[2000,2001,2002,2003,2004,2005,2006,2007,2008,2009,2010,2011,2012,2013,2014,2015],\"xaxis\":\"x\",\"y\":[71.8,72.0,72.1,72.1,72.1,72.2,72.2,72.2,72.2,72.3,72.4,72.6,72.7,72.9,73.0,73.2],\"yaxis\":\"y\",\"type\":\"scatter\"}],\"name\":\"Seychelles\"},{\"data\":[{\"hovertemplate\":\"Country=Lao People's Democratic Republic<br>Year=%{x}<br>Life expectancy =%{y}<extra></extra>\",\"ids\":[2000,2001,2002,2003,2004,2005,2006,2007,2008,2009,2010,2011,2012,2013,2014,2015],\"legendgroup\":\"Lao People's Democratic Republic\",\"line\":{\"color\":\"#FF97FF\",\"dash\":\"solid\"},\"marker\":{\"symbol\":\"circle\"},\"mode\":\"lines+markers\",\"name\":\"Lao People's Democratic Republic\",\"orientation\":\"v\",\"showlegend\":true,\"x\":[2000,2001,2002,2003,2004,2005,2006,2007,2008,2009,2010,2011,2012,2013,2014,2015],\"xaxis\":\"x\",\"y\":[58.1,58.7,59.3,59.8,64.0,61.0,61.5,62.1,62.6,63.1,63.6,64.0,64.4,64.9,65.3,65.7],\"yaxis\":\"y\",\"type\":\"scatter\"}],\"name\":\"Lao People's Democratic Republic\"},{\"data\":[{\"hovertemplate\":\"Country=Sierra Leone<br>Year=%{x}<br>Life expectancy =%{y}<extra></extra>\",\"ids\":[2000,2001,2002,2003,2004,2005,2006,2007,2008,2009,2010,2011,2012,2013,2014,2015],\"legendgroup\":\"Sierra Leone\",\"line\":{\"color\":\"#FECB52\",\"dash\":\"solid\"},\"marker\":{\"symbol\":\"circle\"},\"mode\":\"lines+markers\",\"name\":\"Sierra Leone\",\"orientation\":\"v\",\"showlegend\":true,\"x\":[2000,2001,2002,2003,2004,2005,2006,2007,2008,2009,2010,2011,2012,2013,2014,2015],\"xaxis\":\"x\",\"y\":[39.0,41.0,48.0,41.5,42.3,43.3,44.3,45.3,46.2,47.1,48.1,48.9,49.7,54.0,48.1,51.0],\"yaxis\":\"y\",\"type\":\"scatter\"}],\"name\":\"Sierra Leone\"},{\"data\":[{\"hovertemplate\":\"Country=Bosnia and Herzegovina<br>Year=%{x}<br>Life expectancy =%{y}<extra></extra>\",\"ids\":[2000,2001,2002,2003,2004,2005,2006,2007,2008,2009,2010,2011,2012,2013,2014,2015],\"legendgroup\":\"Bosnia and Herzegovina\",\"line\":{\"color\":\"#636efa\",\"dash\":\"solid\"},\"marker\":{\"symbol\":\"circle\"},\"mode\":\"lines+markers\",\"name\":\"Bosnia and Herzegovina\",\"orientation\":\"v\",\"showlegend\":true,\"x\":[2000,2001,2002,2003,2004,2005,2006,2007,2008,2009,2010,2011,2012,2013,2014,2015],\"xaxis\":\"x\",\"y\":[74.6,74.9,75.4,75.2,75.5,75.0,75.7,75.4,76.0,76.1,76.4,76.9,76.8,77.0,77.2,77.4],\"yaxis\":\"y\",\"type\":\"scatter\"}],\"name\":\"Bosnia and Herzegovina\"},{\"data\":[{\"hovertemplate\":\"Country=Singapore<br>Year=%{x}<br>Life expectancy =%{y}<extra></extra>\",\"ids\":[2000,2001,2002,2003,2004,2005,2006,2007,2008,2009,2010,2011,2012,2013,2014,2015],\"legendgroup\":\"Singapore\",\"line\":{\"color\":\"#EF553B\",\"dash\":\"solid\"},\"marker\":{\"symbol\":\"circle\"},\"mode\":\"lines+markers\",\"name\":\"Singapore\",\"orientation\":\"v\",\"showlegend\":true,\"x\":[2000,2001,2002,2003,2004,2005,2006,2007,2008,2009,2010,2011,2012,2013,2014,2015],\"xaxis\":\"x\",\"y\":[78.3,78.7,79.0,79.3,79.7,82.0,87.0,81.1,81.4,81.7,82.0,82.2,82.5,82.7,82.9,83.1],\"yaxis\":\"y\",\"type\":\"scatter\"}],\"name\":\"Singapore\"},{\"data\":[{\"hovertemplate\":\"Country=Botswana<br>Year=%{x}<br>Life expectancy =%{y}<extra></extra>\",\"ids\":[2000,2001,2002,2003,2004,2005,2006,2007,2008,2009,2010,2011,2012,2013,2014,2015],\"legendgroup\":\"Botswana\",\"line\":{\"color\":\"#00cc96\",\"dash\":\"solid\"},\"marker\":{\"symbol\":\"circle\"},\"mode\":\"lines+markers\",\"name\":\"Botswana\",\"orientation\":\"v\",\"showlegend\":true,\"x\":[2000,2001,2002,2003,2004,2005,2006,2007,2008,2009,2010,2011,2012,2013,2014,2015],\"xaxis\":\"x\",\"y\":[47.8,46.7,46.0,46.4,48.1,51.7,54.8,56.9,57.5,59.2,61.1,62.2,63.4,64.2,65.1,65.7],\"yaxis\":\"y\",\"type\":\"scatter\"}],\"name\":\"Botswana\"},{\"data\":[{\"hovertemplate\":\"Country=Jordan<br>Year=%{x}<br>Life expectancy =%{y}<extra></extra>\",\"ids\":[2000,2001,2002,2003,2004,2005,2006,2007,2008,2009,2010,2011,2012,2013,2014,2015],\"legendgroup\":\"Jordan\",\"line\":{\"color\":\"#ab63fa\",\"dash\":\"solid\"},\"marker\":{\"symbol\":\"circle\"},\"mode\":\"lines+markers\",\"name\":\"Jordan\",\"orientation\":\"v\",\"showlegend\":true,\"x\":[2000,2001,2002,2003,2004,2005,2006,2007,2008,2009,2010,2011,2012,2013,2014,2015],\"xaxis\":\"x\",\"y\":[71.7,71.9,72.1,72.3,72.5,72.4,72.8,73.0,73.1,73.3,73.4,73.6,73.7,73.9,74.0,74.1],\"yaxis\":\"y\",\"type\":\"scatter\"}],\"name\":\"Jordan\"},{\"data\":[{\"hovertemplate\":\"Country=Sri Lanka<br>Year=%{x}<br>Life expectancy =%{y}<extra></extra>\",\"ids\":[2000,2001,2002,2003,2004,2005,2006,2007,2008,2009,2010,2011,2012,2013,2014,2015],\"legendgroup\":\"Sri Lanka\",\"line\":{\"color\":\"#FFA15A\",\"dash\":\"solid\"},\"marker\":{\"symbol\":\"circle\"},\"mode\":\"lines+markers\",\"name\":\"Sri Lanka\",\"orientation\":\"v\",\"showlegend\":true,\"x\":[2000,2001,2002,2003,2004,2005,2006,2007,2008,2009,2010,2011,2012,2013,2014,2015],\"xaxis\":\"x\",\"y\":[71.5,72.7,73.7,73.9,69.1,74.2,73.8,73.7,72.3,71.8,74.5,74.5,74.5,74.6,74.7,74.9],\"yaxis\":\"y\",\"type\":\"scatter\"}],\"name\":\"Sri Lanka\"},{\"data\":[{\"hovertemplate\":\"Country=Belgium<br>Year=%{x}<br>Life expectancy =%{y}<extra></extra>\",\"ids\":[2000,2001,2002,2003,2004,2005,2006,2007,2008,2009,2010,2011,2012,2013,2014,2015],\"legendgroup\":\"Belgium\",\"line\":{\"color\":\"#19d3f3\",\"dash\":\"solid\"},\"marker\":{\"symbol\":\"circle\"},\"mode\":\"lines+markers\",\"name\":\"Belgium\",\"orientation\":\"v\",\"showlegend\":true,\"x\":[2000,2001,2002,2003,2004,2005,2006,2007,2008,2009,2010,2011,2012,2013,2014,2015],\"xaxis\":\"x\",\"y\":[77.6,78.0,78.0,78.3,78.8,78.9,79.4,79.5,79.5,79.8,80.0,83.0,83.0,87.0,89.0,81.1],\"yaxis\":\"y\",\"type\":\"scatter\"}],\"name\":\"Belgium\"},{\"data\":[{\"hovertemplate\":\"Country=Bahrain<br>Year=%{x}<br>Life expectancy =%{y}<extra></extra>\",\"ids\":[2000,2001,2002,2003,2004,2005,2006,2007,2008,2009,2010,2011,2012,2013,2014,2015],\"legendgroup\":\"Bahrain\",\"line\":{\"color\":\"#FF6692\",\"dash\":\"solid\"},\"marker\":{\"symbol\":\"circle\"},\"mode\":\"lines+markers\",\"name\":\"Bahrain\",\"orientation\":\"v\",\"showlegend\":true,\"x\":[2000,2001,2002,2003,2004,2005,2006,2007,2008,2009,2010,2011,2012,2013,2014,2015],\"xaxis\":\"x\",\"y\":[74.5,74.7,74.9,75.0,75.2,75.3,75.5,75.6,75.8,76.0,76.1,76.1,76.5,76.7,76.8,76.9],\"yaxis\":\"y\",\"type\":\"scatter\"}],\"name\":\"Bahrain\"},{\"data\":[{\"hovertemplate\":\"Country=Thailand<br>Year=%{x}<br>Life expectancy =%{y}<extra></extra>\",\"ids\":[2000,2001,2002,2003,2004,2005,2006,2007,2008,2009,2010,2011,2012,2013,2014,2015],\"legendgroup\":\"Thailand\",\"line\":{\"color\":\"#B6E880\",\"dash\":\"solid\"},\"marker\":{\"symbol\":\"circle\"},\"mode\":\"lines+markers\",\"name\":\"Thailand\",\"orientation\":\"v\",\"showlegend\":true,\"x\":[2000,2001,2002,2003,2004,2005,2006,2007,2008,2009,2010,2011,2012,2013,2014,2015],\"xaxis\":\"x\",\"y\":[71.1,71.2,71.4,71.7,71.6,72.5,73.0,73.3,73.5,73.7,73.9,74.1,74.3,74.5,74.6,74.9],\"yaxis\":\"y\",\"type\":\"scatter\"}],\"name\":\"Thailand\"},{\"data\":[{\"hovertemplate\":\"Country=The former Yugoslav republic of Macedonia<br>Year=%{x}<br>Life expectancy =%{y}<extra></extra>\",\"ids\":[2000,2001,2002,2003,2004,2005,2006,2007,2008,2009,2010,2011,2012,2013,2014,2015],\"legendgroup\":\"The former Yugoslav republic of Macedonia\",\"line\":{\"color\":\"#FF97FF\",\"dash\":\"solid\"},\"marker\":{\"symbol\":\"circle\"},\"mode\":\"lines+markers\",\"name\":\"The former Yugoslav republic of Macedonia\",\"orientation\":\"v\",\"showlegend\":true,\"x\":[2000,2001,2002,2003,2004,2005,2006,2007,2008,2009,2010,2011,2012,2013,2014,2015],\"xaxis\":\"x\",\"y\":[72.6,73.1,72.8,73.2,73.5,73.6,73.7,73.5,74.2,74.4,74.7,74.9,75.1,75.3,75.5,75.7],\"yaxis\":\"y\",\"type\":\"scatter\"}],\"name\":\"The former Yugoslav republic of Macedonia\"},{\"data\":[{\"hovertemplate\":\"Country=Fiji<br>Year=%{x}<br>Life expectancy =%{y}<extra></extra>\",\"ids\":[2000,2001,2002,2003,2004,2005,2006,2007,2008,2009,2010,2011,2012,2013,2014,2015],\"legendgroup\":\"Fiji\",\"line\":{\"color\":\"#FECB52\",\"dash\":\"solid\"},\"marker\":{\"symbol\":\"circle\"},\"mode\":\"lines+markers\",\"name\":\"Fiji\",\"orientation\":\"v\",\"showlegend\":true,\"x\":[2000,2001,2002,2003,2004,2005,2006,2007,2008,2009,2010,2011,2012,2013,2014,2015],\"xaxis\":\"x\",\"y\":[67.7,67.8,67.9,68.0,68.1,68.3,68.5,68.6,68.7,68.9,69.1,69.2,69.4,69.6,69.7,69.9],\"yaxis\":\"y\",\"type\":\"scatter\"}],\"name\":\"Fiji\"},{\"data\":[{\"hovertemplate\":\"Country=Iraq<br>Year=%{x}<br>Life expectancy =%{y}<extra></extra>\",\"ids\":[2000,2001,2002,2003,2004,2005,2006,2007,2008,2009,2010,2011,2012,2013,2014,2015],\"legendgroup\":\"Iraq\",\"line\":{\"color\":\"#636efa\",\"dash\":\"solid\"},\"marker\":{\"symbol\":\"circle\"},\"mode\":\"lines+markers\",\"name\":\"Iraq\",\"orientation\":\"v\",\"showlegend\":true,\"x\":[2000,2001,2002,2003,2004,2005,2006,2007,2008,2009,2010,2011,2012,2013,2014,2015],\"xaxis\":\"x\",\"y\":[70.0,72.0,74.0,66.5,67.2,66.8,64.7,65.9,69.3,74.0,76.0,77.0,76.0,69.5,67.9,68.9],\"yaxis\":\"y\",\"type\":\"scatter\"}],\"name\":\"Iraq\"},{\"data\":[{\"hovertemplate\":\"Country=Bahamas<br>Year=%{x}<br>Life expectancy =%{y}<extra></extra>\",\"ids\":[2000,2001,2002,2003,2004,2005,2006,2007,2008,2009,2010,2011,2012,2013,2014,2015],\"legendgroup\":\"Bahamas\",\"line\":{\"color\":\"#EF553B\",\"dash\":\"solid\"},\"marker\":{\"symbol\":\"circle\"},\"mode\":\"lines+markers\",\"name\":\"Bahamas\",\"orientation\":\"v\",\"showlegend\":true,\"x\":[2000,2001,2002,2003,2004,2005,2006,2007,2008,2009,2010,2011,2012,2013,2014,2015],\"xaxis\":\"x\",\"y\":[72.6,72.9,73.1,73.2,73.8,74.1,74.2,74.4,74.5,74.6,75.0,75.0,74.9,74.8,75.4,76.1],\"yaxis\":\"y\",\"type\":\"scatter\"}],\"name\":\"Bahamas\"},{\"data\":[{\"hovertemplate\":\"Country=Ireland<br>Year=%{x}<br>Life expectancy =%{y}<extra></extra>\",\"ids\":[2000,2001,2002,2003,2004,2005,2006,2007,2008,2009,2010,2011,2012,2013,2014,2015],\"legendgroup\":\"Ireland\",\"line\":{\"color\":\"#00cc96\",\"dash\":\"solid\"},\"marker\":{\"symbol\":\"circle\"},\"mode\":\"lines+markers\",\"name\":\"Ireland\",\"orientation\":\"v\",\"showlegend\":true,\"x\":[2000,2001,2002,2003,2004,2005,2006,2007,2008,2009,2010,2011,2012,2013,2014,2015],\"xaxis\":\"x\",\"y\":[76.4,77.0,77.4,78.0,78.3,78.7,79.0,79.5,79.8,79.7,86.0,84.0,85.0,81.0,81.2,81.4],\"yaxis\":\"y\",\"type\":\"scatter\"}],\"name\":\"Ireland\"},{\"data\":[{\"hovertemplate\":\"Country=Timor-Leste<br>Year=%{x}<br>Life expectancy =%{y}<extra></extra>\",\"ids\":[2000,2001,2002,2003,2004,2005,2006,2007,2008,2009,2010,2011,2012,2013,2014,2015],\"legendgroup\":\"Timor-Leste\",\"line\":{\"color\":\"#ab63fa\",\"dash\":\"solid\"},\"marker\":{\"symbol\":\"circle\"},\"mode\":\"lines+markers\",\"name\":\"Timor-Leste\",\"orientation\":\"v\",\"showlegend\":true,\"x\":[2000,2001,2002,2003,2004,2005,2006,2007,2008,2009,2010,2011,2012,2013,2014,2015],\"xaxis\":\"x\",\"y\":[58.7,59.4,62.0,61.0,62.3,63.7,64.9,65.8,66.2,66.6,66.9,67.2,67.4,67.7,68.0,68.3],\"yaxis\":\"y\",\"type\":\"scatter\"}],\"name\":\"Timor-Leste\"},{\"data\":[{\"hovertemplate\":\"Country=Togo<br>Year=%{x}<br>Life expectancy =%{y}<extra></extra>\",\"ids\":[2000,2001,2002,2003,2004,2005,2006,2007,2008,2009,2010,2011,2012,2013,2014,2015],\"legendgroup\":\"Togo\",\"line\":{\"color\":\"#FFA15A\",\"dash\":\"solid\"},\"marker\":{\"symbol\":\"circle\"},\"mode\":\"lines+markers\",\"name\":\"Togo\",\"orientation\":\"v\",\"showlegend\":true,\"x\":[2000,2001,2002,2003,2004,2005,2006,2007,2008,2009,2010,2011,2012,2013,2014,2015],\"xaxis\":\"x\",\"y\":[54.6,54.6,54.7,54.7,54.9,55.0,55.7,55.9,56.2,56.7,57.4,58.3,58.9,59.4,59.7,59.9],\"yaxis\":\"y\",\"type\":\"scatter\"}],\"name\":\"Togo\"},{\"data\":[{\"hovertemplate\":\"Country=Azerbaijan<br>Year=%{x}<br>Life expectancy =%{y}<extra></extra>\",\"ids\":[2000,2001,2002,2003,2004,2005,2006,2007,2008,2009,2010,2011,2012,2013,2014,2015],\"legendgroup\":\"Azerbaijan\",\"line\":{\"color\":\"#19d3f3\",\"dash\":\"solid\"},\"marker\":{\"symbol\":\"circle\"},\"mode\":\"lines+markers\",\"name\":\"Azerbaijan\",\"orientation\":\"v\",\"showlegend\":true,\"x\":[2000,2001,2002,2003,2004,2005,2006,2007,2008,2009,2010,2011,2012,2013,2014,2015],\"xaxis\":\"x\",\"y\":[66.6,67.5,67.8,67.8,68.4,68.4,69.2,73.0,73.0,78.0,71.1,71.6,71.9,72.2,72.5,72.7],\"yaxis\":\"y\",\"type\":\"scatter\"}],\"name\":\"Azerbaijan\"},{\"data\":[{\"hovertemplate\":\"Country=Finland<br>Year=%{x}<br>Life expectancy =%{y}<extra></extra>\",\"ids\":[2000,2001,2002,2003,2004,2005,2006,2007,2008,2009,2010,2011,2012,2013,2014,2015],\"legendgroup\":\"Finland\",\"line\":{\"color\":\"#FF6692\",\"dash\":\"solid\"},\"marker\":{\"symbol\":\"circle\"},\"mode\":\"lines+markers\",\"name\":\"Finland\",\"orientation\":\"v\",\"showlegend\":true,\"x\":[2000,2001,2002,2003,2004,2005,2006,2007,2008,2009,2010,2011,2012,2013,2014,2015],\"xaxis\":\"x\",\"y\":[77.5,78.0,78.1,78.4,78.7,78.9,79.2,79.3,79.6,79.7,79.9,83.0,84.0,87.0,89.0,81.1],\"yaxis\":\"y\",\"type\":\"scatter\"}],\"name\":\"Finland\"},{\"data\":[{\"hovertemplate\":\"Country=Tonga<br>Year=%{x}<br>Life expectancy =%{y}<extra></extra>\",\"ids\":[2000,2001,2002,2003,2004,2005,2006,2007,2008,2009,2010,2011,2012,2013,2014,2015],\"legendgroup\":\"Tonga\",\"line\":{\"color\":\"#B6E880\",\"dash\":\"solid\"},\"marker\":{\"symbol\":\"circle\"},\"mode\":\"lines+markers\",\"name\":\"Tonga\",\"orientation\":\"v\",\"showlegend\":true,\"x\":[2000,2001,2002,2003,2004,2005,2006,2007,2008,2009,2010,2011,2012,2013,2014,2015],\"xaxis\":\"x\",\"y\":[71.6,71.8,71.9,72.0,72.2,72.3,72.4,72.5,72.6,72.5,72.8,72.9,73.0,73.2,73.3,73.5],\"yaxis\":\"y\",\"type\":\"scatter\"}],\"name\":\"Tonga\"},{\"data\":[{\"hovertemplate\":\"Country=Indonesia<br>Year=%{x}<br>Life expectancy =%{y}<extra></extra>\",\"ids\":[2000,2001,2002,2003,2004,2005,2006,2007,2008,2009,2010,2011,2012,2013,2014,2015],\"legendgroup\":\"Indonesia\",\"line\":{\"color\":\"#FF97FF\",\"dash\":\"solid\"},\"marker\":{\"symbol\":\"circle\"},\"mode\":\"lines+markers\",\"name\":\"Indonesia\",\"orientation\":\"v\",\"showlegend\":true,\"x\":[2000,2001,2002,2003,2004,2005,2006,2007,2008,2009,2010,2011,2012,2013,2014,2015],\"xaxis\":\"x\",\"y\":[66.3,66.5,66.7,66.9,65.3,67.2,67.3,67.5,67.7,67.9,68.1,68.3,68.5,68.7,68.9,69.1],\"yaxis\":\"y\",\"type\":\"scatter\"}],\"name\":\"Indonesia\"},{\"data\":[{\"hovertemplate\":\"Country=Trinidad and Tobago<br>Year=%{x}<br>Life expectancy =%{y}<extra></extra>\",\"ids\":[2000,2001,2002,2003,2004,2005,2006,2007,2008,2009,2010,2011,2012,2013,2014,2015],\"legendgroup\":\"Trinidad and Tobago\",\"line\":{\"color\":\"#FECB52\",\"dash\":\"solid\"},\"marker\":{\"symbol\":\"circle\"},\"mode\":\"lines+markers\",\"name\":\"Trinidad and Tobago\",\"orientation\":\"v\",\"showlegend\":true,\"x\":[2000,2001,2002,2003,2004,2005,2006,2007,2008,2009,2010,2011,2012,2013,2014,2015],\"xaxis\":\"x\",\"y\":[69.1,69.1,69.2,69.3,69.4,69.5,69.6,69.7,69.9,71.0,74.0,76.0,78.0,71.0,71.1,71.2],\"yaxis\":\"y\",\"type\":\"scatter\"}],\"name\":\"Trinidad and Tobago\"},{\"data\":[{\"hovertemplate\":\"Country=Iran (Islamic Republic of)<br>Year=%{x}<br>Life expectancy =%{y}<extra></extra>\",\"ids\":[2000,2001,2002,2003,2004,2005,2006,2007,2008,2009,2010,2011,2012,2013,2014,2015],\"legendgroup\":\"Iran (Islamic Republic of)\",\"line\":{\"color\":\"#636efa\",\"dash\":\"solid\"},\"marker\":{\"symbol\":\"circle\"},\"mode\":\"lines+markers\",\"name\":\"Iran (Islamic Republic of)\",\"orientation\":\"v\",\"showlegend\":true,\"x\":[2000,2001,2002,2003,2004,2005,2006,2007,2008,2009,2010,2011,2012,2013,2014,2015],\"xaxis\":\"x\",\"y\":[73.0,78.0,71.2,75.0,71.8,72.0,72.2,72.4,72.7,73.3,74.1,74.7,75.1,75.3,75.4,75.5],\"yaxis\":\"y\",\"type\":\"scatter\"}],\"name\":\"Iran (Islamic Republic of)\"},{\"data\":[{\"hovertemplate\":\"Country=Sao Tome and Principe<br>Year=%{x}<br>Life expectancy =%{y}<extra></extra>\",\"ids\":[2000,2001,2002,2003,2004,2005,2006,2007,2008,2009,2010,2011,2012,2013,2014,2015],\"legendgroup\":\"Sao Tome and Principe\",\"line\":{\"color\":\"#EF553B\",\"dash\":\"solid\"},\"marker\":{\"symbol\":\"circle\"},\"mode\":\"lines+markers\",\"name\":\"Sao Tome and Principe\",\"orientation\":\"v\",\"showlegend\":true,\"x\":[2000,2001,2002,2003,2004,2005,2006,2007,2008,2009,2010,2011,2012,2013,2014,2015],\"xaxis\":\"x\",\"y\":[62.6,62.8,63.1,63.4,63.8,64.3,64.7,65.1,65.4,65.8,66.2,66.6,66.9,67.1,67.3,67.5],\"yaxis\":\"y\",\"type\":\"scatter\"}],\"name\":\"Sao Tome and Principe\"},{\"data\":[{\"hovertemplate\":\"Country=Tajikistan<br>Year=%{x}<br>Life expectancy =%{y}<extra></extra>\",\"ids\":[2000,2001,2002,2003,2004,2005,2006,2007,2008,2009,2010,2011,2012,2013,2014,2015],\"legendgroup\":\"Tajikistan\",\"line\":{\"color\":\"#00cc96\",\"dash\":\"solid\"},\"marker\":{\"symbol\":\"circle\"},\"mode\":\"lines+markers\",\"name\":\"Tajikistan\",\"orientation\":\"v\",\"showlegend\":true,\"x\":[2000,2001,2002,2003,2004,2005,2006,2007,2008,2009,2010,2011,2012,2013,2014,2015],\"xaxis\":\"x\",\"y\":[63.7,64.0,64.3,65.2,65.9,65.5,65.9,66.1,66.4,66.7,67.3,68.1,68.8,69.3,69.6,69.7],\"yaxis\":\"y\",\"type\":\"scatter\"}],\"name\":\"Tajikistan\"},{\"data\":[{\"hovertemplate\":\"Country=Bangladesh<br>Year=%{x}<br>Life expectancy =%{y}<extra></extra>\",\"ids\":[2000,2001,2002,2003,2004,2005,2006,2007,2008,2009,2010,2011,2012,2013,2014,2015],\"legendgroup\":\"Bangladesh\",\"line\":{\"color\":\"#ab63fa\",\"dash\":\"solid\"},\"marker\":{\"symbol\":\"circle\"},\"mode\":\"lines+markers\",\"name\":\"Bangladesh\",\"orientation\":\"v\",\"showlegend\":true,\"x\":[2000,2001,2002,2003,2004,2005,2006,2007,2008,2009,2010,2011,2012,2013,2014,2015],\"xaxis\":\"x\",\"y\":[65.3,65.8,66.3,66.8,67.3,67.8,68.2,68.6,69.1,69.5,69.9,73.0,77.0,71.0,71.4,71.8],\"yaxis\":\"y\",\"type\":\"scatter\"}],\"name\":\"Bangladesh\"},{\"data\":[{\"hovertemplate\":\"Country=Eritrea<br>Year=%{x}<br>Life expectancy =%{y}<extra></extra>\",\"ids\":[2000,2001,2002,2003,2004,2005,2006,2007,2008,2009,2010,2011,2012,2013,2014,2015],\"legendgroup\":\"Eritrea\",\"line\":{\"color\":\"#FFA15A\",\"dash\":\"solid\"},\"marker\":{\"symbol\":\"circle\"},\"mode\":\"lines+markers\",\"name\":\"Eritrea\",\"orientation\":\"v\",\"showlegend\":true,\"x\":[2000,2001,2002,2003,2004,2005,2006,2007,2008,2009,2010,2011,2012,2013,2014,2015],\"xaxis\":\"x\",\"y\":[45.3,58.1,58.5,58.8,59.1,59.4,59.7,62.0,67.0,61.4,62.1,62.9,63.6,64.0,64.4,64.7],\"yaxis\":\"y\",\"type\":\"scatter\"}],\"name\":\"Eritrea\"},{\"data\":[{\"hovertemplate\":\"Country=Sudan<br>Year=%{x}<br>Life expectancy =%{y}<extra></extra>\",\"ids\":[2000,2001,2002,2003,2004,2005,2006,2007,2008,2009,2010,2011,2012,2013,2014,2015],\"legendgroup\":\"Sudan\",\"line\":{\"color\":\"#19d3f3\",\"dash\":\"solid\"},\"marker\":{\"symbol\":\"circle\"},\"mode\":\"lines+markers\",\"name\":\"Sudan\",\"orientation\":\"v\",\"showlegend\":true,\"x\":[2000,2001,2002,2003,2004,2005,2006,2007,2008,2009,2010,2011,2012,2013,2014,2015],\"xaxis\":\"x\",\"y\":[58.6,58.9,59.4,59.6,59.7,67.0,61.0,61.4,61.8,62.0,62.5,62.7,63.2,63.5,63.8,64.1],\"yaxis\":\"y\",\"type\":\"scatter\"}],\"name\":\"Sudan\"},{\"data\":[{\"hovertemplate\":\"Country=Japan<br>Year=%{x}<br>Life expectancy =%{y}<extra></extra>\",\"ids\":[2000,2001,2002,2003,2004,2005,2006,2007,2008,2009,2010,2011,2012,2013,2014,2015],\"legendgroup\":\"Japan\",\"line\":{\"color\":\"#FF6692\",\"dash\":\"solid\"},\"marker\":{\"symbol\":\"circle\"},\"mode\":\"lines+markers\",\"name\":\"Japan\",\"orientation\":\"v\",\"showlegend\":true,\"x\":[2000,2001,2002,2003,2004,2005,2006,2007,2008,2009,2010,2011,2012,2013,2014,2015],\"xaxis\":\"x\",\"y\":[81.1,81.5,81.8,81.9,82.1,82.0,82.4,82.6,82.7,83.0,83.0,82.5,83.3,83.5,83.5,83.7],\"yaxis\":\"y\",\"type\":\"scatter\"}],\"name\":\"Japan\"},{\"data\":[{\"hovertemplate\":\"Country=Suriname<br>Year=%{x}<br>Life expectancy =%{y}<extra></extra>\",\"ids\":[2000,2001,2002,2003,2004,2005,2006,2007,2008,2009,2010,2011,2012,2013,2014,2015],\"legendgroup\":\"Suriname\",\"line\":{\"color\":\"#B6E880\",\"dash\":\"solid\"},\"marker\":{\"symbol\":\"circle\"},\"mode\":\"lines+markers\",\"name\":\"Suriname\",\"orientation\":\"v\",\"showlegend\":true,\"x\":[2000,2001,2002,2003,2004,2005,2006,2007,2008,2009,2010,2011,2012,2013,2014,2015],\"xaxis\":\"x\",\"y\":[67.4,67.7,67.9,68.0,68.3,68.9,69.3,69.5,69.8,70.0,73.0,76.0,71.3,71.2,71.4,71.6],\"yaxis\":\"y\",\"type\":\"scatter\"}],\"name\":\"Suriname\"},{\"data\":[{\"hovertemplate\":\"Country=Belarus<br>Year=%{x}<br>Life expectancy =%{y}<extra></extra>\",\"ids\":[2000,2001,2002,2003,2004,2005,2006,2007,2008,2009,2010,2011,2012,2013,2014,2015],\"legendgroup\":\"Belarus\",\"line\":{\"color\":\"#FF97FF\",\"dash\":\"solid\"},\"marker\":{\"symbol\":\"circle\"},\"mode\":\"lines+markers\",\"name\":\"Belarus\",\"orientation\":\"v\",\"showlegend\":true,\"x\":[2000,2001,2002,2003,2004,2005,2006,2007,2008,2009,2010,2011,2012,2013,2014,2015],\"xaxis\":\"x\",\"y\":[68.0,67.7,67.2,67.7,68.2,68.1,68.9,69.8,70.0,70.0,73.0,72.0,71.9,71.7,72.0,72.3],\"yaxis\":\"y\",\"type\":\"scatter\"}],\"name\":\"Belarus\"},{\"data\":[{\"hovertemplate\":\"Country=Jamaica<br>Year=%{x}<br>Life expectancy =%{y}<extra></extra>\",\"ids\":[2000,2001,2002,2003,2004,2005,2006,2007,2008,2009,2010,2011,2012,2013,2014,2015],\"legendgroup\":\"Jamaica\",\"line\":{\"color\":\"#FECB52\",\"dash\":\"solid\"},\"marker\":{\"symbol\":\"circle\"},\"mode\":\"lines+markers\",\"name\":\"Jamaica\",\"orientation\":\"v\",\"showlegend\":true,\"x\":[2000,2001,2002,2003,2004,2005,2006,2007,2008,2009,2010,2011,2012,2013,2014,2015],\"xaxis\":\"x\",\"y\":[72.6,72.7,73.0,73.1,73.3,73.5,74.0,74.2,74.5,74.7,75.0,75.2,75.3,75.6,75.8,76.2],\"yaxis\":\"y\",\"type\":\"scatter\"}],\"name\":\"Jamaica\"},{\"data\":[{\"hovertemplate\":\"Country=Ethiopia<br>Year=%{x}<br>Life expectancy =%{y}<extra></extra>\",\"ids\":[2000,2001,2002,2003,2004,2005,2006,2007,2008,2009,2010,2011,2012,2013,2014,2015],\"legendgroup\":\"Ethiopia\",\"line\":{\"color\":\"#636efa\",\"dash\":\"solid\"},\"marker\":{\"symbol\":\"circle\"},\"mode\":\"lines+markers\",\"name\":\"Ethiopia\",\"orientation\":\"v\",\"showlegend\":true,\"x\":[2000,2001,2002,2003,2004,2005,2006,2007,2008,2009,2010,2011,2012,2013,2014,2015],\"xaxis\":\"x\",\"y\":[51.2,52.5,53.2,54.0,55.0,56.0,57.2,58.5,59.8,68.0,61.8,62.6,63.3,63.7,64.2,64.8],\"yaxis\":\"y\",\"type\":\"scatter\"}],\"name\":\"Ethiopia\"},{\"data\":[{\"hovertemplate\":\"Country=Swaziland<br>Year=%{x}<br>Life expectancy =%{y}<extra></extra>\",\"ids\":[2000,2001,2002,2003,2004,2005,2006,2007,2008,2009,2010,2011,2012,2013,2014,2015],\"legendgroup\":\"Swaziland\",\"line\":{\"color\":\"#EF553B\",\"dash\":\"solid\"},\"marker\":{\"symbol\":\"circle\"},\"mode\":\"lines+markers\",\"name\":\"Swaziland\",\"orientation\":\"v\",\"showlegend\":true,\"x\":[2000,2001,2002,2003,2004,2005,2006,2007,2008,2009,2010,2011,2012,2013,2014,2015],\"xaxis\":\"x\",\"y\":[48.4,47.1,46.4,45.9,45.6,46.0,47.8,50.0,51.4,52.6,53.6,55.0,56.5,57.6,58.4,58.9],\"yaxis\":\"y\",\"type\":\"scatter\"}],\"name\":\"Swaziland\"},{\"data\":[{\"hovertemplate\":\"Country=Sweden<br>Year=%{x}<br>Life expectancy =%{y}<extra></extra>\",\"ids\":[2000,2001,2002,2003,2004,2005,2006,2007,2008,2009,2010,2011,2012,2013,2014,2015],\"legendgroup\":\"Sweden\",\"line\":{\"color\":\"#00cc96\",\"dash\":\"solid\"},\"marker\":{\"symbol\":\"circle\"},\"mode\":\"lines+markers\",\"name\":\"Sweden\",\"orientation\":\"v\",\"showlegend\":true,\"x\":[2000,2001,2002,2003,2004,2005,2006,2007,2008,2009,2010,2011,2012,2013,2014,2015],\"xaxis\":\"x\",\"y\":[79.6,79.8,79.9,82.0,83.0,85.0,88.0,89.0,81.1,81.4,81.5,81.7,81.7,81.9,82.3,82.4],\"yaxis\":\"y\",\"type\":\"scatter\"}],\"name\":\"Sweden\"},{\"data\":[{\"hovertemplate\":\"Country=Barbados<br>Year=%{x}<br>Life expectancy =%{y}<extra></extra>\",\"ids\":[2000,2001,2002,2003,2004,2005,2006,2007,2008,2009,2010,2011,2012,2013,2014,2015],\"legendgroup\":\"Barbados\",\"line\":{\"color\":\"#ab63fa\",\"dash\":\"solid\"},\"marker\":{\"symbol\":\"circle\"},\"mode\":\"lines+markers\",\"name\":\"Barbados\",\"orientation\":\"v\",\"showlegend\":true,\"x\":[2000,2001,2002,2003,2004,2005,2006,2007,2008,2009,2010,2011,2012,2013,2014,2015],\"xaxis\":\"x\",\"y\":[73.3,73.4,73.5,73.7,73.8,73.9,74.1,74.2,74.4,74.6,74.7,74.9,75.1,75.2,75.4,75.5],\"yaxis\":\"y\",\"type\":\"scatter\"}],\"name\":\"Barbados\"},{\"data\":[{\"hovertemplate\":\"Country=Italy<br>Year=%{x}<br>Life expectancy =%{y}<extra></extra>\",\"ids\":[2000,2001,2002,2003,2004,2005,2006,2007,2008,2009,2010,2011,2012,2013,2014,2015],\"legendgroup\":\"Italy\",\"line\":{\"color\":\"#FFA15A\",\"dash\":\"solid\"},\"marker\":{\"symbol\":\"circle\"},\"mode\":\"lines+markers\",\"name\":\"Italy\",\"orientation\":\"v\",\"showlegend\":true,\"x\":[2000,2001,2002,2003,2004,2005,2006,2007,2008,2009,2010,2011,2012,2013,2014,2015],\"xaxis\":\"x\",\"y\":[79.4,79.8,80.0,79.9,89.0,88.0,81.2,81.3,81.5,81.6,81.8,82.0,82.0,82.3,82.5,82.7],\"yaxis\":\"y\",\"type\":\"scatter\"}],\"name\":\"Italy\"},{\"data\":[{\"hovertemplate\":\"Country=Switzerland<br>Year=%{x}<br>Life expectancy =%{y}<extra></extra>\",\"ids\":[2000,2001,2002,2003,2004,2005,2006,2007,2008,2009,2010,2011,2012,2013,2014,2015],\"legendgroup\":\"Switzerland\",\"line\":{\"color\":\"#19d3f3\",\"dash\":\"solid\"},\"marker\":{\"symbol\":\"circle\"},\"mode\":\"lines+markers\",\"name\":\"Switzerland\",\"orientation\":\"v\",\"showlegend\":true,\"x\":[2000,2001,2002,2003,2004,2005,2006,2007,2008,2009,2010,2011,2012,2013,2014,2015],\"xaxis\":\"x\",\"y\":[79.7,82.0,84.0,85.0,81.0,81.1,81.5,81.7,82.0,82.1,82.3,82.6,82.7,83.0,83.2,83.4],\"yaxis\":\"y\",\"type\":\"scatter\"}],\"name\":\"Switzerland\"},{\"data\":[{\"hovertemplate\":\"Country=Israel<br>Year=%{x}<br>Life expectancy =%{y}<extra></extra>\",\"ids\":[2000,2001,2002,2003,2004,2005,2006,2007,2008,2009,2010,2011,2012,2013,2014,2015],\"legendgroup\":\"Israel\",\"line\":{\"color\":\"#FF6692\",\"dash\":\"solid\"},\"marker\":{\"symbol\":\"circle\"},\"mode\":\"lines+markers\",\"name\":\"Israel\",\"orientation\":\"v\",\"showlegend\":true,\"x\":[2000,2001,2002,2003,2004,2005,2006,2007,2008,2009,2010,2011,2012,2013,2014,2015],\"xaxis\":\"x\",\"y\":[78.9,79.3,79.3,79.7,81.0,80.0,84.0,84.0,81.0,81.5,81.7,81.8,81.8,82.1,82.2,82.5],\"yaxis\":\"y\",\"type\":\"scatter\"}],\"name\":\"Israel\"},{\"data\":[{\"hovertemplate\":\"Country=Syrian Arab Republic<br>Year=%{x}<br>Life expectancy =%{y}<extra></extra>\",\"ids\":[2000,2001,2002,2003,2004,2005,2006,2007,2008,2009,2010,2011,2012,2013,2014,2015],\"legendgroup\":\"Syrian Arab Republic\",\"line\":{\"color\":\"#B6E880\",\"dash\":\"solid\"},\"marker\":{\"symbol\":\"circle\"},\"mode\":\"lines+markers\",\"name\":\"Syrian Arab Republic\",\"orientation\":\"v\",\"showlegend\":true,\"x\":[2000,2001,2002,2003,2004,2005,2006,2007,2008,2009,2010,2011,2012,2013,2014,2015],\"xaxis\":\"x\",\"y\":[72.6,72.7,72.8,73.0,73.2,73.5,73.7,73.8,73.8,73.8,73.7,71.7,62.8,63.6,64.4,64.5],\"yaxis\":\"y\",\"type\":\"scatter\"}],\"name\":\"Syrian Arab Republic\"},{\"data\":[{\"hovertemplate\":\"Country=Estonia<br>Year=%{x}<br>Life expectancy =%{y}<extra></extra>\",\"ids\":[2000,2001,2002,2003,2004,2005,2006,2007,2008,2009,2010,2011,2012,2013,2014,2015],\"legendgroup\":\"Estonia\",\"line\":{\"color\":\"#FF97FF\",\"dash\":\"solid\"},\"marker\":{\"symbol\":\"circle\"},\"mode\":\"lines+markers\",\"name\":\"Estonia\",\"orientation\":\"v\",\"showlegend\":true,\"x\":[2000,2001,2002,2003,2004,2005,2006,2007,2008,2009,2010,2011,2012,2013,2014,2015],\"xaxis\":\"x\",\"y\":[78.0,78.0,71.2,71.9,72.3,72.8,73.0,73.0,74.2,74.9,75.6,76.1,76.3,76.9,77.3,77.6],\"yaxis\":\"y\",\"type\":\"scatter\"}],\"name\":\"Estonia\"},{\"data\":[{\"hovertemplate\":\"Country=Brunei Darussalam<br>Year=%{x}<br>Life expectancy =%{y}<extra></extra>\",\"ids\":[2000,2001,2002,2003,2004,2005,2006,2007,2008,2009,2010,2011,2012,2013,2014,2015],\"legendgroup\":\"Brunei Darussalam\",\"line\":{\"color\":\"#FECB52\",\"dash\":\"solid\"},\"marker\":{\"symbol\":\"circle\"},\"mode\":\"lines+markers\",\"name\":\"Brunei Darussalam\",\"orientation\":\"v\",\"showlegend\":true,\"x\":[2000,2001,2002,2003,2004,2005,2006,2007,2008,2009,2010,2011,2012,2013,2014,2015],\"xaxis\":\"x\",\"y\":[74.4,74.7,74.8,76.0,76.4,76.2,76.3,76.0,77.2,76.8,76.9,77.4,78.3,77.1,77.6,77.7],\"yaxis\":\"y\",\"type\":\"scatter\"}],\"name\":\"Brunei Darussalam\"},{\"data\":[{\"hovertemplate\":\"Country=Lesotho<br>Year=%{x}<br>Life expectancy =%{y}<extra></extra>\",\"ids\":[2000,2001,2002,2003,2004,2005,2006,2007,2008,2009,2010,2011,2012,2013,2014,2015],\"legendgroup\":\"Lesotho\",\"line\":{\"color\":\"#636efa\",\"dash\":\"solid\"},\"marker\":{\"symbol\":\"circle\"},\"mode\":\"lines+markers\",\"name\":\"Lesotho\",\"orientation\":\"v\",\"showlegend\":true,\"x\":[2000,2001,2002,2003,2004,2005,2006,2007,2008,2009,2010,2011,2012,2013,2014,2015],\"xaxis\":\"x\",\"y\":[49.3,47.8,46.4,45.5,44.8,44.5,45.3,46.2,47.8,49.4,51.1,52.3,52.2,52.1,52.1,53.7],\"yaxis\":\"y\",\"type\":\"scatter\"}],\"name\":\"Lesotho\"},{\"data\":[{\"hovertemplate\":\"Country=Samoa<br>Year=%{x}<br>Life expectancy =%{y}<extra></extra>\",\"ids\":[2000,2001,2002,2003,2004,2005,2006,2007,2008,2009,2010,2011,2012,2013,2014,2015],\"legendgroup\":\"Samoa\",\"line\":{\"color\":\"#EF553B\",\"dash\":\"solid\"},\"marker\":{\"symbol\":\"circle\"},\"mode\":\"lines+markers\",\"name\":\"Samoa\",\"orientation\":\"v\",\"showlegend\":true,\"x\":[2000,2001,2002,2003,2004,2005,2006,2007,2008,2009,2010,2011,2012,2013,2014,2015],\"xaxis\":\"x\",\"y\":[72.0,75.0,76.0,79.0,71.4,71.6,72.0,72.2,72.5,76.0,72.6,73.0,73.2,73.6,73.8,74.0],\"yaxis\":\"y\",\"type\":\"scatter\"}],\"name\":\"Samoa\"},{\"data\":[{\"hovertemplate\":\"Country=Chile<br>Year=%{x}<br>Life expectancy =%{y}<extra></extra>\",\"ids\":[2000,2001,2002,2003,2004,2005,2006,2007,2008,2009,2010,2011,2012,2013,2014,2015],\"legendgroup\":\"Chile\",\"line\":{\"color\":\"#00cc96\",\"dash\":\"solid\"},\"marker\":{\"symbol\":\"circle\"},\"mode\":\"lines+markers\",\"name\":\"Chile\",\"orientation\":\"v\",\"showlegend\":true,\"x\":[2000,2001,2002,2003,2004,2005,2006,2007,2008,2009,2010,2011,2012,2013,2014,2015],\"xaxis\":\"x\",\"y\":[77.3,77.3,77.8,77.9,78.0,78.4,78.9,78.9,79.6,79.3,79.1,79.8,79.9,81.0,83.0,85.0],\"yaxis\":\"y\",\"type\":\"scatter\"}],\"name\":\"Chile\"},{\"data\":[{\"hovertemplate\":\"Country=Mexico<br>Year=%{x}<br>Life expectancy =%{y}<extra></extra>\",\"ids\":[2000,2001,2002,2003,2004,2005,2006,2007,2008,2009,2010,2011,2012,2013,2014,2015],\"legendgroup\":\"Mexico\",\"line\":{\"color\":\"#ab63fa\",\"dash\":\"solid\"},\"marker\":{\"symbol\":\"circle\"},\"mode\":\"lines+markers\",\"name\":\"Mexico\",\"orientation\":\"v\",\"showlegend\":true,\"x\":[2000,2001,2002,2003,2004,2005,2006,2007,2008,2009,2010,2011,2012,2013,2014,2015],\"xaxis\":\"x\",\"y\":[74.8,75.0,75.0,75.0,75.4,75.3,75.8,76.0,75.6,75.7,75.6,76.1,76.3,76.6,76.6,76.7],\"yaxis\":\"y\",\"type\":\"scatter\"}],\"name\":\"Mexico\"},{\"data\":[{\"hovertemplate\":\"Country=Nigeria<br>Year=%{x}<br>Life expectancy =%{y}<extra></extra>\",\"ids\":[2000,2001,2002,2003,2004,2005,2006,2007,2008,2009,2010,2011,2012,2013,2014,2015],\"legendgroup\":\"Nigeria\",\"line\":{\"color\":\"#FFA15A\",\"dash\":\"solid\"},\"marker\":{\"symbol\":\"circle\"},\"mode\":\"lines+markers\",\"name\":\"Nigeria\",\"orientation\":\"v\",\"showlegend\":true,\"x\":[2000,2001,2002,2003,2004,2005,2006,2007,2008,2009,2010,2011,2012,2013,2014,2015],\"xaxis\":\"x\",\"y\":[47.1,47.4,47.7,48.1,48.5,49.2,49.8,55.0,59.0,51.6,52.0,52.3,52.7,53.2,53.6,54.5],\"yaxis\":\"y\",\"type\":\"scatter\"}],\"name\":\"Nigeria\"},{\"data\":[{\"hovertemplate\":\"Country=Norway<br>Year=%{x}<br>Life expectancy =%{y}<extra></extra>\",\"ids\":[2000,2001,2002,2003,2004,2005,2006,2007,2008,2009,2010,2011,2012,2013,2014,2015],\"legendgroup\":\"Norway\",\"line\":{\"color\":\"#19d3f3\",\"dash\":\"solid\"},\"marker\":{\"symbol\":\"circle\"},\"mode\":\"lines+markers\",\"name\":\"Norway\",\"orientation\":\"v\",\"showlegend\":true,\"x\":[2000,2001,2002,2003,2004,2005,2006,2007,2008,2009,2010,2011,2012,2013,2014,2015],\"xaxis\":\"x\",\"y\":[78.5,78.8,78.9,79.4,79.8,81.0,84.0,85.0,86.0,89.0,81.0,81.1,81.3,81.5,81.6,81.8],\"yaxis\":\"y\",\"type\":\"scatter\"}],\"name\":\"Norway\"},{\"data\":[{\"hovertemplate\":\"Country=Cuba<br>Year=%{x}<br>Life expectancy =%{y}<extra></extra>\",\"ids\":[2000,2001,2002,2003,2004,2005,2006,2007,2008,2009,2010,2011,2012,2013,2014,2015],\"legendgroup\":\"Cuba\",\"line\":{\"color\":\"#FF6692\",\"dash\":\"solid\"},\"marker\":{\"symbol\":\"circle\"},\"mode\":\"lines+markers\",\"name\":\"Cuba\",\"orientation\":\"v\",\"showlegend\":true,\"x\":[2000,2001,2002,2003,2004,2005,2006,2007,2008,2009,2010,2011,2012,2013,2014,2015],\"xaxis\":\"x\",\"y\":[76.9,76.7,77.7,77.4,77.3,77.2,78.0,78.1,77.9,78.1,78.0,78.8,78.7,78.7,79.0,79.1],\"yaxis\":\"y\",\"type\":\"scatter\"}],\"name\":\"Cuba\"},{\"data\":[{\"hovertemplate\":\"Country=Chad<br>Year=%{x}<br>Life expectancy =%{y}<extra></extra>\",\"ids\":[2000,2001,2002,2003,2004,2005,2006,2007,2008,2009,2010,2011,2012,2013,2014,2015],\"legendgroup\":\"Chad\",\"line\":{\"color\":\"#B6E880\",\"dash\":\"solid\"},\"marker\":{\"symbol\":\"circle\"},\"mode\":\"lines+markers\",\"name\":\"Chad\",\"orientation\":\"v\",\"showlegend\":true,\"x\":[2000,2001,2002,2003,2004,2005,2006,2007,2008,2009,2010,2011,2012,2013,2014,2015],\"xaxis\":\"x\",\"y\":[47.6,48.0,48.1,48.4,48.5,48.6,48.5,49.4,49.6,57.0,51.2,51.6,51.8,52.2,52.6,53.1],\"yaxis\":\"y\",\"type\":\"scatter\"}],\"name\":\"Chad\"},{\"data\":[{\"hovertemplate\":\"Country=Micronesia (Federated States of)<br>Year=%{x}<br>Life expectancy =%{y}<extra></extra>\",\"ids\":[2000,2001,2002,2003,2004,2005,2006,2007,2008,2009,2010,2011,2012,2013,2014,2015],\"legendgroup\":\"Micronesia (Federated States of)\",\"line\":{\"color\":\"#FF97FF\",\"dash\":\"solid\"},\"marker\":{\"symbol\":\"circle\"},\"mode\":\"lines+markers\",\"name\":\"Micronesia (Federated States of)\",\"orientation\":\"v\",\"showlegend\":true,\"x\":[2000,2001,2002,2003,2004,2005,2006,2007,2008,2009,2010,2011,2012,2013,2014,2015],\"xaxis\":\"x\",\"y\":[67.0,67.2,66.2,67.5,67.7,67.9,68.0,68.2,68.4,68.5,68.7,68.9,69.0,69.2,69.4,69.4],\"yaxis\":\"y\",\"type\":\"scatter\"}],\"name\":\"Micronesia (Federated States of)\"},{\"data\":[{\"hovertemplate\":\"Country=Mauritius<br>Year=%{x}<br>Life expectancy =%{y}<extra></extra>\",\"ids\":[2000,2001,2002,2003,2004,2005,2006,2007,2008,2009,2010,2011,2012,2013,2014,2015],\"legendgroup\":\"Mauritius\",\"line\":{\"color\":\"#FECB52\",\"dash\":\"solid\"},\"marker\":{\"symbol\":\"circle\"},\"mode\":\"lines+markers\",\"name\":\"Mauritius\",\"orientation\":\"v\",\"showlegend\":true,\"x\":[2000,2001,2002,2003,2004,2005,2006,2007,2008,2009,2010,2011,2012,2013,2014,2015],\"xaxis\":\"x\",\"y\":[71.0,71.5,71.5,71.5,71.9,72.1,71.8,72.9,72.7,72.8,73.3,73.6,73.9,74.1,74.2,74.6],\"yaxis\":\"y\",\"type\":\"scatter\"}],\"name\":\"Mauritius\"},{\"data\":[{\"hovertemplate\":\"Country=Pakistan<br>Year=%{x}<br>Life expectancy =%{y}<extra></extra>\",\"ids\":[2000,2001,2002,2003,2004,2005,2006,2007,2008,2009,2010,2011,2012,2013,2014,2015],\"legendgroup\":\"Pakistan\",\"line\":{\"color\":\"#636efa\",\"dash\":\"solid\"},\"marker\":{\"symbol\":\"circle\"},\"mode\":\"lines+markers\",\"name\":\"Pakistan\",\"orientation\":\"v\",\"showlegend\":true,\"x\":[2000,2001,2002,2003,2004,2005,2006,2007,2008,2009,2010,2011,2012,2013,2014,2015],\"xaxis\":\"x\",\"y\":[62.8,63.0,63.2,63.5,63.7,62.9,64.2,64.4,64.6,64.8,65.1,65.5,65.7,66.0,66.2,66.4],\"yaxis\":\"y\",\"type\":\"scatter\"}],\"name\":\"Pakistan\"},{\"data\":[{\"hovertemplate\":\"Country=Mauritania<br>Year=%{x}<br>Life expectancy =%{y}<extra></extra>\",\"ids\":[2000,2001,2002,2003,2004,2005,2006,2007,2008,2009,2010,2011,2012,2013,2014,2015],\"legendgroup\":\"Mauritania\",\"line\":{\"color\":\"#EF553B\",\"dash\":\"solid\"},\"marker\":{\"symbol\":\"circle\"},\"mode\":\"lines+markers\",\"name\":\"Mauritania\",\"orientation\":\"v\",\"showlegend\":true,\"x\":[2000,2001,2002,2003,2004,2005,2006,2007,2008,2009,2010,2011,2012,2013,2014,2015],\"xaxis\":\"x\",\"y\":[60.0,61.0,62.0,63.0,64.0,66.0,69.0,61.2,61.4,61.7,62.0,62.2,62.5,62.7,63.0,63.1],\"yaxis\":\"y\",\"type\":\"scatter\"}],\"name\":\"Mauritania\"},{\"data\":[{\"hovertemplate\":\"Country=Central African Republic<br>Year=%{x}<br>Life expectancy =%{y}<extra></extra>\",\"ids\":[2000,2001,2002,2003,2004,2005,2006,2007,2008,2009,2010,2011,2012,2013,2014,2015],\"legendgroup\":\"Central African Republic\",\"line\":{\"color\":\"#00cc96\",\"dash\":\"solid\"},\"marker\":{\"symbol\":\"circle\"},\"mode\":\"lines+markers\",\"name\":\"Central African Republic\",\"orientation\":\"v\",\"showlegend\":true,\"x\":[2000,2001,2002,2003,2004,2005,2006,2007,2008,2009,2010,2011,2012,2013,2014,2015],\"xaxis\":\"x\",\"y\":[46.0,45.6,45.6,45.7,45.7,45.9,46.3,46.8,47.6,48.6,49.2,49.8,53.0,49.9,58.0,52.5],\"yaxis\":\"y\",\"type\":\"scatter\"}],\"name\":\"Central African Republic\"},{\"data\":[{\"hovertemplate\":\"Country=Cyprus<br>Year=%{x}<br>Life expectancy =%{y}<extra></extra>\",\"ids\":[2000,2001,2002,2003,2004,2005,2006,2007,2008,2009,2010,2011,2012,2013,2014,2015],\"legendgroup\":\"Cyprus\",\"line\":{\"color\":\"#ab63fa\",\"dash\":\"solid\"},\"marker\":{\"symbol\":\"circle\"},\"mode\":\"lines+markers\",\"name\":\"Cyprus\",\"orientation\":\"v\",\"showlegend\":true,\"x\":[2000,2001,2002,2003,2004,2005,2006,2007,2008,2009,2010,2011,2012,2013,2014,2015],\"xaxis\":\"x\",\"y\":[78.1,78.2,78.4,78.5,78.6,78.7,78.8,78.9,79.1,79.3,79.5,79.7,80.0,81.0,83.0,85.0],\"yaxis\":\"y\",\"type\":\"scatter\"}],\"name\":\"Cyprus\"},{\"data\":[{\"hovertemplate\":\"Country=Panama<br>Year=%{x}<br>Life expectancy =%{y}<extra></extra>\",\"ids\":[2000,2001,2002,2003,2004,2005,2006,2007,2008,2009,2010,2011,2012,2013,2014,2015],\"legendgroup\":\"Panama\",\"line\":{\"color\":\"#FFA15A\",\"dash\":\"solid\"},\"marker\":{\"symbol\":\"circle\"},\"mode\":\"lines+markers\",\"name\":\"Panama\",\"orientation\":\"v\",\"showlegend\":true,\"x\":[2000,2001,2002,2003,2004,2005,2006,2007,2008,2009,2010,2011,2012,2013,2014,2015],\"xaxis\":\"x\",\"y\":[75.7,75.5,75.7,75.5,75.8,75.8,76.2,76.4,76.5,76.8,76.5,77.3,77.2,77.5,77.6,77.8],\"yaxis\":\"y\",\"type\":\"scatter\"}],\"name\":\"Panama\"},{\"data\":[{\"hovertemplate\":\"Country=Papua New Guinea<br>Year=%{x}<br>Life expectancy =%{y}<extra></extra>\",\"ids\":[2000,2001,2002,2003,2004,2005,2006,2007,2008,2009,2010,2011,2012,2013,2014,2015],\"legendgroup\":\"Papua New Guinea\",\"line\":{\"color\":\"#19d3f3\",\"dash\":\"solid\"},\"marker\":{\"symbol\":\"circle\"},\"mode\":\"lines+markers\",\"name\":\"Papua New Guinea\",\"orientation\":\"v\",\"showlegend\":true,\"x\":[2000,2001,2002,2003,2004,2005,2006,2007,2008,2009,2010,2011,2012,2013,2014,2015],\"xaxis\":\"x\",\"y\":[58.9,59.1,59.3,59.6,59.9,64.0,68.0,61.1,61.4,61.6,61.8,62.0,62.2,62.4,62.7,62.9],\"yaxis\":\"y\",\"type\":\"scatter\"}],\"name\":\"Papua New Guinea\"},{\"data\":[{\"hovertemplate\":\"Country=Oman<br>Year=%{x}<br>Life expectancy =%{y}<extra></extra>\",\"ids\":[2000,2001,2002,2003,2004,2005,2006,2007,2008,2009,2010,2011,2012,2013,2014,2015],\"legendgroup\":\"Oman\",\"line\":{\"color\":\"#FF6692\",\"dash\":\"solid\"},\"marker\":{\"symbol\":\"circle\"},\"mode\":\"lines+markers\",\"name\":\"Oman\",\"orientation\":\"v\",\"showlegend\":true,\"x\":[2000,2001,2002,2003,2004,2005,2006,2007,2008,2009,2010,2011,2012,2013,2014,2015],\"xaxis\":\"x\",\"y\":[72.6,72.9,73.3,73.6,74.0,74.3,74.7,74.9,75.2,75.4,75.6,75.8,76.0,76.2,76.4,76.6],\"yaxis\":\"y\",\"type\":\"scatter\"}],\"name\":\"Oman\"},{\"data\":[{\"hovertemplate\":\"Country=Malta<br>Year=%{x}<br>Life expectancy =%{y}<extra></extra>\",\"ids\":[2000,2001,2002,2003,2004,2005,2006,2007,2008,2009,2010,2011,2012,2013,2014,2015],\"legendgroup\":\"Malta\",\"line\":{\"color\":\"#B6E880\",\"dash\":\"solid\"},\"marker\":{\"symbol\":\"circle\"},\"mode\":\"lines+markers\",\"name\":\"Malta\",\"orientation\":\"v\",\"showlegend\":true,\"x\":[2000,2001,2002,2003,2004,2005,2006,2007,2008,2009,2010,2011,2012,2013,2014,2015],\"xaxis\":\"x\",\"y\":[77.5,77.8,78.2,78.5,78.7,79.0,79.3,79.6,80.0,82.0,83.0,87.0,81.0,81.1,81.4,81.7],\"yaxis\":\"y\",\"type\":\"scatter\"}],\"name\":\"Malta\"},{\"data\":[{\"hovertemplate\":\"Country=Niger<br>Year=%{x}<br>Life expectancy =%{y}<extra></extra>\",\"ids\":[2000,2001,2002,2003,2004,2005,2006,2007,2008,2009,2010,2011,2012,2013,2014,2015],\"legendgroup\":\"Niger\",\"line\":{\"color\":\"#FF97FF\",\"dash\":\"solid\"},\"marker\":{\"symbol\":\"circle\"},\"mode\":\"lines+markers\",\"name\":\"Niger\",\"orientation\":\"v\",\"showlegend\":true,\"x\":[2000,2001,2002,2003,2004,2005,2006,2007,2008,2009,2010,2011,2012,2013,2014,2015],\"xaxis\":\"x\",\"y\":[50.0,56.0,51.4,52.1,52.9,53.7,54.5,55.2,56.0,57.1,58.2,59.4,63.0,69.0,61.4,61.8],\"yaxis\":\"y\",\"type\":\"scatter\"}],\"name\":\"Niger\"},{\"data\":[{\"hovertemplate\":\"Country=Nicaragua<br>Year=%{x}<br>Life expectancy =%{y}<extra></extra>\",\"ids\":[2000,2001,2002,2003,2004,2005,2006,2007,2008,2009,2010,2011,2012,2013,2014,2015],\"legendgroup\":\"Nicaragua\",\"line\":{\"color\":\"#FECB52\",\"dash\":\"solid\"},\"marker\":{\"symbol\":\"circle\"},\"mode\":\"lines+markers\",\"name\":\"Nicaragua\",\"orientation\":\"v\",\"showlegend\":true,\"x\":[2000,2001,2002,2003,2004,2005,2006,2007,2008,2009,2010,2011,2012,2013,2014,2015],\"xaxis\":\"x\",\"y\":[73.0,73.0,75.0,76.0,71.0,71.2,73.0,72.5,72.5,73.2,73.2,74.5,73.9,73.9,74.5,74.8],\"yaxis\":\"y\",\"type\":\"scatter\"}],\"name\":\"Nicaragua\"},{\"data\":[{\"hovertemplate\":\"Country=Congo<br>Year=%{x}<br>Life expectancy =%{y}<extra></extra>\",\"ids\":[2000,2001,2002,2003,2004,2005,2006,2007,2008,2009,2010,2011,2012,2013,2014,2015],\"legendgroup\":\"Congo\",\"line\":{\"color\":\"#636efa\",\"dash\":\"solid\"},\"marker\":{\"symbol\":\"circle\"},\"mode\":\"lines+markers\",\"name\":\"Congo\",\"orientation\":\"v\",\"showlegend\":true,\"x\":[2000,2001,2002,2003,2004,2005,2006,2007,2008,2009,2010,2011,2012,2013,2014,2015],\"xaxis\":\"x\",\"y\":[52.9,52.7,52.6,53.2,54.1,55.3,56.9,58.2,59.4,68.0,62.0,62.9,63.7,63.9,64.2,64.7],\"yaxis\":\"y\",\"type\":\"scatter\"}],\"name\":\"Congo\"},{\"data\":[{\"hovertemplate\":\"Country=Myanmar<br>Year=%{x}<br>Life expectancy =%{y}<extra></extra>\",\"ids\":[2000,2001,2002,2003,2004,2005,2006,2007,2008,2009,2010,2011,2012,2013,2014,2015],\"legendgroup\":\"Myanmar\",\"line\":{\"color\":\"#EF553B\",\"dash\":\"solid\"},\"marker\":{\"symbol\":\"circle\"},\"mode\":\"lines+markers\",\"name\":\"Myanmar\",\"orientation\":\"v\",\"showlegend\":true,\"x\":[2000,2001,2002,2003,2004,2005,2006,2007,2008,2009,2010,2011,2012,2013,2014,2015],\"xaxis\":\"x\",\"y\":[62.1,62.5,62.8,63.2,63.5,63.9,64.2,64.5,59.2,65.2,65.4,65.6,65.9,66.2,66.4,66.6],\"yaxis\":\"y\",\"type\":\"scatter\"}],\"name\":\"Myanmar\"},{\"data\":[{\"hovertemplate\":\"Country=Mozambique<br>Year=%{x}<br>Life expectancy =%{y}<extra></extra>\",\"ids\":[2000,2001,2002,2003,2004,2005,2006,2007,2008,2009,2010,2011,2012,2013,2014,2015],\"legendgroup\":\"Mozambique\",\"line\":{\"color\":\"#00cc96\",\"dash\":\"solid\"},\"marker\":{\"symbol\":\"circle\"},\"mode\":\"lines+markers\",\"name\":\"Mozambique\",\"orientation\":\"v\",\"showlegend\":true,\"x\":[2000,2001,2002,2003,2004,2005,2006,2007,2008,2009,2010,2011,2012,2013,2014,2015],\"xaxis\":\"x\",\"y\":[49.0,49.5,49.8,51.0,54.0,58.0,51.2,52.1,53.2,53.8,54.0,54.3,54.8,55.3,56.7,57.6],\"yaxis\":\"y\",\"type\":\"scatter\"}],\"name\":\"Mozambique\"},{\"data\":[{\"hovertemplate\":\"Country=Namibia<br>Year=%{x}<br>Life expectancy =%{y}<extra></extra>\",\"ids\":[2000,2001,2002,2003,2004,2005,2006,2007,2008,2009,2010,2011,2012,2013,2014,2015],\"legendgroup\":\"Namibia\",\"line\":{\"color\":\"#ab63fa\",\"dash\":\"solid\"},\"marker\":{\"symbol\":\"circle\"},\"mode\":\"lines+markers\",\"name\":\"Namibia\",\"orientation\":\"v\",\"showlegend\":true,\"x\":[2000,2001,2002,2003,2004,2005,2006,2007,2008,2009,2010,2011,2012,2013,2014,2015],\"xaxis\":\"x\",\"y\":[57.4,56.5,55.7,55.0,54.7,55.1,57.0,60.0,61.7,62.4,63.0,64.3,65.8,66.1,65.9,65.8],\"yaxis\":\"y\",\"type\":\"scatter\"}],\"name\":\"Namibia\"},{\"data\":[{\"hovertemplate\":\"Country=Comoros<br>Year=%{x}<br>Life expectancy =%{y}<extra></extra>\",\"ids\":[2000,2001,2002,2003,2004,2005,2006,2007,2008,2009,2010,2011,2012,2013,2014,2015],\"legendgroup\":\"Comoros\",\"line\":{\"color\":\"#FFA15A\",\"dash\":\"solid\"},\"marker\":{\"symbol\":\"circle\"},\"mode\":\"lines+markers\",\"name\":\"Comoros\",\"orientation\":\"v\",\"showlegend\":true,\"x\":[2000,2001,2002,2003,2004,2005,2006,2007,2008,2009,2010,2011,2012,2013,2014,2015],\"xaxis\":\"x\",\"y\":[59.5,59.5,59.5,59.6,59.8,60.0,63.0,66.0,61.0,61.3,61.8,62.2,62.5,62.9,63.2,63.5],\"yaxis\":\"y\",\"type\":\"scatter\"}],\"name\":\"Comoros\"},{\"data\":[{\"hovertemplate\":\"Country=Morocco<br>Year=%{x}<br>Life expectancy =%{y}<extra></extra>\",\"ids\":[2000,2001,2002,2003,2004,2005,2006,2007,2008,2009,2010,2011,2012,2013,2014,2015],\"legendgroup\":\"Morocco\",\"line\":{\"color\":\"#19d3f3\",\"dash\":\"solid\"},\"marker\":{\"symbol\":\"circle\"},\"mode\":\"lines+markers\",\"name\":\"Morocco\",\"orientation\":\"v\",\"showlegend\":true,\"x\":[2000,2001,2002,2003,2004,2005,2006,2007,2008,2009,2010,2011,2012,2013,2014,2015],\"xaxis\":\"x\",\"y\":[68.6,69.0,69.5,69.9,72.0,77.0,71.0,71.4,71.8,72.3,72.8,73.3,73.6,73.9,74.1,74.3],\"yaxis\":\"y\",\"type\":\"scatter\"}],\"name\":\"Morocco\"},{\"data\":[{\"hovertemplate\":\"Country=Croatia<br>Year=%{x}<br>Life expectancy =%{y}<extra></extra>\",\"ids\":[2000,2001,2002,2003,2004,2005,2006,2007,2008,2009,2010,2011,2012,2013,2014,2015],\"legendgroup\":\"Croatia\",\"line\":{\"color\":\"#FF6692\",\"dash\":\"solid\"},\"marker\":{\"symbol\":\"circle\"},\"mode\":\"lines+markers\",\"name\":\"Croatia\",\"orientation\":\"v\",\"showlegend\":true,\"x\":[2000,2001,2002,2003,2004,2005,2006,2007,2008,2009,2010,2011,2012,2013,2014,2015],\"xaxis\":\"x\",\"y\":[74.7,74.9,74.8,74.7,75.4,75.2,75.9,75.8,76.0,76.3,76.6,77.0,77.1,77.7,77.8,78.0],\"yaxis\":\"y\",\"type\":\"scatter\"}],\"name\":\"Croatia\"},{\"data\":[{\"hovertemplate\":\"Country=Nepal<br>Year=%{x}<br>Life expectancy =%{y}<extra></extra>\",\"ids\":[2000,2001,2002,2003,2004,2005,2006,2007,2008,2009,2010,2011,2012,2013,2014,2015],\"legendgroup\":\"Nepal\",\"line\":{\"color\":\"#B6E880\",\"dash\":\"solid\"},\"marker\":{\"symbol\":\"circle\"},\"mode\":\"lines+markers\",\"name\":\"Nepal\",\"orientation\":\"v\",\"showlegend\":true,\"x\":[2000,2001,2002,2003,2004,2005,2006,2007,2008,2009,2010,2011,2012,2013,2014,2015],\"xaxis\":\"x\",\"y\":[62.5,63.2,63.1,64.3,64.7,65.4,66.0,66.6,67.0,67.5,68.0,68.4,68.9,69.3,69.6,69.2],\"yaxis\":\"y\",\"type\":\"scatter\"}],\"name\":\"Nepal\"},{\"data\":[{\"hovertemplate\":\"Country=Colombia<br>Year=%{x}<br>Life expectancy =%{y}<extra></extra>\",\"ids\":[2000,2001,2002,2003,2004,2005,2006,2007,2008,2009,2010,2011,2012,2013,2014,2015],\"legendgroup\":\"Colombia\",\"line\":{\"color\":\"#FF97FF\",\"dash\":\"solid\"},\"marker\":{\"symbol\":\"circle\"},\"mode\":\"lines+markers\",\"name\":\"Colombia\",\"orientation\":\"v\",\"showlegend\":true,\"x\":[2000,2001,2002,2003,2004,2005,2006,2007,2008,2009,2010,2011,2012,2013,2014,2015],\"xaxis\":\"x\",\"y\":[71.4,71.5,71.8,72.4,72.8,73.1,73.1,73.5,73.5,73.6,73.6,74.2,74.3,74.4,74.6,74.8],\"yaxis\":\"y\",\"type\":\"scatter\"}],\"name\":\"Colombia\"},{\"data\":[{\"hovertemplate\":\"Country=Costa Rica<br>Year=%{x}<br>Life expectancy =%{y}<extra></extra>\",\"ids\":[2000,2001,2002,2003,2004,2005,2006,2007,2008,2009,2010,2011,2012,2013,2014,2015],\"legendgroup\":\"Costa Rica\",\"line\":{\"color\":\"#FECB52\",\"dash\":\"solid\"},\"marker\":{\"symbol\":\"circle\"},\"mode\":\"lines+markers\",\"name\":\"Costa Rica\",\"orientation\":\"v\",\"showlegend\":true,\"x\":[2000,2001,2002,2003,2004,2005,2006,2007,2008,2009,2010,2011,2012,2013,2014,2015],\"xaxis\":\"x\",\"y\":[77.6,77.5,78.3,78.0,77.7,78.6,78.0,78.9,78.9,79.2,78.1,79.0,79.2,79.4,79.5,79.6],\"yaxis\":\"y\",\"type\":\"scatter\"}],\"name\":\"Costa Rica\"},{\"data\":[{\"hovertemplate\":\"Country=Montenegro<br>Year=%{x}<br>Life expectancy =%{y}<extra></extra>\",\"ids\":[2000,2001,2002,2003,2004,2005,2006,2007,2008,2009,2010,2011,2012,2013,2014,2015],\"legendgroup\":\"Montenegro\",\"line\":{\"color\":\"#636efa\",\"dash\":\"solid\"},\"marker\":{\"symbol\":\"circle\"},\"mode\":\"lines+markers\",\"name\":\"Montenegro\",\"orientation\":\"v\",\"showlegend\":true,\"x\":[2000,2001,2002,2003,2004,2005,2006,2007,2008,2009,2010,2011,2012,2013,2014,2015],\"xaxis\":\"x\",\"y\":[73.0,73.3,73.4,73.5,73.5,73.6,73.8,74.2,74.6,75.0,75.3,75.4,75.6,75.8,75.9,76.1],\"yaxis\":\"y\",\"type\":\"scatter\"}],\"name\":\"Montenegro\"},{\"data\":[{\"hovertemplate\":\"Country=New Zealand<br>Year=%{x}<br>Life expectancy =%{y}<extra></extra>\",\"ids\":[2000,2001,2002,2003,2004,2005,2006,2007,2008,2009,2010,2011,2012,2013,2014,2015],\"legendgroup\":\"New Zealand\",\"line\":{\"color\":\"#EF553B\",\"dash\":\"solid\"},\"marker\":{\"symbol\":\"circle\"},\"mode\":\"lines+markers\",\"name\":\"New Zealand\",\"orientation\":\"v\",\"showlegend\":true,\"x\":[2000,2001,2002,2003,2004,2005,2006,2007,2008,2009,2010,2011,2012,2013,2014,2015],\"xaxis\":\"x\",\"y\":[78.6,78.5,78.7,79.1,79.2,79.9,79.9,81.0,81.0,85.0,89.0,86.0,81.1,81.3,81.5,81.6],\"yaxis\":\"y\",\"type\":\"scatter\"}],\"name\":\"New Zealand\"},{\"data\":[{\"hovertemplate\":\"Country=Mongolia<br>Year=%{x}<br>Life expectancy =%{y}<extra></extra>\",\"ids\":[2000,2001,2002,2003,2004,2005,2006,2007,2008,2009,2010,2011,2012,2013,2014,2015],\"legendgroup\":\"Mongolia\",\"line\":{\"color\":\"#00cc96\",\"dash\":\"solid\"},\"marker\":{\"symbol\":\"circle\"},\"mode\":\"lines+markers\",\"name\":\"Mongolia\",\"orientation\":\"v\",\"showlegend\":true,\"x\":[2000,2001,2002,2003,2004,2005,2006,2007,2008,2009,2010,2011,2012,2013,2014,2015],\"xaxis\":\"x\",\"y\":[62.8,63.2,63.8,64.0,64.0,64.5,65.0,65.9,67.4,66.9,66.3,67.3,67.8,68.1,68.4,68.8],\"yaxis\":\"y\",\"type\":\"scatter\"}],\"name\":\"Mongolia\"},{\"data\":[{\"hovertemplate\":\"Country=China<br>Year=%{x}<br>Life expectancy =%{y}<extra></extra>\",\"ids\":[2000,2001,2002,2003,2004,2005,2006,2007,2008,2009,2010,2011,2012,2013,2014,2015],\"legendgroup\":\"China\",\"line\":{\"color\":\"#ab63fa\",\"dash\":\"solid\"},\"marker\":{\"symbol\":\"circle\"},\"mode\":\"lines+markers\",\"name\":\"China\",\"orientation\":\"v\",\"showlegend\":true,\"x\":[2000,2001,2002,2003,2004,2005,2006,2007,2008,2009,2010,2011,2012,2013,2014,2015],\"xaxis\":\"x\",\"y\":[71.7,72.2,72.7,73.1,73.5,73.9,74.2,74.4,74.5,74.9,75.0,75.2,75.4,75.6,75.8,76.1],\"yaxis\":\"y\",\"type\":\"scatter\"}],\"name\":\"China\"},{\"data\":[{\"hovertemplate\":\"Country=Netherlands<br>Year=%{x}<br>Life expectancy =%{y}<extra></extra>\",\"ids\":[2000,2001,2002,2003,2004,2005,2006,2007,2008,2009,2010,2011,2012,2013,2014,2015],\"legendgroup\":\"Netherlands\",\"line\":{\"color\":\"#FFA15A\",\"dash\":\"solid\"},\"marker\":{\"symbol\":\"circle\"},\"mode\":\"lines+markers\",\"name\":\"Netherlands\",\"orientation\":\"v\",\"showlegend\":true,\"x\":[2000,2001,2002,2003,2004,2005,2006,2007,2008,2009,2010,2011,2012,2013,2014,2015],\"xaxis\":\"x\",\"y\":[78.1,78.3,78.4,78.7,79.2,79.4,79.8,82.0,83.0,86.0,88.0,81.1,81.1,81.4,81.7,81.9],\"yaxis\":\"y\",\"type\":\"scatter\"}],\"name\":\"Netherlands\"},{\"data\":[{\"hovertemplate\":\"Country=India<br>Year=%{x}<br>Life expectancy =%{y}<extra></extra>\",\"ids\":[2000,2001,2002,2003,2004,2005,2006,2007,2008,2009,2010,2011,2012,2013,2014,2015],\"legendgroup\":\"India\",\"line\":{\"color\":\"#19d3f3\",\"dash\":\"solid\"},\"marker\":{\"symbol\":\"circle\"},\"mode\":\"lines+markers\",\"name\":\"India\",\"orientation\":\"v\",\"showlegend\":true,\"x\":[2000,2001,2002,2003,2004,2005,2006,2007,2008,2009,2010,2011,2012,2013,2014,2015],\"xaxis\":\"x\",\"y\":[62.5,62.9,63.3,63.7,64.0,64.4,64.8,65.2,65.5,66.0,66.4,66.8,67.3,67.6,68.0,68.3],\"yaxis\":\"y\",\"type\":\"scatter\"}],\"name\":\"India\"},{\"data\":[{\"hovertemplate\":\"Country=Canada<br>Year=%{x}<br>Life expectancy =%{y}<extra></extra>\",\"ids\":[2000,2001,2002,2003,2004,2005,2006,2007,2008,2009,2010,2011,2012,2013,2014,2015],\"legendgroup\":\"Canada\",\"line\":{\"color\":\"#FF6692\",\"dash\":\"solid\"},\"marker\":{\"symbol\":\"circle\"},\"mode\":\"lines+markers\",\"name\":\"Canada\",\"orientation\":\"v\",\"showlegend\":true,\"x\":[2000,2001,2002,2003,2004,2005,2006,2007,2008,2009,2010,2011,2012,2013,2014,2015],\"xaxis\":\"x\",\"y\":[79.1,79.4,79.5,79.7,80.0,81.0,85.0,85.0,87.0,81.0,81.2,81.5,81.6,81.8,82.0,82.2],\"yaxis\":\"y\",\"type\":\"scatter\"}],\"name\":\"Canada\"},{\"data\":[{\"hovertemplate\":\"Country=Czechia<br>Year=%{x}<br>Life expectancy =%{y}<extra></extra>\",\"ids\":[2000,2001,2002,2003,2004,2005,2006,2007,2008,2009,2010,2011,2012,2013,2014,2015],\"legendgroup\":\"Czechia\",\"line\":{\"color\":\"#B6E880\",\"dash\":\"solid\"},\"marker\":{\"symbol\":\"circle\"},\"mode\":\"lines+markers\",\"name\":\"Czechia\",\"orientation\":\"v\",\"showlegend\":true,\"x\":[2000,2001,2002,2003,2004,2005,2006,2007,2008,2009,2010,2011,2012,2013,2014,2015],\"xaxis\":\"x\",\"y\":[74.7,75.1,75.3,75.2,75.8,75.9,76.5,76.8,77.0,77.1,77.5,77.8,78.0,78.2,78.6,78.8],\"yaxis\":\"y\",\"type\":\"scatter\"}],\"name\":\"Czechia\"},{\"data\":[{\"hovertemplate\":\"Country=Luxembourg<br>Year=%{x}<br>Life expectancy =%{y}<extra></extra>\",\"ids\":[2000,2001,2002,2003,2004,2005,2006,2007,2008,2009,2010,2011,2012,2013,2014,2015],\"legendgroup\":\"Luxembourg\",\"line\":{\"color\":\"#FF97FF\",\"dash\":\"solid\"},\"marker\":{\"symbol\":\"circle\"},\"mode\":\"lines+markers\",\"name\":\"Luxembourg\",\"orientation\":\"v\",\"showlegend\":true,\"x\":[2000,2001,2002,2003,2004,2005,2006,2007,2008,2009,2010,2011,2012,2013,2014,2015],\"xaxis\":\"x\",\"y\":[77.8,78.0,78.3,78.6,78.7,78.8,79.4,79.7,80.0,83.0,86.0,88.0,81.1,81.4,81.7,82.0],\"yaxis\":\"y\",\"type\":\"scatter\"}],\"name\":\"Luxembourg\"},{\"data\":[{\"hovertemplate\":\"Country=Romania<br>Year=%{x}<br>Life expectancy =%{y}<extra></extra>\",\"ids\":[2000,2001,2002,2003,2004,2005,2006,2007,2008,2009,2010,2011,2012,2013,2014,2015],\"legendgroup\":\"Romania\",\"line\":{\"color\":\"#FECB52\",\"dash\":\"solid\"},\"marker\":{\"symbol\":\"circle\"},\"mode\":\"lines+markers\",\"name\":\"Romania\",\"orientation\":\"v\",\"showlegend\":true,\"x\":[2000,2001,2002,2003,2004,2005,2006,2007,2008,2009,2010,2011,2012,2013,2014,2015],\"xaxis\":\"x\",\"y\":[77.0,78.0,77.0,71.1,71.7,71.9,72.5,72.9,73.1,73.1,73.4,74.3,74.4,74.6,74.8,75.0],\"yaxis\":\"y\",\"type\":\"scatter\"}],\"name\":\"Romania\"},{\"data\":[{\"hovertemplate\":\"Country=Burundi<br>Year=%{x}<br>Life expectancy =%{y}<extra></extra>\",\"ids\":[2000,2001,2002,2003,2004,2005,2006,2007,2008,2009,2010,2011,2012,2013,2014,2015],\"legendgroup\":\"Burundi\",\"line\":{\"color\":\"#636efa\",\"dash\":\"solid\"},\"marker\":{\"symbol\":\"circle\"},\"mode\":\"lines+markers\",\"name\":\"Burundi\",\"orientation\":\"v\",\"showlegend\":true,\"x\":[2000,2001,2002,2003,2004,2005,2006,2007,2008,2009,2010,2011,2012,2013,2014,2015],\"xaxis\":\"x\",\"y\":[58.0,51.3,51.5,51.9,52.6,53.4,54.1,54.8,55.3,56.2,56.8,57.4,58.0,58.6,59.1,59.6],\"yaxis\":\"y\",\"type\":\"scatter\"}],\"name\":\"Burundi\"},{\"data\":[{\"hovertemplate\":\"Country=Russian Federation<br>Year=%{x}<br>Life expectancy =%{y}<extra></extra>\",\"ids\":[2000,2001,2002,2003,2004,2005,2006,2007,2008,2009,2010,2011,2012,2013,2014,2015],\"legendgroup\":\"Russian Federation\",\"line\":{\"color\":\"#EF553B\",\"dash\":\"solid\"},\"marker\":{\"symbol\":\"circle\"},\"mode\":\"lines+markers\",\"name\":\"Russian Federation\",\"orientation\":\"v\",\"showlegend\":true,\"x\":[2000,2001,2002,2003,2004,2005,2006,2007,2008,2009,2010,2011,2012,2013,2014,2015],\"xaxis\":\"x\",\"y\":[65.0,65.1,64.8,64.6,64.9,65.0,66.4,67.3,67.5,68.2,68.4,69.4,69.6,70.0,73.0,75.0],\"yaxis\":\"y\",\"type\":\"scatter\"}],\"name\":\"Russian Federation\"},{\"data\":[{\"hovertemplate\":\"Country=Denmark<br>Year=%{x}<br>Life expectancy =%{y}<extra></extra>\",\"ids\":[2000,2001,2002,2003,2004,2005,2006,2007,2008,2009,2010,2011,2012,2013,2014,2015],\"legendgroup\":\"Denmark\",\"line\":{\"color\":\"#00cc96\",\"dash\":\"solid\"},\"marker\":{\"symbol\":\"circle\"},\"mode\":\"lines+markers\",\"name\":\"Denmark\",\"orientation\":\"v\",\"showlegend\":true,\"x\":[2000,2001,2002,2003,2004,2005,2006,2007,2008,2009,2010,2011,2012,2013,2014,2015],\"xaxis\":\"x\",\"y\":[76.9,77.0,77.0,77.3,77.7,78.1,78.1,78.4,78.8,78.9,79.2,79.7,80.0,81.0,84.0,86.0],\"yaxis\":\"y\",\"type\":\"scatter\"}],\"name\":\"Denmark\"},{\"data\":[{\"hovertemplate\":\"Country=Lithuania<br>Year=%{x}<br>Life expectancy =%{y}<extra></extra>\",\"ids\":[2000,2001,2002,2003,2004,2005,2006,2007,2008,2009,2010,2011,2012,2013,2014,2015],\"legendgroup\":\"Lithuania\",\"line\":{\"color\":\"#ab63fa\",\"dash\":\"solid\"},\"marker\":{\"symbol\":\"circle\"},\"mode\":\"lines+markers\",\"name\":\"Lithuania\",\"orientation\":\"v\",\"showlegend\":true,\"x\":[2000,2001,2002,2003,2004,2005,2006,2007,2008,2009,2010,2011,2012,2013,2014,2015],\"xaxis\":\"x\",\"y\":[71.6,71.2,71.4,71.6,71.6,78.0,76.0,72.0,71.1,72.2,72.4,72.8,73.0,73.0,73.4,73.6],\"yaxis\":\"y\",\"type\":\"scatter\"}],\"name\":\"Lithuania\"},{\"data\":[{\"hovertemplate\":\"Country=Republic of Moldova<br>Year=%{x}<br>Life expectancy =%{y}<extra></extra>\",\"ids\":[2000,2001,2002,2003,2004,2005,2006,2007,2008,2009,2010,2011,2012,2013,2014,2015],\"legendgroup\":\"Republic of Moldova\",\"line\":{\"color\":\"#FFA15A\",\"dash\":\"solid\"},\"marker\":{\"symbol\":\"circle\"},\"mode\":\"lines+markers\",\"name\":\"Republic of Moldova\",\"orientation\":\"v\",\"showlegend\":true,\"x\":[2000,2001,2002,2003,2004,2005,2006,2007,2008,2009,2010,2011,2012,2013,2014,2015],\"xaxis\":\"x\",\"y\":[67.1,67.6,67.5,67.6,68.0,67.3,68.0,68.3,68.9,69.0,68.8,77.0,79.0,71.7,71.8,72.1],\"yaxis\":\"y\",\"type\":\"scatter\"}],\"name\":\"Republic of Moldova\"},{\"data\":[{\"hovertemplate\":\"Country=Rwanda<br>Year=%{x}<br>Life expectancy =%{y}<extra></extra>\",\"ids\":[2000,2001,2002,2003,2004,2005,2006,2007,2008,2009,2010,2011,2012,2013,2014,2015],\"legendgroup\":\"Rwanda\",\"line\":{\"color\":\"#19d3f3\",\"dash\":\"solid\"},\"marker\":{\"symbol\":\"circle\"},\"mode\":\"lines+markers\",\"name\":\"Rwanda\",\"orientation\":\"v\",\"showlegend\":true,\"x\":[2000,2001,2002,2003,2004,2005,2006,2007,2008,2009,2010,2011,2012,2013,2014,2015],\"xaxis\":\"x\",\"y\":[48.3,48.6,57.0,52.0,53.4,55.3,57.6,59.6,68.0,61.0,62.8,63.8,64.6,65.2,65.7,66.1],\"yaxis\":\"y\",\"type\":\"scatter\"}],\"name\":\"Rwanda\"},{\"data\":[{\"hovertemplate\":\"Country=Libya<br>Year=%{x}<br>Life expectancy =%{y}<extra></extra>\",\"ids\":[2000,2001,2002,2003,2004,2005,2006,2007,2008,2009,2010,2011,2012,2013,2014,2015],\"legendgroup\":\"Libya\",\"line\":{\"color\":\"#FF6692\",\"dash\":\"solid\"},\"marker\":{\"symbol\":\"circle\"},\"mode\":\"lines+markers\",\"name\":\"Libya\",\"orientation\":\"v\",\"showlegend\":true,\"x\":[2000,2001,2002,2003,2004,2005,2006,2007,2008,2009,2010,2011,2012,2013,2014,2015],\"xaxis\":\"x\",\"y\":[78.0,71.0,71.1,71.3,71.5,71.9,72.2,72.5,72.6,72.7,72.8,71.3,72.9,72.9,72.4,72.7],\"yaxis\":\"y\",\"type\":\"scatter\"}],\"name\":\"Libya\"},{\"data\":[{\"hovertemplate\":\"Country=Saint Lucia<br>Year=%{x}<br>Life expectancy =%{y}<extra></extra>\",\"ids\":[2000,2001,2002,2003,2004,2005,2006,2007,2008,2009,2010,2011,2012,2013,2014,2015],\"legendgroup\":\"Saint Lucia\",\"line\":{\"color\":\"#B6E880\",\"dash\":\"solid\"},\"marker\":{\"symbol\":\"circle\"},\"mode\":\"lines+markers\",\"name\":\"Saint Lucia\",\"orientation\":\"v\",\"showlegend\":true,\"x\":[2000,2001,2002,2003,2004,2005,2006,2007,2008,2009,2010,2011,2012,2013,2014,2015],\"xaxis\":\"x\",\"y\":[71.6,71.8,72.0,72.2,72.6,73.1,73.5,73.9,74.1,74.3,74.2,74.6,74.7,74.8,75.0,75.2],\"yaxis\":\"y\",\"type\":\"scatter\"}],\"name\":\"Saint Lucia\"},{\"data\":[{\"hovertemplate\":\"Country=Saint Vincent and the Grenadines<br>Year=%{x}<br>Life expectancy =%{y}<extra></extra>\",\"ids\":[2000,2001,2002,2003,2004,2005,2006,2007,2008,2009,2010,2011,2012,2013,2014,2015],\"legendgroup\":\"Saint Vincent and the Grenadines\",\"line\":{\"color\":\"#FF97FF\",\"dash\":\"solid\"},\"marker\":{\"symbol\":\"circle\"},\"mode\":\"lines+markers\",\"name\":\"Saint Vincent and the Grenadines\",\"orientation\":\"v\",\"showlegend\":true,\"x\":[2000,2001,2002,2003,2004,2005,2006,2007,2008,2009,2010,2011,2012,2013,2014,2015],\"xaxis\":\"x\",\"y\":[79.0,79.0,79.0,71.0,71.2,71.4,71.7,71.9,72.1,72.3,72.5,72.7,72.8,72.7,73.1,73.2],\"yaxis\":\"y\",\"type\":\"scatter\"}],\"name\":\"Saint Vincent and the Grenadines\"},{\"data\":[{\"hovertemplate\":\"Country=Bulgaria<br>Year=%{x}<br>Life expectancy =%{y}<extra></extra>\",\"ids\":[2000,2001,2002,2003,2004,2005,2006,2007,2008,2009,2010,2011,2012,2013,2014,2015],\"legendgroup\":\"Bulgaria\",\"line\":{\"color\":\"#FECB52\",\"dash\":\"solid\"},\"marker\":{\"symbol\":\"circle\"},\"mode\":\"lines+markers\",\"name\":\"Bulgaria\",\"orientation\":\"v\",\"showlegend\":true,\"x\":[2000,2001,2002,2003,2004,2005,2006,2007,2008,2009,2010,2011,2012,2013,2014,2015],\"xaxis\":\"x\",\"y\":[71.1,71.6,71.8,72.0,72.2,72.1,72.2,72.6,72.9,73.2,73.4,73.7,73.9,74.1,74.3,74.5],\"yaxis\":\"y\",\"type\":\"scatter\"}],\"name\":\"Bulgaria\"},{\"data\":[{\"hovertemplate\":\"Country=Djibouti<br>Year=%{x}<br>Life expectancy =%{y}<extra></extra>\",\"ids\":[2000,2001,2002,2003,2004,2005,2006,2007,2008,2009,2010,2011,2012,2013,2014,2015],\"legendgroup\":\"Djibouti\",\"line\":{\"color\":\"#636efa\",\"dash\":\"solid\"},\"marker\":{\"symbol\":\"circle\"},\"mode\":\"lines+markers\",\"name\":\"Djibouti\",\"orientation\":\"v\",\"showlegend\":true,\"x\":[2000,2001,2002,2003,2004,2005,2006,2007,2008,2009,2010,2011,2012,2013,2014,2015],\"xaxis\":\"x\",\"y\":[57.4,57.7,57.9,58.0,58.1,58.6,59.1,59.8,62.0,69.0,61.3,61.8,62.2,62.7,63.0,63.5],\"yaxis\":\"y\",\"type\":\"scatter\"}],\"name\":\"Djibouti\"},{\"data\":[{\"hovertemplate\":\"Country=Liberia<br>Year=%{x}<br>Life expectancy =%{y}<extra></extra>\",\"ids\":[2000,2001,2002,2003,2004,2005,2006,2007,2008,2009,2010,2011,2012,2013,2014,2015],\"legendgroup\":\"Liberia\",\"line\":{\"color\":\"#EF553B\",\"dash\":\"solid\"},\"marker\":{\"symbol\":\"circle\"},\"mode\":\"lines+markers\",\"name\":\"Liberia\",\"orientation\":\"v\",\"showlegend\":true,\"x\":[2000,2001,2002,2003,2004,2005,2006,2007,2008,2009,2010,2011,2012,2013,2014,2015],\"xaxis\":\"x\",\"y\":[51.9,51.5,56.0,50.0,54.0,55.3,56.7,57.9,58.6,59.2,59.7,62.0,67.0,61.1,58.1,61.4],\"yaxis\":\"y\",\"type\":\"scatter\"}],\"name\":\"Liberia\"},{\"data\":[{\"hovertemplate\":\"Country=Burkina Faso<br>Year=%{x}<br>Life expectancy =%{y}<extra></extra>\",\"ids\":[2000,2001,2002,2003,2004,2005,2006,2007,2008,2009,2010,2011,2012,2013,2014,2015],\"legendgroup\":\"Burkina Faso\",\"line\":{\"color\":\"#00cc96\",\"dash\":\"solid\"},\"marker\":{\"symbol\":\"circle\"},\"mode\":\"lines+markers\",\"name\":\"Burkina Faso\",\"orientation\":\"v\",\"showlegend\":true,\"x\":[2000,2001,2002,2003,2004,2005,2006,2007,2008,2009,2010,2011,2012,2013,2014,2015],\"xaxis\":\"x\",\"y\":[51.0,56.0,51.0,51.6,52.4,53.3,54.3,55.3,56.1,56.9,57.5,58.1,58.6,59.0,59.3,59.9],\"yaxis\":\"y\",\"type\":\"scatter\"}],\"name\":\"Burkina Faso\"},{\"data\":[{\"hovertemplate\":\"Country=Paraguay<br>Year=%{x}<br>Life expectancy =%{y}<extra></extra>\",\"ids\":[2000,2001,2002,2003,2004,2005,2006,2007,2008,2009,2010,2011,2012,2013,2014,2015],\"legendgroup\":\"Paraguay\",\"line\":{\"color\":\"#ab63fa\",\"dash\":\"solid\"},\"marker\":{\"symbol\":\"circle\"},\"mode\":\"lines+markers\",\"name\":\"Paraguay\",\"orientation\":\"v\",\"showlegend\":true,\"x\":[2000,2001,2002,2003,2004,2005,2006,2007,2008,2009,2010,2011,2012,2013,2014,2015],\"xaxis\":\"x\",\"y\":[79.0,71.2,71.5,71.7,71.9,72.1,72.3,72.5,72.7,73.0,73.2,73.4,73.6,73.8,73.9,74.0],\"yaxis\":\"y\",\"type\":\"scatter\"}],\"name\":\"Paraguay\"},{\"data\":[{\"hovertemplate\":\"Country=Madagascar<br>Year=%{x}<br>Life expectancy =%{y}<extra></extra>\",\"ids\":[2000,2001,2002,2003,2004,2005,2006,2007,2008,2009,2010,2011,2012,2013,2014,2015],\"legendgroup\":\"Madagascar\",\"line\":{\"color\":\"#FFA15A\",\"dash\":\"solid\"},\"marker\":{\"symbol\":\"circle\"},\"mode\":\"lines+markers\",\"name\":\"Madagascar\",\"orientation\":\"v\",\"showlegend\":true,\"x\":[2000,2001,2002,2003,2004,2005,2006,2007,2008,2009,2010,2011,2012,2013,2014,2015],\"xaxis\":\"x\",\"y\":[57.9,58.7,59.3,59.9,64.0,69.0,61.4,61.9,62.3,62.8,63.3,63.8,64.3,64.7,65.1,65.5],\"yaxis\":\"y\",\"type\":\"scatter\"}],\"name\":\"Madagascar\"},{\"data\":[{\"hovertemplate\":\"Country=Democratic Republic of the Congo<br>Year=%{x}<br>Life expectancy =%{y}<extra></extra>\",\"ids\":[2000,2001,2002,2003,2004,2005,2006,2007,2008,2009,2010,2011,2012,2013,2014,2015],\"legendgroup\":\"Democratic Republic of the Congo\",\"line\":{\"color\":\"#19d3f3\",\"dash\":\"solid\"},\"marker\":{\"symbol\":\"circle\"},\"mode\":\"lines+markers\",\"name\":\"Democratic Republic of the Congo\",\"orientation\":\"v\",\"showlegend\":true,\"x\":[2000,2001,2002,2003,2004,2005,2006,2007,2008,2009,2010,2011,2012,2013,2014,2015],\"xaxis\":\"x\",\"y\":[51.3,51.8,52.1,52.8,53.5,54.3,55.0,55.7,56.3,56.7,57.4,57.9,58.3,58.8,59.3,59.8],\"yaxis\":\"y\",\"type\":\"scatter\"}],\"name\":\"Democratic Republic of the Congo\"},{\"data\":[{\"hovertemplate\":\"Country=Peru<br>Year=%{x}<br>Life expectancy =%{y}<extra></extra>\",\"ids\":[2000,2001,2002,2003,2004,2005,2006,2007,2008,2009,2010,2011,2012,2013,2014,2015],\"legendgroup\":\"Peru\",\"line\":{\"color\":\"#FF6692\",\"dash\":\"solid\"},\"marker\":{\"symbol\":\"circle\"},\"mode\":\"lines+markers\",\"name\":\"Peru\",\"orientation\":\"v\",\"showlegend\":true,\"x\":[2000,2001,2002,2003,2004,2005,2006,2007,2008,2009,2010,2011,2012,2013,2014,2015],\"xaxis\":\"x\",\"y\":[71.4,72.4,72.6,72.1,72.2,72.8,74.2,74.0,73.9,73.8,73.7,74.5,74.9,75.3,75.3,75.5],\"yaxis\":\"y\",\"type\":\"scatter\"}],\"name\":\"Peru\"},{\"data\":[{\"hovertemplate\":\"Country=Cameroon<br>Year=%{x}<br>Life expectancy =%{y}<extra></extra>\",\"ids\":[2000,2001,2002,2003,2004,2005,2006,2007,2008,2009,2010,2011,2012,2013,2014,2015],\"legendgroup\":\"Cameroon\",\"line\":{\"color\":\"#B6E880\",\"dash\":\"solid\"},\"marker\":{\"symbol\":\"circle\"},\"mode\":\"lines+markers\",\"name\":\"Cameroon\",\"orientation\":\"v\",\"showlegend\":true,\"x\":[2000,2001,2002,2003,2004,2005,2006,2007,2008,2009,2010,2011,2012,2013,2014,2015],\"xaxis\":\"x\",\"y\":[51.4,51.5,51.6,51.8,52.1,52.8,53.3,53.6,54.2,54.8,55.3,55.6,55.9,56.4,56.7,57.3],\"yaxis\":\"y\",\"type\":\"scatter\"}],\"name\":\"Cameroon\"},{\"data\":[{\"hovertemplate\":\"Country=Mali<br>Year=%{x}<br>Life expectancy =%{y}<extra></extra>\",\"ids\":[2000,2001,2002,2003,2004,2005,2006,2007,2008,2009,2010,2011,2012,2013,2014,2015],\"legendgroup\":\"Mali\",\"line\":{\"color\":\"#FF97FF\",\"dash\":\"solid\"},\"marker\":{\"symbol\":\"circle\"},\"mode\":\"lines+markers\",\"name\":\"Mali\",\"orientation\":\"v\",\"showlegend\":true,\"x\":[2000,2001,2002,2003,2004,2005,2006,2007,2008,2009,2010,2011,2012,2013,2014,2015],\"xaxis\":\"x\",\"y\":[49.8,55.0,51.2,52.0,52.8,53.6,54.3,55.0,55.5,56.0,56.5,56.8,57.2,57.3,57.8,58.2],\"yaxis\":\"y\",\"type\":\"scatter\"}],\"name\":\"Mali\"},{\"data\":[{\"hovertemplate\":\"Country=Maldives<br>Year=%{x}<br>Life expectancy =%{y}<extra></extra>\",\"ids\":[2000,2001,2002,2003,2004,2005,2006,2007,2008,2009,2010,2011,2012,2013,2014,2015],\"legendgroup\":\"Maldives\",\"line\":{\"color\":\"#FECB52\",\"dash\":\"solid\"},\"marker\":{\"symbol\":\"circle\"},\"mode\":\"lines+markers\",\"name\":\"Maldives\",\"orientation\":\"v\",\"showlegend\":true,\"x\":[2000,2001,2002,2003,2004,2005,2006,2007,2008,2009,2010,2011,2012,2013,2014,2015],\"xaxis\":\"x\",\"y\":[69.6,78.0,71.8,72.7,73.4,74.3,75.0,75.4,75.9,76.3,76.7,77.3,77.6,77.9,78.2,78.5],\"yaxis\":\"y\",\"type\":\"scatter\"}],\"name\":\"Maldives\"},{\"data\":[{\"hovertemplate\":\"Country=Philippines<br>Year=%{x}<br>Life expectancy =%{y}<extra></extra>\",\"ids\":[2000,2001,2002,2003,2004,2005,2006,2007,2008,2009,2010,2011,2012,2013,2014,2015],\"legendgroup\":\"Philippines\",\"line\":{\"color\":\"#636efa\",\"dash\":\"solid\"},\"marker\":{\"symbol\":\"circle\"},\"mode\":\"lines+markers\",\"name\":\"Philippines\",\"orientation\":\"v\",\"showlegend\":true,\"x\":[2000,2001,2002,2003,2004,2005,2006,2007,2008,2009,2010,2011,2012,2013,2014,2015],\"xaxis\":\"x\",\"y\":[66.8,66.8,66.8,67.2,67.3,67.0,67.3,67.5,67.5,68.0,67.9,68.0,68.1,68.1,68.4,68.5],\"yaxis\":\"y\",\"type\":\"scatter\"}],\"name\":\"Philippines\"},{\"data\":[{\"hovertemplate\":\"Country=Cambodia<br>Year=%{x}<br>Life expectancy =%{y}<extra></extra>\",\"ids\":[2000,2001,2002,2003,2004,2005,2006,2007,2008,2009,2010,2011,2012,2013,2014,2015],\"legendgroup\":\"Cambodia\",\"line\":{\"color\":\"#EF553B\",\"dash\":\"solid\"},\"marker\":{\"symbol\":\"circle\"},\"mode\":\"lines+markers\",\"name\":\"Cambodia\",\"orientation\":\"v\",\"showlegend\":true,\"x\":[2000,2001,2002,2003,2004,2005,2006,2007,2008,2009,2010,2011,2012,2013,2014,2015],\"xaxis\":\"x\",\"y\":[57.7,58.5,59.3,63.0,61.5,62.9,64.1,65.0,65.6,66.1,66.6,67.0,67.4,67.8,68.3,68.7],\"yaxis\":\"y\",\"type\":\"scatter\"}],\"name\":\"Cambodia\"},{\"data\":[{\"hovertemplate\":\"Country=C\\u00f4te d'Ivoire<br>Year=%{x}<br>Life expectancy =%{y}<extra></extra>\",\"ids\":[2000,2001,2002,2003,2004,2005,2006,2007,2008,2009,2010,2011,2012,2013,2014,2015],\"legendgroup\":\"C\\u00f4te d'Ivoire\",\"line\":{\"color\":\"#00cc96\",\"dash\":\"solid\"},\"marker\":{\"symbol\":\"circle\"},\"mode\":\"lines+markers\",\"name\":\"C\\u00f4te d'Ivoire\",\"orientation\":\"v\",\"showlegend\":true,\"x\":[2000,2001,2002,2003,2004,2005,2006,2007,2008,2009,2010,2011,2012,2013,2014,2015],\"xaxis\":\"x\",\"y\":[47.9,47.8,47.7,48.0,48.2,48.7,49.4,49.9,54.0,51.0,51.5,51.7,52.0,52.3,52.8,53.3],\"yaxis\":\"y\",\"type\":\"scatter\"}],\"name\":\"C\\u00f4te d'Ivoire\"},{\"data\":[{\"hovertemplate\":\"Country=Poland<br>Year=%{x}<br>Life expectancy =%{y}<extra></extra>\",\"ids\":[2000,2001,2002,2003,2004,2005,2006,2007,2008,2009,2010,2011,2012,2013,2014,2015],\"legendgroup\":\"Poland\",\"line\":{\"color\":\"#ab63fa\",\"dash\":\"solid\"},\"marker\":{\"symbol\":\"circle\"},\"mode\":\"lines+markers\",\"name\":\"Poland\",\"orientation\":\"v\",\"showlegend\":true,\"x\":[2000,2001,2002,2003,2004,2005,2006,2007,2008,2009,2010,2011,2012,2013,2014,2015],\"xaxis\":\"x\",\"y\":[73.7,74.2,74.5,74.7,74.9,75.0,75.2,75.3,75.5,75.7,76.3,76.7,76.8,77.1,77.3,77.5],\"yaxis\":\"y\",\"type\":\"scatter\"}],\"name\":\"Poland\"},{\"data\":[{\"hovertemplate\":\"Country=Malaysia<br>Year=%{x}<br>Life expectancy =%{y}<extra></extra>\",\"ids\":[2000,2001,2002,2003,2004,2005,2006,2007,2008,2009,2010,2011,2012,2013,2014,2015],\"legendgroup\":\"Malaysia\",\"line\":{\"color\":\"#FFA15A\",\"dash\":\"solid\"},\"marker\":{\"symbol\":\"circle\"},\"mode\":\"lines+markers\",\"name\":\"Malaysia\",\"orientation\":\"v\",\"showlegend\":true,\"x\":[2000,2001,2002,2003,2004,2005,2006,2007,2008,2009,2010,2011,2012,2013,2014,2015],\"xaxis\":\"x\",\"y\":[72.4,72.7,72.9,73.1,73.2,73.4,73.6,73.7,73.8,74.0,74.1,74.3,74.5,74.6,74.8,75.0],\"yaxis\":\"y\",\"type\":\"scatter\"}],\"name\":\"Malaysia\"},{\"data\":[{\"hovertemplate\":\"Country=Portugal<br>Year=%{x}<br>Life expectancy =%{y}<extra></extra>\",\"ids\":[2000,2001,2002,2003,2004,2005,2006,2007,2008,2009,2010,2011,2012,2013,2014,2015],\"legendgroup\":\"Portugal\",\"line\":{\"color\":\"#19d3f3\",\"dash\":\"solid\"},\"marker\":{\"symbol\":\"circle\"},\"mode\":\"lines+markers\",\"name\":\"Portugal\",\"orientation\":\"v\",\"showlegend\":true,\"x\":[2000,2001,2002,2003,2004,2005,2006,2007,2008,2009,2010,2011,2012,2013,2014,2015],\"xaxis\":\"x\",\"y\":[76.6,76.9,77.2,77.3,78.0,77.7,78.5,78.7,79.0,79.3,79.6,82.0,83.0,86.0,89.0,81.1],\"yaxis\":\"y\",\"type\":\"scatter\"}],\"name\":\"Portugal\"},{\"data\":[{\"hovertemplate\":\"Country=Cabo Verde<br>Year=%{x}<br>Life expectancy =%{y}<extra></extra>\",\"ids\":[2000,2001,2002,2003,2004,2005,2006,2007,2008,2009,2010,2011,2012,2013,2014,2015],\"legendgroup\":\"Cabo Verde\",\"line\":{\"color\":\"#FF6692\",\"dash\":\"solid\"},\"marker\":{\"symbol\":\"circle\"},\"mode\":\"lines+markers\",\"name\":\"Cabo Verde\",\"orientation\":\"v\",\"showlegend\":true,\"x\":[2000,2001,2002,2003,2004,2005,2006,2007,2008,2009,2010,2011,2012,2013,2014,2015],\"xaxis\":\"x\",\"y\":[69.9,73.0,77.0,71.1,71.4,71.8,72.1,72.3,72.4,72.4,72.5,72.6,72.7,72.8,73.0,73.3],\"yaxis\":\"y\",\"type\":\"scatter\"}],\"name\":\"Cabo Verde\"},{\"data\":[{\"hovertemplate\":\"Country=Malawi<br>Year=%{x}<br>Life expectancy =%{y}<extra></extra>\",\"ids\":[2000,2001,2002,2003,2004,2005,2006,2007,2008,2009,2010,2011,2012,2013,2014,2015],\"legendgroup\":\"Malawi\",\"line\":{\"color\":\"#B6E880\",\"dash\":\"solid\"},\"marker\":{\"symbol\":\"circle\"},\"mode\":\"lines+markers\",\"name\":\"Malawi\",\"orientation\":\"v\",\"showlegend\":true,\"x\":[2000,2001,2002,2003,2004,2005,2006,2007,2008,2009,2010,2011,2012,2013,2014,2015],\"xaxis\":\"x\",\"y\":[43.1,43.5,44.0,44.6,45.1,46.0,47.1,48.5,50.0,51.5,52.9,54.1,55.3,56.7,57.6,58.3],\"yaxis\":\"y\",\"type\":\"scatter\"}],\"name\":\"Malawi\"},{\"data\":[{\"hovertemplate\":\"Country=Qatar<br>Year=%{x}<br>Life expectancy =%{y}<extra></extra>\",\"ids\":[2000,2001,2002,2003,2004,2005,2006,2007,2008,2009,2010,2011,2012,2013,2014,2015],\"legendgroup\":\"Qatar\",\"line\":{\"color\":\"#FF97FF\",\"dash\":\"solid\"},\"marker\":{\"symbol\":\"circle\"},\"mode\":\"lines+markers\",\"name\":\"Qatar\",\"orientation\":\"v\",\"showlegend\":true,\"x\":[2000,2001,2002,2003,2004,2005,2006,2007,2008,2009,2010,2011,2012,2013,2014,2015],\"xaxis\":\"x\",\"y\":[76.2,76.3,76.4,76.5,76.6,76.6,76.6,76.7,76.8,77.0,77.3,77.5,77.8,77.9,78.1,78.2],\"yaxis\":\"y\",\"type\":\"scatter\"}],\"name\":\"Qatar\"},{\"data\":[{\"hovertemplate\":\"Country=Republic of Korea<br>Year=%{x}<br>Life expectancy =%{y}<extra></extra>\",\"ids\":[2000,2001,2002,2003,2004,2005,2006,2007,2008,2009,2010,2011,2012,2013,2014,2015],\"legendgroup\":\"Republic of Korea\",\"line\":{\"color\":\"#FECB52\",\"dash\":\"solid\"},\"marker\":{\"symbol\":\"circle\"},\"mode\":\"lines+markers\",\"name\":\"Republic of Korea\",\"orientation\":\"v\",\"showlegend\":true,\"x\":[2000,2001,2002,2003,2004,2005,2006,2007,2008,2009,2010,2011,2012,2013,2014,2015],\"xaxis\":\"x\",\"y\":[76.0,76.7,77.1,77.6,78.2,78.7,79.4,79.8,83.0,86.0,87.0,81.1,81.2,81.7,82.0,82.3],\"yaxis\":\"y\",\"type\":\"scatter\"}],\"name\":\"Republic of Korea\"},{\"data\":[{\"hovertemplate\":\"Country=Democratic People's Republic of Korea<br>Year=%{x}<br>Life expectancy =%{y}<extra></extra>\",\"ids\":[2000,2001,2002,2003,2004,2005,2006,2007,2008,2009,2010,2011,2012,2013,2014,2015],\"legendgroup\":\"Democratic People's Republic of Korea\",\"line\":{\"color\":\"#636efa\",\"dash\":\"solid\"},\"marker\":{\"symbol\":\"circle\"},\"mode\":\"lines+markers\",\"name\":\"Democratic People's Republic of Korea\",\"orientation\":\"v\",\"showlegend\":true,\"x\":[2000,2001,2002,2003,2004,2005,2006,2007,2008,2009,2010,2011,2012,2013,2014,2015],\"xaxis\":\"x\",\"y\":[65.4,66.6,67.6,68.1,68.4,68.5,68.5,68.5,68.6,68.7,69.0,69.4,69.8,71.0,73.0,76.0],\"yaxis\":\"y\",\"type\":\"scatter\"}],\"name\":\"Democratic People's Republic of Korea\"},{\"data\":[{\"hovertemplate\":\"Country=Austria<br>Year=%{x}<br>Life expectancy =%{y}<extra></extra>\",\"ids\":[2000,2001,2002,2003,2004,2005,2006,2007,2008,2009,2010,2011,2012,2013,2014,2015],\"legendgroup\":\"Austria\",\"line\":{\"color\":\"#EF553B\",\"dash\":\"solid\"},\"marker\":{\"symbol\":\"circle\"},\"mode\":\"lines+markers\",\"name\":\"Austria\",\"orientation\":\"v\",\"showlegend\":true,\"x\":[2000,2001,2002,2003,2004,2005,2006,2007,2008,2009,2010,2011,2012,2013,2014,2015],\"xaxis\":\"x\",\"y\":[78.1,78.6,78.7,78.8,79.3,79.4,79.8,81.0,84.0,82.0,84.0,88.0,88.0,81.1,81.4,81.5],\"yaxis\":\"y\",\"type\":\"scatter\"}],\"name\":\"Austria\"},{\"data\":[{\"hovertemplate\":\"Country=Slovenia<br>Year=%{x}<br>Life expectancy =%{y}<extra></extra>\",\"ids\":[2000,2001,2002,2003,2004,2005,2006,2007,2008,2009,2010,2011,2012,2013,2014,2015],\"legendgroup\":\"Slovenia\",\"line\":{\"color\":\"#00cc96\",\"dash\":\"solid\"},\"marker\":{\"symbol\":\"circle\"},\"mode\":\"lines+markers\",\"name\":\"Slovenia\",\"orientation\":\"v\",\"showlegend\":true,\"x\":[2000,2001,2002,2003,2004,2005,2006,2007,2008,2009,2010,2011,2012,2013,2014,2015],\"xaxis\":\"x\",\"y\":[76.0,76.2,76.6,76.5,77.2,77.5,78.1,78.3,78.9,79.1,79.5,79.8,82.0,85.0,87.0,88.0],\"yaxis\":\"y\",\"type\":\"scatter\"}],\"name\":\"Slovenia\"},{\"data\":[{\"hovertemplate\":\"Country=Algeria<br>Year=%{x}<br>Life expectancy =%{y}<extra></extra>\",\"ids\":[2000,2001,2002,2003,2004,2005,2006,2007,2008,2009,2010,2011,2012,2013,2014,2015],\"legendgroup\":\"Algeria\",\"line\":{\"color\":\"#ab63fa\",\"dash\":\"solid\"},\"marker\":{\"symbol\":\"circle\"},\"mode\":\"lines+markers\",\"name\":\"Algeria\",\"orientation\":\"v\",\"showlegend\":true,\"x\":[2000,2001,2002,2003,2004,2005,2006,2007,2008,2009,2010,2011,2012,2013,2014,2015],\"xaxis\":\"x\",\"y\":[71.3,71.4,71.6,71.7,72.3,72.9,73.4,73.8,74.1,74.4,74.7,74.9,75.1,75.3,75.4,75.6],\"yaxis\":\"y\",\"type\":\"scatter\"}],\"name\":\"Algeria\"},{\"data\":[{\"hovertemplate\":\"Country=Viet Nam<br>Year=%{x}<br>Life expectancy =%{y}<extra></extra>\",\"ids\":[2000,2001,2002,2003,2004,2005,2006,2007,2008,2009,2010,2011,2012,2013,2014,2015],\"legendgroup\":\"Viet Nam\",\"line\":{\"color\":\"#FFA15A\",\"dash\":\"solid\"},\"marker\":{\"symbol\":\"circle\"},\"mode\":\"lines+markers\",\"name\":\"Viet Nam\",\"orientation\":\"v\",\"showlegend\":true,\"x\":[2000,2001,2002,2003,2004,2005,2006,2007,2008,2009,2010,2011,2012,2013,2014,2015],\"xaxis\":\"x\",\"y\":[73.4,73.6,73.8,74.0,74.2,74.4,74.6,74.7,74.9,75.0,75.2,75.4,75.6,75.7,75.9,76.0],\"yaxis\":\"y\",\"type\":\"scatter\"}],\"name\":\"Viet Nam\"},{\"data\":[{\"hovertemplate\":\"Country=United States of America<br>Year=%{x}<br>Life expectancy =%{y}<extra></extra>\",\"ids\":[2000,2001,2002,2003,2004,2005,2006,2007,2008,2009,2010,2011,2012,2013,2014,2015],\"legendgroup\":\"United States of America\",\"line\":{\"color\":\"#19d3f3\",\"dash\":\"solid\"},\"marker\":{\"symbol\":\"circle\"},\"mode\":\"lines+markers\",\"name\":\"United States of America\",\"orientation\":\"v\",\"showlegend\":true,\"x\":[2000,2001,2002,2003,2004,2005,2006,2007,2008,2009,2010,2011,2012,2013,2014,2015],\"xaxis\":\"x\",\"y\":[76.8,76.9,77.0,77.2,77.5,77.5,77.8,78.1,78.2,78.5,78.7,78.7,78.8,78.9,79.1,79.3],\"yaxis\":\"y\",\"type\":\"scatter\"}],\"name\":\"United States of America\"},{\"data\":[{\"hovertemplate\":\"Country=Guatemala<br>Year=%{x}<br>Life expectancy =%{y}<extra></extra>\",\"ids\":[2000,2001,2002,2003,2004,2005,2006,2007,2008,2009,2010,2011,2012,2013,2014,2015],\"legendgroup\":\"Guatemala\",\"line\":{\"color\":\"#FF6692\",\"dash\":\"solid\"},\"marker\":{\"symbol\":\"circle\"},\"mode\":\"lines+markers\",\"name\":\"Guatemala\",\"orientation\":\"v\",\"showlegend\":true,\"x\":[2000,2001,2002,2003,2004,2005,2006,2007,2008,2009,2010,2011,2012,2013,2014,2015],\"xaxis\":\"x\",\"y\":[67.7,68.4,69.3,69.4,69.6,69.2,69.7,75.0,79.0,76.0,77.0,71.1,71.3,71.4,71.7,71.9],\"yaxis\":\"y\",\"type\":\"scatter\"}],\"name\":\"Guatemala\"},{\"data\":[{\"hovertemplate\":\"Country=Turkey<br>Year=%{x}<br>Life expectancy =%{y}<extra></extra>\",\"ids\":[2000,2001,2002,2003,2004,2005,2006,2007,2008,2009,2010,2011,2012,2013,2014,2015],\"legendgroup\":\"Turkey\",\"line\":{\"color\":\"#B6E880\",\"dash\":\"solid\"},\"marker\":{\"symbol\":\"circle\"},\"mode\":\"lines+markers\",\"name\":\"Turkey\",\"orientation\":\"v\",\"showlegend\":true,\"x\":[2000,2001,2002,2003,2004,2005,2006,2007,2008,2009,2010,2011,2012,2013,2014,2015],\"xaxis\":\"x\",\"y\":[74.0,78.0,71.2,71.6,72.0,72.4,72.8,73.2,73.5,73.9,74.2,74.5,74.8,75.2,75.5,75.8],\"yaxis\":\"y\",\"type\":\"scatter\"}],\"name\":\"Turkey\"},{\"data\":[{\"hovertemplate\":\"Country=France<br>Year=%{x}<br>Life expectancy =%{y}<extra></extra>\",\"ids\":[2000,2001,2002,2003,2004,2005,2006,2007,2008,2009,2010,2011,2012,2013,2014,2015],\"legendgroup\":\"France\",\"line\":{\"color\":\"#FF97FF\",\"dash\":\"solid\"},\"marker\":{\"symbol\":\"circle\"},\"mode\":\"lines+markers\",\"name\":\"France\",\"orientation\":\"v\",\"showlegend\":true,\"x\":[2000,2001,2002,2003,2004,2005,2006,2007,2008,2009,2010,2011,2012,2013,2014,2015],\"xaxis\":\"x\",\"y\":[78.8,79.0,79.2,79.3,82.0,81.0,86.0,89.0,89.0,81.1,81.3,81.7,81.5,82.0,82.2,82.4],\"yaxis\":\"y\",\"type\":\"scatter\"}],\"name\":\"France\"},{\"data\":[{\"hovertemplate\":\"Country=Hungary<br>Year=%{x}<br>Life expectancy =%{y}<extra></extra>\",\"ids\":[2000,2001,2002,2003,2004,2005,2006,2007,2008,2009,2010,2011,2012,2013,2014,2015],\"legendgroup\":\"Hungary\",\"line\":{\"color\":\"#FECB52\",\"dash\":\"solid\"},\"marker\":{\"symbol\":\"circle\"},\"mode\":\"lines+markers\",\"name\":\"Hungary\",\"orientation\":\"v\",\"showlegend\":true,\"x\":[2000,2001,2002,2003,2004,2005,2006,2007,2008,2009,2010,2011,2012,2013,2014,2015],\"xaxis\":\"x\",\"y\":[71.7,72.3,72.5,72.5,72.9,72.9,73.4,73.5,74.1,74.2,74.5,74.8,75.0,75.5,75.6,75.8],\"yaxis\":\"y\",\"type\":\"scatter\"}],\"name\":\"Hungary\"},{\"data\":[{\"hovertemplate\":\"Country=Venezuela (Bolivarian Republic of)<br>Year=%{x}<br>Life expectancy =%{y}<extra></extra>\",\"ids\":[2000,2001,2002,2003,2004,2005,2006,2007,2008,2009,2010,2011,2012,2013,2014,2015],\"legendgroup\":\"Venezuela (Bolivarian Republic of)\",\"line\":{\"color\":\"#636efa\",\"dash\":\"solid\"},\"marker\":{\"symbol\":\"circle\"},\"mode\":\"lines+markers\",\"name\":\"Venezuela (Bolivarian Republic of)\",\"orientation\":\"v\",\"showlegend\":true,\"x\":[2000,2001,2002,2003,2004,2005,2006,2007,2008,2009,2010,2011,2012,2013,2014,2015],\"xaxis\":\"x\",\"y\":[72.5,72.5,73.1,72.4,73.3,73.6,73.6,73.4,73.2,73.6,73.7,73.8,73.7,73.8,73.9,74.1],\"yaxis\":\"y\",\"type\":\"scatter\"}],\"name\":\"Venezuela (Bolivarian Republic of)\"},{\"data\":[{\"hovertemplate\":\"Country=Greece<br>Year=%{x}<br>Life expectancy =%{y}<extra></extra>\",\"ids\":[2000,2001,2002,2003,2004,2005,2006,2007,2008,2009,2010,2011,2012,2013,2014,2015],\"legendgroup\":\"Greece\",\"line\":{\"color\":\"#EF553B\",\"dash\":\"solid\"},\"marker\":{\"symbol\":\"circle\"},\"mode\":\"lines+markers\",\"name\":\"Greece\",\"orientation\":\"v\",\"showlegend\":true,\"x\":[2000,2001,2002,2003,2004,2005,2006,2007,2008,2009,2010,2011,2012,2013,2014,2015],\"xaxis\":\"x\",\"y\":[78.2,78.7,79.0,79.1,79.2,79.3,79.7,79.4,79.9,80.0,83.0,85.0,84.0,86.0,88.0,81.0],\"yaxis\":\"y\",\"type\":\"scatter\"}],\"name\":\"Greece\"},{\"data\":[{\"hovertemplate\":\"Country=Australia<br>Year=%{x}<br>Life expectancy =%{y}<extra></extra>\",\"ids\":[2000,2001,2002,2003,2004,2005,2006,2007,2008,2009,2010,2011,2012,2013,2014,2015],\"legendgroup\":\"Australia\",\"line\":{\"color\":\"#00cc96\",\"dash\":\"solid\"},\"marker\":{\"symbol\":\"circle\"},\"mode\":\"lines+markers\",\"name\":\"Australia\",\"orientation\":\"v\",\"showlegend\":true,\"x\":[2000,2001,2002,2003,2004,2005,2006,2007,2008,2009,2010,2011,2012,2013,2014,2015],\"xaxis\":\"x\",\"y\":[79.5,79.9,79.9,83.0,86.0,81.0,81.2,81.3,81.3,81.7,81.9,82.0,82.3,82.5,82.7,82.8],\"yaxis\":\"y\",\"type\":\"scatter\"}],\"name\":\"Australia\"},{\"data\":[{\"hovertemplate\":\"Country=Ghana<br>Year=%{x}<br>Life expectancy =%{y}<extra></extra>\",\"ids\":[2000,2001,2002,2003,2004,2005,2006,2007,2008,2009,2010,2011,2012,2013,2014,2015],\"legendgroup\":\"Ghana\",\"line\":{\"color\":\"#ab63fa\",\"dash\":\"solid\"},\"marker\":{\"symbol\":\"circle\"},\"mode\":\"lines+markers\",\"name\":\"Ghana\",\"orientation\":\"v\",\"showlegend\":true,\"x\":[2000,2001,2002,2003,2004,2005,2006,2007,2008,2009,2010,2011,2012,2013,2014,2015],\"xaxis\":\"x\",\"y\":[57.2,57.4,57.6,57.9,58.3,58.9,59.4,59.9,63.0,66.0,69.0,61.2,61.6,61.9,62.1,62.4],\"yaxis\":\"y\",\"type\":\"scatter\"}],\"name\":\"Ghana\"},{\"data\":[{\"hovertemplate\":\"Country=Haiti<br>Year=%{x}<br>Life expectancy =%{y}<extra></extra>\",\"ids\":[2000,2001,2002,2003,2004,2005,2006,2007,2008,2009,2010,2011,2012,2013,2014,2015],\"legendgroup\":\"Haiti\",\"line\":{\"color\":\"#FFA15A\",\"dash\":\"solid\"},\"marker\":{\"symbol\":\"circle\"},\"mode\":\"lines+markers\",\"name\":\"Haiti\",\"orientation\":\"v\",\"showlegend\":true,\"x\":[2000,2001,2002,2003,2004,2005,2006,2007,2008,2009,2010,2011,2012,2013,2014,2015],\"xaxis\":\"x\",\"y\":[58.6,58.9,59.3,59.7,58.7,65.0,61.1,61.8,62.1,62.5,36.3,62.3,62.3,62.7,63.1,63.5],\"yaxis\":\"y\",\"type\":\"scatter\"}],\"name\":\"Haiti\"},{\"data\":[{\"hovertemplate\":\"Country=Guinea-Bissau<br>Year=%{x}<br>Life expectancy =%{y}<extra></extra>\",\"ids\":[2000,2001,2002,2003,2004,2005,2006,2007,2008,2009,2010,2011,2012,2013,2014,2015],\"legendgroup\":\"Guinea-Bissau\",\"line\":{\"color\":\"#19d3f3\",\"dash\":\"solid\"},\"marker\":{\"symbol\":\"circle\"},\"mode\":\"lines+markers\",\"name\":\"Guinea-Bissau\",\"orientation\":\"v\",\"showlegend\":true,\"x\":[2000,2001,2002,2003,2004,2005,2006,2007,2008,2009,2010,2011,2012,2013,2014,2015],\"xaxis\":\"x\",\"y\":[52.1,52.5,52.8,53.0,53.5,53.9,54.4,55.0,55.6,56.3,56.7,57.1,57.6,58.1,58.4,58.9],\"yaxis\":\"y\",\"type\":\"scatter\"}],\"name\":\"Guinea-Bissau\"},{\"data\":[{\"hovertemplate\":\"Country=United Arab Emirates<br>Year=%{x}<br>Life expectancy =%{y}<extra></extra>\",\"ids\":[2000,2001,2002,2003,2004,2005,2006,2007,2008,2009,2010,2011,2012,2013,2014,2015],\"legendgroup\":\"United Arab Emirates\",\"line\":{\"color\":\"#FF6692\",\"dash\":\"solid\"},\"marker\":{\"symbol\":\"circle\"},\"mode\":\"lines+markers\",\"name\":\"United Arab Emirates\",\"orientation\":\"v\",\"showlegend\":true,\"x\":[2000,2001,2002,2003,2004,2005,2006,2007,2008,2009,2010,2011,2012,2013,2014,2015],\"xaxis\":\"x\",\"y\":[74.2,74.5,74.7,74.9,75.1,75.3,75.4,75.6,75.8,76.0,76.2,76.3,76.5,76.7,76.9,77.1],\"yaxis\":\"y\",\"type\":\"scatter\"}],\"name\":\"United Arab Emirates\"},{\"data\":[{\"hovertemplate\":\"Country=United Republic of Tanzania<br>Year=%{x}<br>Life expectancy =%{y}<extra></extra>\",\"ids\":[2000,2001,2002,2003,2004,2005,2006,2007,2008,2009,2010,2011,2012,2013,2014,2015],\"legendgroup\":\"United Republic of Tanzania\",\"line\":{\"color\":\"#B6E880\",\"dash\":\"solid\"},\"marker\":{\"symbol\":\"circle\"},\"mode\":\"lines+markers\",\"name\":\"United Republic of Tanzania\",\"orientation\":\"v\",\"showlegend\":true,\"x\":[2000,2001,2002,2003,2004,2005,2006,2007,2008,2009,2010,2011,2012,2013,2014,2015],\"xaxis\":\"x\",\"y\":[49.2,49.6,52.0,58.0,51.5,52.2,53.1,54.5,56.2,56.9,57.5,58.3,58.6,59.7,67.0,61.8],\"yaxis\":\"y\",\"type\":\"scatter\"}],\"name\":\"United Republic of Tanzania\"},{\"data\":[{\"hovertemplate\":\"Country=Iceland<br>Year=%{x}<br>Life expectancy =%{y}<extra></extra>\",\"ids\":[2000,2001,2002,2003,2004,2005,2006,2007,2008,2009,2010,2011,2012,2013,2014,2015],\"legendgroup\":\"Iceland\",\"line\":{\"color\":\"#FF97FF\",\"dash\":\"solid\"},\"marker\":{\"symbol\":\"circle\"},\"mode\":\"lines+markers\",\"name\":\"Iceland\",\"orientation\":\"v\",\"showlegend\":true,\"x\":[2000,2001,2002,2003,2004,2005,2006,2007,2008,2009,2010,2011,2012,2013,2014,2015],\"xaxis\":\"x\",\"y\":[79.7,80.0,84.0,87.0,88.0,81.0,81.1,81.3,81.4,81.6,81.8,82.1,82.5,82.4,82.5,82.7],\"yaxis\":\"y\",\"type\":\"scatter\"}],\"name\":\"Iceland\"},{\"data\":[{\"hovertemplate\":\"Country=Uganda<br>Year=%{x}<br>Life expectancy =%{y}<extra></extra>\",\"ids\":[2000,2001,2002,2003,2004,2005,2006,2007,2008,2009,2010,2011,2012,2013,2014,2015],\"legendgroup\":\"Uganda\",\"line\":{\"color\":\"#FECB52\",\"dash\":\"solid\"},\"marker\":{\"symbol\":\"circle\"},\"mode\":\"lines+markers\",\"name\":\"Uganda\",\"orientation\":\"v\",\"showlegend\":true,\"x\":[2000,2001,2002,2003,2004,2005,2006,2007,2008,2009,2010,2011,2012,2013,2014,2015],\"xaxis\":\"x\",\"y\":[46.6,47.7,48.8,51.0,51.3,53.2,54.9,55.5,56.3,57.5,58.4,59.3,60.0,67.0,61.5,62.3],\"yaxis\":\"y\",\"type\":\"scatter\"}],\"name\":\"Uganda\"},{\"data\":[{\"hovertemplate\":\"Country=Guyana<br>Year=%{x}<br>Life expectancy =%{y}<extra></extra>\",\"ids\":[2000,2001,2002,2003,2004,2005,2006,2007,2008,2009,2010,2011,2012,2013,2014,2015],\"legendgroup\":\"Guyana\",\"line\":{\"color\":\"#636efa\",\"dash\":\"solid\"},\"marker\":{\"symbol\":\"circle\"},\"mode\":\"lines+markers\",\"name\":\"Guyana\",\"orientation\":\"v\",\"showlegend\":true,\"x\":[2000,2001,2002,2003,2004,2005,2006,2007,2008,2009,2010,2011,2012,2013,2014,2015],\"xaxis\":\"x\",\"y\":[65.4,65.4,65.3,65.3,65.1,65.0,65.2,65.7,66.3,66.1,65.9,65.6,65.8,65.9,66.0,66.2],\"yaxis\":\"y\",\"type\":\"scatter\"}],\"name\":\"Guyana\"},{\"data\":[{\"hovertemplate\":\"Country=Germany<br>Year=%{x}<br>Life expectancy =%{y}<extra></extra>\",\"ids\":[2000,2001,2002,2003,2004,2005,2006,2007,2008,2009,2010,2011,2012,2013,2014,2015],\"legendgroup\":\"Germany\",\"line\":{\"color\":\"#EF553B\",\"dash\":\"solid\"},\"marker\":{\"symbol\":\"circle\"},\"mode\":\"lines+markers\",\"name\":\"Germany\",\"orientation\":\"v\",\"showlegend\":true,\"x\":[2000,2001,2002,2003,2004,2005,2006,2007,2008,2009,2010,2011,2012,2013,2014,2015],\"xaxis\":\"x\",\"y\":[78.0,78.3,78.4,78.5,79.1,79.2,79.6,79.8,79.9,80.0,81.0,85.0,86.0,86.0,89.0,81.0],\"yaxis\":\"y\",\"type\":\"scatter\"}],\"name\":\"Germany\"},{\"data\":[{\"hovertemplate\":\"Country=United Kingdom of Great Britain and Northern Ireland<br>Year=%{x}<br>Life expectancy =%{y}<extra></extra>\",\"ids\":[2000,2001,2002,2003,2004,2005,2006,2007,2008,2009,2010,2011,2012,2013,2014,2015],\"legendgroup\":\"United Kingdom of Great Britain and Northern Ireland\",\"line\":{\"color\":\"#00cc96\",\"dash\":\"solid\"},\"marker\":{\"symbol\":\"circle\"},\"mode\":\"lines+markers\",\"name\":\"United Kingdom of Great Britain and Northern Ireland\",\"orientation\":\"v\",\"showlegend\":true,\"x\":[2000,2001,2002,2003,2004,2005,2006,2007,2008,2009,2010,2011,2012,2013,2014,2015],\"xaxis\":\"x\",\"y\":[77.8,78.0,78.2,78.3,78.8,79.0,79.3,79.5,79.6,81.0,82.0,86.0,86.0,87.0,81.0,81.2],\"yaxis\":\"y\",\"type\":\"scatter\"}],\"name\":\"United Kingdom of Great Britain and Northern Ireland\"},{\"data\":[{\"hovertemplate\":\"Country=Antigua and Barbuda<br>Year=%{x}<br>Life expectancy =%{y}<extra></extra>\",\"ids\":[2000,2001,2002,2003,2004,2005,2006,2007,2008,2009,2010,2011,2012,2013,2014,2015],\"legendgroup\":\"Antigua and Barbuda\",\"line\":{\"color\":\"#ab63fa\",\"dash\":\"solid\"},\"marker\":{\"symbol\":\"circle\"},\"mode\":\"lines+markers\",\"name\":\"Antigua and Barbuda\",\"orientation\":\"v\",\"showlegend\":true,\"x\":[2000,2001,2002,2003,2004,2005,2006,2007,2008,2009,2010,2011,2012,2013,2014,2015],\"xaxis\":\"x\",\"y\":[73.6,73.8,74.0,74.2,74.4,74.6,74.8,75.0,75.2,75.4,75.6,75.7,75.9,76.1,76.2,76.4],\"yaxis\":\"y\",\"type\":\"scatter\"}],\"name\":\"Antigua and Barbuda\"},{\"data\":[{\"hovertemplate\":\"Country=Vanuatu<br>Year=%{x}<br>Life expectancy =%{y}<extra></extra>\",\"ids\":[2000,2001,2002,2003,2004,2005,2006,2007,2008,2009,2010,2011,2012,2013,2014,2015],\"legendgroup\":\"Vanuatu\",\"line\":{\"color\":\"#FFA15A\",\"dash\":\"solid\"},\"marker\":{\"symbol\":\"circle\"},\"mode\":\"lines+markers\",\"name\":\"Vanuatu\",\"orientation\":\"v\",\"showlegend\":true,\"x\":[2000,2001,2002,2003,2004,2005,2006,2007,2008,2009,2010,2011,2012,2013,2014,2015],\"xaxis\":\"x\",\"y\":[69.0,69.1,69.3,69.4,69.6,69.9,71.0,73.0,75.0,78.0,71.0,71.2,71.4,71.6,71.7,72.0],\"yaxis\":\"y\",\"type\":\"scatter\"}],\"name\":\"Vanuatu\"},{\"data\":[{\"hovertemplate\":\"Country=Yemen<br>Year=%{x}<br>Life expectancy =%{y}<extra></extra>\",\"ids\":[2000,2001,2002,2003,2004,2005,2006,2007,2008,2009,2010,2011,2012,2013,2014,2015],\"legendgroup\":\"Yemen\",\"line\":{\"color\":\"#19d3f3\",\"dash\":\"solid\"},\"marker\":{\"symbol\":\"circle\"},\"mode\":\"lines+markers\",\"name\":\"Yemen\",\"orientation\":\"v\",\"showlegend\":true,\"x\":[2000,2001,2002,2003,2004,2005,2006,2007,2008,2009,2010,2011,2012,2013,2014,2015],\"xaxis\":\"x\",\"y\":[68.0,61.1,61.5,61.9,62.2,62.6,63.0,63.4,63.8,64.1,64.4,64.6,64.7,65.4,65.4,65.7],\"yaxis\":\"y\",\"type\":\"scatter\"}],\"name\":\"Yemen\"},{\"data\":[{\"hovertemplate\":\"Country=Turkmenistan<br>Year=%{x}<br>Life expectancy =%{y}<extra></extra>\",\"ids\":[2000,2001,2002,2003,2004,2005,2006,2007,2008,2009,2010,2011,2012,2013,2014,2015],\"legendgroup\":\"Turkmenistan\",\"line\":{\"color\":\"#FF6692\",\"dash\":\"solid\"},\"marker\":{\"symbol\":\"circle\"},\"mode\":\"lines+markers\",\"name\":\"Turkmenistan\",\"orientation\":\"v\",\"showlegend\":true,\"x\":[2000,2001,2002,2003,2004,2005,2006,2007,2008,2009,2010,2011,2012,2013,2014,2015],\"xaxis\":\"x\",\"y\":[63.8,64.0,63.3,63.4,63.5,63.3,63.7,64.1,64.5,65.6,65.8,65.6,65.6,65.4,66.0,66.3],\"yaxis\":\"y\",\"type\":\"scatter\"}],\"name\":\"Turkmenistan\"},{\"data\":[{\"hovertemplate\":\"Country=Afghanistan<br>Year=%{x}<br>Life expectancy =%{y}<extra></extra>\",\"ids\":[2000,2001,2002,2003,2004,2005,2006,2007,2008,2009,2010,2011,2012,2013,2014,2015],\"legendgroup\":\"Afghanistan\",\"line\":{\"color\":\"#B6E880\",\"dash\":\"solid\"},\"marker\":{\"symbol\":\"circle\"},\"mode\":\"lines+markers\",\"name\":\"Afghanistan\",\"orientation\":\"v\",\"showlegend\":true,\"x\":[2000,2001,2002,2003,2004,2005,2006,2007,2008,2009,2010,2011,2012,2013,2014,2015],\"xaxis\":\"x\",\"y\":[54.8,55.3,56.2,56.7,57.0,57.3,57.3,57.5,58.1,58.6,58.8,59.2,59.5,59.9,59.9,65.0],\"yaxis\":\"y\",\"type\":\"scatter\"}],\"name\":\"Afghanistan\"},{\"data\":[{\"hovertemplate\":\"Country=Armenia<br>Year=%{x}<br>Life expectancy =%{y}<extra></extra>\",\"ids\":[2000,2001,2002,2003,2004,2005,2006,2007,2008,2009,2010,2011,2012,2013,2014,2015],\"legendgroup\":\"Armenia\",\"line\":{\"color\":\"#FF97FF\",\"dash\":\"solid\"},\"marker\":{\"symbol\":\"circle\"},\"mode\":\"lines+markers\",\"name\":\"Armenia\",\"orientation\":\"v\",\"showlegend\":true,\"x\":[2000,2001,2002,2003,2004,2005,2006,2007,2008,2009,2010,2011,2012,2013,2014,2015],\"xaxis\":\"x\",\"y\":[72.0,72.6,72.6,72.7,73.0,73.0,72.9,73.5,73.2,73.3,73.5,73.9,74.4,74.4,74.6,74.8],\"yaxis\":\"y\",\"type\":\"scatter\"}],\"name\":\"Armenia\"},{\"data\":[{\"hovertemplate\":\"Country=Albania<br>Year=%{x}<br>Life expectancy =%{y}<extra></extra>\",\"ids\":[2000,2001,2002,2003,2004,2005,2006,2007,2008,2009,2010,2011,2012,2013,2014,2015],\"legendgroup\":\"Albania\",\"line\":{\"color\":\"#FECB52\",\"dash\":\"solid\"},\"marker\":{\"symbol\":\"circle\"},\"mode\":\"lines+markers\",\"name\":\"Albania\",\"orientation\":\"v\",\"showlegend\":true,\"x\":[2000,2001,2002,2003,2004,2005,2006,2007,2008,2009,2010,2011,2012,2013,2014,2015],\"xaxis\":\"x\",\"y\":[72.6,73.6,73.3,72.8,73.0,73.5,74.2,75.9,75.3,76.1,76.2,76.6,76.9,77.2,77.5,77.8],\"yaxis\":\"y\",\"type\":\"scatter\"}],\"name\":\"Albania\"},{\"data\":[{\"hovertemplate\":\"Country=Gambia<br>Year=%{x}<br>Life expectancy =%{y}<extra></extra>\",\"ids\":[2000,2001,2002,2003,2004,2005,2006,2007,2008,2009,2010,2011,2012,2013,2014,2015],\"legendgroup\":\"Gambia\",\"line\":{\"color\":\"#636efa\",\"dash\":\"solid\"},\"marker\":{\"symbol\":\"circle\"},\"mode\":\"lines+markers\",\"name\":\"Gambia\",\"orientation\":\"v\",\"showlegend\":true,\"x\":[2000,2001,2002,2003,2004,2005,2006,2007,2008,2009,2010,2011,2012,2013,2014,2015],\"xaxis\":\"x\",\"y\":[55.9,56.3,56.6,57.0,57.3,57.7,58.2,58.5,58.7,59.0,59.3,59.8,62.0,66.0,68.0,61.1],\"yaxis\":\"y\",\"type\":\"scatter\"}],\"name\":\"Gambia\"},{\"data\":[{\"hovertemplate\":\"Country=Argentina<br>Year=%{x}<br>Life expectancy =%{y}<extra></extra>\",\"ids\":[2000,2001,2002,2003,2004,2005,2006,2007,2008,2009,2010,2011,2012,2013,2014,2015],\"legendgroup\":\"Argentina\",\"line\":{\"color\":\"#EF553B\",\"dash\":\"solid\"},\"marker\":{\"symbol\":\"circle\"},\"mode\":\"lines+markers\",\"name\":\"Argentina\",\"orientation\":\"v\",\"showlegend\":true,\"x\":[2000,2001,2002,2003,2004,2005,2006,2007,2008,2009,2010,2011,2012,2013,2014,2015],\"xaxis\":\"x\",\"y\":[74.1,74.0,74.1,74.1,74.7,74.9,75.2,74.8,75.4,75.6,75.5,75.7,75.9,76.0,76.2,76.3],\"yaxis\":\"y\",\"type\":\"scatter\"}],\"name\":\"Argentina\"},{\"data\":[{\"hovertemplate\":\"Country=Grenada<br>Year=%{x}<br>Life expectancy =%{y}<extra></extra>\",\"ids\":[2000,2001,2002,2003,2004,2005,2006,2007,2008,2009,2010,2011,2012,2013,2014,2015],\"legendgroup\":\"Grenada\",\"line\":{\"color\":\"#00cc96\",\"dash\":\"solid\"},\"marker\":{\"symbol\":\"circle\"},\"mode\":\"lines+markers\",\"name\":\"Grenada\",\"orientation\":\"v\",\"showlegend\":true,\"x\":[2000,2001,2002,2003,2004,2005,2006,2007,2008,2009,2010,2011,2012,2013,2014,2015],\"xaxis\":\"x\",\"y\":[74.0,77.0,79.0,71.1,73.0,71.5,71.7,71.9,72.1,72.4,72.6,72.9,73.1,73.3,73.5,73.6],\"yaxis\":\"y\",\"type\":\"scatter\"}],\"name\":\"Grenada\"},{\"data\":[{\"hovertemplate\":\"Country=Ukraine<br>Year=%{x}<br>Life expectancy =%{y}<extra></extra>\",\"ids\":[2000,2001,2002,2003,2004,2005,2006,2007,2008,2009,2010,2011,2012,2013,2014,2015],\"legendgroup\":\"Ukraine\",\"line\":{\"color\":\"#ab63fa\",\"dash\":\"solid\"},\"marker\":{\"symbol\":\"circle\"},\"mode\":\"lines+markers\",\"name\":\"Ukraine\",\"orientation\":\"v\",\"showlegend\":true,\"x\":[2000,2001,2002,2003,2004,2005,2006,2007,2008,2009,2010,2011,2012,2013,2014,2015],\"xaxis\":\"x\",\"y\":[67.5,67.7,67.6,67.6,67.4,67.0,67.7,67.5,67.7,69.2,69.8,75.0,77.0,71.0,78.0,71.3],\"yaxis\":\"y\",\"type\":\"scatter\"}],\"name\":\"Ukraine\"},{\"data\":[{\"hovertemplate\":\"Country=Tunisia<br>Year=%{x}<br>Life expectancy =%{y}<extra></extra>\",\"ids\":[2000,2001,2002,2003,2004,2005,2006,2007,2008,2009,2010,2011,2012,2013,2014,2015],\"legendgroup\":\"Tunisia\",\"line\":{\"color\":\"#FFA15A\",\"dash\":\"solid\"},\"marker\":{\"symbol\":\"circle\"},\"mode\":\"lines+markers\",\"name\":\"Tunisia\",\"orientation\":\"v\",\"showlegend\":true,\"x\":[2000,2001,2002,2003,2004,2005,2006,2007,2008,2009,2010,2011,2012,2013,2014,2015],\"xaxis\":\"x\",\"y\":[72.9,73.2,73.5,73.7,74.0,74.2,74.4,74.6,74.7,74.7,74.8,74.8,74.9,74.9,75.1,75.3],\"yaxis\":\"y\",\"type\":\"scatter\"}],\"name\":\"Tunisia\"},{\"data\":[{\"hovertemplate\":\"Country=Zambia<br>Year=%{x}<br>Life expectancy =%{y}<extra></extra>\",\"ids\":[2000,2001,2002,2003,2004,2005,2006,2007,2008,2009,2010,2011,2012,2013,2014,2015],\"legendgroup\":\"Zambia\",\"line\":{\"color\":\"#19d3f3\",\"dash\":\"solid\"},\"marker\":{\"symbol\":\"circle\"},\"mode\":\"lines+markers\",\"name\":\"Zambia\",\"orientation\":\"v\",\"showlegend\":true,\"x\":[2000,2001,2002,2003,2004,2005,2006,2007,2008,2009,2010,2011,2012,2013,2014,2015],\"xaxis\":\"x\",\"y\":[43.8,44.6,45.5,46.4,47.9,49.3,58.0,52.6,55.7,57.4,58.0,58.2,59.2,63.0,61.1,61.8],\"yaxis\":\"y\",\"type\":\"scatter\"}],\"name\":\"Zambia\"},{\"data\":[{\"hovertemplate\":\"Country=Uzbekistan<br>Year=%{x}<br>Life expectancy =%{y}<extra></extra>\",\"ids\":[2000,2001,2002,2003,2004,2005,2006,2007,2008,2009,2010,2011,2012,2013,2014,2015],\"legendgroup\":\"Uzbekistan\",\"line\":{\"color\":\"#FF6692\",\"dash\":\"solid\"},\"marker\":{\"symbol\":\"circle\"},\"mode\":\"lines+markers\",\"name\":\"Uzbekistan\",\"orientation\":\"v\",\"showlegend\":true,\"x\":[2000,2001,2002,2003,2004,2005,2006,2007,2008,2009,2010,2011,2012,2013,2014,2015],\"xaxis\":\"x\",\"y\":[67.1,67.4,67.1,67.2,67.8,67.3,67.6,67.8,67.9,68.0,68.3,68.5,68.8,69.1,69.2,69.4],\"yaxis\":\"y\",\"type\":\"scatter\"}],\"name\":\"Uzbekistan\"},{\"data\":[{\"hovertemplate\":\"Country=Angola<br>Year=%{x}<br>Life expectancy =%{y}<extra></extra>\",\"ids\":[2000,2001,2002,2003,2004,2005,2006,2007,2008,2009,2010,2011,2012,2013,2014,2015],\"legendgroup\":\"Angola\",\"line\":{\"color\":\"#B6E880\",\"dash\":\"solid\"},\"marker\":{\"symbol\":\"circle\"},\"mode\":\"lines+markers\",\"name\":\"Angola\",\"orientation\":\"v\",\"showlegend\":true,\"x\":[2000,2001,2002,2003,2004,2005,2006,2007,2008,2009,2010,2011,2012,2013,2014,2015],\"xaxis\":\"x\",\"y\":[45.3,45.7,46.5,46.8,47.1,47.4,47.7,48.2,48.7,49.1,49.6,51.0,56.0,51.1,51.7,52.4],\"yaxis\":\"y\",\"type\":\"scatter\"}],\"name\":\"Angola\"},{\"data\":[{\"hovertemplate\":\"Country=Georgia<br>Year=%{x}<br>Life expectancy =%{y}<extra></extra>\",\"ids\":[2000,2001,2002,2003,2004,2005,2006,2007,2008,2009,2010,2011,2012,2013,2014,2015],\"legendgroup\":\"Georgia\",\"line\":{\"color\":\"#FF97FF\",\"dash\":\"solid\"},\"marker\":{\"symbol\":\"circle\"},\"mode\":\"lines+markers\",\"name\":\"Georgia\",\"orientation\":\"v\",\"showlegend\":true,\"x\":[2000,2001,2002,2003,2004,2005,2006,2007,2008,2009,2010,2011,2012,2013,2014,2015],\"xaxis\":\"x\",\"y\":[71.8,73.0,71.7,72.7,72.3,73.9,73.9,74.4,73.9,73.2,73.8,73.9,74.2,74.5,74.5,74.4],\"yaxis\":\"y\",\"type\":\"scatter\"}],\"name\":\"Georgia\"},{\"data\":[{\"hovertemplate\":\"Country=Gabon<br>Year=%{x}<br>Life expectancy =%{y}<extra></extra>\",\"ids\":[2000,2001,2002,2003,2004,2005,2006,2007,2008,2009,2010,2011,2012,2013,2014,2015],\"legendgroup\":\"Gabon\",\"line\":{\"color\":\"#FECB52\",\"dash\":\"solid\"},\"marker\":{\"symbol\":\"circle\"},\"mode\":\"lines+markers\",\"name\":\"Gabon\",\"orientation\":\"v\",\"showlegend\":true,\"x\":[2000,2001,2002,2003,2004,2005,2006,2007,2008,2009,2010,2011,2012,2013,2014,2015],\"xaxis\":\"x\",\"y\":[61.0,59.8,59.7,59.7,59.7,65.0,61.4,61.6,61.6,61.7,62.3,62.8,63.5,64.6,65.5,66.0],\"yaxis\":\"y\",\"type\":\"scatter\"}],\"name\":\"Gabon\"},{\"data\":[{\"hovertemplate\":\"Country=Honduras<br>Year=%{x}<br>Life expectancy =%{y}<extra></extra>\",\"ids\":[2000,2001,2002,2003,2004,2005,2006,2007,2008,2009,2010,2011,2012,2013,2014,2015],\"legendgroup\":\"Honduras\",\"line\":{\"color\":\"#636efa\",\"dash\":\"solid\"},\"marker\":{\"symbol\":\"circle\"},\"mode\":\"lines+markers\",\"name\":\"Honduras\",\"orientation\":\"v\",\"showlegend\":true,\"x\":[2000,2001,2002,2003,2004,2005,2006,2007,2008,2009,2010,2011,2012,2013,2014,2015],\"xaxis\":\"x\",\"y\":[71.0,71.3,71.6,71.9,72.2,72.5,72.8,73.0,73.2,73.4,73.6,73.9,74.1,74.3,74.5,74.6],\"yaxis\":\"y\",\"type\":\"scatter\"}],\"name\":\"Honduras\"},{\"data\":[{\"hovertemplate\":\"Country=Uruguay<br>Year=%{x}<br>Life expectancy =%{y}<extra></extra>\",\"ids\":[2000,2001,2002,2003,2004,2005,2006,2007,2008,2009,2010,2011,2012,2013,2014,2015],\"legendgroup\":\"Uruguay\",\"line\":{\"color\":\"#EF553B\",\"dash\":\"solid\"},\"marker\":{\"symbol\":\"circle\"},\"mode\":\"lines+markers\",\"name\":\"Uruguay\",\"orientation\":\"v\",\"showlegend\":true,\"x\":[2000,2001,2002,2003,2004,2005,2006,2007,2008,2009,2010,2011,2012,2013,2014,2015],\"xaxis\":\"x\",\"y\":[75.1,75.2,75.4,75.4,75.4,75.7,76.2,75.4,76.4,76.6,76.3,77.0,76.5,76.8,76.8,77.0],\"yaxis\":\"y\",\"type\":\"scatter\"}],\"name\":\"Uruguay\"},{\"data\":[{\"hovertemplate\":\"Country=Guinea<br>Year=%{x}<br>Life expectancy =%{y}<extra></extra>\",\"ids\":[2000,2001,2002,2003,2004,2005,2006,2007,2008,2009,2010,2011,2012,2013,2014,2015],\"legendgroup\":\"Guinea\",\"line\":{\"color\":\"#00cc96\",\"dash\":\"solid\"},\"marker\":{\"symbol\":\"circle\"},\"mode\":\"lines+markers\",\"name\":\"Guinea\",\"orientation\":\"v\",\"showlegend\":true,\"x\":[2000,2001,2002,2003,2004,2005,2006,2007,2008,2009,2010,2011,2012,2013,2014,2015],\"xaxis\":\"x\",\"y\":[52.5,52.5,52.9,53.3,54.0,54.7,55.6,56.4,56.8,57.3,57.8,58.1,58.4,58.8,58.1,59.0],\"yaxis\":\"y\",\"type\":\"scatter\"}],\"name\":\"Guinea\"},{\"data\":[{\"hovertemplate\":\"Country=Marshall Islands<br>Year=%{x}<br>Life expectancy =%{y}<extra></extra>\",\"ids\":[2013],\"legendgroup\":\"Marshall Islands\",\"line\":{\"color\":\"#ab63fa\",\"dash\":\"solid\"},\"marker\":{\"symbol\":\"circle\"},\"mode\":\"lines+markers\",\"name\":\"Marshall Islands\",\"orientation\":\"v\",\"showlegend\":true,\"x\":[2013],\"xaxis\":\"x\",\"y\":[69.22493169398908],\"yaxis\":\"y\",\"type\":\"scatter\"}],\"name\":\"Marshall Islands\"},{\"data\":[{\"hovertemplate\":\"Country=Palau<br>Year=%{x}<br>Life expectancy =%{y}<extra></extra>\",\"ids\":[2013],\"legendgroup\":\"Palau\",\"line\":{\"color\":\"#FFA15A\",\"dash\":\"solid\"},\"marker\":{\"symbol\":\"circle\"},\"mode\":\"lines+markers\",\"name\":\"Palau\",\"orientation\":\"v\",\"showlegend\":true,\"x\":[2013],\"xaxis\":\"x\",\"y\":[69.22493169398908],\"yaxis\":\"y\",\"type\":\"scatter\"}],\"name\":\"Palau\"},{\"data\":[{\"hovertemplate\":\"Country=Monaco<br>Year=%{x}<br>Life expectancy =%{y}<extra></extra>\",\"ids\":[2013],\"legendgroup\":\"Monaco\",\"line\":{\"color\":\"#19d3f3\",\"dash\":\"solid\"},\"marker\":{\"symbol\":\"circle\"},\"mode\":\"lines+markers\",\"name\":\"Monaco\",\"orientation\":\"v\",\"showlegend\":true,\"x\":[2013],\"xaxis\":\"x\",\"y\":[69.22493169398908],\"yaxis\":\"y\",\"type\":\"scatter\"}],\"name\":\"Monaco\"},{\"data\":[{\"hovertemplate\":\"Country=Cook Islands<br>Year=%{x}<br>Life expectancy =%{y}<extra></extra>\",\"ids\":[2013],\"legendgroup\":\"Cook Islands\",\"line\":{\"color\":\"#FF6692\",\"dash\":\"solid\"},\"marker\":{\"symbol\":\"circle\"},\"mode\":\"lines+markers\",\"name\":\"Cook Islands\",\"orientation\":\"v\",\"showlegend\":true,\"x\":[2013],\"xaxis\":\"x\",\"y\":[69.22493169398908],\"yaxis\":\"y\",\"type\":\"scatter\"}],\"name\":\"Cook Islands\"},{\"data\":[{\"hovertemplate\":\"Country=Niue<br>Year=%{x}<br>Life expectancy =%{y}<extra></extra>\",\"ids\":[2013],\"legendgroup\":\"Niue\",\"line\":{\"color\":\"#B6E880\",\"dash\":\"solid\"},\"marker\":{\"symbol\":\"circle\"},\"mode\":\"lines+markers\",\"name\":\"Niue\",\"orientation\":\"v\",\"showlegend\":true,\"x\":[2013],\"xaxis\":\"x\",\"y\":[69.22493169398908],\"yaxis\":\"y\",\"type\":\"scatter\"}],\"name\":\"Niue\"},{\"data\":[{\"hovertemplate\":\"Country=Nauru<br>Year=%{x}<br>Life expectancy =%{y}<extra></extra>\",\"ids\":[2013],\"legendgroup\":\"Nauru\",\"line\":{\"color\":\"#FF97FF\",\"dash\":\"solid\"},\"marker\":{\"symbol\":\"circle\"},\"mode\":\"lines+markers\",\"name\":\"Nauru\",\"orientation\":\"v\",\"showlegend\":true,\"x\":[2013],\"xaxis\":\"x\",\"y\":[69.22493169398908],\"yaxis\":\"y\",\"type\":\"scatter\"}],\"name\":\"Nauru\"},{\"data\":[{\"hovertemplate\":\"Country=Saint Kitts and Nevis<br>Year=%{x}<br>Life expectancy =%{y}<extra></extra>\",\"ids\":[2013],\"legendgroup\":\"Saint Kitts and Nevis\",\"line\":{\"color\":\"#FECB52\",\"dash\":\"solid\"},\"marker\":{\"symbol\":\"circle\"},\"mode\":\"lines+markers\",\"name\":\"Saint Kitts and Nevis\",\"orientation\":\"v\",\"showlegend\":true,\"x\":[2013],\"xaxis\":\"x\",\"y\":[69.22493169398908],\"yaxis\":\"y\",\"type\":\"scatter\"}],\"name\":\"Saint Kitts and Nevis\"},{\"data\":[{\"hovertemplate\":\"Country=Dominica<br>Year=%{x}<br>Life expectancy =%{y}<extra></extra>\",\"ids\":[2013],\"legendgroup\":\"Dominica\",\"line\":{\"color\":\"#636efa\",\"dash\":\"solid\"},\"marker\":{\"symbol\":\"circle\"},\"mode\":\"lines+markers\",\"name\":\"Dominica\",\"orientation\":\"v\",\"showlegend\":true,\"x\":[2013],\"xaxis\":\"x\",\"y\":[69.22493169398908],\"yaxis\":\"y\",\"type\":\"scatter\"}],\"name\":\"Dominica\"},{\"data\":[{\"hovertemplate\":\"Country=Tuvalu<br>Year=%{x}<br>Life expectancy =%{y}<extra></extra>\",\"ids\":[2013],\"legendgroup\":\"Tuvalu\",\"line\":{\"color\":\"#EF553B\",\"dash\":\"solid\"},\"marker\":{\"symbol\":\"circle\"},\"mode\":\"lines+markers\",\"name\":\"Tuvalu\",\"orientation\":\"v\",\"showlegend\":true,\"x\":[2013],\"xaxis\":\"x\",\"y\":[69.22493169398908],\"yaxis\":\"y\",\"type\":\"scatter\"}],\"name\":\"Tuvalu\"},{\"data\":[{\"hovertemplate\":\"Country=San Marino<br>Year=%{x}<br>Life expectancy =%{y}<extra></extra>\",\"ids\":[2013],\"legendgroup\":\"San Marino\",\"line\":{\"color\":\"#00cc96\",\"dash\":\"solid\"},\"marker\":{\"symbol\":\"circle\"},\"mode\":\"lines+markers\",\"name\":\"San Marino\",\"orientation\":\"v\",\"showlegend\":true,\"x\":[2013],\"xaxis\":\"x\",\"y\":[69.22493169398908],\"yaxis\":\"y\",\"type\":\"scatter\"}],\"name\":\"San Marino\"}]);\n",
       "                        }).then(function(){\n",
       "                            \n",
       "var gd = document.getElementById('f033fe24-e0df-435c-880a-9074f4f654dd');\n",
       "var x = new MutationObserver(function (mutations, observer) {{\n",
       "        var display = window.getComputedStyle(gd).display;\n",
       "        if (!display || display === 'none') {{\n",
       "            console.log([gd, 'removed!']);\n",
       "            Plotly.purge(gd);\n",
       "            observer.disconnect();\n",
       "        }}\n",
       "}});\n",
       "\n",
       "// Listen for the removal of the full notebook cells\n",
       "var notebookContainer = gd.closest('#notebook-container');\n",
       "if (notebookContainer) {{\n",
       "    x.observe(notebookContainer, {childList: true});\n",
       "}}\n",
       "\n",
       "// Listen for the clearing of the current output cell\n",
       "var outputEl = gd.closest('.output');\n",
       "if (outputEl) {{\n",
       "    x.observe(outputEl, {childList: true});\n",
       "}}\n",
       "\n",
       "                        })                };                });            </script>        </div>"
      ]
     },
     "metadata": {},
     "output_type": "display_data"
    }
   ],
   "source": [
    "fig=px.line(df.sort_values(by='Year'),x='Year',y='Life expectancy ',animation_frame='Country',animation_group='Year',color='Country',markers=True,template='plotly_dark',title='<b> Country wise Life Expectancy over Years')\n",
    "fig.show()"
   ]
  },
  {
   "cell_type": "code",
   "execution_count": 256,
   "id": "29ce6909-63ac-4108-a34b-3937d764d973",
   "metadata": {
    "tags": []
   },
   "outputs": [],
   "source": [
    "df['Status'] = df['Status'].replace({'Developing': 0, 'Developed': 1})"
   ]
  },
  {
   "cell_type": "code",
   "execution_count": 257,
   "id": "dfd754ba-e8b2-4af7-b503-4056d1ee13d0",
   "metadata": {
    "tags": []
   },
   "outputs": [
    {
     "data": {
      "text/html": [
       "<div>\n",
       "<style scoped>\n",
       "    .dataframe tbody tr th:only-of-type {\n",
       "        vertical-align: middle;\n",
       "    }\n",
       "\n",
       "    .dataframe tbody tr th {\n",
       "        vertical-align: top;\n",
       "    }\n",
       "\n",
       "    .dataframe thead th {\n",
       "        text-align: right;\n",
       "    }\n",
       "</style>\n",
       "<table border=\"1\" class=\"dataframe\">\n",
       "  <thead>\n",
       "    <tr style=\"text-align: right;\">\n",
       "      <th></th>\n",
       "      <th>Country</th>\n",
       "      <th>Year</th>\n",
       "      <th>Status</th>\n",
       "      <th>Life expectancy</th>\n",
       "      <th>Adult Mortality</th>\n",
       "      <th>infant deaths</th>\n",
       "      <th>Alcohol</th>\n",
       "      <th>percentage expenditure</th>\n",
       "      <th>Hepatitis B</th>\n",
       "      <th>Measles</th>\n",
       "      <th>BMI</th>\n",
       "      <th>under-five deaths</th>\n",
       "      <th>Polio</th>\n",
       "      <th>Total expenditure</th>\n",
       "      <th>Diphtheria</th>\n",
       "      <th>HIV/AIDS</th>\n",
       "      <th>GDP</th>\n",
       "      <th>Population</th>\n",
       "      <th>thinness  1-19 years</th>\n",
       "      <th>thinness 5-9 years</th>\n",
       "      <th>Income composition of resources</th>\n",
       "      <th>Schooling</th>\n",
       "    </tr>\n",
       "  </thead>\n",
       "  <tbody>\n",
       "    <tr>\n",
       "      <th>0</th>\n",
       "      <td>Afghanistan</td>\n",
       "      <td>2015</td>\n",
       "      <td>0</td>\n",
       "      <td>65.0</td>\n",
       "      <td>263.0</td>\n",
       "      <td>62</td>\n",
       "      <td>0.01</td>\n",
       "      <td>71.279624</td>\n",
       "      <td>65.0</td>\n",
       "      <td>1154</td>\n",
       "      <td>19.1</td>\n",
       "      <td>83</td>\n",
       "      <td>6.0</td>\n",
       "      <td>8.16</td>\n",
       "      <td>65.0</td>\n",
       "      <td>0.1</td>\n",
       "      <td>584.259210</td>\n",
       "      <td>33736494.0</td>\n",
       "      <td>17.2</td>\n",
       "      <td>17.3</td>\n",
       "      <td>0.479</td>\n",
       "      <td>10.1</td>\n",
       "    </tr>\n",
       "    <tr>\n",
       "      <th>1</th>\n",
       "      <td>Afghanistan</td>\n",
       "      <td>2014</td>\n",
       "      <td>0</td>\n",
       "      <td>59.9</td>\n",
       "      <td>271.0</td>\n",
       "      <td>64</td>\n",
       "      <td>0.01</td>\n",
       "      <td>73.523582</td>\n",
       "      <td>62.0</td>\n",
       "      <td>492</td>\n",
       "      <td>18.6</td>\n",
       "      <td>86</td>\n",
       "      <td>58.0</td>\n",
       "      <td>8.18</td>\n",
       "      <td>62.0</td>\n",
       "      <td>0.1</td>\n",
       "      <td>612.696514</td>\n",
       "      <td>327582.0</td>\n",
       "      <td>17.5</td>\n",
       "      <td>17.5</td>\n",
       "      <td>0.476</td>\n",
       "      <td>10.0</td>\n",
       "    </tr>\n",
       "    <tr>\n",
       "      <th>2</th>\n",
       "      <td>Afghanistan</td>\n",
       "      <td>2013</td>\n",
       "      <td>0</td>\n",
       "      <td>59.9</td>\n",
       "      <td>268.0</td>\n",
       "      <td>66</td>\n",
       "      <td>0.01</td>\n",
       "      <td>73.219243</td>\n",
       "      <td>64.0</td>\n",
       "      <td>430</td>\n",
       "      <td>18.1</td>\n",
       "      <td>89</td>\n",
       "      <td>62.0</td>\n",
       "      <td>8.13</td>\n",
       "      <td>64.0</td>\n",
       "      <td>0.1</td>\n",
       "      <td>631.744976</td>\n",
       "      <td>31731688.0</td>\n",
       "      <td>17.7</td>\n",
       "      <td>17.7</td>\n",
       "      <td>0.470</td>\n",
       "      <td>9.9</td>\n",
       "    </tr>\n",
       "    <tr>\n",
       "      <th>3</th>\n",
       "      <td>Afghanistan</td>\n",
       "      <td>2012</td>\n",
       "      <td>0</td>\n",
       "      <td>59.5</td>\n",
       "      <td>272.0</td>\n",
       "      <td>69</td>\n",
       "      <td>0.01</td>\n",
       "      <td>78.184215</td>\n",
       "      <td>67.0</td>\n",
       "      <td>2787</td>\n",
       "      <td>17.6</td>\n",
       "      <td>93</td>\n",
       "      <td>67.0</td>\n",
       "      <td>8.52</td>\n",
       "      <td>67.0</td>\n",
       "      <td>0.1</td>\n",
       "      <td>669.959000</td>\n",
       "      <td>3696958.0</td>\n",
       "      <td>17.9</td>\n",
       "      <td>18.0</td>\n",
       "      <td>0.463</td>\n",
       "      <td>9.8</td>\n",
       "    </tr>\n",
       "    <tr>\n",
       "      <th>4</th>\n",
       "      <td>Afghanistan</td>\n",
       "      <td>2011</td>\n",
       "      <td>0</td>\n",
       "      <td>59.2</td>\n",
       "      <td>275.0</td>\n",
       "      <td>71</td>\n",
       "      <td>0.01</td>\n",
       "      <td>7.097109</td>\n",
       "      <td>68.0</td>\n",
       "      <td>3013</td>\n",
       "      <td>17.2</td>\n",
       "      <td>97</td>\n",
       "      <td>68.0</td>\n",
       "      <td>7.87</td>\n",
       "      <td>68.0</td>\n",
       "      <td>0.1</td>\n",
       "      <td>63.537231</td>\n",
       "      <td>2978599.0</td>\n",
       "      <td>18.2</td>\n",
       "      <td>18.2</td>\n",
       "      <td>0.454</td>\n",
       "      <td>9.5</td>\n",
       "    </tr>\n",
       "    <tr>\n",
       "      <th>...</th>\n",
       "      <td>...</td>\n",
       "      <td>...</td>\n",
       "      <td>...</td>\n",
       "      <td>...</td>\n",
       "      <td>...</td>\n",
       "      <td>...</td>\n",
       "      <td>...</td>\n",
       "      <td>...</td>\n",
       "      <td>...</td>\n",
       "      <td>...</td>\n",
       "      <td>...</td>\n",
       "      <td>...</td>\n",
       "      <td>...</td>\n",
       "      <td>...</td>\n",
       "      <td>...</td>\n",
       "      <td>...</td>\n",
       "      <td>...</td>\n",
       "      <td>...</td>\n",
       "      <td>...</td>\n",
       "      <td>...</td>\n",
       "      <td>...</td>\n",
       "      <td>...</td>\n",
       "    </tr>\n",
       "    <tr>\n",
       "      <th>2933</th>\n",
       "      <td>Zimbabwe</td>\n",
       "      <td>2004</td>\n",
       "      <td>0</td>\n",
       "      <td>44.3</td>\n",
       "      <td>723.0</td>\n",
       "      <td>27</td>\n",
       "      <td>4.36</td>\n",
       "      <td>0.000000</td>\n",
       "      <td>68.0</td>\n",
       "      <td>31</td>\n",
       "      <td>27.1</td>\n",
       "      <td>42</td>\n",
       "      <td>67.0</td>\n",
       "      <td>7.13</td>\n",
       "      <td>65.0</td>\n",
       "      <td>33.6</td>\n",
       "      <td>454.366654</td>\n",
       "      <td>12777511.0</td>\n",
       "      <td>9.4</td>\n",
       "      <td>9.4</td>\n",
       "      <td>0.407</td>\n",
       "      <td>9.2</td>\n",
       "    </tr>\n",
       "    <tr>\n",
       "      <th>2934</th>\n",
       "      <td>Zimbabwe</td>\n",
       "      <td>2003</td>\n",
       "      <td>0</td>\n",
       "      <td>44.5</td>\n",
       "      <td>715.0</td>\n",
       "      <td>26</td>\n",
       "      <td>4.06</td>\n",
       "      <td>0.000000</td>\n",
       "      <td>7.0</td>\n",
       "      <td>998</td>\n",
       "      <td>26.7</td>\n",
       "      <td>41</td>\n",
       "      <td>7.0</td>\n",
       "      <td>6.52</td>\n",
       "      <td>68.0</td>\n",
       "      <td>36.7</td>\n",
       "      <td>453.351155</td>\n",
       "      <td>12633897.0</td>\n",
       "      <td>9.8</td>\n",
       "      <td>9.9</td>\n",
       "      <td>0.418</td>\n",
       "      <td>9.5</td>\n",
       "    </tr>\n",
       "    <tr>\n",
       "      <th>2935</th>\n",
       "      <td>Zimbabwe</td>\n",
       "      <td>2002</td>\n",
       "      <td>0</td>\n",
       "      <td>44.8</td>\n",
       "      <td>73.0</td>\n",
       "      <td>25</td>\n",
       "      <td>4.43</td>\n",
       "      <td>0.000000</td>\n",
       "      <td>73.0</td>\n",
       "      <td>304</td>\n",
       "      <td>26.3</td>\n",
       "      <td>40</td>\n",
       "      <td>73.0</td>\n",
       "      <td>6.53</td>\n",
       "      <td>71.0</td>\n",
       "      <td>39.8</td>\n",
       "      <td>57.348340</td>\n",
       "      <td>125525.0</td>\n",
       "      <td>1.2</td>\n",
       "      <td>1.3</td>\n",
       "      <td>0.427</td>\n",
       "      <td>10.0</td>\n",
       "    </tr>\n",
       "    <tr>\n",
       "      <th>2936</th>\n",
       "      <td>Zimbabwe</td>\n",
       "      <td>2001</td>\n",
       "      <td>0</td>\n",
       "      <td>45.3</td>\n",
       "      <td>686.0</td>\n",
       "      <td>25</td>\n",
       "      <td>1.72</td>\n",
       "      <td>0.000000</td>\n",
       "      <td>76.0</td>\n",
       "      <td>529</td>\n",
       "      <td>25.9</td>\n",
       "      <td>39</td>\n",
       "      <td>76.0</td>\n",
       "      <td>6.16</td>\n",
       "      <td>75.0</td>\n",
       "      <td>42.1</td>\n",
       "      <td>548.587312</td>\n",
       "      <td>12366165.0</td>\n",
       "      <td>1.6</td>\n",
       "      <td>1.7</td>\n",
       "      <td>0.427</td>\n",
       "      <td>9.8</td>\n",
       "    </tr>\n",
       "    <tr>\n",
       "      <th>2937</th>\n",
       "      <td>Zimbabwe</td>\n",
       "      <td>2000</td>\n",
       "      <td>0</td>\n",
       "      <td>46.0</td>\n",
       "      <td>665.0</td>\n",
       "      <td>24</td>\n",
       "      <td>1.68</td>\n",
       "      <td>0.000000</td>\n",
       "      <td>79.0</td>\n",
       "      <td>1483</td>\n",
       "      <td>25.5</td>\n",
       "      <td>39</td>\n",
       "      <td>78.0</td>\n",
       "      <td>7.10</td>\n",
       "      <td>78.0</td>\n",
       "      <td>43.5</td>\n",
       "      <td>547.358878</td>\n",
       "      <td>12222251.0</td>\n",
       "      <td>11.0</td>\n",
       "      <td>11.2</td>\n",
       "      <td>0.434</td>\n",
       "      <td>9.8</td>\n",
       "    </tr>\n",
       "  </tbody>\n",
       "</table>\n",
       "<p>2938 rows × 22 columns</p>\n",
       "</div>"
      ],
      "text/plain": [
       "          Country  Year  Status  Life expectancy   Adult Mortality  \\\n",
       "0     Afghanistan  2015       0              65.0            263.0   \n",
       "1     Afghanistan  2014       0              59.9            271.0   \n",
       "2     Afghanistan  2013       0              59.9            268.0   \n",
       "3     Afghanistan  2012       0              59.5            272.0   \n",
       "4     Afghanistan  2011       0              59.2            275.0   \n",
       "...           ...   ...     ...               ...              ...   \n",
       "2933     Zimbabwe  2004       0              44.3            723.0   \n",
       "2934     Zimbabwe  2003       0              44.5            715.0   \n",
       "2935     Zimbabwe  2002       0              44.8             73.0   \n",
       "2936     Zimbabwe  2001       0              45.3            686.0   \n",
       "2937     Zimbabwe  2000       0              46.0            665.0   \n",
       "\n",
       "      infant deaths  Alcohol  percentage expenditure  Hepatitis B  Measles   \\\n",
       "0                62     0.01               71.279624         65.0      1154   \n",
       "1                64     0.01               73.523582         62.0       492   \n",
       "2                66     0.01               73.219243         64.0       430   \n",
       "3                69     0.01               78.184215         67.0      2787   \n",
       "4                71     0.01                7.097109         68.0      3013   \n",
       "...             ...      ...                     ...          ...       ...   \n",
       "2933             27     4.36                0.000000         68.0        31   \n",
       "2934             26     4.06                0.000000          7.0       998   \n",
       "2935             25     4.43                0.000000         73.0       304   \n",
       "2936             25     1.72                0.000000         76.0       529   \n",
       "2937             24     1.68                0.000000         79.0      1483   \n",
       "\n",
       "       BMI   under-five deaths   Polio  Total expenditure  Diphtheria   \\\n",
       "0      19.1                  83    6.0               8.16         65.0   \n",
       "1      18.6                  86   58.0               8.18         62.0   \n",
       "2      18.1                  89   62.0               8.13         64.0   \n",
       "3      17.6                  93   67.0               8.52         67.0   \n",
       "4      17.2                  97   68.0               7.87         68.0   \n",
       "...     ...                 ...    ...                ...          ...   \n",
       "2933   27.1                  42   67.0               7.13         65.0   \n",
       "2934   26.7                  41    7.0               6.52         68.0   \n",
       "2935   26.3                  40   73.0               6.53         71.0   \n",
       "2936   25.9                  39   76.0               6.16         75.0   \n",
       "2937   25.5                  39   78.0               7.10         78.0   \n",
       "\n",
       "       HIV/AIDS         GDP  Population   thinness  1-19 years  \\\n",
       "0           0.1  584.259210  33736494.0                   17.2   \n",
       "1           0.1  612.696514    327582.0                   17.5   \n",
       "2           0.1  631.744976  31731688.0                   17.7   \n",
       "3           0.1  669.959000   3696958.0                   17.9   \n",
       "4           0.1   63.537231   2978599.0                   18.2   \n",
       "...         ...         ...         ...                    ...   \n",
       "2933       33.6  454.366654  12777511.0                    9.4   \n",
       "2934       36.7  453.351155  12633897.0                    9.8   \n",
       "2935       39.8   57.348340    125525.0                    1.2   \n",
       "2936       42.1  548.587312  12366165.0                    1.6   \n",
       "2937       43.5  547.358878  12222251.0                   11.0   \n",
       "\n",
       "       thinness 5-9 years  Income composition of resources  Schooling  \n",
       "0                    17.3                            0.479       10.1  \n",
       "1                    17.5                            0.476       10.0  \n",
       "2                    17.7                            0.470        9.9  \n",
       "3                    18.0                            0.463        9.8  \n",
       "4                    18.2                            0.454        9.5  \n",
       "...                   ...                              ...        ...  \n",
       "2933                  9.4                            0.407        9.2  \n",
       "2934                  9.9                            0.418        9.5  \n",
       "2935                  1.3                            0.427       10.0  \n",
       "2936                  1.7                            0.427        9.8  \n",
       "2937                 11.2                            0.434        9.8  \n",
       "\n",
       "[2938 rows x 22 columns]"
      ]
     },
     "execution_count": 257,
     "metadata": {},
     "output_type": "execute_result"
    }
   ],
   "source": [
    "df"
   ]
  },
  {
   "cell_type": "code",
   "execution_count": 258,
   "id": "1440151e-d856-49fd-8ab4-b7f8210df1b0",
   "metadata": {
    "tags": []
   },
   "outputs": [
    {
     "data": {
      "text/plain": [
       "Country                            0\n",
       "Year                               0\n",
       "Status                             0\n",
       "Life expectancy                    0\n",
       "Adult Mortality                    0\n",
       "infant deaths                      0\n",
       "Alcohol                            0\n",
       "percentage expenditure             0\n",
       "Hepatitis B                        0\n",
       "Measles                            0\n",
       " BMI                               0\n",
       "under-five deaths                  0\n",
       "Polio                              0\n",
       "Total expenditure                  0\n",
       "Diphtheria                         0\n",
       " HIV/AIDS                          0\n",
       "GDP                                0\n",
       "Population                         0\n",
       " thinness  1-19 years              0\n",
       " thinness 5-9 years                0\n",
       "Income composition of resources    0\n",
       "Schooling                          0\n",
       "dtype: int64"
      ]
     },
     "execution_count": 258,
     "metadata": {},
     "output_type": "execute_result"
    }
   ],
   "source": [
    "df.isnull().sum()"
   ]
  },
  {
   "cell_type": "code",
   "execution_count": 259,
   "id": "0876115c-28a1-4f34-ad1f-4970fafd76fe",
   "metadata": {
    "tags": []
   },
   "outputs": [],
   "source": [
    "# Separating target variable and its features\n",
    "y = df['Life expectancy ']\n",
    "X = df.drop(['Life expectancy ','Country'],axis=1)"
   ]
  },
  {
   "cell_type": "code",
   "execution_count": 260,
   "id": "3791f8f7-a2dd-425e-9e51-e9b033d3fc9d",
   "metadata": {
    "tags": []
   },
   "outputs": [],
   "source": [
    "from sklearn.model_selection import train_test_split"
   ]
  },
  {
   "cell_type": "code",
   "execution_count": 261,
   "id": "fd95f0be-7316-4c3f-8c2c-46a5b92c2953",
   "metadata": {
    "tags": []
   },
   "outputs": [
    {
     "name": "stdout",
     "output_type": "stream",
     "text": [
      "x train:  (2350, 20)\n",
      "x test:  (588, 20)\n",
      "y train:  (2350,)\n",
      "y test:  (588,)\n"
     ]
    }
   ],
   "source": [
    "X_train, X_test, y_train, y_test = train_test_split(X, y, test_size=0.2, random_state=1)\n",
    "print(\"x train: \",X_train.shape)\n",
    "print(\"x test: \",X_test.shape)\n",
    "print(\"y train: \",y_train.shape)\n",
    "print(\"y test: \",y_test.shape)"
   ]
  },
  {
   "cell_type": "code",
   "execution_count": 262,
   "id": "f7f439b0-d5c1-4606-b80d-c0cab6341325",
   "metadata": {
    "tags": []
   },
   "outputs": [],
   "source": [
    "from sklearn.metrics import r2_score\n",
    "from sklearn.model_selection import cross_val_score"
   ]
  },
  {
   "cell_type": "code",
   "execution_count": 267,
   "id": "b77d9ee8-e9e5-4c29-8ae5-eef2dae78c2e",
   "metadata": {
    "tags": []
   },
   "outputs": [],
   "source": [
    "CV = []\n",
    "R2_train = []\n",
    "R2_test = []\n",
    "\n",
    "def life_expectancy_model(model,model_name):\n",
    "    # Training model with Training Data\n",
    "    model.fit(X_train,y_train)\n",
    "            \n",
    "    # R2 score of Training Data set\n",
    "    y_pred_train = model.predict(X_train)\n",
    "    R2_train_model = r2_score(y_train,y_pred_train)\n",
    "    R2_train.append(round(R2_train_model,2))\n",
    "    \n",
    "    # R2 score of Testing Data set\n",
    "    y_pred_test = model.predict(X_test)\n",
    "    R2_test_model = r2_score(y_test,y_pred_test)\n",
    "    R2_test.append(round(R2_test_model,2))\n",
    "    \n",
    "    # R2 mean of Training Data set using Cross validation\n",
    "    cross_val = cross_val_score(model ,X_train ,y_train ,cv=5)\n",
    "    cv_mean = cross_val.mean()\n",
    "    CV.append(round(cv_mean,2))\n",
    "    \n",
    "    # Printing results\n",
    "    print(\"Train R2-score :\",round(R2_train_model,2))\n",
    "    print(\"Test R2-score :\",round(R2_test_model,2))\n",
    "    print(\"Train CV scores :\",cross_val)\n",
    "    print(\"Train CV mean :\",round(cv_mean,2))\n",
    "    \n",
    "    # Plotting Graphs \n",
    "    # Residual Plot of Training Data set \n",
    "    fig, ax = plt.subplots(1,2,figsize = (10,4))\n",
    "    ax[0].set_title('Residual Plot of Training Data')\n",
    "    sns.distplot((y_train-y_pred_train),hist = False,ax = ax[0])\n",
    "    ax[0].set_xlabel('y_train - y_pred_train')\n",
    "    \n",
    "    # Residual Plot of Testing Data set \n",
    "    fig, ax = plt.subplots(1,2,figsize = (10,4))\n",
    "    ax[0].set_title('Residual Plot of Testing Data')\n",
    "    sns.distplot((y_test-y_pred_test),hist = False,ax = ax[0])\n",
    "    ax[0].set_xlabel('y_test - y_pred_test')\n",
    "    \n",
    "    # Y_test vs Y_train scatter plot\n",
    "    ax[1].set_title('y_test vs y_pred_test')\n",
    "    ax[1].scatter(x = y_test, y = y_pred_test)\n",
    "    ax[1].set_xlabel('y_test')\n",
    "    ax[1].set_ylabel('y_pred_test')\n",
    "    \n",
    "    plt.show()"
   ]
  },
  {
   "cell_type": "code",
   "execution_count": 268,
   "id": "40daeea5-68e6-4262-838b-7ce0e72e3063",
   "metadata": {
    "tags": []
   },
   "outputs": [
    {
     "name": "stdout",
     "output_type": "stream",
     "text": [
      "Train R2-score : 0.83\n",
      "Test R2-score : 0.8\n",
      "Train CV scores : [0.80145186 0.84435531 0.81630061 0.8070506  0.8216414 ]\n",
      "Train CV mean : 0.82\n"
     ]
    },
    {
     "data": {
      "image/png": "[encoded data removed]",
      "text/plain": [
       "<Figure size 1000x400 with 2 Axes>"
      ]
     },
     "metadata": {},
     "output_type": "display_data"
    },
    {
     "data": {
      "image/png": "[encoded data removed]",
      "text/plain": [
       "<Figure size 1000x400 with 2 Axes>"
      ]
     },
     "metadata": {},
     "output_type": "display_data"
    }
   ],
   "source": [
    "from sklearn.linear_model import LinearRegression\n",
    "\n",
    "lr = LinearRegression()\n",
    "life_expectancy_model(lr,\"Linear_regressor.pkl\")"
   ]
  },
  {
   "cell_type": "code",
   "execution_count": null,
   "id": "9a67a2ff-2e3b-477f-a9ea-f9e9f5dc50bb",
   "metadata": {},
   "outputs": [],
   "source": []
  }
 ],
 "metadata": {
  "kernelspec": {
   "display_name": "Python 3 (ipykernel)",
   "language": "python",
   "name": "python3"
  },
  "language_info": {
   "codemirror_mode": {
    "name": "ipython",
    "version": 3
   },
   "file_extension": ".py",
   "mimetype": "text/x-python",
   "name": "python",
   "nbconvert_exporter": "python",
   "pygments_lexer": "ipython3",
   "version": "3.8.16"
  }
 },
 "nbformat": 4,
 "nbformat_minor": 5
}
